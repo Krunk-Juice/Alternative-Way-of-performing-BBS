{
 "cells": [
  {
   "cell_type": "code",
   "execution_count": 1,
   "id": "02cfe66b",
   "metadata": {},
   "outputs": [
    {
     "name": "stdout",
     "output_type": "stream",
     "text": [
      "env: OMP_NUM_THREADS=1\n"
     ]
    }
   ],
   "source": [
    "# STANDARDS\n",
    "import pandas as pd\n",
    "import numpy as np\n",
    "import matplotlib.pyplot as plt\n",
    "import seaborn as sns\n",
    "%matplotlib inline\n",
    "%env OMP_NUM_THREADS=1"
   ]
  },
  {
   "cell_type": "code",
   "execution_count": 2,
   "id": "034f3df1",
   "metadata": {},
   "outputs": [
    {
     "data": {
      "text/html": [
       "        <script type=\"text/javascript\">\n",
       "        window.PlotlyConfig = {MathJaxConfig: 'local'};\n",
       "        if (window.MathJax && window.MathJax.Hub && window.MathJax.Hub.Config) {window.MathJax.Hub.Config({SVG: {font: \"STIX-Web\"}});}\n",
       "        if (typeof require !== 'undefined') {\n",
       "        require.undef(\"plotly\");\n",
       "        requirejs.config({\n",
       "            paths: {\n",
       "                'plotly': ['https://cdn.plot.ly/plotly-2.14.0.min']\n",
       "            }\n",
       "        });\n",
       "        require(['plotly'], function(Plotly) {\n",
       "            window._Plotly = Plotly;\n",
       "        });\n",
       "        }\n",
       "        </script>\n",
       "        "
      ]
     },
     "metadata": {},
     "output_type": "display_data"
    },
    {
     "data": {
      "text/html": [
       "        <script type=\"text/javascript\">\n",
       "        window.PlotlyConfig = {MathJaxConfig: 'local'};\n",
       "        if (window.MathJax && window.MathJax.Hub && window.MathJax.Hub.Config) {window.MathJax.Hub.Config({SVG: {font: \"STIX-Web\"}});}\n",
       "        if (typeof require !== 'undefined') {\n",
       "        require.undef(\"plotly\");\n",
       "        requirejs.config({\n",
       "            paths: {\n",
       "                'plotly': ['https://cdn.plot.ly/plotly-2.14.0.min']\n",
       "            }\n",
       "        });\n",
       "        require(['plotly'], function(Plotly) {\n",
       "            window._Plotly = Plotly;\n",
       "        });\n",
       "        }\n",
       "        </script>\n",
       "        "
      ]
     },
     "metadata": {},
     "output_type": "display_data"
    }
   ],
   "source": [
    "# CUFFLINKS & PLOTLY\n",
    "from plotly.offline import download_plotlyjs, init_notebook_mode, plot, iplot\n",
    "import cufflinks as cf\n",
    "init_notebook_mode(connected=True)\n",
    "cf.go_offline()"
   ]
  },
  {
   "cell_type": "code",
   "execution_count": 3,
   "id": "f4688266",
   "metadata": {
    "scrolled": true
   },
   "outputs": [
    {
     "data": {
      "text/html": [
       "<div>\n",
       "<style scoped>\n",
       "    .dataframe tbody tr th:only-of-type {\n",
       "        vertical-align: middle;\n",
       "    }\n",
       "\n",
       "    .dataframe tbody tr th {\n",
       "        vertical-align: top;\n",
       "    }\n",
       "\n",
       "    .dataframe thead th {\n",
       "        text-align: right;\n",
       "    }\n",
       "</style>\n",
       "<table border=\"1\" class=\"dataframe\">\n",
       "  <thead>\n",
       "    <tr style=\"text-align: right;\">\n",
       "      <th></th>\n",
       "      <th>Patient's Age</th>\n",
       "      <th>Item 1</th>\n",
       "      <th>Item 2</th>\n",
       "      <th>Item 3</th>\n",
       "      <th>Item 4</th>\n",
       "      <th>Item 5</th>\n",
       "      <th>Item 6</th>\n",
       "      <th>Item 7</th>\n",
       "      <th>Item 8</th>\n",
       "      <th>Item 9</th>\n",
       "      <th>Item 10</th>\n",
       "      <th>Item 11</th>\n",
       "      <th>Item 12</th>\n",
       "      <th>Item 13</th>\n",
       "      <th>Item 14</th>\n",
       "      <th>BBS Sum</th>\n",
       "      <th>Assessment of Risk</th>\n",
       "    </tr>\n",
       "  </thead>\n",
       "  <tbody>\n",
       "    <tr>\n",
       "      <th>0</th>\n",
       "      <td>97</td>\n",
       "      <td>1</td>\n",
       "      <td>0</td>\n",
       "      <td>1</td>\n",
       "      <td>1</td>\n",
       "      <td>1</td>\n",
       "      <td>0</td>\n",
       "      <td>0</td>\n",
       "      <td>1</td>\n",
       "      <td>1</td>\n",
       "      <td>0</td>\n",
       "      <td>0</td>\n",
       "      <td>0</td>\n",
       "      <td>1</td>\n",
       "      <td>1</td>\n",
       "      <td>8</td>\n",
       "      <td>HIGH</td>\n",
       "    </tr>\n",
       "    <tr>\n",
       "      <th>1</th>\n",
       "      <td>88</td>\n",
       "      <td>2</td>\n",
       "      <td>0</td>\n",
       "      <td>1</td>\n",
       "      <td>4</td>\n",
       "      <td>3</td>\n",
       "      <td>2</td>\n",
       "      <td>2</td>\n",
       "      <td>3</td>\n",
       "      <td>4</td>\n",
       "      <td>0</td>\n",
       "      <td>1</td>\n",
       "      <td>0</td>\n",
       "      <td>4</td>\n",
       "      <td>4</td>\n",
       "      <td>30</td>\n",
       "      <td>MEDIUM</td>\n",
       "    </tr>\n",
       "    <tr>\n",
       "      <th>2</th>\n",
       "      <td>73</td>\n",
       "      <td>3</td>\n",
       "      <td>4</td>\n",
       "      <td>3</td>\n",
       "      <td>2</td>\n",
       "      <td>2</td>\n",
       "      <td>0</td>\n",
       "      <td>2</td>\n",
       "      <td>3</td>\n",
       "      <td>1</td>\n",
       "      <td>0</td>\n",
       "      <td>1</td>\n",
       "      <td>2</td>\n",
       "      <td>4</td>\n",
       "      <td>3</td>\n",
       "      <td>30</td>\n",
       "      <td>MEDIUM</td>\n",
       "    </tr>\n",
       "    <tr>\n",
       "      <th>3</th>\n",
       "      <td>77</td>\n",
       "      <td>2</td>\n",
       "      <td>3</td>\n",
       "      <td>1</td>\n",
       "      <td>0</td>\n",
       "      <td>4</td>\n",
       "      <td>4</td>\n",
       "      <td>2</td>\n",
       "      <td>0</td>\n",
       "      <td>1</td>\n",
       "      <td>1</td>\n",
       "      <td>0</td>\n",
       "      <td>2</td>\n",
       "      <td>3</td>\n",
       "      <td>1</td>\n",
       "      <td>24</td>\n",
       "      <td>MEDIUM</td>\n",
       "    </tr>\n",
       "    <tr>\n",
       "      <th>4</th>\n",
       "      <td>65</td>\n",
       "      <td>3</td>\n",
       "      <td>4</td>\n",
       "      <td>1</td>\n",
       "      <td>4</td>\n",
       "      <td>4</td>\n",
       "      <td>2</td>\n",
       "      <td>4</td>\n",
       "      <td>4</td>\n",
       "      <td>2</td>\n",
       "      <td>1</td>\n",
       "      <td>2</td>\n",
       "      <td>3</td>\n",
       "      <td>3</td>\n",
       "      <td>4</td>\n",
       "      <td>41</td>\n",
       "      <td>LOW</td>\n",
       "    </tr>\n",
       "  </tbody>\n",
       "</table>\n",
       "</div>"
      ],
      "text/plain": [
       "   Patient's Age  Item 1  Item 2  Item 3  Item 4  Item 5  Item 6  Item 7  \\\n",
       "0             97       1       0       1       1       1       0       0   \n",
       "1             88       2       0       1       4       3       2       2   \n",
       "2             73       3       4       3       2       2       0       2   \n",
       "3             77       2       3       1       0       4       4       2   \n",
       "4             65       3       4       1       4       4       2       4   \n",
       "\n",
       "   Item 8  Item 9  Item 10  Item 11  Item 12  Item 13  Item 14  BBS Sum  \\\n",
       "0       1       1        0        0        0        1        1        8   \n",
       "1       3       4        0        1        0        4        4       30   \n",
       "2       3       1        0        1        2        4        3       30   \n",
       "3       0       1        1        0        2        3        1       24   \n",
       "4       4       2        1        2        3        3        4       41   \n",
       "\n",
       "  Assessment of Risk  \n",
       "0               HIGH  \n",
       "1             MEDIUM  \n",
       "2             MEDIUM  \n",
       "3             MEDIUM  \n",
       "4                LOW  "
      ]
     },
     "execution_count": 3,
     "metadata": {},
     "output_type": "execute_result"
    }
   ],
   "source": [
    "df = pd.read_excel(r'C:\\Users\\krunk\\OneDrive\\Documents\\CPSC 589\\Dataset\\BBS Dataset.xlsx',sheet_name='ReData')\n",
    "df.head()"
   ]
  },
  {
   "cell_type": "code",
   "execution_count": 4,
   "id": "8241eaf0",
   "metadata": {},
   "outputs": [
    {
     "data": {
      "text/html": [
       "<div>\n",
       "<style scoped>\n",
       "    .dataframe tbody tr th:only-of-type {\n",
       "        vertical-align: middle;\n",
       "    }\n",
       "\n",
       "    .dataframe tbody tr th {\n",
       "        vertical-align: top;\n",
       "    }\n",
       "\n",
       "    .dataframe thead th {\n",
       "        text-align: right;\n",
       "    }\n",
       "</style>\n",
       "<table border=\"1\" class=\"dataframe\">\n",
       "  <thead>\n",
       "    <tr style=\"text-align: right;\">\n",
       "      <th></th>\n",
       "      <th>Item Highest Score</th>\n",
       "    </tr>\n",
       "  </thead>\n",
       "  <tbody>\n",
       "    <tr>\n",
       "      <th>Item 1</th>\n",
       "      <td>4</td>\n",
       "    </tr>\n",
       "    <tr>\n",
       "      <th>Item 2</th>\n",
       "      <td>4</td>\n",
       "    </tr>\n",
       "    <tr>\n",
       "      <th>Item 3</th>\n",
       "      <td>4</td>\n",
       "    </tr>\n",
       "    <tr>\n",
       "      <th>Item 4</th>\n",
       "      <td>4</td>\n",
       "    </tr>\n",
       "    <tr>\n",
       "      <th>Item 5</th>\n",
       "      <td>4</td>\n",
       "    </tr>\n",
       "    <tr>\n",
       "      <th>Item 6</th>\n",
       "      <td>4</td>\n",
       "    </tr>\n",
       "    <tr>\n",
       "      <th>Item 7</th>\n",
       "      <td>4</td>\n",
       "    </tr>\n",
       "    <tr>\n",
       "      <th>Item 8</th>\n",
       "      <td>4</td>\n",
       "    </tr>\n",
       "    <tr>\n",
       "      <th>Item 9</th>\n",
       "      <td>4</td>\n",
       "    </tr>\n",
       "    <tr>\n",
       "      <th>Item 10</th>\n",
       "      <td>4</td>\n",
       "    </tr>\n",
       "    <tr>\n",
       "      <th>Item 11</th>\n",
       "      <td>4</td>\n",
       "    </tr>\n",
       "    <tr>\n",
       "      <th>Item 12</th>\n",
       "      <td>4</td>\n",
       "    </tr>\n",
       "    <tr>\n",
       "      <th>Item 13</th>\n",
       "      <td>4</td>\n",
       "    </tr>\n",
       "    <tr>\n",
       "      <th>Item 14</th>\n",
       "      <td>4</td>\n",
       "    </tr>\n",
       "  </tbody>\n",
       "</table>\n",
       "</div>"
      ],
      "text/plain": [
       "         Item Highest Score\n",
       "Item 1                    4\n",
       "Item 2                    4\n",
       "Item 3                    4\n",
       "Item 4                    4\n",
       "Item 5                    4\n",
       "Item 6                    4\n",
       "Item 7                    4\n",
       "Item 8                    4\n",
       "Item 9                    4\n",
       "Item 10                   4\n",
       "Item 11                   4\n",
       "Item 12                   4\n",
       "Item 13                   4\n",
       "Item 14                   4"
      ]
     },
     "execution_count": 4,
     "metadata": {},
     "output_type": "execute_result"
    }
   ],
   "source": [
    "itemmax = pd.DataFrame(df[['Item 1', 'Item 2', 'Item 3', 'Item 4', 'Item 5',\n",
    "       'Item 6', 'Item 7', 'Item 8', 'Item 9', 'Item 10', 'Item 11', 'Item 12',\n",
    "       'Item 13', 'Item 14']].max(),index=['Item 1', 'Item 2', 'Item 3', 'Item 4', 'Item 5',\n",
    "       'Item 6', 'Item 7', 'Item 8', 'Item 9', 'Item 10', 'Item 11', 'Item 12',\n",
    "       'Item 13', 'Item 14'],columns=['Item Highest Score'])\n",
    "itemmax"
   ]
  },
  {
   "cell_type": "code",
   "execution_count": 5,
   "id": "ac3f7619",
   "metadata": {},
   "outputs": [],
   "source": [
    "# SCIKIT SET\n",
    "from sklearn.cluster import KMeans\n",
    "from sklearn.metrics import classification_report,confusion_matrix,silhouette_score,silhouette_samples\n",
    "# NOTE: silhouette_score is average Silhouette score of each data point for each cluster"
   ]
  },
  {
   "cell_type": "code",
   "execution_count": 6,
   "id": "606276ca",
   "metadata": {},
   "outputs": [],
   "source": [
    "# MUST HAVE FORCED RANDOM STATES AND WILL HAVE TO CHECK CLUSTER CONVERTERS EVERY TIME"
   ]
  },
  {
   "cell_type": "code",
   "execution_count": 7,
   "id": "cfcc6311",
   "metadata": {},
   "outputs": [],
   "source": [
    "# RANDOM STATE = 101\n",
    "# HIGH CENTER ~2.2 converter_value = 1\n",
    "# MEDIUM CENTER ~0.3 converter_value = 0\n",
    "# LOW CENTER ~0.9 converter_value = 2"
   ]
  },
  {
   "cell_type": "code",
   "execution_count": 8,
   "id": "356aa795",
   "metadata": {},
   "outputs": [],
   "source": [
    "# RANDOM STATE = 42\n",
    "# HIGH CENTER ~2.2 converter_value = 1\n",
    "# MEDIUM CENTER ~0.3 converter_value = 2\n",
    "# LOW CENTER ~0.9 converter_value = 0"
   ]
  },
  {
   "cell_type": "code",
   "execution_count": 9,
   "id": "a0c8d91e",
   "metadata": {},
   "outputs": [],
   "source": [
    "l = 0\n",
    "m = 1\n",
    "h = 2\n",
    "#low_support = 108\n",
    "#medium_support = 143\n",
    "#high_support = 103\n",
    "rs = 3717"
   ]
  },
  {
   "cell_type": "code",
   "execution_count": 10,
   "id": "614b83c1",
   "metadata": {},
   "outputs": [],
   "source": [
    "def cluster_converter(cluster,l,m,h):\n",
    "    if cluster == 'LOW':\n",
    "        return l\n",
    "    elif cluster == 'MEDIUM':\n",
    "        return m\n",
    "    else:\n",
    "        return h"
   ]
  },
  {
   "cell_type": "code",
   "execution_count": 11,
   "id": "d20bb590",
   "metadata": {},
   "outputs": [],
   "source": [
    "def revert_cluster(cluster):\n",
    "    if cluster == l:\n",
    "        return 'LOW'\n",
    "    elif cluster == m:\n",
    "        return 'MEDIUM'\n",
    "    else:\n",
    "        return 'HIGH'"
   ]
  },
  {
   "cell_type": "code",
   "execution_count": 12,
   "id": "30e55cff",
   "metadata": {},
   "outputs": [
    {
     "data": {
      "text/plain": [
       "'def redef_lmh(df_,kl_):\\n    if confusion_matrix(df_,kl_)[0,2] > confusion_matrix(df_,kl_)[0,1] & confusion_matrix(df_,kl_)[0,2] > confusion_matrix(df_,kl_)[0,0] & confusion_matrix(df_,kl_)[0,2] > confusion_matrix(df_,kl_)[1,2] & confusion_matrix(df_,kl_)[0,2] > confusion_matrix(df_,kl_)[2,2]:\\n        h = 0\\n        if confusion_matrix(df_,kl_)[1,0] > confusion_matrix(df_,kl_)[1,1] & confusion_matrix(df_,kl_)[1,0] > confusion_matrix(df_,kl_)[1,2]:\\n            m = 1\\n            l = 2\\n        else:\\n            l = 1\\n            m = 2\\n    elif confusion_matrix(df_,kl_)[0,0] > confusion_matrix(df_,kl_)[0,1] & confusion_matrix(df_,kl_)[0,0] > confusion_matrix(df_,kl_)[0,2] & confusion_matrix(df_,kl_)[0,0] > confusion_matrix(df_,kl_)[1,0] & confusion_matrix(df_,kl_)[0,0] > confusion_matrix(df_,kl_)[2,0]:\\n        l = 0\\n        if confusion_matrix(df_,kl_)[2,1] > confusion_matrix(df_,kl_)[2,0] & confusion_matrix(df_,kl_)[2,1] > confusion_matrix(df_,kl_)[2,2]:\\n            m = 2\\n            h = 1\\n        else:\\n            m = 1\\n            h = 2\\n    else:\\n        m = 0\\n        if confusion_matrix(df_,kl_)[1,2] > confusion_matrix(df_,kl_)[1,0] & confusion_matrix(df_,kl_)[1,2] > confusion_matrix(df_,kl_)[1,1]:\\n            h = 1\\n            l = 2\\n        else:\\n            l = 1\\n            h = 2\\n    return l,m,h\\n'"
      ]
     },
     "execution_count": 12,
     "metadata": {},
     "output_type": "execute_result"
    }
   ],
   "source": [
    "\"\"\"def redef_lmh(df_,kl_):\n",
    "    if confusion_matrix(df_,kl_)[0,2] > confusion_matrix(df_,kl_)[0,1] & confusion_matrix(df_,kl_)[0,2] > confusion_matrix(df_,kl_)[0,0] & confusion_matrix(df_,kl_)[0,2] > confusion_matrix(df_,kl_)[1,2] & confusion_matrix(df_,kl_)[0,2] > confusion_matrix(df_,kl_)[2,2]:\n",
    "        h = 0\n",
    "        if confusion_matrix(df_,kl_)[1,0] > confusion_matrix(df_,kl_)[1,1] & confusion_matrix(df_,kl_)[1,0] > confusion_matrix(df_,kl_)[1,2]:\n",
    "            m = 1\n",
    "            l = 2\n",
    "        else:\n",
    "            l = 1\n",
    "            m = 2\n",
    "    elif confusion_matrix(df_,kl_)[0,0] > confusion_matrix(df_,kl_)[0,1] & confusion_matrix(df_,kl_)[0,0] > confusion_matrix(df_,kl_)[0,2] & confusion_matrix(df_,kl_)[0,0] > confusion_matrix(df_,kl_)[1,0] & confusion_matrix(df_,kl_)[0,0] > confusion_matrix(df_,kl_)[2,0]:\n",
    "        l = 0\n",
    "        if confusion_matrix(df_,kl_)[2,1] > confusion_matrix(df_,kl_)[2,0] & confusion_matrix(df_,kl_)[2,1] > confusion_matrix(df_,kl_)[2,2]:\n",
    "            m = 2\n",
    "            h = 1\n",
    "        else:\n",
    "            m = 1\n",
    "            h = 2\n",
    "    else:\n",
    "        m = 0\n",
    "        if confusion_matrix(df_,kl_)[1,2] > confusion_matrix(df_,kl_)[1,0] & confusion_matrix(df_,kl_)[1,2] > confusion_matrix(df_,kl_)[1,1]:\n",
    "            h = 1\n",
    "            l = 2\n",
    "        else:\n",
    "            l = 1\n",
    "            h = 2\n",
    "    return l,m,h\n",
    "\"\"\""
   ]
  },
  {
   "cell_type": "code",
   "execution_count": 13,
   "id": "1f4cf7ec",
   "metadata": {},
   "outputs": [
    {
     "data": {
      "text/plain": [
       "\"def redef_lmh(df_,kl_):\\n    l = 0\\n    m = 1\\n    h = 2\\n    if confusion_matrix(df_,kl_)[0,2] > confusion_matrix(df_,kl_)[0,1] & confusion_matrix(df_,kl_)[0,2] > confusion_matrix(df_,kl_)[0,0]:\\n        h = 0\\n        if confusion_matrix(df_,kl_)[1,0] > confusion_matrix(df_,kl_)[1,1] & confusion_matrix(df_,kl_)[1,0] > confusion_matrix(df_,kl_)[1,2]:\\n            m = 2\\n            l = 1\\n        else:\\n            l = 2\\n            m = 1\\n    elif confusion_matrix(df_,kl_)[0,0] > confusion_matrix(df_,kl_)[0,1] & confusion_matrix(df_,kl_)[0,0] > confusion_matrix(df_,kl_)[0,2]:\\n        l = 0\\n        if confusion_matrix(df_,kl_)[2,1] > confusion_matrix(df_,kl_)[2,0] & confusion_matrix(df_,kl_)[2,1] > confusion_matrix(df_,kl_)[2,2]:\\n            m = 2\\n            h = 1\\n        else:\\n            m = 1\\n            h = 2\\n    elif confusion_matrix(df_,kl_)[0,1] > confusion_matrix(df_,kl_)[0,0] & confusion_matrix(df_,kl_)[0,1] > confusion_matrix(df_,kl_)[0,2]:\\n        m = 0\\n        if confusion_matrix(df_,kl_)[1,2] > confusion_matrix(df_,kl_)[1,0] & confusion_matrix(df_,kl_)[1,2] > confusion_matrix(df_,kl_)[1,1]:\\n            h = 1\\n            l = 2\\n        else:\\n            l = 1\\n            h = 2\\n    elif confusion_matrix(df_,kl_)[1,0] > confusion_matrix(df_,kl_)[1,1] & confusion_matrix(df_,kl_)[1,0] > confusion_matrix(df_,kl_)[1,2]:\\n        l = 1\\n        if confusion_matrix(df_,kl_)[2,1] > confusion_matrix(df_,kl_)[2,0] & confusion_matrix(df_,kl_)[2,1] > confusion_matrix(df_,kl_)[2,2]:\\n            m = 2\\n            h = 0\\n        else:\\n            m = 0\\n            h = 2\\n    elif confusion_matrix(df_,kl_)[1,1] > confusion_matrix(df_,kl_)[1,0] & confusion_matrix(df_,kl_)[1,0] > confusion_matrix(df_,kl_)[1,2]:\\n        m = 1\\n        if confusion_matrix(df_,kl_)[2,0] > confusion_matrix(df_,kl_)[2,1] & confusion_matrix(df_,kl_)[2,0] > confusion_matrix(df_,kl_)[2,2]:\\n            l = 2\\n            h = 0\\n        else:\\n            h = 2\\n            l = 0\\n    elif confusion_matrix(df_,kl_)[1,2] > confusion_matrix(df_,kl_)[1,0] & confusion_matrix(df_,kl_)[1,2] > confusion_matrix(df_,kl_)[1,1]:\\n        h = 1\\n        if confusion_matrix(df_,kl_)[2,0] > confusion_matrix(df_,kl_)[2,1] & confusion_matrix(df_,kl_)[2,0] > confusion_matrix(df_,kl_)[2,2]:\\n            l = 2\\n            m = 0\\n        else:\\n            l = 0\\n            m = 2\\n    elif confusion_matrix(df_,kl_)[2,0] > confusion_matrix(df_,kl_)[2,1] & confusion_matrix(df_,kl_)[2,0] > confusion_matrix(df_,kl_)[2,2]:\\n        l = 2\\n        if confusion_matrix(df_,kl_)[0,1] > confusion_matrix(df_,kl_)[0,0] & confusion_matrix(df_,kl_)[0,1] > confusion_matrix(df_,kl_)[0,2]:\\n            h = 1\\n            m = 0\\n        else:\\n            h = 0\\n            m = 1\\n    elif confusion_matrix(df_,kl_)[2,1] > confusion_matrix(df_,kl_)[2,0] & confusion_matrix(df_,kl_)[2,1] > confusion_matrix(df_,kl_)[2,2]:\\n        m = 2\\n        if confusion_matrix(df_,kl_)[0,0] > confusion_matrix(df_,kl_)[0,1] & confusion_matrix(df_,kl_)[0,1] > confusion_matrix(df_,kl_)[0,2]:\\n            h = 1\\n            l = 0\\n        else:\\n            h = 0\\n            l = 1\\n    elif confusion_matrix(df_,kl_)[2,2] > confusion_matrix(df_,kl_)[2,0] & confusion_matrix(df_,kl_)[2,2] > confusion_matrix(df_,kl_)[2,1]:\\n        h = 2\\n        if confusion_matrix(df_,kl_)[0,0] > confusion_matrix(df_,kl_)[0,1] & confusion_matrix(df_,kl_)[0,0] > confusion_matrix(df_,kl_)[0,2]:\\n            m = 1\\n            l = 0\\n        else:\\n            m = 0\\n            l = 1\\n    else:\\n        print('BAD_CHECK_ERROR')\\n    print('l =',l)\\n    print('m =',m)\\n    print('h =',h)\\n    return l,m,h\\n\""
      ]
     },
     "execution_count": 13,
     "metadata": {},
     "output_type": "execute_result"
    }
   ],
   "source": [
    "\"\"\"def redef_lmh(df_,kl_):\n",
    "    l = 0\n",
    "    m = 1\n",
    "    h = 2\n",
    "    if confusion_matrix(df_,kl_)[0,2] > confusion_matrix(df_,kl_)[0,1] & confusion_matrix(df_,kl_)[0,2] > confusion_matrix(df_,kl_)[0,0]:\n",
    "        h = 0\n",
    "        if confusion_matrix(df_,kl_)[1,0] > confusion_matrix(df_,kl_)[1,1] & confusion_matrix(df_,kl_)[1,0] > confusion_matrix(df_,kl_)[1,2]:\n",
    "            m = 2\n",
    "            l = 1\n",
    "        else:\n",
    "            l = 2\n",
    "            m = 1\n",
    "    elif confusion_matrix(df_,kl_)[0,0] > confusion_matrix(df_,kl_)[0,1] & confusion_matrix(df_,kl_)[0,0] > confusion_matrix(df_,kl_)[0,2]:\n",
    "        l = 0\n",
    "        if confusion_matrix(df_,kl_)[2,1] > confusion_matrix(df_,kl_)[2,0] & confusion_matrix(df_,kl_)[2,1] > confusion_matrix(df_,kl_)[2,2]:\n",
    "            m = 2\n",
    "            h = 1\n",
    "        else:\n",
    "            m = 1\n",
    "            h = 2\n",
    "    elif confusion_matrix(df_,kl_)[0,1] > confusion_matrix(df_,kl_)[0,0] & confusion_matrix(df_,kl_)[0,1] > confusion_matrix(df_,kl_)[0,2]:\n",
    "        m = 0\n",
    "        if confusion_matrix(df_,kl_)[1,2] > confusion_matrix(df_,kl_)[1,0] & confusion_matrix(df_,kl_)[1,2] > confusion_matrix(df_,kl_)[1,1]:\n",
    "            h = 1\n",
    "            l = 2\n",
    "        else:\n",
    "            l = 1\n",
    "            h = 2\n",
    "    elif confusion_matrix(df_,kl_)[1,0] > confusion_matrix(df_,kl_)[1,1] & confusion_matrix(df_,kl_)[1,0] > confusion_matrix(df_,kl_)[1,2]:\n",
    "        l = 1\n",
    "        if confusion_matrix(df_,kl_)[2,1] > confusion_matrix(df_,kl_)[2,0] & confusion_matrix(df_,kl_)[2,1] > confusion_matrix(df_,kl_)[2,2]:\n",
    "            m = 2\n",
    "            h = 0\n",
    "        else:\n",
    "            m = 0\n",
    "            h = 2\n",
    "    elif confusion_matrix(df_,kl_)[1,1] > confusion_matrix(df_,kl_)[1,0] & confusion_matrix(df_,kl_)[1,0] > confusion_matrix(df_,kl_)[1,2]:\n",
    "        m = 1\n",
    "        if confusion_matrix(df_,kl_)[2,0] > confusion_matrix(df_,kl_)[2,1] & confusion_matrix(df_,kl_)[2,0] > confusion_matrix(df_,kl_)[2,2]:\n",
    "            l = 2\n",
    "            h = 0\n",
    "        else:\n",
    "            h = 2\n",
    "            l = 0\n",
    "    elif confusion_matrix(df_,kl_)[1,2] > confusion_matrix(df_,kl_)[1,0] & confusion_matrix(df_,kl_)[1,2] > confusion_matrix(df_,kl_)[1,1]:\n",
    "        h = 1\n",
    "        if confusion_matrix(df_,kl_)[2,0] > confusion_matrix(df_,kl_)[2,1] & confusion_matrix(df_,kl_)[2,0] > confusion_matrix(df_,kl_)[2,2]:\n",
    "            l = 2\n",
    "            m = 0\n",
    "        else:\n",
    "            l = 0\n",
    "            m = 2\n",
    "    elif confusion_matrix(df_,kl_)[2,0] > confusion_matrix(df_,kl_)[2,1] & confusion_matrix(df_,kl_)[2,0] > confusion_matrix(df_,kl_)[2,2]:\n",
    "        l = 2\n",
    "        if confusion_matrix(df_,kl_)[0,1] > confusion_matrix(df_,kl_)[0,0] & confusion_matrix(df_,kl_)[0,1] > confusion_matrix(df_,kl_)[0,2]:\n",
    "            h = 1\n",
    "            m = 0\n",
    "        else:\n",
    "            h = 0\n",
    "            m = 1\n",
    "    elif confusion_matrix(df_,kl_)[2,1] > confusion_matrix(df_,kl_)[2,0] & confusion_matrix(df_,kl_)[2,1] > confusion_matrix(df_,kl_)[2,2]:\n",
    "        m = 2\n",
    "        if confusion_matrix(df_,kl_)[0,0] > confusion_matrix(df_,kl_)[0,1] & confusion_matrix(df_,kl_)[0,1] > confusion_matrix(df_,kl_)[0,2]:\n",
    "            h = 1\n",
    "            l = 0\n",
    "        else:\n",
    "            h = 0\n",
    "            l = 1\n",
    "    elif confusion_matrix(df_,kl_)[2,2] > confusion_matrix(df_,kl_)[2,0] & confusion_matrix(df_,kl_)[2,2] > confusion_matrix(df_,kl_)[2,1]:\n",
    "        h = 2\n",
    "        if confusion_matrix(df_,kl_)[0,0] > confusion_matrix(df_,kl_)[0,1] & confusion_matrix(df_,kl_)[0,0] > confusion_matrix(df_,kl_)[0,2]:\n",
    "            m = 1\n",
    "            l = 0\n",
    "        else:\n",
    "            m = 0\n",
    "            l = 1\n",
    "    else:\n",
    "        print('BAD_CHECK_ERROR')\n",
    "    print('l =',l)\n",
    "    print('m =',m)\n",
    "    print('h =',h)\n",
    "    return l,m,h\n",
    "\"\"\""
   ]
  },
  {
   "cell_type": "code",
   "execution_count": 14,
   "id": "835d2bf6",
   "metadata": {
    "scrolled": true
   },
   "outputs": [
    {
     "data": {
      "text/plain": [
       "\"def redef_lmh(df_,kl_):\\n    if classification_report(df_,kl_,output_dict=True).get('1').get('support') == low_support:\\n        l = 1\\n        if classification_report(df_,kl_,output_dict=True).get('0').get('support') == medium_support:\\n            m = 0\\n            h = 2\\n        else:\\n            h = 0\\n            m = 2\\n    elif classification_report(df_,kl_,output_dict=True).get('2').get('support') == low_support:\\n        l = 2\\n        if classification_report(df_,kl_,output_dict=True).get(1).get('support') == medium_support:\\n            m = 1\\n            h = 0\\n        else:\\n            h = 1\\n            m = 0\\n    else:\\n        l = 0\\n        if classification_report(df_,kl_,output_dict=True).get('1').get('support') == medium_support:\\n            m = 1\\n            h = 2\\n        else:\\n            h = 1\\n            m = 2\\n    return l,m,h\\n\""
      ]
     },
     "execution_count": 14,
     "metadata": {},
     "output_type": "execute_result"
    }
   ],
   "source": [
    "\"\"\"def redef_lmh(df_,kl_):\n",
    "    if classification_report(df_,kl_,output_dict=True).get('1').get('support') == low_support:\n",
    "        l = 1\n",
    "        if classification_report(df_,kl_,output_dict=True).get('0').get('support') == medium_support:\n",
    "            m = 0\n",
    "            h = 2\n",
    "        else:\n",
    "            h = 0\n",
    "            m = 2\n",
    "    elif classification_report(df_,kl_,output_dict=True).get('2').get('support') == low_support:\n",
    "        l = 2\n",
    "        if classification_report(df_,kl_,output_dict=True).get(1).get('support') == medium_support:\n",
    "            m = 1\n",
    "            h = 0\n",
    "        else:\n",
    "            h = 1\n",
    "            m = 0\n",
    "    else:\n",
    "        l = 0\n",
    "        if classification_report(df_,kl_,output_dict=True).get('1').get('support') == medium_support:\n",
    "            m = 1\n",
    "            h = 2\n",
    "        else:\n",
    "            h = 1\n",
    "            m = 2\n",
    "    return l,m,h\n",
    "\"\"\""
   ]
  },
  {
   "cell_type": "code",
   "execution_count": 15,
   "id": "cc6f59f6",
   "metadata": {},
   "outputs": [],
   "source": [
    "def do_roll(df_,kl_):\n",
    "    cm_ = confusion_matrix(df_,kl_,labels=['LOW','MEDIUM','HIGH'])\n",
    "    if confusion_matrix(df_,kl_,labels=['LOW','MEDIUM','HIGH'])[0][1] > confusion_matrix(df_,kl_,labels=['LOW','MEDIUM','HIGH'])[0][0]:\n",
    "        if confusion_matrix(df_,kl_,labels=['LOW','MEDIUM','HIGH'])[0][1] > confusion_matrix(df_,kl_,labels=['LOW','MEDIUM','HIGH'])[0][2]:\n",
    "            cm_[0] = np.roll(cm_[0],2)\n",
    "    if confusion_matrix(df_,kl_,labels=['LOW','MEDIUM','HIGH'])[0][2] > confusion_matrix(df_,kl_,labels=['LOW','MEDIUM','HIGH'])[0][0]:\n",
    "        if confusion_matrix(df_,kl_,labels=['LOW','MEDIUM','HIGH'])[0][2] > confusion_matrix(df_,kl_,labels=['LOW','MEDIUM','HIGH'])[0][1]:\n",
    "            cm_[0] = np.roll(cm_[0],1)\n",
    "    \n",
    "    if confusion_matrix(df_,kl_,labels=['LOW','MEDIUM','HIGH'])[1][0] > confusion_matrix(df_,kl_,labels=['LOW','MEDIUM','HIGH'])[1][1]:\n",
    "        if confusion_matrix(df_,kl_,labels=['LOW','MEDIUM','HIGH'])[1][0] > confusion_matrix(df_,kl_,labels=['LOW','MEDIUM','HIGH'])[1][2]:\n",
    "            cm_[1] = np.roll(cm_[1],1)\n",
    "    if confusion_matrix(df_,kl_,labels=['LOW','MEDIUM','HIGH'])[1][2] > confusion_matrix(df_,kl_,labels=['LOW','MEDIUM','HIGH'])[1][1]:\n",
    "        if confusion_matrix(df_,kl_,labels=['LOW','MEDIUM','HIGH'])[1][2] > confusion_matrix(df_,kl_,labels=['LOW','MEDIUM','HIGH'])[1][0]:\n",
    "            cm_[1] = np.roll(cm_[1],2)\n",
    "                \n",
    "    if confusion_matrix(df_,kl_,labels=['LOW','MEDIUM','HIGH'])[2][0] > confusion_matrix(df_,kl_,labels=['LOW','MEDIUM','HIGH'])[2][2]:\n",
    "        if confusion_matrix(df_,kl_,labels=['LOW','MEDIUM','HIGH'])[2][0] > confusion_matrix(df_,kl_,labels=['LOW','MEDIUM','HIGH'])[2][1]:\n",
    "            cm_[2] = np.roll(cm_[2],2)\n",
    "    if confusion_matrix(df_,kl_,labels=['LOW','MEDIUM','HIGH'])[2][1] > confusion_matrix(df_,kl_,labels=['LOW','MEDIUM','HIGH'])[2][2]:\n",
    "        if confusion_matrix(df_,kl_,labels=['LOW','MEDIUM','HIGH'])[2][1] > confusion_matrix(df_,kl_,labels=['LOW','MEDIUM','HIGH'])[2][0]:\n",
    "            cm_[2] = np.roll(cm_[2],1)\n",
    "    \n",
    "    return cm_"
   ]
  },
  {
   "cell_type": "code",
   "execution_count": 16,
   "id": "65086423",
   "metadata": {},
   "outputs": [],
   "source": [
    "def cm_classification_report(cm_,df_,kl_):\n",
    "    \n",
    "    #accuracy = everything correct on the confustion matrix / everything on the confusion matrix\n",
    "    accuracy = (cm_[0,0] + cm_[1,1] + cm_[2,2]) / (cm_[0,0] + cm_[0,1] + cm_[0,2] + cm_[1,0] + cm_[1,1] + cm_[1,2] + cm_[2,0] + cm_[2,1] + cm_[2,2])\n",
    "    \n",
    "    # SUPPORT\n",
    "    low_supp = classification_report(df_['Assessment of Risk'],kl_['Risk'],labels=['LOW','MEDIUM','HIGH'],output_dict=True).get('LOW').get('support')\n",
    "    medium_supp = classification_report(df_['Assessment of Risk'],kl_['Risk'],labels=['LOW','MEDIUM','HIGH'],output_dict=True).get('MEDIUM').get('support')\n",
    "    high_supp = classification_report(df_['Assessment of Risk'],kl_['Risk'],labels=['LOW','MEDIUM','HIGH'],output_dict=True).get('HIGH').get('support')\n",
    "    macro_avg_supp = low_supp + medium_supp + high_supp\n",
    "    weighted_avg_supp = low_supp + medium_supp + high_supp\n",
    "    #support = pd.DataFrame([low_supp,medium_supp,high_supp,accuracy,macro_avg_supp,weighted_avg_supp],index=['LOW','MEDIUM','HIGH','accuracy','macro avg','weighted avg'],columns=['support'])\n",
    "    support = pd.DataFrame({'support':[low_supp,medium_supp,high_supp,accuracy,macro_avg_supp,weighted_avg_supp]},index=['LOW','MEDIUM','HIGH','accuracy','macro avg','weighted avg'])\n",
    "    \n",
    "    # PRECISION\n",
    "    low_p = cm_[0,0]/(cm_[0,0] + cm_[1,0] + cm_[2,0])\n",
    "    medium_p = cm_[1,1]/(cm_[0,1] + cm_[1,1] + cm_[2,1])\n",
    "    high_p = cm_[2,2]/(cm_[0,2] + cm_[1,2] + cm_[2,2])\n",
    "    macro_avg_p = (low_p + medium_p + high_p) / cm.shape[0]\n",
    "    weighted_avg_p = (low_p * low_supp + medium_p * medium_supp + high_p * high_supp) / (low_supp + medium_supp + high_supp)\n",
    "    #precision = pd.DataFrame([low_p,medium_p,high_p,accuracy,macro_avg_p,weighted_avg_p],index=['LOW','MEDIUM','HIGH','accuracy','macro avg','weighted avg'],columns=['precision'])\n",
    "    precision = pd.DataFrame({'precision':[low_p,medium_p,high_p,accuracy,macro_avg_p,weighted_avg_p]},index=['LOW','MEDIUM','HIGH','accuracy','macro avg','weighted avg'])\n",
    "    \n",
    "    \n",
    "    # RECALL\n",
    "    low_r = cm_[0,0]/(cm_[0,0] + cm_[0,1] + cm_[0,2])\n",
    "    medium_r = cm_[1,1]/(cm_[1,0] + cm_[1,1] + cm_[1,2])\n",
    "    high_r = cm_[2,2]/(cm_[2,0] + cm_[2,1] + cm_[2,2])\n",
    "    macro_avg_r = (low_r + medium_r + high_r) / cm.shape[0]\n",
    "    weighted_avg_r = (low_r * low_supp + medium_r * medium_supp + high_r * high_supp) / (low_supp + medium_supp + high_supp)\n",
    "    #recall = pd.DataFrame([low_r,medium_r,high_r,accuracy,macro_avg_r,weighted_avg_r],index=['LOW','MEDIUM','HIGH','accuracy','macro avg','weighted avg'],columns=['recall'])\n",
    "    recall = pd.DataFrame({'recall':[low_r,medium_r,high_r,accuracy,macro_avg_r,weighted_avg_r]},index=['LOW','MEDIUM','HIGH','accuracy','macro avg','weighted avg'])\n",
    "    \n",
    "    \n",
    "    # F1-SCORE\n",
    "    # F1 = 2 x (precision x recall)/(precision + recall)\n",
    "    low_f1 = (2 * (low_p * low_r)) / (low_p + low_r)\n",
    "    medium_f1 = (2 * (medium_p * medium_r)) / (medium_p + medium_r)\n",
    "    high_f1 = (2 * (high_p * high_r)) / (high_p + high_r)\n",
    "    macro_avg_f1 = (low_f1 + medium_f1 + high_f1) / cm.shape[0]\n",
    "    weighted_avg_f1 = (low_f1 * low_supp + medium_f1 * medium_supp + high_f1 * high_supp) / (low_supp + medium_supp + high_supp)\n",
    "    #f1_score = pd.DataFrame([low_f1,medium_f1,high_f1,accuracy,macro_avg_f1,weighted_avg_f1],index=['LOW','MEDIUM','HIGH','accuracy','macro avg','weighted avg'],columns=['f1-score'])\n",
    "    f1_score = pd.DataFrame({'f1-score':[low_f1,medium_f1,high_f1,accuracy,macro_avg_f1,weighted_avg_f1]},index=['LOW','MEDIUM','HIGH','accuracy','macro avg','weighted avg'])\n",
    "    \n",
    "    \n",
    "    return pd.concat([precision,recall,f1_score,support],axis=1)"
   ]
  },
  {
   "cell_type": "code",
   "execution_count": 17,
   "id": "bf346e5e",
   "metadata": {},
   "outputs": [],
   "source": [
    "# ALL ITEMS INCLUDED"
   ]
  },
  {
   "cell_type": "code",
   "execution_count": 18,
   "id": "44116826",
   "metadata": {},
   "outputs": [],
   "source": [
    "X = df.drop(['Patient\\'s Age','BBS Sum','Assessment of Risk'],axis=1)"
   ]
  },
  {
   "cell_type": "code",
   "execution_count": 19,
   "id": "fbbfe2ed",
   "metadata": {
    "scrolled": false
   },
   "outputs": [],
   "source": [
    "#kmeans = KMeans(n_clusters=3,random_state=rs)\n",
    "#kmeans.fit(X)\n",
    "#df['Cluster'] = df['Assessment of Risk'].apply(lambda x: cluster_converter(x,l,m,h))\n",
    "#kl = pd.DataFrame(kmeans.labels_,columns=['Cluster'])\n",
    "#kl['Risk'] = kl['Cluster'].apply(revert_cluster)\n",
    "#kl['Risk'].value_counts()"
   ]
  },
  {
   "cell_type": "code",
   "execution_count": 20,
   "id": "29d8b43b",
   "metadata": {},
   "outputs": [
    {
     "name": "stdout",
     "output_type": "stream",
     "text": [
      "[[  0   0 108]\n",
      " [110   7  26]\n",
      " [  0 103   0]]\n"
     ]
    },
    {
     "data": {
      "text/plain": [
       "HIGH      134\n",
       "MEDIUM    110\n",
       "LOW       110\n",
       "Name: Risk, dtype: int64"
      ]
     },
     "execution_count": 20,
     "metadata": {},
     "output_type": "execute_result"
    }
   ],
   "source": [
    "kmeans = KMeans(n_clusters=3,random_state=rs)\n",
    "kmeans.fit(X)\n",
    "df['Cluster'] = df['Assessment of Risk'].apply(lambda x: cluster_converter(x,l,m,h))\n",
    "print(confusion_matrix(df['Cluster'],kmeans.labels_))\n",
    "#l,m,h = redef_lmh(df['Cluster'],kmeans.labels_)\n",
    "df['Cluster'] = df['Assessment of Risk'].apply(lambda x: cluster_converter(x,l,m,h))\n",
    "kl = pd.DataFrame(kmeans.labels_,columns=['Cluster'])\n",
    "kl['Risk'] = kl['Cluster'].apply(revert_cluster)\n",
    "cm = do_roll(df['Assessment of Risk'],kl['Risk'])\n",
    "kl['Risk'].value_counts()"
   ]
  },
  {
   "cell_type": "code",
   "execution_count": 21,
   "id": "e252cf8e",
   "metadata": {
    "scrolled": true
   },
   "outputs": [
    {
     "data": {
      "text/plain": [
       "array([[3.08181818, 3.27272727, 3.43636364, 3.08181818, 2.87272727,\n",
       "        2.48181818, 2.17272727, 1.88181818, 2.07272727, 1.94545455,\n",
       "        1.65454545, 1.34545455, 1.41818182, 0.93636364],\n",
       "       [2.35454545, 2.13636364, 1.97272727, 1.70909091, 1.30909091,\n",
       "        1.04545455, 0.77272727, 0.66363636, 0.43636364, 0.32727273,\n",
       "        0.24545455, 0.2       , 0.12727273, 0.13636364],\n",
       "       [3.59701493, 3.82089552, 3.85820896, 3.6119403 , 3.61940299,\n",
       "        3.37313433, 3.14925373, 3.09701493, 3.3358209 , 3.2238806 ,\n",
       "        3.06716418, 2.68656716, 2.52238806, 2.26119403]])"
      ]
     },
     "execution_count": 21,
     "metadata": {},
     "output_type": "execute_result"
    }
   ],
   "source": [
    "kmeans.cluster_centers_"
   ]
  },
  {
   "cell_type": "code",
   "execution_count": 22,
   "id": "87d98fe9",
   "metadata": {
    "scrolled": false
   },
   "outputs": [
    {
     "name": "stdout",
     "output_type": "stream",
     "text": [
      "[[  0   0 108]\n",
      " [110   7  26]\n",
      " [  0 103   0]]\n",
      "              precision    recall  f1-score   support\n",
      "\n",
      "           0       0.00      0.00      0.00       108\n",
      "           1       0.06      0.05      0.06       143\n",
      "           2       0.00      0.00      0.00       103\n",
      "\n",
      "    accuracy                           0.02       354\n",
      "   macro avg       0.02      0.02      0.02       354\n",
      "weighted avg       0.03      0.02      0.02       354\n",
      "\n",
      "[[  0   0 108]\n",
      " [110   7  26]\n",
      " [  0 103   0]]\n",
      "              precision    recall  f1-score   support\n",
      "\n",
      "         LOW       0.00      0.00      0.00       108\n",
      "      MEDIUM       0.06      0.05      0.06       143\n",
      "        HIGH       0.00      0.00      0.00       103\n",
      "\n",
      "    accuracy                           0.02       354\n",
      "   macro avg       0.02      0.02      0.02       354\n",
      "weighted avg       0.03      0.02      0.02       354\n",
      "\n"
     ]
    }
   ],
   "source": [
    "print(confusion_matrix(df['Cluster'],kmeans.labels_))\n",
    "print(classification_report(df['Cluster'],kmeans.labels_))\n",
    "print(confusion_matrix(df['Assessment of Risk'],kl['Risk'],labels=['LOW','MEDIUM','HIGH']))\n",
    "print(classification_report(df['Assessment of Risk'],kl['Risk'],labels=['LOW','MEDIUM','HIGH']))\n",
    "dfcm = pd.DataFrame(cm,index=['LOW','MEDIUM','HIGH'],columns=['LOW','MEDIUM','HIGH'])"
   ]
  },
  {
   "cell_type": "code",
   "execution_count": 23,
   "id": "5d38883e",
   "metadata": {
    "scrolled": true
   },
   "outputs": [],
   "source": [
    "#ex1 = pd.concat([pd.DataFrame(confusion_matrix(df['Assessment of Risk'],kl['Risk'],labels=['LOW','MEDIUM','HIGH']),index=['LOW','MEDIUM','HIGH'],columns=['LOW','MEDIUM','HIGH']),\n",
    "#pd.DataFrame(classification_report(df['Assessment of Risk'],kl['Risk'],labels=['LOW','MEDIUM','HIGH'],output_dict=True)).transpose()],axis=1)\n",
    "#ex1.set_index([['Original','Original','Original','Original','Original','Original'],ex1.index],inplace=True)\n",
    "#ex1"
   ]
  },
  {
   "cell_type": "code",
   "execution_count": 24,
   "id": "de5b0896",
   "metadata": {},
   "outputs": [
    {
     "data": {
      "text/html": [
       "<div>\n",
       "<style scoped>\n",
       "    .dataframe tbody tr th:only-of-type {\n",
       "        vertical-align: middle;\n",
       "    }\n",
       "\n",
       "    .dataframe tbody tr th {\n",
       "        vertical-align: top;\n",
       "    }\n",
       "\n",
       "    .dataframe thead th {\n",
       "        text-align: right;\n",
       "    }\n",
       "</style>\n",
       "<table border=\"1\" class=\"dataframe\">\n",
       "  <thead>\n",
       "    <tr style=\"text-align: right;\">\n",
       "      <th></th>\n",
       "      <th></th>\n",
       "      <th>LOW</th>\n",
       "      <th>MEDIUM</th>\n",
       "      <th>HIGH</th>\n",
       "      <th>precision</th>\n",
       "      <th>recall</th>\n",
       "      <th>f1-score</th>\n",
       "      <th>support</th>\n",
       "    </tr>\n",
       "  </thead>\n",
       "  <tbody>\n",
       "    <tr>\n",
       "      <th rowspan=\"6\" valign=\"top\">Original</th>\n",
       "      <th>LOW</th>\n",
       "      <td>108.0</td>\n",
       "      <td>0.0</td>\n",
       "      <td>0.0</td>\n",
       "      <td>0.805970</td>\n",
       "      <td>1.000000</td>\n",
       "      <td>0.892562</td>\n",
       "      <td>108.00000</td>\n",
       "    </tr>\n",
       "    <tr>\n",
       "      <th>MEDIUM</th>\n",
       "      <td>26.0</td>\n",
       "      <td>110.0</td>\n",
       "      <td>7.0</td>\n",
       "      <td>1.000000</td>\n",
       "      <td>0.769231</td>\n",
       "      <td>0.869565</td>\n",
       "      <td>143.00000</td>\n",
       "    </tr>\n",
       "    <tr>\n",
       "      <th>HIGH</th>\n",
       "      <td>0.0</td>\n",
       "      <td>0.0</td>\n",
       "      <td>103.0</td>\n",
       "      <td>0.936364</td>\n",
       "      <td>1.000000</td>\n",
       "      <td>0.967136</td>\n",
       "      <td>103.00000</td>\n",
       "    </tr>\n",
       "    <tr>\n",
       "      <th>accuracy</th>\n",
       "      <td>NaN</td>\n",
       "      <td>NaN</td>\n",
       "      <td>NaN</td>\n",
       "      <td>0.906780</td>\n",
       "      <td>0.906780</td>\n",
       "      <td>0.906780</td>\n",
       "      <td>0.90678</td>\n",
       "    </tr>\n",
       "    <tr>\n",
       "      <th>macro avg</th>\n",
       "      <td>NaN</td>\n",
       "      <td>NaN</td>\n",
       "      <td>NaN</td>\n",
       "      <td>0.914111</td>\n",
       "      <td>0.923077</td>\n",
       "      <td>0.909754</td>\n",
       "      <td>354.00000</td>\n",
       "    </tr>\n",
       "    <tr>\n",
       "      <th>weighted avg</th>\n",
       "      <td>NaN</td>\n",
       "      <td>NaN</td>\n",
       "      <td>NaN</td>\n",
       "      <td>0.922289</td>\n",
       "      <td>0.906780</td>\n",
       "      <td>0.904970</td>\n",
       "      <td>354.00000</td>\n",
       "    </tr>\n",
       "  </tbody>\n",
       "</table>\n",
       "</div>"
      ],
      "text/plain": [
       "                         LOW  MEDIUM   HIGH  precision    recall  f1-score  \\\n",
       "Original LOW           108.0     0.0    0.0   0.805970  1.000000  0.892562   \n",
       "         MEDIUM         26.0   110.0    7.0   1.000000  0.769231  0.869565   \n",
       "         HIGH            0.0     0.0  103.0   0.936364  1.000000  0.967136   \n",
       "         accuracy        NaN     NaN    NaN   0.906780  0.906780  0.906780   \n",
       "         macro avg       NaN     NaN    NaN   0.914111  0.923077  0.909754   \n",
       "         weighted avg    NaN     NaN    NaN   0.922289  0.906780  0.904970   \n",
       "\n",
       "                         support  \n",
       "Original LOW           108.00000  \n",
       "         MEDIUM        143.00000  \n",
       "         HIGH          103.00000  \n",
       "         accuracy        0.90678  \n",
       "         macro avg     354.00000  \n",
       "         weighted avg  354.00000  "
      ]
     },
     "execution_count": 24,
     "metadata": {},
     "output_type": "execute_result"
    }
   ],
   "source": [
    "ex1 = pd.concat([dfcm,cm_classification_report(cm,df,kl)],axis=1)\n",
    "ex1.set_index([['Original','Original','Original','Original','Original','Original'],ex1.index],inplace=True)\n",
    "ex1"
   ]
  },
  {
   "cell_type": "code",
   "execution_count": 25,
   "id": "5ffe570b",
   "metadata": {
    "scrolled": false
   },
   "outputs": [
    {
     "data": {
      "text/plain": [
       "<AxesSubplot:xlabel='Cluster', ylabel='WSS'>"
      ]
     },
     "execution_count": 25,
     "metadata": {},
     "output_type": "execute_result"
    },
    {
     "data": {
      "image/png": "[encoded data removed]",
      "text/plain": [
       "<Figure size 432x288 with 1 Axes>"
      ]
     },
     "metadata": {
      "needs_background": "light"
     },
     "output_type": "display_data"
    }
   ],
   "source": [
    "# ELBOW METHOD\n",
    "wss = []\n",
    "for k in range(1,12):\n",
    "    kmeans = KMeans(n_clusters = k,init='k-means++',random_state=rs)\n",
    "    kmeans.fit(X)\n",
    "    wss.append(kmeans.inertia_)\n",
    "clu = pd.DataFrame(wss,columns=['WSS'])\n",
    "clu.index += 1\n",
    "clu.index.names = ['Cluster']\n",
    "sns.lineplot(x=clu.index,y=clu['WSS'],marker='o')"
   ]
  },
  {
   "cell_type": "code",
   "execution_count": 26,
   "id": "4148a79d",
   "metadata": {
    "scrolled": false
   },
   "outputs": [
    {
     "name": "stdout",
     "output_type": "stream",
     "text": [
      "Silhouette score from k(clusters) = 2 is 0.45694915415699394\n",
      "Silhouette score from k(clusters) = 3 is 0.3369593899464535\n",
      "Silhouette score from k(clusters) = 4 is 0.284612614541978\n",
      "Silhouette score from k(clusters) = 5 is 0.22471747860609262\n",
      "Silhouette score from k(clusters) = 6 is 0.2202607166589511\n",
      "Silhouette score from k(clusters) = 7 is 0.19607156835040926\n",
      "Silhouette score from k(clusters) = 8 is 0.20147160062251557\n",
      "Silhouette score from k(clusters) = 9 is 0.16892447347106515\n",
      "Silhouette score from k(clusters) = 10 is 0.18330255887809851\n",
      "Silhouette score from k(clusters) = 11 is 0.18191984126136918\n",
      "Silhouette score from k(clusters) = 12 is 0.17653346477811221\n"
     ]
    }
   ],
   "source": [
    "# SILHOUETTE METHOD (AVERAGES)\n",
    "for i in range (2,13):\n",
    "    print(\"Silhouette score from k(clusters) = \" + str(i) + \" is \" + str(silhouette_score(X,KMeans(n_clusters=i,init='k-means++',random_state=rs).fit(X).labels_,metric='euclidean',random_state=rs)))"
   ]
  },
  {
   "cell_type": "code",
   "execution_count": 27,
   "id": "8fcd7d42",
   "metadata": {
    "scrolled": true
   },
   "outputs": [
    {
     "name": "stdout",
     "output_type": "stream",
     "text": [
      "This Many Clusters: 2 | Number of Negative Values: 0\n",
      "This Many Clusters: 3 | Number of Negative Values: 4\n",
      "This Many Clusters: 4 | Number of Negative Values: 7\n",
      "This Many Clusters: 5 | Number of Negative Values: 8\n",
      "This Many Clusters: 6 | Number of Negative Values: 10\n",
      "This Many Clusters: 7 | Number of Negative Values: 12\n",
      "This Many Clusters: 8 | Number of Negative Values: 8\n",
      "This Many Clusters: 9 | Number of Negative Values: 43\n",
      "This Many Clusters: 10 | Number of Negative Values: 17\n",
      "This Many Clusters: 11 | Number of Negative Values: 19\n",
      "This Many Clusters: 12 | Number of Negative Values: 33\n"
     ]
    }
   ],
   "source": [
    "# SILHOUETTE METHOD (NEGATIVES CHECK)\n",
    "bad_k_values = {}\n",
    "\n",
    "for each_value in range(2,13):\n",
    "    for each_silhouette in silhouette_samples(X,KMeans(n_clusters=each_value,init='k-means++',random_state=rs).fit(X).predict(X)):\n",
    "        if each_silhouette < 0:\n",
    "            if each_value not in bad_k_values:\n",
    "                bad_k_values[each_value] = 1\n",
    "            else:\n",
    "                bad_k_values[each_value] += 1        \n",
    "        if each_value not in bad_k_values:\n",
    "            bad_k_values[each_value] = 0\n",
    "                \n",
    "for key, val in bad_k_values.items():\n",
    "    print(f'This Many Clusters: {key} | Number of Negative Values: {val}')"
   ]
  },
  {
   "cell_type": "code",
   "execution_count": 28,
   "id": "f8a8c6c1",
   "metadata": {},
   "outputs": [],
   "source": [
    "# Elbow and Silhouette at k(Clusters) = 3 BEST"
   ]
  },
  {
   "cell_type": "code",
   "execution_count": 29,
   "id": "73089b34",
   "metadata": {},
   "outputs": [],
   "source": [
    "# HIGH CORR TOP 4 PICKED 9,11,10,5 (4 TOTAL ITEMS)"
   ]
  },
  {
   "cell_type": "code",
   "execution_count": 30,
   "id": "ed4bf2d5",
   "metadata": {},
   "outputs": [],
   "source": [
    "X = df[['Item 5','Item 9','Item 10','Item 11']]\n",
    "text = 'HIGH CORR TOP 4 PICKED 9,11,10,5 (4 TOTAL ITEMS)'"
   ]
  },
  {
   "cell_type": "code",
   "execution_count": 31,
   "id": "140918a9",
   "metadata": {},
   "outputs": [
    {
     "name": "stdout",
     "output_type": "stream",
     "text": [
      "[[  0 105   3]\n",
      " [ 11  41  91]\n",
      " [101   0   2]]\n"
     ]
    },
    {
     "data": {
      "text/plain": [
       "MEDIUM    146\n",
       "LOW       112\n",
       "HIGH       96\n",
       "Name: Risk, dtype: int64"
      ]
     },
     "execution_count": 31,
     "metadata": {},
     "output_type": "execute_result"
    }
   ],
   "source": [
    "kmeans = KMeans(n_clusters=3,random_state=rs)\n",
    "kmeans.fit(X)\n",
    "df['Cluster'] = df['Assessment of Risk'].apply(lambda x: cluster_converter(x,l,m,h))\n",
    "print(confusion_matrix(df['Cluster'],kmeans.labels_))\n",
    "df['Cluster'] = df['Assessment of Risk'].apply(lambda x: cluster_converter(x,l,m,h))\n",
    "kl = pd.DataFrame(kmeans.labels_,columns=['Cluster'])\n",
    "kl['Risk'] = kl['Cluster'].apply(revert_cluster)\n",
    "cm = do_roll(df['Assessment of Risk'],kl['Risk'])\n",
    "dfcm = pd.DataFrame(cm,index=['LOW','MEDIUM','HIGH'],columns=['LOW','MEDIUM','HIGH'])\n",
    "kl['Risk'].value_counts()"
   ]
  },
  {
   "cell_type": "code",
   "execution_count": 32,
   "id": "ca99b9e1",
   "metadata": {},
   "outputs": [
    {
     "data": {
      "text/plain": [
       "array([[1.35714286, 0.41071429, 0.30357143, 0.22321429],\n",
       "       [3.56164384, 3.32876712, 3.20547945, 2.99315068],\n",
       "       [2.84375   , 1.98958333, 1.875     , 1.64583333]])"
      ]
     },
     "execution_count": 32,
     "metadata": {},
     "output_type": "execute_result"
    }
   ],
   "source": [
    "kmeans.cluster_centers_"
   ]
  },
  {
   "cell_type": "code",
   "execution_count": 33,
   "id": "84af3cfa",
   "metadata": {},
   "outputs": [
    {
     "data": {
      "text/html": [
       "<div>\n",
       "<style scoped>\n",
       "    .dataframe tbody tr th:only-of-type {\n",
       "        vertical-align: middle;\n",
       "    }\n",
       "\n",
       "    .dataframe tbody tr th {\n",
       "        vertical-align: top;\n",
       "    }\n",
       "\n",
       "    .dataframe thead th {\n",
       "        text-align: right;\n",
       "    }\n",
       "</style>\n",
       "<table border=\"1\" class=\"dataframe\">\n",
       "  <thead>\n",
       "    <tr style=\"text-align: right;\">\n",
       "      <th></th>\n",
       "      <th></th>\n",
       "      <th>LOW</th>\n",
       "      <th>MEDIUM</th>\n",
       "      <th>HIGH</th>\n",
       "      <th>precision</th>\n",
       "      <th>recall</th>\n",
       "      <th>f1-score</th>\n",
       "      <th>support</th>\n",
       "    </tr>\n",
       "  </thead>\n",
       "  <tbody>\n",
       "    <tr>\n",
       "      <th rowspan=\"6\" valign=\"top\">HIGH CORR TOP 4 PICKED 9,11,10,5 (4 TOTAL ITEMS)</th>\n",
       "      <th>LOW</th>\n",
       "      <td>105.0</td>\n",
       "      <td>3.0</td>\n",
       "      <td>0.0</td>\n",
       "      <td>0.719178</td>\n",
       "      <td>0.972222</td>\n",
       "      <td>0.826772</td>\n",
       "      <td>108.000000</td>\n",
       "    </tr>\n",
       "    <tr>\n",
       "      <th>MEDIUM</th>\n",
       "      <td>41.0</td>\n",
       "      <td>91.0</td>\n",
       "      <td>11.0</td>\n",
       "      <td>0.947917</td>\n",
       "      <td>0.636364</td>\n",
       "      <td>0.761506</td>\n",
       "      <td>143.000000</td>\n",
       "    </tr>\n",
       "    <tr>\n",
       "      <th>HIGH</th>\n",
       "      <td>0.0</td>\n",
       "      <td>2.0</td>\n",
       "      <td>101.0</td>\n",
       "      <td>0.901786</td>\n",
       "      <td>0.980583</td>\n",
       "      <td>0.939535</td>\n",
       "      <td>103.000000</td>\n",
       "    </tr>\n",
       "    <tr>\n",
       "      <th>accuracy</th>\n",
       "      <td>NaN</td>\n",
       "      <td>NaN</td>\n",
       "      <td>NaN</td>\n",
       "      <td>0.838983</td>\n",
       "      <td>0.838983</td>\n",
       "      <td>0.838983</td>\n",
       "      <td>0.838983</td>\n",
       "    </tr>\n",
       "    <tr>\n",
       "      <th>macro avg</th>\n",
       "      <td>NaN</td>\n",
       "      <td>NaN</td>\n",
       "      <td>NaN</td>\n",
       "      <td>0.856293</td>\n",
       "      <td>0.863056</td>\n",
       "      <td>0.842604</td>\n",
       "      <td>354.000000</td>\n",
       "    </tr>\n",
       "    <tr>\n",
       "      <th>weighted avg</th>\n",
       "      <td>NaN</td>\n",
       "      <td>NaN</td>\n",
       "      <td>NaN</td>\n",
       "      <td>0.864710</td>\n",
       "      <td>0.838983</td>\n",
       "      <td>0.833217</td>\n",
       "      <td>354.000000</td>\n",
       "    </tr>\n",
       "  </tbody>\n",
       "</table>\n",
       "</div>"
      ],
      "text/plain": [
       "                                                                 LOW  MEDIUM  \\\n",
       "HIGH CORR TOP 4 PICKED 9,11,10,5 (4 TOTAL ITEMS) LOW           105.0     3.0   \n",
       "                                                 MEDIUM         41.0    91.0   \n",
       "                                                 HIGH            0.0     2.0   \n",
       "                                                 accuracy        NaN     NaN   \n",
       "                                                 macro avg       NaN     NaN   \n",
       "                                                 weighted avg    NaN     NaN   \n",
       "\n",
       "                                                                HIGH  \\\n",
       "HIGH CORR TOP 4 PICKED 9,11,10,5 (4 TOTAL ITEMS) LOW             0.0   \n",
       "                                                 MEDIUM         11.0   \n",
       "                                                 HIGH          101.0   \n",
       "                                                 accuracy        NaN   \n",
       "                                                 macro avg       NaN   \n",
       "                                                 weighted avg    NaN   \n",
       "\n",
       "                                                               precision  \\\n",
       "HIGH CORR TOP 4 PICKED 9,11,10,5 (4 TOTAL ITEMS) LOW            0.719178   \n",
       "                                                 MEDIUM         0.947917   \n",
       "                                                 HIGH           0.901786   \n",
       "                                                 accuracy       0.838983   \n",
       "                                                 macro avg      0.856293   \n",
       "                                                 weighted avg   0.864710   \n",
       "\n",
       "                                                                 recall  \\\n",
       "HIGH CORR TOP 4 PICKED 9,11,10,5 (4 TOTAL ITEMS) LOW           0.972222   \n",
       "                                                 MEDIUM        0.636364   \n",
       "                                                 HIGH          0.980583   \n",
       "                                                 accuracy      0.838983   \n",
       "                                                 macro avg     0.863056   \n",
       "                                                 weighted avg  0.838983   \n",
       "\n",
       "                                                               f1-score  \\\n",
       "HIGH CORR TOP 4 PICKED 9,11,10,5 (4 TOTAL ITEMS) LOW           0.826772   \n",
       "                                                 MEDIUM        0.761506   \n",
       "                                                 HIGH          0.939535   \n",
       "                                                 accuracy      0.838983   \n",
       "                                                 macro avg     0.842604   \n",
       "                                                 weighted avg  0.833217   \n",
       "\n",
       "                                                                  support  \n",
       "HIGH CORR TOP 4 PICKED 9,11,10,5 (4 TOTAL ITEMS) LOW           108.000000  \n",
       "                                                 MEDIUM        143.000000  \n",
       "                                                 HIGH          103.000000  \n",
       "                                                 accuracy        0.838983  \n",
       "                                                 macro avg     354.000000  \n",
       "                                                 weighted avg  354.000000  "
      ]
     },
     "execution_count": 33,
     "metadata": {},
     "output_type": "execute_result"
    }
   ],
   "source": [
    "ex6 = pd.concat([dfcm,cm_classification_report(cm,df,kl)],axis=1)\n",
    "ex6.set_index([[text,text,text,text,text,text],ex6.index],inplace=True)\n",
    "ex6"
   ]
  },
  {
   "cell_type": "code",
   "execution_count": 34,
   "id": "3da7fcf8",
   "metadata": {},
   "outputs": [
    {
     "data": {
      "text/plain": [
       "<AxesSubplot:xlabel='Cluster', ylabel='WSS'>"
      ]
     },
     "execution_count": 34,
     "metadata": {},
     "output_type": "execute_result"
    },
    {
     "data": {
      "image/png": "[encoded data removed]",
      "text/plain": [
       "<Figure size 432x288 with 1 Axes>"
      ]
     },
     "metadata": {
      "needs_background": "light"
     },
     "output_type": "display_data"
    }
   ],
   "source": [
    "# ELBOW METHOD\n",
    "wss = []\n",
    "for k in range(1,12):\n",
    "    kmeans = KMeans(n_clusters = k,init='k-means++',random_state=rs)\n",
    "    kmeans.fit(X)\n",
    "    wss.append(kmeans.inertia_)\n",
    "clu = pd.DataFrame(wss,columns=['WSS'])\n",
    "clu.index += 1\n",
    "clu.index.names = ['Cluster']\n",
    "sns.lineplot(x=clu.index,y=clu['WSS'],marker='o')"
   ]
  },
  {
   "cell_type": "code",
   "execution_count": 35,
   "id": "fa6719d7",
   "metadata": {},
   "outputs": [
    {
     "name": "stdout",
     "output_type": "stream",
     "text": [
      "Silhouette score from k(clusters) = 2 is 0.5595705824480435\n",
      "Silhouette score from k(clusters) = 3 is 0.44867450222903094\n",
      "Silhouette score from k(clusters) = 4 is 0.38127825191243725\n",
      "Silhouette score from k(clusters) = 5 is 0.35019719525985604\n",
      "Silhouette score from k(clusters) = 6 is 0.35271482828129513\n",
      "Silhouette score from k(clusters) = 7 is 0.37200380850446874\n",
      "Silhouette score from k(clusters) = 8 is 0.3755510056364719\n",
      "Silhouette score from k(clusters) = 9 is 0.4068933783650045\n",
      "Silhouette score from k(clusters) = 10 is 0.4004270145707253\n",
      "Silhouette score from k(clusters) = 11 is 0.4341656465582605\n",
      "Silhouette score from k(clusters) = 12 is 0.4584190901361392\n"
     ]
    }
   ],
   "source": [
    "# SILHOUETTE METHOD (AVERAGES)\n",
    "for i in range (2,13):\n",
    "    print(\"Silhouette score from k(clusters) = \" + str(i) + \" is \" + str(silhouette_score(X,KMeans(n_clusters=i,init='k-means++',random_state=rs).fit(X).labels_,metric='euclidean',random_state=rs)))"
   ]
  },
  {
   "cell_type": "code",
   "execution_count": 36,
   "id": "367cddc2",
   "metadata": {},
   "outputs": [
    {
     "name": "stdout",
     "output_type": "stream",
     "text": [
      "This Many Clusters: 2 | Number of Negative Values: 0\n",
      "This Many Clusters: 3 | Number of Negative Values: 0\n",
      "This Many Clusters: 4 | Number of Negative Values: 7\n",
      "This Many Clusters: 5 | Number of Negative Values: 4\n",
      "This Many Clusters: 6 | Number of Negative Values: 4\n",
      "This Many Clusters: 7 | Number of Negative Values: 15\n",
      "This Many Clusters: 8 | Number of Negative Values: 11\n",
      "This Many Clusters: 9 | Number of Negative Values: 4\n",
      "This Many Clusters: 10 | Number of Negative Values: 5\n",
      "This Many Clusters: 11 | Number of Negative Values: 2\n",
      "This Many Clusters: 12 | Number of Negative Values: 2\n"
     ]
    }
   ],
   "source": [
    "# SILHOUETTE METHOD (NEGATIVES CHECK)\n",
    "bad_k_values = {}\n",
    "\n",
    "for each_value in range(2,13):\n",
    "    for each_silhouette in silhouette_samples(X,KMeans(n_clusters=each_value,init='k-means++',random_state=rs).fit(X).predict(X)):\n",
    "        if each_silhouette < 0:\n",
    "            if each_value not in bad_k_values:\n",
    "                bad_k_values[each_value] = 1\n",
    "            else:\n",
    "                bad_k_values[each_value] += 1        \n",
    "        if each_value not in bad_k_values:\n",
    "            bad_k_values[each_value] = 0\n",
    "                \n",
    "for key, val in bad_k_values.items():\n",
    "    print(f'This Many Clusters: {key} | Number of Negative Values: {val}')"
   ]
  },
  {
   "cell_type": "code",
   "execution_count": 37,
   "id": "3cdc4a18",
   "metadata": {},
   "outputs": [],
   "source": [
    "# Elbow and Silhouette at k(Clusters) = 3 BEST"
   ]
  },
  {
   "cell_type": "code",
   "execution_count": 38,
   "id": "07112f08",
   "metadata": {},
   "outputs": [],
   "source": [
    "# HIGH CORR TOP 5 PICKED 9,11,10,5,8 (5 TOTAL ITEMS)"
   ]
  },
  {
   "cell_type": "code",
   "execution_count": 39,
   "id": "fc13060a",
   "metadata": {},
   "outputs": [],
   "source": [
    "X = df[['Item 5','Item 8','Item 9','Item 10','Item 11']]"
   ]
  },
  {
   "cell_type": "code",
   "execution_count": 40,
   "id": "1a55c1b2",
   "metadata": {},
   "outputs": [],
   "source": [
    "#kmeans = KMeans(n_clusters=3,random_state=rs)\n",
    "#kmeans.fit(X)\n",
    "#df['Cluster'] = df['Assessment of Risk'].apply(lambda x: cluster_converter(x,l,m,h))\n",
    "#kl = pd.DataFrame(kmeans.labels_,columns=['Cluster'])\n",
    "#kl['Risk'] = kl['Cluster'].apply(revert_cluster)\n",
    "#kl['Risk'].value_counts()"
   ]
  },
  {
   "cell_type": "code",
   "execution_count": 41,
   "id": "0c86af34",
   "metadata": {},
   "outputs": [
    {
     "name": "stdout",
     "output_type": "stream",
     "text": [
      "[[  1   0 107]\n",
      " [111   5  27]\n",
      " [  2 101   0]]\n"
     ]
    },
    {
     "data": {
      "text/plain": [
       "HIGH      134\n",
       "LOW       114\n",
       "MEDIUM    106\n",
       "Name: Risk, dtype: int64"
      ]
     },
     "execution_count": 41,
     "metadata": {},
     "output_type": "execute_result"
    }
   ],
   "source": [
    "kmeans = KMeans(n_clusters=3,random_state=rs)\n",
    "kmeans.fit(X)\n",
    "df['Cluster'] = df['Assessment of Risk'].apply(lambda x: cluster_converter(x,l,m,h))\n",
    "print(confusion_matrix(df['Cluster'],kmeans.labels_))\n",
    "#l,m,h = redef_lmh(df['Cluster'],kmeans.labels_)\n",
    "df['Cluster'] = df['Assessment of Risk'].apply(lambda x: cluster_converter(x,l,m,h))\n",
    "kl = pd.DataFrame(kmeans.labels_,columns=['Cluster'])\n",
    "kl['Risk'] = kl['Cluster'].apply(revert_cluster)\n",
    "cm = do_roll(df['Assessment of Risk'],kl['Risk'])\n",
    "kl['Risk'].value_counts()"
   ]
  },
  {
   "cell_type": "code",
   "execution_count": 42,
   "id": "40ec16fb",
   "metadata": {},
   "outputs": [
    {
     "data": {
      "text/plain": [
       "array([[2.79824561, 1.89473684, 2.04385965, 1.92105263, 1.6754386 ],\n",
       "       [1.32075472, 0.60377358, 0.38679245, 0.27358491, 0.17924528],\n",
       "       [3.62686567, 3.09701493, 3.35074627, 3.23880597, 3.05970149]])"
      ]
     },
     "execution_count": 42,
     "metadata": {},
     "output_type": "execute_result"
    }
   ],
   "source": [
    "kmeans.cluster_centers_"
   ]
  },
  {
   "cell_type": "code",
   "execution_count": 43,
   "id": "c82a689c",
   "metadata": {},
   "outputs": [
    {
     "name": "stdout",
     "output_type": "stream",
     "text": [
      "[[  1   0 107]\n",
      " [111   5  27]\n",
      " [  2 101   0]]\n",
      "              precision    recall  f1-score   support\n",
      "\n",
      "           0       0.01      0.01      0.01       108\n",
      "           1       0.05      0.03      0.04       143\n",
      "           2       0.00      0.00      0.00       103\n",
      "\n",
      "    accuracy                           0.02       354\n",
      "   macro avg       0.02      0.01      0.02       354\n",
      "weighted avg       0.02      0.02      0.02       354\n",
      "\n",
      "[[  1   0 107]\n",
      " [111   5  27]\n",
      " [  2 101   0]]\n",
      "              precision    recall  f1-score   support\n",
      "\n",
      "         LOW       0.01      0.01      0.01       108\n",
      "      MEDIUM       0.05      0.03      0.04       143\n",
      "        HIGH       0.00      0.00      0.00       103\n",
      "\n",
      "    accuracy                           0.02       354\n",
      "   macro avg       0.02      0.01      0.02       354\n",
      "weighted avg       0.02      0.02      0.02       354\n",
      "\n"
     ]
    }
   ],
   "source": [
    "print(confusion_matrix(df['Cluster'],kmeans.labels_))\n",
    "print(classification_report(df['Cluster'],kmeans.labels_))\n",
    "print(confusion_matrix(df['Assessment of Risk'],kl['Risk'],labels=['LOW','MEDIUM','HIGH']))\n",
    "print(classification_report(df['Assessment of Risk'],kl['Risk'],labels=['LOW','MEDIUM','HIGH']))\n",
    "dfcm = pd.DataFrame(cm,index=['LOW','MEDIUM','HIGH'],columns=['LOW','MEDIUM','HIGH'])"
   ]
  },
  {
   "cell_type": "code",
   "execution_count": 44,
   "id": "02fcbf99",
   "metadata": {},
   "outputs": [
    {
     "data": {
      "text/html": [
       "<div>\n",
       "<style scoped>\n",
       "    .dataframe tbody tr th:only-of-type {\n",
       "        vertical-align: middle;\n",
       "    }\n",
       "\n",
       "    .dataframe tbody tr th {\n",
       "        vertical-align: top;\n",
       "    }\n",
       "\n",
       "    .dataframe thead th {\n",
       "        text-align: right;\n",
       "    }\n",
       "</style>\n",
       "<table border=\"1\" class=\"dataframe\">\n",
       "  <thead>\n",
       "    <tr style=\"text-align: right;\">\n",
       "      <th></th>\n",
       "      <th></th>\n",
       "      <th>LOW</th>\n",
       "      <th>MEDIUM</th>\n",
       "      <th>HIGH</th>\n",
       "      <th>precision</th>\n",
       "      <th>recall</th>\n",
       "      <th>f1-score</th>\n",
       "      <th>support</th>\n",
       "    </tr>\n",
       "  </thead>\n",
       "  <tbody>\n",
       "    <tr>\n",
       "      <th rowspan=\"6\" valign=\"top\">HIGH CORR TOP 5 PICKED 9,11,10,5,8 (5 TOTAL ITEMS)</th>\n",
       "      <th>LOW</th>\n",
       "      <td>107.0</td>\n",
       "      <td>1.0</td>\n",
       "      <td>0.0</td>\n",
       "      <td>0.798507</td>\n",
       "      <td>0.990741</td>\n",
       "      <td>0.884298</td>\n",
       "      <td>108.00000</td>\n",
       "    </tr>\n",
       "    <tr>\n",
       "      <th>MEDIUM</th>\n",
       "      <td>27.0</td>\n",
       "      <td>111.0</td>\n",
       "      <td>5.0</td>\n",
       "      <td>0.973684</td>\n",
       "      <td>0.776224</td>\n",
       "      <td>0.863813</td>\n",
       "      <td>143.00000</td>\n",
       "    </tr>\n",
       "    <tr>\n",
       "      <th>HIGH</th>\n",
       "      <td>0.0</td>\n",
       "      <td>2.0</td>\n",
       "      <td>101.0</td>\n",
       "      <td>0.952830</td>\n",
       "      <td>0.980583</td>\n",
       "      <td>0.966507</td>\n",
       "      <td>103.00000</td>\n",
       "    </tr>\n",
       "    <tr>\n",
       "      <th>accuracy</th>\n",
       "      <td>NaN</td>\n",
       "      <td>NaN</td>\n",
       "      <td>NaN</td>\n",
       "      <td>0.901130</td>\n",
       "      <td>0.901130</td>\n",
       "      <td>0.901130</td>\n",
       "      <td>0.90113</td>\n",
       "    </tr>\n",
       "    <tr>\n",
       "      <th>macro avg</th>\n",
       "      <td>NaN</td>\n",
       "      <td>NaN</td>\n",
       "      <td>NaN</td>\n",
       "      <td>0.908341</td>\n",
       "      <td>0.915849</td>\n",
       "      <td>0.904873</td>\n",
       "      <td>354.00000</td>\n",
       "    </tr>\n",
       "    <tr>\n",
       "      <th>weighted avg</th>\n",
       "      <td>NaN</td>\n",
       "      <td>NaN</td>\n",
       "      <td>NaN</td>\n",
       "      <td>0.914173</td>\n",
       "      <td>0.901130</td>\n",
       "      <td>0.899943</td>\n",
       "      <td>354.00000</td>\n",
       "    </tr>\n",
       "  </tbody>\n",
       "</table>\n",
       "</div>"
      ],
      "text/plain": [
       "                                                                   LOW  \\\n",
       "HIGH CORR TOP 5 PICKED 9,11,10,5,8 (5 TOTAL ITEMS) LOW           107.0   \n",
       "                                                   MEDIUM         27.0   \n",
       "                                                   HIGH            0.0   \n",
       "                                                   accuracy        NaN   \n",
       "                                                   macro avg       NaN   \n",
       "                                                   weighted avg    NaN   \n",
       "\n",
       "                                                                 MEDIUM  \\\n",
       "HIGH CORR TOP 5 PICKED 9,11,10,5,8 (5 TOTAL ITEMS) LOW              1.0   \n",
       "                                                   MEDIUM         111.0   \n",
       "                                                   HIGH             2.0   \n",
       "                                                   accuracy         NaN   \n",
       "                                                   macro avg        NaN   \n",
       "                                                   weighted avg     NaN   \n",
       "\n",
       "                                                                  HIGH  \\\n",
       "HIGH CORR TOP 5 PICKED 9,11,10,5,8 (5 TOTAL ITEMS) LOW             0.0   \n",
       "                                                   MEDIUM          5.0   \n",
       "                                                   HIGH          101.0   \n",
       "                                                   accuracy        NaN   \n",
       "                                                   macro avg       NaN   \n",
       "                                                   weighted avg    NaN   \n",
       "\n",
       "                                                                 precision  \\\n",
       "HIGH CORR TOP 5 PICKED 9,11,10,5,8 (5 TOTAL ITEMS) LOW            0.798507   \n",
       "                                                   MEDIUM         0.973684   \n",
       "                                                   HIGH           0.952830   \n",
       "                                                   accuracy       0.901130   \n",
       "                                                   macro avg      0.908341   \n",
       "                                                   weighted avg   0.914173   \n",
       "\n",
       "                                                                   recall  \\\n",
       "HIGH CORR TOP 5 PICKED 9,11,10,5,8 (5 TOTAL ITEMS) LOW           0.990741   \n",
       "                                                   MEDIUM        0.776224   \n",
       "                                                   HIGH          0.980583   \n",
       "                                                   accuracy      0.901130   \n",
       "                                                   macro avg     0.915849   \n",
       "                                                   weighted avg  0.901130   \n",
       "\n",
       "                                                                 f1-score  \\\n",
       "HIGH CORR TOP 5 PICKED 9,11,10,5,8 (5 TOTAL ITEMS) LOW           0.884298   \n",
       "                                                   MEDIUM        0.863813   \n",
       "                                                   HIGH          0.966507   \n",
       "                                                   accuracy      0.901130   \n",
       "                                                   macro avg     0.904873   \n",
       "                                                   weighted avg  0.899943   \n",
       "\n",
       "                                                                   support  \n",
       "HIGH CORR TOP 5 PICKED 9,11,10,5,8 (5 TOTAL ITEMS) LOW           108.00000  \n",
       "                                                   MEDIUM        143.00000  \n",
       "                                                   HIGH          103.00000  \n",
       "                                                   accuracy        0.90113  \n",
       "                                                   macro avg     354.00000  \n",
       "                                                   weighted avg  354.00000  "
      ]
     },
     "execution_count": 44,
     "metadata": {},
     "output_type": "execute_result"
    }
   ],
   "source": [
    "ex2 = pd.concat([dfcm,cm_classification_report(cm,df,kl)],axis=1)\n",
    "ex2.set_index([['HIGH CORR TOP 5 PICKED 9,11,10,5,8 (5 TOTAL ITEMS)','HIGH CORR TOP 5 PICKED 9,11,10,5,8 (5 TOTAL ITEMS)','HIGH CORR TOP 5 PICKED 9,11,10,5,8 (5 TOTAL ITEMS)','HIGH CORR TOP 5 PICKED 9,11,10,5,8 (5 TOTAL ITEMS)','HIGH CORR TOP 5 PICKED 9,11,10,5,8 (5 TOTAL ITEMS)','HIGH CORR TOP 5 PICKED 9,11,10,5,8 (5 TOTAL ITEMS)'],ex2.index],inplace=True)\n",
    "ex2"
   ]
  },
  {
   "cell_type": "code",
   "execution_count": 45,
   "id": "c047ef74",
   "metadata": {},
   "outputs": [
    {
     "data": {
      "text/plain": [
       "<AxesSubplot:xlabel='Cluster', ylabel='WSS'>"
      ]
     },
     "execution_count": 45,
     "metadata": {},
     "output_type": "execute_result"
    },
    {
     "data": {
      "image/png": "[encoded data removed]",
      "text/plain": [
       "<Figure size 432x288 with 1 Axes>"
      ]
     },
     "metadata": {
      "needs_background": "light"
     },
     "output_type": "display_data"
    }
   ],
   "source": [
    "# ELBOW METHOD\n",
    "wss = []\n",
    "for k in range(1,12):\n",
    "    kmeans = KMeans(n_clusters = k,init='k-means++',random_state=rs)\n",
    "    kmeans.fit(X)\n",
    "    wss.append(kmeans.inertia_)\n",
    "clu = pd.DataFrame(wss,columns=['WSS'])\n",
    "clu.index += 1\n",
    "clu.index.names = ['Cluster']\n",
    "sns.lineplot(x=clu.index,y=clu['WSS'],marker='o')"
   ]
  },
  {
   "cell_type": "code",
   "execution_count": 46,
   "id": "1e265294",
   "metadata": {
    "scrolled": false
   },
   "outputs": [
    {
     "name": "stdout",
     "output_type": "stream",
     "text": [
      "Silhouette score from k(clusters) = 2 is 0.5216989639023528\n",
      "Silhouette score from k(clusters) = 3 is 0.4219362994930373\n",
      "Silhouette score from k(clusters) = 4 is 0.34997095769588266\n",
      "Silhouette score from k(clusters) = 5 is 0.3224200631266991\n",
      "Silhouette score from k(clusters) = 6 is 0.309982387739611\n",
      "Silhouette score from k(clusters) = 7 is 0.2869663340287191\n",
      "Silhouette score from k(clusters) = 8 is 0.2964428085937791\n",
      "Silhouette score from k(clusters) = 9 is 0.2860600060430079\n",
      "Silhouette score from k(clusters) = 10 is 0.2951553250554099\n",
      "Silhouette score from k(clusters) = 11 is 0.32061129812230105\n",
      "Silhouette score from k(clusters) = 12 is 0.3075559944794411\n"
     ]
    }
   ],
   "source": [
    "# SILHOUETTE METHOD (AVERAGES)\n",
    "for i in range (2,13):\n",
    "    print(\"Silhouette score from k(clusters) = \" + str(i) + \" is \" + str(silhouette_score(X,KMeans(n_clusters=i,init='k-means++',random_state=rs).fit(X).labels_,metric='euclidean',random_state=rs)))"
   ]
  },
  {
   "cell_type": "code",
   "execution_count": 47,
   "id": "ebf0092f",
   "metadata": {},
   "outputs": [
    {
     "name": "stdout",
     "output_type": "stream",
     "text": [
      "This Many Clusters: 2 | Number of Negative Values: 0\n",
      "This Many Clusters: 3 | Number of Negative Values: 1\n",
      "This Many Clusters: 4 | Number of Negative Values: 2\n",
      "This Many Clusters: 5 | Number of Negative Values: 1\n",
      "This Many Clusters: 6 | Number of Negative Values: 2\n",
      "This Many Clusters: 7 | Number of Negative Values: 11\n",
      "This Many Clusters: 8 | Number of Negative Values: 3\n",
      "This Many Clusters: 9 | Number of Negative Values: 3\n",
      "This Many Clusters: 10 | Number of Negative Values: 6\n",
      "This Many Clusters: 11 | Number of Negative Values: 3\n",
      "This Many Clusters: 12 | Number of Negative Values: 7\n"
     ]
    }
   ],
   "source": [
    "# SILHOUETTE METHOD (NEGATIVES CHECK)\n",
    "bad_k_values = {}\n",
    "\n",
    "for each_value in range(2,13):\n",
    "    for each_silhouette in silhouette_samples(X,KMeans(n_clusters=each_value,init='k-means++',random_state=rs).fit(X).predict(X)):\n",
    "        if each_silhouette < 0:\n",
    "            if each_value not in bad_k_values:\n",
    "                bad_k_values[each_value] = 1\n",
    "            else:\n",
    "                bad_k_values[each_value] += 1        \n",
    "        if each_value not in bad_k_values:\n",
    "            bad_k_values[each_value] = 0\n",
    "                \n",
    "for key, val in bad_k_values.items():\n",
    "    print(f'This Many Clusters: {key} | Number of Negative Values: {val}')"
   ]
  },
  {
   "cell_type": "code",
   "execution_count": 48,
   "id": "be3ec3a2",
   "metadata": {},
   "outputs": [],
   "source": [
    "# Elbow and Silhouette at k(Clusters) = 3 BEST"
   ]
  },
  {
   "cell_type": "code",
   "execution_count": 49,
   "id": "28ba6795",
   "metadata": {},
   "outputs": [],
   "source": [
    "# HIGH CORR TOP 6 PICKED 9,11,10,5,8,7 (6 TOTAL ITEMS)"
   ]
  },
  {
   "cell_type": "code",
   "execution_count": 50,
   "id": "c3b81e20",
   "metadata": {},
   "outputs": [],
   "source": [
    "X = df[['Item 5','Item 7','Item 8','Item 9','Item 10','Item 11']]"
   ]
  },
  {
   "cell_type": "code",
   "execution_count": 51,
   "id": "9826d34a",
   "metadata": {
    "scrolled": true
   },
   "outputs": [],
   "source": [
    "#kmeans = KMeans(n_clusters=3,random_state=rs)\n",
    "#kmeans.fit(X)\n",
    "#df['Cluster'] = df['Assessment of Risk'].apply(lambda x: cluster_converter(x,l,m,h))\n",
    "#kl = pd.DataFrame(kmeans.labels_,columns=['Cluster'])\n",
    "#kl['Risk'] = kl['Cluster'].apply(revert_cluster)\n",
    "#kl['Risk'].value_counts()"
   ]
  },
  {
   "cell_type": "code",
   "execution_count": 52,
   "id": "ea23049e",
   "metadata": {},
   "outputs": [
    {
     "name": "stdout",
     "output_type": "stream",
     "text": [
      "[[  0 108   0]\n",
      " [  3  28 112]\n",
      " [101   0   2]]\n"
     ]
    },
    {
     "data": {
      "text/plain": [
       "MEDIUM    136\n",
       "HIGH      114\n",
       "LOW       104\n",
       "Name: Risk, dtype: int64"
      ]
     },
     "execution_count": 52,
     "metadata": {},
     "output_type": "execute_result"
    }
   ],
   "source": [
    "kmeans = KMeans(n_clusters=3,random_state=rs)\n",
    "kmeans.fit(X)\n",
    "df['Cluster'] = df['Assessment of Risk'].apply(lambda x: cluster_converter(x,l,m,h))\n",
    "print(confusion_matrix(df['Cluster'],kmeans.labels_))\n",
    "#l,m,h = redef_lmh(df['Cluster'],kmeans.labels_)\n",
    "df['Cluster'] = df['Assessment of Risk'].apply(lambda x: cluster_converter(x,l,m,h))\n",
    "kl = pd.DataFrame(kmeans.labels_,columns=['Cluster'])\n",
    "kl['Risk'] = kl['Cluster'].apply(revert_cluster)\n",
    "cm = do_roll(df['Assessment of Risk'],kl['Risk'])\n",
    "kl['Risk'].value_counts()"
   ]
  },
  {
   "cell_type": "code",
   "execution_count": 53,
   "id": "bbe292cb",
   "metadata": {},
   "outputs": [
    {
     "data": {
      "text/plain": [
       "array([[1.28846154, 0.73076923, 0.60576923, 0.375     , 0.25961538,\n",
       "        0.17307692],\n",
       "       [3.625     , 3.13970588, 3.09558824, 3.33088235, 3.22058824,\n",
       "        3.05147059],\n",
       "       [2.78947368, 2.13157895, 1.85087719, 2.02631579, 1.90350877,\n",
       "        1.64035088]])"
      ]
     },
     "execution_count": 53,
     "metadata": {},
     "output_type": "execute_result"
    }
   ],
   "source": [
    "kmeans.cluster_centers_"
   ]
  },
  {
   "cell_type": "code",
   "execution_count": 54,
   "id": "74f45987",
   "metadata": {},
   "outputs": [
    {
     "name": "stdout",
     "output_type": "stream",
     "text": [
      "[[  0 108   0]\n",
      " [  3  28 112]\n",
      " [101   0   2]]\n",
      "              precision    recall  f1-score   support\n",
      "\n",
      "           0       0.00      0.00      0.00       108\n",
      "           1       0.21      0.20      0.20       143\n",
      "           2       0.02      0.02      0.02       103\n",
      "\n",
      "    accuracy                           0.08       354\n",
      "   macro avg       0.07      0.07      0.07       354\n",
      "weighted avg       0.09      0.08      0.09       354\n",
      "\n",
      "[[  0 108   0]\n",
      " [  3  28 112]\n",
      " [101   0   2]]\n",
      "              precision    recall  f1-score   support\n",
      "\n",
      "         LOW       0.00      0.00      0.00       108\n",
      "      MEDIUM       0.21      0.20      0.20       143\n",
      "        HIGH       0.02      0.02      0.02       103\n",
      "\n",
      "    accuracy                           0.08       354\n",
      "   macro avg       0.07      0.07      0.07       354\n",
      "weighted avg       0.09      0.08      0.09       354\n",
      "\n"
     ]
    }
   ],
   "source": [
    "print(confusion_matrix(df['Cluster'],kmeans.labels_))\n",
    "print(classification_report(df['Cluster'],kmeans.labels_))\n",
    "print(confusion_matrix(df['Assessment of Risk'],kl['Risk'],labels=['LOW','MEDIUM','HIGH']))\n",
    "print(classification_report(df['Assessment of Risk'],kl['Risk'],labels=['LOW','MEDIUM','HIGH']))\n",
    "dfcm = pd.DataFrame(cm,index=['LOW','MEDIUM','HIGH'],columns=['LOW','MEDIUM','HIGH'])"
   ]
  },
  {
   "cell_type": "code",
   "execution_count": 55,
   "id": "fa6f74ae",
   "metadata": {},
   "outputs": [
    {
     "data": {
      "text/html": [
       "<div>\n",
       "<style scoped>\n",
       "    .dataframe tbody tr th:only-of-type {\n",
       "        vertical-align: middle;\n",
       "    }\n",
       "\n",
       "    .dataframe tbody tr th {\n",
       "        vertical-align: top;\n",
       "    }\n",
       "\n",
       "    .dataframe thead th {\n",
       "        text-align: right;\n",
       "    }\n",
       "</style>\n",
       "<table border=\"1\" class=\"dataframe\">\n",
       "  <thead>\n",
       "    <tr style=\"text-align: right;\">\n",
       "      <th></th>\n",
       "      <th></th>\n",
       "      <th>LOW</th>\n",
       "      <th>MEDIUM</th>\n",
       "      <th>HIGH</th>\n",
       "      <th>precision</th>\n",
       "      <th>recall</th>\n",
       "      <th>f1-score</th>\n",
       "      <th>support</th>\n",
       "    </tr>\n",
       "  </thead>\n",
       "  <tbody>\n",
       "    <tr>\n",
       "      <th rowspan=\"6\" valign=\"top\">HIGH CORR TOP 6 PICKED 9,11,10,5,8,7 (6 TOTAL ITEMS)</th>\n",
       "      <th>LOW</th>\n",
       "      <td>108.0</td>\n",
       "      <td>0.0</td>\n",
       "      <td>0.0</td>\n",
       "      <td>0.794118</td>\n",
       "      <td>1.000000</td>\n",
       "      <td>0.885246</td>\n",
       "      <td>108.00000</td>\n",
       "    </tr>\n",
       "    <tr>\n",
       "      <th>MEDIUM</th>\n",
       "      <td>28.0</td>\n",
       "      <td>112.0</td>\n",
       "      <td>3.0</td>\n",
       "      <td>0.982456</td>\n",
       "      <td>0.783217</td>\n",
       "      <td>0.871595</td>\n",
       "      <td>143.00000</td>\n",
       "    </tr>\n",
       "    <tr>\n",
       "      <th>HIGH</th>\n",
       "      <td>0.0</td>\n",
       "      <td>2.0</td>\n",
       "      <td>101.0</td>\n",
       "      <td>0.971154</td>\n",
       "      <td>0.980583</td>\n",
       "      <td>0.975845</td>\n",
       "      <td>103.00000</td>\n",
       "    </tr>\n",
       "    <tr>\n",
       "      <th>accuracy</th>\n",
       "      <td>NaN</td>\n",
       "      <td>NaN</td>\n",
       "      <td>NaN</td>\n",
       "      <td>0.906780</td>\n",
       "      <td>0.906780</td>\n",
       "      <td>0.906780</td>\n",
       "      <td>0.90678</td>\n",
       "    </tr>\n",
       "    <tr>\n",
       "      <th>macro avg</th>\n",
       "      <td>NaN</td>\n",
       "      <td>NaN</td>\n",
       "      <td>NaN</td>\n",
       "      <td>0.915909</td>\n",
       "      <td>0.921266</td>\n",
       "      <td>0.910896</td>\n",
       "      <td>354.00000</td>\n",
       "    </tr>\n",
       "    <tr>\n",
       "      <th>weighted avg</th>\n",
       "      <td>NaN</td>\n",
       "      <td>NaN</td>\n",
       "      <td>NaN</td>\n",
       "      <td>0.921708</td>\n",
       "      <td>0.906780</td>\n",
       "      <td>0.906093</td>\n",
       "      <td>354.00000</td>\n",
       "    </tr>\n",
       "  </tbody>\n",
       "</table>\n",
       "</div>"
      ],
      "text/plain": [
       "                                                                   LOW  \\\n",
       "HIGH CORR TOP 6 PICKED 9,11,10,5,8,7 (6 TOTAL I... LOW           108.0   \n",
       "                                                   MEDIUM         28.0   \n",
       "                                                   HIGH            0.0   \n",
       "                                                   accuracy        NaN   \n",
       "                                                   macro avg       NaN   \n",
       "                                                   weighted avg    NaN   \n",
       "\n",
       "                                                                 MEDIUM  \\\n",
       "HIGH CORR TOP 6 PICKED 9,11,10,5,8,7 (6 TOTAL I... LOW              0.0   \n",
       "                                                   MEDIUM         112.0   \n",
       "                                                   HIGH             2.0   \n",
       "                                                   accuracy         NaN   \n",
       "                                                   macro avg        NaN   \n",
       "                                                   weighted avg     NaN   \n",
       "\n",
       "                                                                  HIGH  \\\n",
       "HIGH CORR TOP 6 PICKED 9,11,10,5,8,7 (6 TOTAL I... LOW             0.0   \n",
       "                                                   MEDIUM          3.0   \n",
       "                                                   HIGH          101.0   \n",
       "                                                   accuracy        NaN   \n",
       "                                                   macro avg       NaN   \n",
       "                                                   weighted avg    NaN   \n",
       "\n",
       "                                                                 precision  \\\n",
       "HIGH CORR TOP 6 PICKED 9,11,10,5,8,7 (6 TOTAL I... LOW            0.794118   \n",
       "                                                   MEDIUM         0.982456   \n",
       "                                                   HIGH           0.971154   \n",
       "                                                   accuracy       0.906780   \n",
       "                                                   macro avg      0.915909   \n",
       "                                                   weighted avg   0.921708   \n",
       "\n",
       "                                                                   recall  \\\n",
       "HIGH CORR TOP 6 PICKED 9,11,10,5,8,7 (6 TOTAL I... LOW           1.000000   \n",
       "                                                   MEDIUM        0.783217   \n",
       "                                                   HIGH          0.980583   \n",
       "                                                   accuracy      0.906780   \n",
       "                                                   macro avg     0.921266   \n",
       "                                                   weighted avg  0.906780   \n",
       "\n",
       "                                                                 f1-score  \\\n",
       "HIGH CORR TOP 6 PICKED 9,11,10,5,8,7 (6 TOTAL I... LOW           0.885246   \n",
       "                                                   MEDIUM        0.871595   \n",
       "                                                   HIGH          0.975845   \n",
       "                                                   accuracy      0.906780   \n",
       "                                                   macro avg     0.910896   \n",
       "                                                   weighted avg  0.906093   \n",
       "\n",
       "                                                                   support  \n",
       "HIGH CORR TOP 6 PICKED 9,11,10,5,8,7 (6 TOTAL I... LOW           108.00000  \n",
       "                                                   MEDIUM        143.00000  \n",
       "                                                   HIGH          103.00000  \n",
       "                                                   accuracy        0.90678  \n",
       "                                                   macro avg     354.00000  \n",
       "                                                   weighted avg  354.00000  "
      ]
     },
     "execution_count": 55,
     "metadata": {},
     "output_type": "execute_result"
    }
   ],
   "source": [
    "ex3 = pd.concat([dfcm,cm_classification_report(cm,df,kl)],axis=1)\n",
    "ex3.set_index([['HIGH CORR TOP 6 PICKED 9,11,10,5,8,7 (6 TOTAL ITEMS)','HIGH CORR TOP 6 PICKED 9,11,10,5,8,7 (6 TOTAL ITEMS)','HIGH CORR TOP 6 PICKED 9,11,10,5,8,7 (6 TOTAL ITEMS)','HIGH CORR TOP 6 PICKED 9,11,10,5,8,7 (6 TOTAL ITEMS)','HIGH CORR TOP 6 PICKED 9,11,10,5,8,7 (6 TOTAL ITEMS)','HIGH CORR TOP 6 PICKED 9,11,10,5,8,7 (6 TOTAL ITEMS)'],ex3.index],inplace=True)\n",
    "ex3"
   ]
  },
  {
   "cell_type": "code",
   "execution_count": 56,
   "id": "fa671c88",
   "metadata": {
    "scrolled": true
   },
   "outputs": [
    {
     "data": {
      "text/plain": [
       "<AxesSubplot:xlabel='Cluster', ylabel='WSS'>"
      ]
     },
     "execution_count": 56,
     "metadata": {},
     "output_type": "execute_result"
    },
    {
     "data": {
      "image/png": "[encoded data removed]",
      "text/plain": [
       "<Figure size 432x288 with 1 Axes>"
      ]
     },
     "metadata": {
      "needs_background": "light"
     },
     "output_type": "display_data"
    }
   ],
   "source": [
    "# ELBOW METHOD\n",
    "wss = []\n",
    "for k in range(1,12):\n",
    "    kmeans = KMeans(n_clusters = k,init='k-means++',random_state=rs)\n",
    "    kmeans.fit(X)\n",
    "    wss.append(kmeans.inertia_)\n",
    "clu = pd.DataFrame(wss,columns=['WSS'])\n",
    "clu.index += 1\n",
    "clu.index.names = ['Cluster']\n",
    "sns.lineplot(x=clu.index,y=clu['WSS'],marker='o')"
   ]
  },
  {
   "cell_type": "code",
   "execution_count": 57,
   "id": "52a84849",
   "metadata": {
    "scrolled": false
   },
   "outputs": [
    {
     "name": "stdout",
     "output_type": "stream",
     "text": [
      "Silhouette score from k(clusters) = 2 is 0.5201783702535393\n",
      "Silhouette score from k(clusters) = 3 is 0.40857528942953586\n",
      "Silhouette score from k(clusters) = 4 is 0.34769447395378605\n",
      "Silhouette score from k(clusters) = 5 is 0.2978713118663313\n",
      "Silhouette score from k(clusters) = 6 is 0.2821192622691965\n",
      "Silhouette score from k(clusters) = 7 is 0.28438905650194385\n",
      "Silhouette score from k(clusters) = 8 is 0.27561210389362095\n",
      "Silhouette score from k(clusters) = 9 is 0.27156184752372825\n",
      "Silhouette score from k(clusters) = 10 is 0.27484528301530986\n",
      "Silhouette score from k(clusters) = 11 is 0.2774586639239947\n",
      "Silhouette score from k(clusters) = 12 is 0.2880084870041832\n"
     ]
    }
   ],
   "source": [
    "# SILHOUETTE METHOD (AVERAGES)\n",
    "for i in range (2,13):\n",
    "    print(\"Silhouette score from k(clusters) = \" + str(i) + \" is \" + str(silhouette_score(X,KMeans(n_clusters=i,init='k-means++',random_state=rs).fit(X).labels_,metric='euclidean',random_state=rs)))"
   ]
  },
  {
   "cell_type": "code",
   "execution_count": 58,
   "id": "397f5a33",
   "metadata": {},
   "outputs": [
    {
     "name": "stdout",
     "output_type": "stream",
     "text": [
      "This Many Clusters: 2 | Number of Negative Values: 0\n",
      "This Many Clusters: 3 | Number of Negative Values: 1\n",
      "This Many Clusters: 4 | Number of Negative Values: 0\n",
      "This Many Clusters: 5 | Number of Negative Values: 1\n",
      "This Many Clusters: 6 | Number of Negative Values: 12\n",
      "This Many Clusters: 7 | Number of Negative Values: 15\n",
      "This Many Clusters: 8 | Number of Negative Values: 16\n",
      "This Many Clusters: 9 | Number of Negative Values: 10\n",
      "This Many Clusters: 10 | Number of Negative Values: 20\n",
      "This Many Clusters: 11 | Number of Negative Values: 8\n",
      "This Many Clusters: 12 | Number of Negative Values: 10\n"
     ]
    }
   ],
   "source": [
    "# SILHOUETTE METHOD (NEGATIVES CHECK)\n",
    "bad_k_values = {}\n",
    "\n",
    "for each_value in range(2,13):\n",
    "    for each_silhouette in silhouette_samples(X,KMeans(n_clusters=each_value,init='k-means++',random_state=rs).fit(X).predict(X)):\n",
    "        if each_silhouette < 0:\n",
    "            if each_value not in bad_k_values:\n",
    "                bad_k_values[each_value] = 1\n",
    "            else:\n",
    "                bad_k_values[each_value] += 1        \n",
    "        if each_value not in bad_k_values:\n",
    "            bad_k_values[each_value] = 0\n",
    "                \n",
    "for key, val in bad_k_values.items():\n",
    "    print(f'This Many Clusters: {key} | Number of Negative Values: {val}')"
   ]
  },
  {
   "cell_type": "code",
   "execution_count": 59,
   "id": "f057c586",
   "metadata": {},
   "outputs": [],
   "source": [
    "# Elbow and Silhouette at k(Clusters) = 3 BEST"
   ]
  },
  {
   "cell_type": "code",
   "execution_count": 60,
   "id": "669b25ea",
   "metadata": {},
   "outputs": [],
   "source": [
    "# DS PRACTICAL PICK 14,12,11,10,8,4 (6 TOTAL ITEMS)"
   ]
  },
  {
   "cell_type": "code",
   "execution_count": 61,
   "id": "eb53cfa0",
   "metadata": {},
   "outputs": [],
   "source": [
    "X = df[['Item 4','Item 8','Item 10','Item 11','Item 12','Item 14']]"
   ]
  },
  {
   "cell_type": "code",
   "execution_count": 62,
   "id": "af2f1bcf",
   "metadata": {},
   "outputs": [],
   "source": [
    "#kmeans = KMeans(n_clusters=3,random_state=rs)\n",
    "#kmeans.fit(X)\n",
    "#df['Cluster'] = df['Assessment of Risk'].apply(lambda x: cluster_converter(x,l,m,h))\n",
    "#kl = pd.DataFrame(kmeans.labels_,columns=['Cluster'])\n",
    "#kl['Risk'] = kl['Cluster'].apply(revert_cluster)\n",
    "#kl['Risk'].value_counts()"
   ]
  },
  {
   "cell_type": "code",
   "execution_count": 63,
   "id": "a6d9373f",
   "metadata": {},
   "outputs": [
    {
     "name": "stdout",
     "output_type": "stream",
     "text": [
      "[[  0 103   5]\n",
      " [ 13  24 106]\n",
      " [100   0   3]]\n"
     ]
    },
    {
     "data": {
      "text/plain": [
       "MEDIUM    127\n",
       "HIGH      114\n",
       "LOW       113\n",
       "Name: Risk, dtype: int64"
      ]
     },
     "execution_count": 63,
     "metadata": {},
     "output_type": "execute_result"
    }
   ],
   "source": [
    "kmeans = KMeans(n_clusters=3,random_state=rs)\n",
    "kmeans.fit(X)\n",
    "df['Cluster'] = df['Assessment of Risk'].apply(lambda x: cluster_converter(x,l,m,h))\n",
    "print(confusion_matrix(df['Cluster'],kmeans.labels_))\n",
    "#l,m,h = redef_lmh(df['Cluster'],kmeans.labels_)\n",
    "df['Cluster'] = df['Assessment of Risk'].apply(lambda x: cluster_converter(x,l,m,h))\n",
    "kl = pd.DataFrame(kmeans.labels_,columns=['Cluster'])\n",
    "kl['Risk'] = kl['Cluster'].apply(revert_cluster)\n",
    "cm = do_roll(df['Assessment of Risk'],kl['Risk'])\n",
    "kl['Risk'].value_counts()"
   ]
  },
  {
   "cell_type": "code",
   "execution_count": 64,
   "id": "f956e8d1",
   "metadata": {},
   "outputs": [
    {
     "data": {
      "text/plain": [
       "array([[1.77876106, 0.65486726, 0.32743363, 0.20353982, 0.16814159,\n",
       "        0.11504425],\n",
       "       [3.60629921, 3.11811024, 3.26771654, 3.11023622, 2.73228346,\n",
       "        2.30708661],\n",
       "       [3.0877193 , 1.97368421, 2.01754386, 1.77192982, 1.43859649,\n",
       "        1.00877193]])"
      ]
     },
     "execution_count": 64,
     "metadata": {},
     "output_type": "execute_result"
    }
   ],
   "source": [
    "kmeans.cluster_centers_"
   ]
  },
  {
   "cell_type": "code",
   "execution_count": 65,
   "id": "ce68256d",
   "metadata": {
    "scrolled": false
   },
   "outputs": [
    {
     "name": "stdout",
     "output_type": "stream",
     "text": [
      "[[  0 103   5]\n",
      " [ 13  24 106]\n",
      " [100   0   3]]\n",
      "              precision    recall  f1-score   support\n",
      "\n",
      "           0       0.00      0.00      0.00       108\n",
      "           1       0.19      0.17      0.18       143\n",
      "           2       0.03      0.03      0.03       103\n",
      "\n",
      "    accuracy                           0.08       354\n",
      "   macro avg       0.07      0.07      0.07       354\n",
      "weighted avg       0.08      0.08      0.08       354\n",
      "\n",
      "[[  0 103   5]\n",
      " [ 13  24 106]\n",
      " [100   0   3]]\n",
      "              precision    recall  f1-score   support\n",
      "\n",
      "         LOW       0.00      0.00      0.00       108\n",
      "      MEDIUM       0.19      0.17      0.18       143\n",
      "        HIGH       0.03      0.03      0.03       103\n",
      "\n",
      "    accuracy                           0.08       354\n",
      "   macro avg       0.07      0.07      0.07       354\n",
      "weighted avg       0.08      0.08      0.08       354\n",
      "\n"
     ]
    }
   ],
   "source": [
    "print(confusion_matrix(df['Cluster'],kmeans.labels_))\n",
    "print(classification_report(df['Cluster'],kmeans.labels_))\n",
    "print(confusion_matrix(df['Assessment of Risk'],kl['Risk'],labels=['LOW','MEDIUM','HIGH']))\n",
    "print(classification_report(df['Assessment of Risk'],kl['Risk'],labels=['LOW','MEDIUM','HIGH']))\n",
    "dfcm = pd.DataFrame(cm,index=['LOW','MEDIUM','HIGH'],columns=['LOW','MEDIUM','HIGH'])"
   ]
  },
  {
   "cell_type": "code",
   "execution_count": 66,
   "id": "e8dbcf5a",
   "metadata": {},
   "outputs": [
    {
     "data": {
      "text/html": [
       "<div>\n",
       "<style scoped>\n",
       "    .dataframe tbody tr th:only-of-type {\n",
       "        vertical-align: middle;\n",
       "    }\n",
       "\n",
       "    .dataframe tbody tr th {\n",
       "        vertical-align: top;\n",
       "    }\n",
       "\n",
       "    .dataframe thead th {\n",
       "        text-align: right;\n",
       "    }\n",
       "</style>\n",
       "<table border=\"1\" class=\"dataframe\">\n",
       "  <thead>\n",
       "    <tr style=\"text-align: right;\">\n",
       "      <th></th>\n",
       "      <th></th>\n",
       "      <th>LOW</th>\n",
       "      <th>MEDIUM</th>\n",
       "      <th>HIGH</th>\n",
       "      <th>precision</th>\n",
       "      <th>recall</th>\n",
       "      <th>f1-score</th>\n",
       "      <th>support</th>\n",
       "    </tr>\n",
       "  </thead>\n",
       "  <tbody>\n",
       "    <tr>\n",
       "      <th rowspan=\"6\" valign=\"top\">DS PRACTICAL PICK 14,12,11,10,8,4 (6 TOTAL ITEMS)</th>\n",
       "      <th>LOW</th>\n",
       "      <td>103.0</td>\n",
       "      <td>5.0</td>\n",
       "      <td>0.0</td>\n",
       "      <td>0.811024</td>\n",
       "      <td>0.953704</td>\n",
       "      <td>0.876596</td>\n",
       "      <td>108.000000</td>\n",
       "    </tr>\n",
       "    <tr>\n",
       "      <th>MEDIUM</th>\n",
       "      <td>24.0</td>\n",
       "      <td>106.0</td>\n",
       "      <td>13.0</td>\n",
       "      <td>0.929825</td>\n",
       "      <td>0.741259</td>\n",
       "      <td>0.824903</td>\n",
       "      <td>143.000000</td>\n",
       "    </tr>\n",
       "    <tr>\n",
       "      <th>HIGH</th>\n",
       "      <td>0.0</td>\n",
       "      <td>3.0</td>\n",
       "      <td>100.0</td>\n",
       "      <td>0.884956</td>\n",
       "      <td>0.970874</td>\n",
       "      <td>0.925926</td>\n",
       "      <td>103.000000</td>\n",
       "    </tr>\n",
       "    <tr>\n",
       "      <th>accuracy</th>\n",
       "      <td>NaN</td>\n",
       "      <td>NaN</td>\n",
       "      <td>NaN</td>\n",
       "      <td>0.872881</td>\n",
       "      <td>0.872881</td>\n",
       "      <td>0.872881</td>\n",
       "      <td>0.872881</td>\n",
       "    </tr>\n",
       "    <tr>\n",
       "      <th>macro avg</th>\n",
       "      <td>NaN</td>\n",
       "      <td>NaN</td>\n",
       "      <td>NaN</td>\n",
       "      <td>0.875268</td>\n",
       "      <td>0.888612</td>\n",
       "      <td>0.875808</td>\n",
       "      <td>354.000000</td>\n",
       "    </tr>\n",
       "    <tr>\n",
       "      <th>weighted avg</th>\n",
       "      <td>NaN</td>\n",
       "      <td>NaN</td>\n",
       "      <td>NaN</td>\n",
       "      <td>0.880525</td>\n",
       "      <td>0.872881</td>\n",
       "      <td>0.870067</td>\n",
       "      <td>354.000000</td>\n",
       "    </tr>\n",
       "  </tbody>\n",
       "</table>\n",
       "</div>"
      ],
      "text/plain": [
       "                                                                  LOW  MEDIUM  \\\n",
       "DS PRACTICAL PICK 14,12,11,10,8,4 (6 TOTAL ITEMS) LOW           103.0     5.0   \n",
       "                                                  MEDIUM         24.0   106.0   \n",
       "                                                  HIGH            0.0     3.0   \n",
       "                                                  accuracy        NaN     NaN   \n",
       "                                                  macro avg       NaN     NaN   \n",
       "                                                  weighted avg    NaN     NaN   \n",
       "\n",
       "                                                                 HIGH  \\\n",
       "DS PRACTICAL PICK 14,12,11,10,8,4 (6 TOTAL ITEMS) LOW             0.0   \n",
       "                                                  MEDIUM         13.0   \n",
       "                                                  HIGH          100.0   \n",
       "                                                  accuracy        NaN   \n",
       "                                                  macro avg       NaN   \n",
       "                                                  weighted avg    NaN   \n",
       "\n",
       "                                                                precision  \\\n",
       "DS PRACTICAL PICK 14,12,11,10,8,4 (6 TOTAL ITEMS) LOW            0.811024   \n",
       "                                                  MEDIUM         0.929825   \n",
       "                                                  HIGH           0.884956   \n",
       "                                                  accuracy       0.872881   \n",
       "                                                  macro avg      0.875268   \n",
       "                                                  weighted avg   0.880525   \n",
       "\n",
       "                                                                  recall  \\\n",
       "DS PRACTICAL PICK 14,12,11,10,8,4 (6 TOTAL ITEMS) LOW           0.953704   \n",
       "                                                  MEDIUM        0.741259   \n",
       "                                                  HIGH          0.970874   \n",
       "                                                  accuracy      0.872881   \n",
       "                                                  macro avg     0.888612   \n",
       "                                                  weighted avg  0.872881   \n",
       "\n",
       "                                                                f1-score  \\\n",
       "DS PRACTICAL PICK 14,12,11,10,8,4 (6 TOTAL ITEMS) LOW           0.876596   \n",
       "                                                  MEDIUM        0.824903   \n",
       "                                                  HIGH          0.925926   \n",
       "                                                  accuracy      0.872881   \n",
       "                                                  macro avg     0.875808   \n",
       "                                                  weighted avg  0.870067   \n",
       "\n",
       "                                                                   support  \n",
       "DS PRACTICAL PICK 14,12,11,10,8,4 (6 TOTAL ITEMS) LOW           108.000000  \n",
       "                                                  MEDIUM        143.000000  \n",
       "                                                  HIGH          103.000000  \n",
       "                                                  accuracy        0.872881  \n",
       "                                                  macro avg     354.000000  \n",
       "                                                  weighted avg  354.000000  "
      ]
     },
     "execution_count": 66,
     "metadata": {},
     "output_type": "execute_result"
    }
   ],
   "source": [
    "ex4 = pd.concat([dfcm,cm_classification_report(cm,df,kl)],axis=1)\n",
    "ex4.set_index([['DS PRACTICAL PICK 14,12,11,10,8,4 (6 TOTAL ITEMS)','DS PRACTICAL PICK 14,12,11,10,8,4 (6 TOTAL ITEMS)','DS PRACTICAL PICK 14,12,11,10,8,4 (6 TOTAL ITEMS)','DS PRACTICAL PICK 14,12,11,10,8,4 (6 TOTAL ITEMS)','DS PRACTICAL PICK 14,12,11,10,8,4 (6 TOTAL ITEMS)','DS PRACTICAL PICK 14,12,11,10,8,4 (6 TOTAL ITEMS)'],ex4.index],inplace=True)\n",
    "ex4"
   ]
  },
  {
   "cell_type": "code",
   "execution_count": 67,
   "id": "2d931bbf",
   "metadata": {},
   "outputs": [
    {
     "data": {
      "text/plain": [
       "<AxesSubplot:xlabel='Cluster', ylabel='WSS'>"
      ]
     },
     "execution_count": 67,
     "metadata": {},
     "output_type": "execute_result"
    },
    {
     "data": {
      "image/png": "[encoded data removed]",
      "text/plain": [
       "<Figure size 432x288 with 1 Axes>"
      ]
     },
     "metadata": {
      "needs_background": "light"
     },
     "output_type": "display_data"
    }
   ],
   "source": [
    "# ELBOW METHOD\n",
    "wss = []\n",
    "for k in range(1,12):\n",
    "    kmeans = KMeans(n_clusters = k,init='k-means++',random_state=rs)\n",
    "    kmeans.fit(X)\n",
    "    wss.append(kmeans.inertia_)\n",
    "clu = pd.DataFrame(wss,columns=['WSS'])\n",
    "clu.index += 1\n",
    "clu.index.names = ['Cluster']\n",
    "sns.lineplot(x=clu.index,y=clu['WSS'],marker='o')"
   ]
  },
  {
   "cell_type": "code",
   "execution_count": 68,
   "id": "afc21fc8",
   "metadata": {
    "scrolled": false
   },
   "outputs": [
    {
     "name": "stdout",
     "output_type": "stream",
     "text": [
      "Silhouette score from k(clusters) = 2 is 0.48414289234780156\n",
      "Silhouette score from k(clusters) = 3 is 0.3890747672855522\n",
      "Silhouette score from k(clusters) = 4 is 0.3245917926285587\n",
      "Silhouette score from k(clusters) = 5 is 0.2715979005533585\n",
      "Silhouette score from k(clusters) = 6 is 0.2592637530082387\n",
      "Silhouette score from k(clusters) = 7 is 0.2633873690353149\n",
      "Silhouette score from k(clusters) = 8 is 0.2587989994122972\n",
      "Silhouette score from k(clusters) = 9 is 0.26124433848462114\n",
      "Silhouette score from k(clusters) = 10 is 0.2578090250955093\n",
      "Silhouette score from k(clusters) = 11 is 0.2756321763969419\n",
      "Silhouette score from k(clusters) = 12 is 0.2652757051418099\n"
     ]
    }
   ],
   "source": [
    "# SILHOUETTE METHOD (AVERAGES)\n",
    "for i in range (2,13):\n",
    "    print(\"Silhouette score from k(clusters) = \" + str(i) + \" is \" + str(silhouette_score(X,KMeans(n_clusters=i,init='k-means++',random_state=rs).fit(X).labels_,metric='euclidean',random_state=rs)))"
   ]
  },
  {
   "cell_type": "code",
   "execution_count": 69,
   "id": "a2619152",
   "metadata": {},
   "outputs": [
    {
     "name": "stdout",
     "output_type": "stream",
     "text": [
      "This Many Clusters: 2 | Number of Negative Values: 0\n",
      "This Many Clusters: 3 | Number of Negative Values: 0\n",
      "This Many Clusters: 4 | Number of Negative Values: 16\n",
      "This Many Clusters: 5 | Number of Negative Values: 7\n",
      "This Many Clusters: 6 | Number of Negative Values: 7\n",
      "This Many Clusters: 7 | Number of Negative Values: 8\n",
      "This Many Clusters: 8 | Number of Negative Values: 14\n",
      "This Many Clusters: 9 | Number of Negative Values: 6\n",
      "This Many Clusters: 10 | Number of Negative Values: 6\n",
      "This Many Clusters: 11 | Number of Negative Values: 8\n",
      "This Many Clusters: 12 | Number of Negative Values: 6\n"
     ]
    }
   ],
   "source": [
    "# SILHOUETTE METHOD (NEGATIVES CHECK)\n",
    "bad_k_values = {}\n",
    "\n",
    "for each_value in range(2,13):\n",
    "    for each_silhouette in silhouette_samples(X,KMeans(n_clusters=each_value,init='k-means++',random_state=rs).fit(X).predict(X)):\n",
    "        if each_silhouette < 0:\n",
    "            if each_value not in bad_k_values:\n",
    "                bad_k_values[each_value] = 1\n",
    "            else:\n",
    "                bad_k_values[each_value] += 1        \n",
    "        if each_value not in bad_k_values:\n",
    "            bad_k_values[each_value] = 0\n",
    "                \n",
    "for key, val in bad_k_values.items():\n",
    "    print(f'This Many Clusters: {key} | Number of Negative Values: {val}')"
   ]
  },
  {
   "cell_type": "code",
   "execution_count": 70,
   "id": "1359db58",
   "metadata": {},
   "outputs": [],
   "source": [
    "# Elbow and Silhouette at k(Clusters) = 3 BEST"
   ]
  },
  {
   "cell_type": "code",
   "execution_count": 71,
   "id": "e663b88d",
   "metadata": {},
   "outputs": [],
   "source": [
    "# HIGH CORR TOP 7 PICKED 9,11,10,5,8,7,6 (7 TOTAL ITEMS)"
   ]
  },
  {
   "cell_type": "code",
   "execution_count": 72,
   "id": "4f5c1656",
   "metadata": {},
   "outputs": [],
   "source": [
    "X = df[['Item 5','Item 6','Item 7','Item 8','Item 9','Item 10','Item 11']]"
   ]
  },
  {
   "cell_type": "code",
   "execution_count": 73,
   "id": "8b813fce",
   "metadata": {},
   "outputs": [],
   "source": [
    "#kmeans = KMeans(n_clusters=3,random_state=rs)\n",
    "#kmeans.fit(X)\n",
    "#df['Cluster'] = df['Assessment of Risk'].apply(lambda x: cluster_converter(x,l,m,h))\n",
    "#kl = pd.DataFrame(kmeans.labels_,columns=['Cluster'])\n",
    "#kl['Risk'] = kl['Cluster'].apply(revert_cluster)\n",
    "#kl['Risk'].value_counts()"
   ]
  },
  {
   "cell_type": "code",
   "execution_count": 74,
   "id": "6c1252b2",
   "metadata": {},
   "outputs": [
    {
     "name": "stdout",
     "output_type": "stream",
     "text": [
      "[[107   0   1]\n",
      " [ 28   4 111]\n",
      " [  0 101   2]]\n"
     ]
    },
    {
     "data": {
      "text/plain": [
       "LOW       135\n",
       "HIGH      114\n",
       "MEDIUM    105\n",
       "Name: Risk, dtype: int64"
      ]
     },
     "execution_count": 74,
     "metadata": {},
     "output_type": "execute_result"
    }
   ],
   "source": [
    "kmeans = KMeans(n_clusters=3,random_state=rs)\n",
    "kmeans.fit(X)\n",
    "df['Cluster'] = df['Assessment of Risk'].apply(lambda x: cluster_converter(x,l,m,h))\n",
    "print(confusion_matrix(df['Cluster'],kmeans.labels_))\n",
    "#l,m,h = redef_lmh(df['Cluster'],kmeans.labels_)\n",
    "df['Cluster'] = df['Assessment of Risk'].apply(lambda x: cluster_converter(x,l,m,h))\n",
    "kl = pd.DataFrame(kmeans.labels_,columns=['Cluster'])\n",
    "kl['Risk'] = kl['Cluster'].apply(revert_cluster)\n",
    "cm = do_roll(df['Assessment of Risk'],kl['Risk'])\n",
    "kl['Risk'].value_counts()"
   ]
  },
  {
   "cell_type": "code",
   "execution_count": 75,
   "id": "9d8e34f3",
   "metadata": {},
   "outputs": [
    {
     "data": {
      "text/plain": [
       "array([[3.62222222, 3.37037037, 3.13333333, 3.08888889, 3.34074074,\n",
       "        3.23703704, 3.05925926],\n",
       "       [1.2952381 , 1.        , 0.74285714, 0.62857143, 0.38095238,\n",
       "        0.25714286, 0.18095238],\n",
       "       [2.80701754, 2.45614035, 2.14912281, 1.85964912, 2.03508772,\n",
       "        1.9122807 , 1.64912281]])"
      ]
     },
     "execution_count": 75,
     "metadata": {},
     "output_type": "execute_result"
    }
   ],
   "source": [
    "kmeans.cluster_centers_"
   ]
  },
  {
   "cell_type": "code",
   "execution_count": 76,
   "id": "229f199d",
   "metadata": {},
   "outputs": [
    {
     "name": "stdout",
     "output_type": "stream",
     "text": [
      "[[107   0   1]\n",
      " [ 28   4 111]\n",
      " [  0 101   2]]\n",
      "              precision    recall  f1-score   support\n",
      "\n",
      "           0       0.79      0.99      0.88       108\n",
      "           1       0.04      0.03      0.03       143\n",
      "           2       0.02      0.02      0.02       103\n",
      "\n",
      "    accuracy                           0.32       354\n",
      "   macro avg       0.28      0.35      0.31       354\n",
      "weighted avg       0.26      0.32      0.29       354\n",
      "\n",
      "[[107   0   1]\n",
      " [ 28   4 111]\n",
      " [  0 101   2]]\n",
      "              precision    recall  f1-score   support\n",
      "\n",
      "         LOW       0.79      0.99      0.88       108\n",
      "      MEDIUM       0.04      0.03      0.03       143\n",
      "        HIGH       0.02      0.02      0.02       103\n",
      "\n",
      "    accuracy                           0.32       354\n",
      "   macro avg       0.28      0.35      0.31       354\n",
      "weighted avg       0.26      0.32      0.29       354\n",
      "\n"
     ]
    }
   ],
   "source": [
    "print(confusion_matrix(df['Cluster'],kmeans.labels_))\n",
    "print(classification_report(df['Cluster'],kmeans.labels_))\n",
    "print(confusion_matrix(df['Assessment of Risk'],kl['Risk'],labels=['LOW','MEDIUM','HIGH']))\n",
    "print(classification_report(df['Assessment of Risk'],kl['Risk'],labels=['LOW','MEDIUM','HIGH']))\n",
    "dfcm = pd.DataFrame(cm,index=['LOW','MEDIUM','HIGH'],columns=['LOW','MEDIUM','HIGH'])"
   ]
  },
  {
   "cell_type": "code",
   "execution_count": 77,
   "id": "3a5ccc2f",
   "metadata": {},
   "outputs": [
    {
     "data": {
      "text/html": [
       "<div>\n",
       "<style scoped>\n",
       "    .dataframe tbody tr th:only-of-type {\n",
       "        vertical-align: middle;\n",
       "    }\n",
       "\n",
       "    .dataframe tbody tr th {\n",
       "        vertical-align: top;\n",
       "    }\n",
       "\n",
       "    .dataframe thead th {\n",
       "        text-align: right;\n",
       "    }\n",
       "</style>\n",
       "<table border=\"1\" class=\"dataframe\">\n",
       "  <thead>\n",
       "    <tr style=\"text-align: right;\">\n",
       "      <th></th>\n",
       "      <th></th>\n",
       "      <th>LOW</th>\n",
       "      <th>MEDIUM</th>\n",
       "      <th>HIGH</th>\n",
       "      <th>precision</th>\n",
       "      <th>recall</th>\n",
       "      <th>f1-score</th>\n",
       "      <th>support</th>\n",
       "    </tr>\n",
       "  </thead>\n",
       "  <tbody>\n",
       "    <tr>\n",
       "      <th rowspan=\"6\" valign=\"top\">HIGH CORR TOP 7 PICKED 9,11,10,5,8,7,6 (7 TOTAL ITEMS)</th>\n",
       "      <th>LOW</th>\n",
       "      <td>107.0</td>\n",
       "      <td>0.0</td>\n",
       "      <td>1.0</td>\n",
       "      <td>0.946903</td>\n",
       "      <td>0.990741</td>\n",
       "      <td>0.968326</td>\n",
       "      <td>108.00000</td>\n",
       "    </tr>\n",
       "    <tr>\n",
       "      <th>MEDIUM</th>\n",
       "      <td>4.0</td>\n",
       "      <td>111.0</td>\n",
       "      <td>28.0</td>\n",
       "      <td>1.000000</td>\n",
       "      <td>0.776224</td>\n",
       "      <td>0.874016</td>\n",
       "      <td>143.00000</td>\n",
       "    </tr>\n",
       "    <tr>\n",
       "      <th>HIGH</th>\n",
       "      <td>2.0</td>\n",
       "      <td>0.0</td>\n",
       "      <td>101.0</td>\n",
       "      <td>0.776923</td>\n",
       "      <td>0.980583</td>\n",
       "      <td>0.866953</td>\n",
       "      <td>103.00000</td>\n",
       "    </tr>\n",
       "    <tr>\n",
       "      <th>accuracy</th>\n",
       "      <td>NaN</td>\n",
       "      <td>NaN</td>\n",
       "      <td>NaN</td>\n",
       "      <td>0.901130</td>\n",
       "      <td>0.901130</td>\n",
       "      <td>0.901130</td>\n",
       "      <td>0.90113</td>\n",
       "    </tr>\n",
       "    <tr>\n",
       "      <th>macro avg</th>\n",
       "      <td>NaN</td>\n",
       "      <td>NaN</td>\n",
       "      <td>NaN</td>\n",
       "      <td>0.907942</td>\n",
       "      <td>0.915849</td>\n",
       "      <td>0.903098</td>\n",
       "      <td>354.00000</td>\n",
       "    </tr>\n",
       "    <tr>\n",
       "      <th>weighted avg</th>\n",
       "      <td>NaN</td>\n",
       "      <td>NaN</td>\n",
       "      <td>NaN</td>\n",
       "      <td>0.918894</td>\n",
       "      <td>0.901130</td>\n",
       "      <td>0.900733</td>\n",
       "      <td>354.00000</td>\n",
       "    </tr>\n",
       "  </tbody>\n",
       "</table>\n",
       "</div>"
      ],
      "text/plain": [
       "                                                                   LOW  \\\n",
       "HIGH CORR TOP 7 PICKED 9,11,10,5,8,7,6 (7 TOTAL... LOW           107.0   \n",
       "                                                   MEDIUM          4.0   \n",
       "                                                   HIGH            2.0   \n",
       "                                                   accuracy        NaN   \n",
       "                                                   macro avg       NaN   \n",
       "                                                   weighted avg    NaN   \n",
       "\n",
       "                                                                 MEDIUM  \\\n",
       "HIGH CORR TOP 7 PICKED 9,11,10,5,8,7,6 (7 TOTAL... LOW              0.0   \n",
       "                                                   MEDIUM         111.0   \n",
       "                                                   HIGH             0.0   \n",
       "                                                   accuracy         NaN   \n",
       "                                                   macro avg        NaN   \n",
       "                                                   weighted avg     NaN   \n",
       "\n",
       "                                                                  HIGH  \\\n",
       "HIGH CORR TOP 7 PICKED 9,11,10,5,8,7,6 (7 TOTAL... LOW             1.0   \n",
       "                                                   MEDIUM         28.0   \n",
       "                                                   HIGH          101.0   \n",
       "                                                   accuracy        NaN   \n",
       "                                                   macro avg       NaN   \n",
       "                                                   weighted avg    NaN   \n",
       "\n",
       "                                                                 precision  \\\n",
       "HIGH CORR TOP 7 PICKED 9,11,10,5,8,7,6 (7 TOTAL... LOW            0.946903   \n",
       "                                                   MEDIUM         1.000000   \n",
       "                                                   HIGH           0.776923   \n",
       "                                                   accuracy       0.901130   \n",
       "                                                   macro avg      0.907942   \n",
       "                                                   weighted avg   0.918894   \n",
       "\n",
       "                                                                   recall  \\\n",
       "HIGH CORR TOP 7 PICKED 9,11,10,5,8,7,6 (7 TOTAL... LOW           0.990741   \n",
       "                                                   MEDIUM        0.776224   \n",
       "                                                   HIGH          0.980583   \n",
       "                                                   accuracy      0.901130   \n",
       "                                                   macro avg     0.915849   \n",
       "                                                   weighted avg  0.901130   \n",
       "\n",
       "                                                                 f1-score  \\\n",
       "HIGH CORR TOP 7 PICKED 9,11,10,5,8,7,6 (7 TOTAL... LOW           0.968326   \n",
       "                                                   MEDIUM        0.874016   \n",
       "                                                   HIGH          0.866953   \n",
       "                                                   accuracy      0.901130   \n",
       "                                                   macro avg     0.903098   \n",
       "                                                   weighted avg  0.900733   \n",
       "\n",
       "                                                                   support  \n",
       "HIGH CORR TOP 7 PICKED 9,11,10,5,8,7,6 (7 TOTAL... LOW           108.00000  \n",
       "                                                   MEDIUM        143.00000  \n",
       "                                                   HIGH          103.00000  \n",
       "                                                   accuracy        0.90113  \n",
       "                                                   macro avg     354.00000  \n",
       "                                                   weighted avg  354.00000  "
      ]
     },
     "execution_count": 77,
     "metadata": {},
     "output_type": "execute_result"
    }
   ],
   "source": [
    "ex5 = pd.concat([dfcm,cm_classification_report(cm,df,kl)],axis=1)\n",
    "ex5.set_index([['HIGH CORR TOP 7 PICKED 9,11,10,5,8,7,6 (7 TOTAL ITEMS)','HIGH CORR TOP 7 PICKED 9,11,10,5,8,7,6 (7 TOTAL ITEMS)','HIGH CORR TOP 7 PICKED 9,11,10,5,8,7,6 (7 TOTAL ITEMS)','HIGH CORR TOP 7 PICKED 9,11,10,5,8,7,6 (7 TOTAL ITEMS)','HIGH CORR TOP 7 PICKED 9,11,10,5,8,7,6 (7 TOTAL ITEMS)','HIGH CORR TOP 7 PICKED 9,11,10,5,8,7,6 (7 TOTAL ITEMS)'],ex5.index],inplace=True)\n",
    "ex5"
   ]
  },
  {
   "cell_type": "code",
   "execution_count": 78,
   "id": "d7faffe5",
   "metadata": {},
   "outputs": [
    {
     "data": {
      "text/plain": [
       "<AxesSubplot:xlabel='Cluster', ylabel='WSS'>"
      ]
     },
     "execution_count": 78,
     "metadata": {},
     "output_type": "execute_result"
    },
    {
     "data": {
      "image/png": "[encoded data removed]",
      "text/plain": [
       "<Figure size 432x288 with 1 Axes>"
      ]
     },
     "metadata": {
      "needs_background": "light"
     },
     "output_type": "display_data"
    }
   ],
   "source": [
    "# ELBOW METHOD\n",
    "wss = []\n",
    "for k in range(1,12):\n",
    "    kmeans = KMeans(n_clusters = k,init='k-means++',random_state=rs)\n",
    "    kmeans.fit(X)\n",
    "    wss.append(kmeans.inertia_)\n",
    "clu = pd.DataFrame(wss,columns=['WSS'])\n",
    "clu.index += 1\n",
    "clu.index.names = ['Cluster']\n",
    "sns.lineplot(x=clu.index,y=clu['WSS'],marker='o')"
   ]
  },
  {
   "cell_type": "code",
   "execution_count": 79,
   "id": "f9c6b75f",
   "metadata": {
    "scrolled": true
   },
   "outputs": [
    {
     "name": "stdout",
     "output_type": "stream",
     "text": [
      "Silhouette score from k(clusters) = 2 is 0.510092374978388\n",
      "Silhouette score from k(clusters) = 3 is 0.3928630596830701\n",
      "Silhouette score from k(clusters) = 4 is 0.3322565040260485\n",
      "Silhouette score from k(clusters) = 5 is 0.29942557297769107\n",
      "Silhouette score from k(clusters) = 6 is 0.27168844163523725\n",
      "Silhouette score from k(clusters) = 7 is 0.26926985806924697\n",
      "Silhouette score from k(clusters) = 8 is 0.2629268534851305\n",
      "Silhouette score from k(clusters) = 9 is 0.2569875255308468\n",
      "Silhouette score from k(clusters) = 10 is 0.26278865583749905\n",
      "Silhouette score from k(clusters) = 11 is 0.2558864722526601\n",
      "Silhouette score from k(clusters) = 12 is 0.26676285102648156\n"
     ]
    }
   ],
   "source": [
    "# SILHOUETTE METHOD (AVERAGES)\n",
    "for i in range (2,13):\n",
    "    print(\"Silhouette score from k(clusters) = \" + str(i) + \" is \" + str(silhouette_score(X,KMeans(n_clusters=i,init='k-means++',random_state=rs).fit(X).labels_,metric='euclidean',random_state=rs)))"
   ]
  },
  {
   "cell_type": "code",
   "execution_count": 80,
   "id": "388d0677",
   "metadata": {
    "scrolled": false
   },
   "outputs": [
    {
     "name": "stdout",
     "output_type": "stream",
     "text": [
      "This Many Clusters: 2 | Number of Negative Values: 2\n",
      "This Many Clusters: 3 | Number of Negative Values: 0\n",
      "This Many Clusters: 4 | Number of Negative Values: 5\n",
      "This Many Clusters: 5 | Number of Negative Values: 9\n",
      "This Many Clusters: 6 | Number of Negative Values: 14\n",
      "This Many Clusters: 7 | Number of Negative Values: 16\n",
      "This Many Clusters: 8 | Number of Negative Values: 7\n",
      "This Many Clusters: 9 | Number of Negative Values: 25\n",
      "This Many Clusters: 10 | Number of Negative Values: 16\n",
      "This Many Clusters: 11 | Number of Negative Values: 18\n",
      "This Many Clusters: 12 | Number of Negative Values: 11\n"
     ]
    }
   ],
   "source": [
    "# SILHOUETTE METHOD (NEGATIVES CHECK)\n",
    "bad_k_values = {}\n",
    "\n",
    "for each_value in range(2,13):\n",
    "    for each_silhouette in silhouette_samples(X,KMeans(n_clusters=each_value,init='k-means++',random_state=rs).fit(X).predict(X)):\n",
    "        if each_silhouette < 0:\n",
    "            if each_value not in bad_k_values:\n",
    "                bad_k_values[each_value] = 1\n",
    "            else:\n",
    "                bad_k_values[each_value] += 1        \n",
    "        if each_value not in bad_k_values:\n",
    "            bad_k_values[each_value] = 0\n",
    "                \n",
    "for key, val in bad_k_values.items():\n",
    "    print(f'This Many Clusters: {key} | Number of Negative Values: {val}')"
   ]
  },
  {
   "cell_type": "code",
   "execution_count": 81,
   "id": "6d86d129",
   "metadata": {},
   "outputs": [],
   "source": [
    "# Elbow and Silhouette at k(Clusters) = 3 BEST"
   ]
  },
  {
   "cell_type": "code",
   "execution_count": 82,
   "id": "e9ba9fe9",
   "metadata": {},
   "outputs": [],
   "source": [
    "# HIGH CORR TOP 8 PICKED 9,11,10,5,8,7,6,12 (8 TOTAL ITEMS)"
   ]
  },
  {
   "cell_type": "code",
   "execution_count": 83,
   "id": "c0ef17cd",
   "metadata": {},
   "outputs": [],
   "source": [
    "X = df[['Item 5','Item 6','Item 7','Item 8','Item 9','Item 10','Item 11','Item 12']]\n",
    "text = 'HIGH CORR TOP 8 PICKED 9,11,10,5,8,7,6,12 (8 TOTAL ITEMS)'"
   ]
  },
  {
   "cell_type": "code",
   "execution_count": 84,
   "id": "13691c1c",
   "metadata": {},
   "outputs": [
    {
     "name": "stdout",
     "output_type": "stream",
     "text": [
      "[[  0 108   0]\n",
      " [111  27   5]\n",
      " [  2   0 101]]\n"
     ]
    },
    {
     "data": {
      "text/plain": [
       "MEDIUM    135\n",
       "LOW       113\n",
       "HIGH      106\n",
       "Name: Risk, dtype: int64"
      ]
     },
     "execution_count": 84,
     "metadata": {},
     "output_type": "execute_result"
    }
   ],
   "source": [
    "kmeans = KMeans(n_clusters=3,random_state=rs)\n",
    "kmeans.fit(X)\n",
    "df['Cluster'] = df['Assessment of Risk'].apply(lambda x: cluster_converter(x,l,m,h))\n",
    "print(confusion_matrix(df['Cluster'],kmeans.labels_))\n",
    "df['Cluster'] = df['Assessment of Risk'].apply(lambda x: cluster_converter(x,l,m,h))\n",
    "kl = pd.DataFrame(kmeans.labels_,columns=['Cluster'])\n",
    "kl['Risk'] = kl['Cluster'].apply(revert_cluster)\n",
    "cm = do_roll(df['Assessment of Risk'],kl['Risk'])\n",
    "dfcm = pd.DataFrame(cm,index=['LOW','MEDIUM','HIGH'],columns=['LOW','MEDIUM','HIGH'])\n",
    "kl['Risk'].value_counts()"
   ]
  },
  {
   "cell_type": "code",
   "execution_count": 85,
   "id": "8d78e4e2",
   "metadata": {},
   "outputs": [
    {
     "data": {
      "text/plain": [
       "array([[2.81415929, 2.46017699, 2.14159292, 1.85840708, 2.04424779,\n",
       "        1.9380531 , 1.65486726, 1.32743363],\n",
       "       [3.62222222, 3.37037037, 3.14814815, 3.0962963 , 3.33333333,\n",
       "        3.22222222, 3.05925926, 2.68148148],\n",
       "       [1.30188679, 1.00943396, 0.74528302, 0.63207547, 0.39622642,\n",
       "        0.26415094, 0.18867925, 0.16981132]])"
      ]
     },
     "execution_count": 85,
     "metadata": {},
     "output_type": "execute_result"
    }
   ],
   "source": [
    "kmeans.cluster_centers_"
   ]
  },
  {
   "cell_type": "code",
   "execution_count": 86,
   "id": "60ba9216",
   "metadata": {},
   "outputs": [
    {
     "data": {
      "text/html": [
       "<div>\n",
       "<style scoped>\n",
       "    .dataframe tbody tr th:only-of-type {\n",
       "        vertical-align: middle;\n",
       "    }\n",
       "\n",
       "    .dataframe tbody tr th {\n",
       "        vertical-align: top;\n",
       "    }\n",
       "\n",
       "    .dataframe thead th {\n",
       "        text-align: right;\n",
       "    }\n",
       "</style>\n",
       "<table border=\"1\" class=\"dataframe\">\n",
       "  <thead>\n",
       "    <tr style=\"text-align: right;\">\n",
       "      <th></th>\n",
       "      <th></th>\n",
       "      <th>LOW</th>\n",
       "      <th>MEDIUM</th>\n",
       "      <th>HIGH</th>\n",
       "      <th>precision</th>\n",
       "      <th>recall</th>\n",
       "      <th>f1-score</th>\n",
       "      <th>support</th>\n",
       "    </tr>\n",
       "  </thead>\n",
       "  <tbody>\n",
       "    <tr>\n",
       "      <th rowspan=\"6\" valign=\"top\">HIGH CORR TOP 8 PICKED 9,11,10,5,8,7,6,12 (8 TOTAL ITEMS)</th>\n",
       "      <th>LOW</th>\n",
       "      <td>108.0</td>\n",
       "      <td>0.0</td>\n",
       "      <td>0.0</td>\n",
       "      <td>0.939130</td>\n",
       "      <td>1.000000</td>\n",
       "      <td>0.968610</td>\n",
       "      <td>108.000000</td>\n",
       "    </tr>\n",
       "    <tr>\n",
       "      <th>MEDIUM</th>\n",
       "      <td>5.0</td>\n",
       "      <td>111.0</td>\n",
       "      <td>27.0</td>\n",
       "      <td>1.000000</td>\n",
       "      <td>0.776224</td>\n",
       "      <td>0.874016</td>\n",
       "      <td>143.000000</td>\n",
       "    </tr>\n",
       "    <tr>\n",
       "      <th>HIGH</th>\n",
       "      <td>2.0</td>\n",
       "      <td>0.0</td>\n",
       "      <td>101.0</td>\n",
       "      <td>0.789062</td>\n",
       "      <td>0.980583</td>\n",
       "      <td>0.874459</td>\n",
       "      <td>103.000000</td>\n",
       "    </tr>\n",
       "    <tr>\n",
       "      <th>accuracy</th>\n",
       "      <td>NaN</td>\n",
       "      <td>NaN</td>\n",
       "      <td>NaN</td>\n",
       "      <td>0.903955</td>\n",
       "      <td>0.903955</td>\n",
       "      <td>0.903955</td>\n",
       "      <td>0.903955</td>\n",
       "    </tr>\n",
       "    <tr>\n",
       "      <th>macro avg</th>\n",
       "      <td>NaN</td>\n",
       "      <td>NaN</td>\n",
       "      <td>NaN</td>\n",
       "      <td>0.909398</td>\n",
       "      <td>0.918935</td>\n",
       "      <td>0.905695</td>\n",
       "      <td>354.000000</td>\n",
       "    </tr>\n",
       "    <tr>\n",
       "      <th>weighted avg</th>\n",
       "      <td>NaN</td>\n",
       "      <td>NaN</td>\n",
       "      <td>NaN</td>\n",
       "      <td>0.920055</td>\n",
       "      <td>0.903955</td>\n",
       "      <td>0.903004</td>\n",
       "      <td>354.000000</td>\n",
       "    </tr>\n",
       "  </tbody>\n",
       "</table>\n",
       "</div>"
      ],
      "text/plain": [
       "                                                                   LOW  \\\n",
       "HIGH CORR TOP 8 PICKED 9,11,10,5,8,7,6,12 (8 TO... LOW           108.0   \n",
       "                                                   MEDIUM          5.0   \n",
       "                                                   HIGH            2.0   \n",
       "                                                   accuracy        NaN   \n",
       "                                                   macro avg       NaN   \n",
       "                                                   weighted avg    NaN   \n",
       "\n",
       "                                                                 MEDIUM  \\\n",
       "HIGH CORR TOP 8 PICKED 9,11,10,5,8,7,6,12 (8 TO... LOW              0.0   \n",
       "                                                   MEDIUM         111.0   \n",
       "                                                   HIGH             0.0   \n",
       "                                                   accuracy         NaN   \n",
       "                                                   macro avg        NaN   \n",
       "                                                   weighted avg     NaN   \n",
       "\n",
       "                                                                  HIGH  \\\n",
       "HIGH CORR TOP 8 PICKED 9,11,10,5,8,7,6,12 (8 TO... LOW             0.0   \n",
       "                                                   MEDIUM         27.0   \n",
       "                                                   HIGH          101.0   \n",
       "                                                   accuracy        NaN   \n",
       "                                                   macro avg       NaN   \n",
       "                                                   weighted avg    NaN   \n",
       "\n",
       "                                                                 precision  \\\n",
       "HIGH CORR TOP 8 PICKED 9,11,10,5,8,7,6,12 (8 TO... LOW            0.939130   \n",
       "                                                   MEDIUM         1.000000   \n",
       "                                                   HIGH           0.789062   \n",
       "                                                   accuracy       0.903955   \n",
       "                                                   macro avg      0.909398   \n",
       "                                                   weighted avg   0.920055   \n",
       "\n",
       "                                                                   recall  \\\n",
       "HIGH CORR TOP 8 PICKED 9,11,10,5,8,7,6,12 (8 TO... LOW           1.000000   \n",
       "                                                   MEDIUM        0.776224   \n",
       "                                                   HIGH          0.980583   \n",
       "                                                   accuracy      0.903955   \n",
       "                                                   macro avg     0.918935   \n",
       "                                                   weighted avg  0.903955   \n",
       "\n",
       "                                                                 f1-score  \\\n",
       "HIGH CORR TOP 8 PICKED 9,11,10,5,8,7,6,12 (8 TO... LOW           0.968610   \n",
       "                                                   MEDIUM        0.874016   \n",
       "                                                   HIGH          0.874459   \n",
       "                                                   accuracy      0.903955   \n",
       "                                                   macro avg     0.905695   \n",
       "                                                   weighted avg  0.903004   \n",
       "\n",
       "                                                                    support  \n",
       "HIGH CORR TOP 8 PICKED 9,11,10,5,8,7,6,12 (8 TO... LOW           108.000000  \n",
       "                                                   MEDIUM        143.000000  \n",
       "                                                   HIGH          103.000000  \n",
       "                                                   accuracy        0.903955  \n",
       "                                                   macro avg     354.000000  \n",
       "                                                   weighted avg  354.000000  "
      ]
     },
     "execution_count": 86,
     "metadata": {},
     "output_type": "execute_result"
    }
   ],
   "source": [
    "ex7 = pd.concat([dfcm,cm_classification_report(cm,df,kl)],axis=1)\n",
    "ex7.set_index([[text,text,text,text,text,text],ex7.index],inplace=True)\n",
    "ex7"
   ]
  },
  {
   "cell_type": "code",
   "execution_count": 87,
   "id": "4f8afa2b",
   "metadata": {},
   "outputs": [
    {
     "data": {
      "text/plain": [
       "<AxesSubplot:xlabel='Cluster', ylabel='WSS'>"
      ]
     },
     "execution_count": 87,
     "metadata": {},
     "output_type": "execute_result"
    },
    {
     "data": {
      "image/png": "[encoded data removed]",
      "text/plain": [
       "<Figure size 432x288 with 1 Axes>"
      ]
     },
     "metadata": {
      "needs_background": "light"
     },
     "output_type": "display_data"
    }
   ],
   "source": [
    "# ELBOW METHOD\n",
    "wss = []\n",
    "for k in range(1,12):\n",
    "    kmeans = KMeans(n_clusters = k,init='k-means++',random_state=rs)\n",
    "    kmeans.fit(X)\n",
    "    wss.append(kmeans.inertia_)\n",
    "clu = pd.DataFrame(wss,columns=['WSS'])\n",
    "clu.index += 1\n",
    "clu.index.names = ['Cluster']\n",
    "sns.lineplot(x=clu.index,y=clu['WSS'],marker='o')"
   ]
  },
  {
   "cell_type": "code",
   "execution_count": 88,
   "id": "751b9550",
   "metadata": {},
   "outputs": [
    {
     "name": "stdout",
     "output_type": "stream",
     "text": [
      "Silhouette score from k(clusters) = 2 is 0.4907868517281662\n",
      "Silhouette score from k(clusters) = 3 is 0.39072849013519945\n",
      "Silhouette score from k(clusters) = 4 is 0.32938032679973456\n",
      "Silhouette score from k(clusters) = 5 is 0.2879909172112601\n",
      "Silhouette score from k(clusters) = 6 is 0.2474866847698616\n",
      "Silhouette score from k(clusters) = 7 is 0.2416422568120516\n",
      "Silhouette score from k(clusters) = 8 is 0.2402519506250639\n",
      "Silhouette score from k(clusters) = 9 is 0.2328298801069498\n",
      "Silhouette score from k(clusters) = 10 is 0.23848861586807985\n",
      "Silhouette score from k(clusters) = 11 is 0.2371021608752191\n",
      "Silhouette score from k(clusters) = 12 is 0.23202256583375655\n"
     ]
    }
   ],
   "source": [
    "# SILHOUETTE METHOD (AVERAGES)\n",
    "for i in range (2,13):\n",
    "    print(\"Silhouette score from k(clusters) = \" + str(i) + \" is \" + str(silhouette_score(X,KMeans(n_clusters=i,init='k-means++',random_state=rs).fit(X).labels_,metric='euclidean',random_state=rs)))"
   ]
  },
  {
   "cell_type": "code",
   "execution_count": 89,
   "id": "1d8cd541",
   "metadata": {},
   "outputs": [
    {
     "name": "stdout",
     "output_type": "stream",
     "text": [
      "This Many Clusters: 2 | Number of Negative Values: 2\n",
      "This Many Clusters: 3 | Number of Negative Values: 0\n",
      "This Many Clusters: 4 | Number of Negative Values: 9\n",
      "This Many Clusters: 5 | Number of Negative Values: 12\n",
      "This Many Clusters: 6 | Number of Negative Values: 9\n",
      "This Many Clusters: 7 | Number of Negative Values: 18\n",
      "This Many Clusters: 8 | Number of Negative Values: 14\n",
      "This Many Clusters: 9 | Number of Negative Values: 18\n",
      "This Many Clusters: 10 | Number of Negative Values: 25\n",
      "This Many Clusters: 11 | Number of Negative Values: 14\n",
      "This Many Clusters: 12 | Number of Negative Values: 13\n"
     ]
    }
   ],
   "source": [
    "# SILHOUETTE METHOD (NEGATIVES CHECK)\n",
    "bad_k_values = {}\n",
    "\n",
    "for each_value in range(2,13):\n",
    "    for each_silhouette in silhouette_samples(X,KMeans(n_clusters=each_value,init='k-means++',random_state=rs).fit(X).predict(X)):\n",
    "        if each_silhouette < 0:\n",
    "            if each_value not in bad_k_values:\n",
    "                bad_k_values[each_value] = 1\n",
    "            else:\n",
    "                bad_k_values[each_value] += 1        \n",
    "        if each_value not in bad_k_values:\n",
    "            bad_k_values[each_value] = 0\n",
    "                \n",
    "for key, val in bad_k_values.items():\n",
    "    print(f'This Many Clusters: {key} | Number of Negative Values: {val}')"
   ]
  },
  {
   "cell_type": "code",
   "execution_count": 90,
   "id": "f8fc69d0",
   "metadata": {},
   "outputs": [],
   "source": [
    "# Elbow and Silhouette at k(Clusters) = 3 BEST"
   ]
  },
  {
   "cell_type": "code",
   "execution_count": 91,
   "id": "57fa2efa",
   "metadata": {},
   "outputs": [],
   "source": [
    "# HIGH CORR TOP 9 PICKED 9,11,10,5,8,7,6,12,13 (9 TOTAL ITEMS)"
   ]
  },
  {
   "cell_type": "code",
   "execution_count": 92,
   "id": "28c75133",
   "metadata": {},
   "outputs": [],
   "source": [
    "X = df[['Item 5','Item 6','Item 7','Item 8','Item 9','Item 10','Item 11','Item 12','Item 13']]\n",
    "text = 'HIGH CORR TOP 9 PICKED 9,11,10,5,8,7,6,12,13 (9 TOTAL ITEMS)'"
   ]
  },
  {
   "cell_type": "code",
   "execution_count": 93,
   "id": "3dd504be",
   "metadata": {},
   "outputs": [
    {
     "name": "stdout",
     "output_type": "stream",
     "text": [
      "[[  0 108   0]\n",
      " [110  26   7]\n",
      " [  2   0 101]]\n"
     ]
    },
    {
     "data": {
      "text/plain": [
       "MEDIUM    134\n",
       "LOW       112\n",
       "HIGH      108\n",
       "Name: Risk, dtype: int64"
      ]
     },
     "execution_count": 93,
     "metadata": {},
     "output_type": "execute_result"
    }
   ],
   "source": [
    "kmeans = KMeans(n_clusters=3,random_state=rs)\n",
    "kmeans.fit(X)\n",
    "df['Cluster'] = df['Assessment of Risk'].apply(lambda x: cluster_converter(x,l,m,h))\n",
    "print(confusion_matrix(df['Cluster'],kmeans.labels_))\n",
    "df['Cluster'] = df['Assessment of Risk'].apply(lambda x: cluster_converter(x,l,m,h))\n",
    "kl = pd.DataFrame(kmeans.labels_,columns=['Cluster'])\n",
    "kl['Risk'] = kl['Cluster'].apply(revert_cluster)\n",
    "cm = do_roll(df['Assessment of Risk'],kl['Risk'])\n",
    "dfcm = pd.DataFrame(cm,index=['LOW','MEDIUM','HIGH'],columns=['LOW','MEDIUM','HIGH'])\n",
    "kl['Risk'].value_counts()"
   ]
  },
  {
   "cell_type": "code",
   "execution_count": 94,
   "id": "d2ed1bf2",
   "metadata": {},
   "outputs": [
    {
     "data": {
      "text/plain": [
       "array([[2.83035714, 2.45535714, 2.15178571, 1.875     , 2.08035714,\n",
       "        1.95535714, 1.66964286, 1.375     , 1.42857143],\n",
       "       [3.61940299, 3.37313433, 3.14925373, 3.09701493, 3.3358209 ,\n",
       "        3.2238806 , 3.06716418, 2.68656716, 2.52238806],\n",
       "       [1.32407407, 1.0462963 , 0.76851852, 0.64814815, 0.39814815,\n",
       "        0.28703704, 0.2037037 , 0.14814815, 0.09259259]])"
      ]
     },
     "execution_count": 94,
     "metadata": {},
     "output_type": "execute_result"
    }
   ],
   "source": [
    "kmeans.cluster_centers_"
   ]
  },
  {
   "cell_type": "code",
   "execution_count": 95,
   "id": "319c4b19",
   "metadata": {},
   "outputs": [
    {
     "data": {
      "text/html": [
       "<div>\n",
       "<style scoped>\n",
       "    .dataframe tbody tr th:only-of-type {\n",
       "        vertical-align: middle;\n",
       "    }\n",
       "\n",
       "    .dataframe tbody tr th {\n",
       "        vertical-align: top;\n",
       "    }\n",
       "\n",
       "    .dataframe thead th {\n",
       "        text-align: right;\n",
       "    }\n",
       "</style>\n",
       "<table border=\"1\" class=\"dataframe\">\n",
       "  <thead>\n",
       "    <tr style=\"text-align: right;\">\n",
       "      <th></th>\n",
       "      <th></th>\n",
       "      <th>LOW</th>\n",
       "      <th>MEDIUM</th>\n",
       "      <th>HIGH</th>\n",
       "      <th>precision</th>\n",
       "      <th>recall</th>\n",
       "      <th>f1-score</th>\n",
       "      <th>support</th>\n",
       "    </tr>\n",
       "  </thead>\n",
       "  <tbody>\n",
       "    <tr>\n",
       "      <th rowspan=\"6\" valign=\"top\">HIGH CORR TOP 9 PICKED 9,11,10,5,8,7,6,12,13 (9 TOTAL ITEMS)</th>\n",
       "      <th>LOW</th>\n",
       "      <td>108.0</td>\n",
       "      <td>0.0</td>\n",
       "      <td>0.0</td>\n",
       "      <td>0.923077</td>\n",
       "      <td>1.000000</td>\n",
       "      <td>0.960000</td>\n",
       "      <td>108.00000</td>\n",
       "    </tr>\n",
       "    <tr>\n",
       "      <th>MEDIUM</th>\n",
       "      <td>7.0</td>\n",
       "      <td>110.0</td>\n",
       "      <td>26.0</td>\n",
       "      <td>1.000000</td>\n",
       "      <td>0.769231</td>\n",
       "      <td>0.869565</td>\n",
       "      <td>143.00000</td>\n",
       "    </tr>\n",
       "    <tr>\n",
       "      <th>HIGH</th>\n",
       "      <td>2.0</td>\n",
       "      <td>0.0</td>\n",
       "      <td>101.0</td>\n",
       "      <td>0.795276</td>\n",
       "      <td>0.980583</td>\n",
       "      <td>0.878261</td>\n",
       "      <td>103.00000</td>\n",
       "    </tr>\n",
       "    <tr>\n",
       "      <th>accuracy</th>\n",
       "      <td>NaN</td>\n",
       "      <td>NaN</td>\n",
       "      <td>NaN</td>\n",
       "      <td>0.901130</td>\n",
       "      <td>0.901130</td>\n",
       "      <td>0.901130</td>\n",
       "      <td>0.90113</td>\n",
       "    </tr>\n",
       "    <tr>\n",
       "      <th>macro avg</th>\n",
       "      <td>NaN</td>\n",
       "      <td>NaN</td>\n",
       "      <td>NaN</td>\n",
       "      <td>0.906118</td>\n",
       "      <td>0.916604</td>\n",
       "      <td>0.902609</td>\n",
       "      <td>354.00000</td>\n",
       "    </tr>\n",
       "    <tr>\n",
       "      <th>weighted avg</th>\n",
       "      <td>NaN</td>\n",
       "      <td>NaN</td>\n",
       "      <td>NaN</td>\n",
       "      <td>0.916965</td>\n",
       "      <td>0.901130</td>\n",
       "      <td>0.899686</td>\n",
       "      <td>354.00000</td>\n",
       "    </tr>\n",
       "  </tbody>\n",
       "</table>\n",
       "</div>"
      ],
      "text/plain": [
       "                                                                   LOW  \\\n",
       "HIGH CORR TOP 9 PICKED 9,11,10,5,8,7,6,12,13 (9... LOW           108.0   \n",
       "                                                   MEDIUM          7.0   \n",
       "                                                   HIGH            2.0   \n",
       "                                                   accuracy        NaN   \n",
       "                                                   macro avg       NaN   \n",
       "                                                   weighted avg    NaN   \n",
       "\n",
       "                                                                 MEDIUM  \\\n",
       "HIGH CORR TOP 9 PICKED 9,11,10,5,8,7,6,12,13 (9... LOW              0.0   \n",
       "                                                   MEDIUM         110.0   \n",
       "                                                   HIGH             0.0   \n",
       "                                                   accuracy         NaN   \n",
       "                                                   macro avg        NaN   \n",
       "                                                   weighted avg     NaN   \n",
       "\n",
       "                                                                  HIGH  \\\n",
       "HIGH CORR TOP 9 PICKED 9,11,10,5,8,7,6,12,13 (9... LOW             0.0   \n",
       "                                                   MEDIUM         26.0   \n",
       "                                                   HIGH          101.0   \n",
       "                                                   accuracy        NaN   \n",
       "                                                   macro avg       NaN   \n",
       "                                                   weighted avg    NaN   \n",
       "\n",
       "                                                                 precision  \\\n",
       "HIGH CORR TOP 9 PICKED 9,11,10,5,8,7,6,12,13 (9... LOW            0.923077   \n",
       "                                                   MEDIUM         1.000000   \n",
       "                                                   HIGH           0.795276   \n",
       "                                                   accuracy       0.901130   \n",
       "                                                   macro avg      0.906118   \n",
       "                                                   weighted avg   0.916965   \n",
       "\n",
       "                                                                   recall  \\\n",
       "HIGH CORR TOP 9 PICKED 9,11,10,5,8,7,6,12,13 (9... LOW           1.000000   \n",
       "                                                   MEDIUM        0.769231   \n",
       "                                                   HIGH          0.980583   \n",
       "                                                   accuracy      0.901130   \n",
       "                                                   macro avg     0.916604   \n",
       "                                                   weighted avg  0.901130   \n",
       "\n",
       "                                                                 f1-score  \\\n",
       "HIGH CORR TOP 9 PICKED 9,11,10,5,8,7,6,12,13 (9... LOW           0.960000   \n",
       "                                                   MEDIUM        0.869565   \n",
       "                                                   HIGH          0.878261   \n",
       "                                                   accuracy      0.901130   \n",
       "                                                   macro avg     0.902609   \n",
       "                                                   weighted avg  0.899686   \n",
       "\n",
       "                                                                   support  \n",
       "HIGH CORR TOP 9 PICKED 9,11,10,5,8,7,6,12,13 (9... LOW           108.00000  \n",
       "                                                   MEDIUM        143.00000  \n",
       "                                                   HIGH          103.00000  \n",
       "                                                   accuracy        0.90113  \n",
       "                                                   macro avg     354.00000  \n",
       "                                                   weighted avg  354.00000  "
      ]
     },
     "execution_count": 95,
     "metadata": {},
     "output_type": "execute_result"
    }
   ],
   "source": [
    "ex8 = pd.concat([dfcm,cm_classification_report(cm,df,kl)],axis=1)\n",
    "ex8.set_index([[text,text,text,text,text,text],ex8.index],inplace=True)\n",
    "ex8"
   ]
  },
  {
   "cell_type": "code",
   "execution_count": 96,
   "id": "59c980a6",
   "metadata": {},
   "outputs": [
    {
     "data": {
      "text/plain": [
       "<AxesSubplot:xlabel='Cluster', ylabel='WSS'>"
      ]
     },
     "execution_count": 96,
     "metadata": {},
     "output_type": "execute_result"
    },
    {
     "data": {
      "image/png": "[encoded data removed]",
      "text/plain": [
       "<Figure size 432x288 with 1 Axes>"
      ]
     },
     "metadata": {
      "needs_background": "light"
     },
     "output_type": "display_data"
    }
   ],
   "source": [
    "# ELBOW METHOD\n",
    "wss = []\n",
    "for k in range(1,12):\n",
    "    kmeans = KMeans(n_clusters = k,init='k-means++',random_state=rs)\n",
    "    kmeans.fit(X)\n",
    "    wss.append(kmeans.inertia_)\n",
    "clu = pd.DataFrame(wss,columns=['WSS'])\n",
    "clu.index += 1\n",
    "clu.index.names = ['Cluster']\n",
    "sns.lineplot(x=clu.index,y=clu['WSS'],marker='o')"
   ]
  },
  {
   "cell_type": "code",
   "execution_count": 97,
   "id": "c3ccbb94",
   "metadata": {},
   "outputs": [
    {
     "name": "stdout",
     "output_type": "stream",
     "text": [
      "Silhouette score from k(clusters) = 2 is 0.4935714568054904\n",
      "Silhouette score from k(clusters) = 3 is 0.38687141214782766\n",
      "Silhouette score from k(clusters) = 4 is 0.32518937419174304\n",
      "Silhouette score from k(clusters) = 5 is 0.27534221254935803\n",
      "Silhouette score from k(clusters) = 6 is 0.2538658618387879\n",
      "Silhouette score from k(clusters) = 7 is 0.23056664167024515\n",
      "Silhouette score from k(clusters) = 8 is 0.2263395623654868\n",
      "Silhouette score from k(clusters) = 9 is 0.23537798954087838\n",
      "Silhouette score from k(clusters) = 10 is 0.22465776641972934\n",
      "Silhouette score from k(clusters) = 11 is 0.23446182675839292\n",
      "Silhouette score from k(clusters) = 12 is 0.22584507325761696\n"
     ]
    }
   ],
   "source": [
    "# SILHOUETTE METHOD (AVERAGES)\n",
    "for i in range (2,13):\n",
    "    print(\"Silhouette score from k(clusters) = \" + str(i) + \" is \" + str(silhouette_score(X,KMeans(n_clusters=i,init='k-means++',random_state=rs).fit(X).labels_,metric='euclidean',random_state=rs)))"
   ]
  },
  {
   "cell_type": "code",
   "execution_count": 98,
   "id": "ce313b7c",
   "metadata": {},
   "outputs": [
    {
     "name": "stdout",
     "output_type": "stream",
     "text": [
      "This Many Clusters: 2 | Number of Negative Values: 0\n",
      "This Many Clusters: 3 | Number of Negative Values: 0\n",
      "This Many Clusters: 4 | Number of Negative Values: 7\n",
      "This Many Clusters: 5 | Number of Negative Values: 9\n",
      "This Many Clusters: 6 | Number of Negative Values: 5\n",
      "This Many Clusters: 7 | Number of Negative Values: 16\n",
      "This Many Clusters: 8 | Number of Negative Values: 13\n",
      "This Many Clusters: 9 | Number of Negative Values: 15\n",
      "This Many Clusters: 10 | Number of Negative Values: 12\n",
      "This Many Clusters: 11 | Number of Negative Values: 13\n",
      "This Many Clusters: 12 | Number of Negative Values: 19\n"
     ]
    }
   ],
   "source": [
    "# SILHOUETTE METHOD (NEGATIVES CHECK)\n",
    "bad_k_values = {}\n",
    "\n",
    "for each_value in range(2,13):\n",
    "    for each_silhouette in silhouette_samples(X,KMeans(n_clusters=each_value,init='k-means++',random_state=rs).fit(X).predict(X)):\n",
    "        if each_silhouette < 0:\n",
    "            if each_value not in bad_k_values:\n",
    "                bad_k_values[each_value] = 1\n",
    "            else:\n",
    "                bad_k_values[each_value] += 1        \n",
    "        if each_value not in bad_k_values:\n",
    "            bad_k_values[each_value] = 0\n",
    "                \n",
    "for key, val in bad_k_values.items():\n",
    "    print(f'This Many Clusters: {key} | Number of Negative Values: {val}')"
   ]
  },
  {
   "cell_type": "code",
   "execution_count": 99,
   "id": "99ccb625",
   "metadata": {},
   "outputs": [],
   "source": [
    "# Elbow and Silhouette at k(Clusters) = 3 BEST"
   ]
  },
  {
   "cell_type": "code",
   "execution_count": 100,
   "id": "20445a85",
   "metadata": {},
   "outputs": [],
   "source": [
    "# HIGH CORR TOP 10 PICKED 9,11,10,5,8,7,6,12,13,4 (10 TOTAL ITEMS)"
   ]
  },
  {
   "cell_type": "code",
   "execution_count": 101,
   "id": "c153922a",
   "metadata": {},
   "outputs": [],
   "source": [
    "X = df[['Item 4','Item 5','Item 6','Item 7','Item 8','Item 9','Item 10','Item 11','Item 12','Item 13']]\n",
    "text = 'HIGH CORR TOP 10 PICKED 9,11,10,5,8,7,6,12,13,4 (10 TOTAL ITEMS)'"
   ]
  },
  {
   "cell_type": "code",
   "execution_count": 102,
   "id": "f03fe802",
   "metadata": {},
   "outputs": [
    {
     "name": "stdout",
     "output_type": "stream",
     "text": [
      "[[108   0   0]\n",
      " [ 27   7 109]\n",
      " [  0 102   1]]\n"
     ]
    },
    {
     "data": {
      "text/plain": [
       "LOW       135\n",
       "HIGH      110\n",
       "MEDIUM    109\n",
       "Name: Risk, dtype: int64"
      ]
     },
     "execution_count": 102,
     "metadata": {},
     "output_type": "execute_result"
    }
   ],
   "source": [
    "kmeans = KMeans(n_clusters=3,random_state=rs)\n",
    "kmeans.fit(X)\n",
    "df['Cluster'] = df['Assessment of Risk'].apply(lambda x: cluster_converter(x,l,m,h))\n",
    "print(confusion_matrix(df['Cluster'],kmeans.labels_))\n",
    "df['Cluster'] = df['Assessment of Risk'].apply(lambda x: cluster_converter(x,l,m,h))\n",
    "kl = pd.DataFrame(kmeans.labels_,columns=['Cluster'])\n",
    "kl['Risk'] = kl['Cluster'].apply(revert_cluster)\n",
    "cm = do_roll(df['Assessment of Risk'],kl['Risk'])\n",
    "dfcm = pd.DataFrame(cm,index=['LOW','MEDIUM','HIGH'],columns=['LOW','MEDIUM','HIGH'])\n",
    "kl['Risk'].value_counts()"
   ]
  },
  {
   "cell_type": "code",
   "execution_count": 103,
   "id": "84acafbb",
   "metadata": {},
   "outputs": [
    {
     "data": {
      "text/plain": [
       "array([[3.61481481, 3.62222222, 3.37037037, 3.14814815, 3.0962963 ,\n",
       "        3.33333333, 3.22222222, 3.05925926, 2.68148148, 2.5037037 ],\n",
       "       [1.76146789, 1.33027523, 1.05504587, 0.7706422 , 0.65137615,\n",
       "        0.41284404, 0.29357798, 0.21100917, 0.1559633 , 0.10091743],\n",
       "       [3.00909091, 2.82727273, 2.45454545, 2.15454545, 1.87272727,\n",
       "        2.07272727, 1.95454545, 1.67272727, 1.37272727, 1.44545455]])"
      ]
     },
     "execution_count": 103,
     "metadata": {},
     "output_type": "execute_result"
    }
   ],
   "source": [
    "kmeans.cluster_centers_"
   ]
  },
  {
   "cell_type": "code",
   "execution_count": 104,
   "id": "d0c2ba8e",
   "metadata": {},
   "outputs": [
    {
     "data": {
      "text/html": [
       "<div>\n",
       "<style scoped>\n",
       "    .dataframe tbody tr th:only-of-type {\n",
       "        vertical-align: middle;\n",
       "    }\n",
       "\n",
       "    .dataframe tbody tr th {\n",
       "        vertical-align: top;\n",
       "    }\n",
       "\n",
       "    .dataframe thead th {\n",
       "        text-align: right;\n",
       "    }\n",
       "</style>\n",
       "<table border=\"1\" class=\"dataframe\">\n",
       "  <thead>\n",
       "    <tr style=\"text-align: right;\">\n",
       "      <th></th>\n",
       "      <th></th>\n",
       "      <th>LOW</th>\n",
       "      <th>MEDIUM</th>\n",
       "      <th>HIGH</th>\n",
       "      <th>precision</th>\n",
       "      <th>recall</th>\n",
       "      <th>f1-score</th>\n",
       "      <th>support</th>\n",
       "    </tr>\n",
       "  </thead>\n",
       "  <tbody>\n",
       "    <tr>\n",
       "      <th rowspan=\"6\" valign=\"top\">HIGH CORR TOP 10 PICKED 9,11,10,5,8,7,6,12,13,4 (10 TOTAL ITEMS)</th>\n",
       "      <th>LOW</th>\n",
       "      <td>108.0</td>\n",
       "      <td>0.0</td>\n",
       "      <td>0.0</td>\n",
       "      <td>0.931034</td>\n",
       "      <td>1.000000</td>\n",
       "      <td>0.964286</td>\n",
       "      <td>108.00000</td>\n",
       "    </tr>\n",
       "    <tr>\n",
       "      <th>MEDIUM</th>\n",
       "      <td>7.0</td>\n",
       "      <td>109.0</td>\n",
       "      <td>27.0</td>\n",
       "      <td>1.000000</td>\n",
       "      <td>0.762238</td>\n",
       "      <td>0.865079</td>\n",
       "      <td>143.00000</td>\n",
       "    </tr>\n",
       "    <tr>\n",
       "      <th>HIGH</th>\n",
       "      <td>1.0</td>\n",
       "      <td>0.0</td>\n",
       "      <td>102.0</td>\n",
       "      <td>0.790698</td>\n",
       "      <td>0.990291</td>\n",
       "      <td>0.879310</td>\n",
       "      <td>103.00000</td>\n",
       "    </tr>\n",
       "    <tr>\n",
       "      <th>accuracy</th>\n",
       "      <td>NaN</td>\n",
       "      <td>NaN</td>\n",
       "      <td>NaN</td>\n",
       "      <td>0.901130</td>\n",
       "      <td>0.901130</td>\n",
       "      <td>0.901130</td>\n",
       "      <td>0.90113</td>\n",
       "    </tr>\n",
       "    <tr>\n",
       "      <th>macro avg</th>\n",
       "      <td>NaN</td>\n",
       "      <td>NaN</td>\n",
       "      <td>NaN</td>\n",
       "      <td>0.907244</td>\n",
       "      <td>0.917510</td>\n",
       "      <td>0.902892</td>\n",
       "      <td>354.00000</td>\n",
       "    </tr>\n",
       "    <tr>\n",
       "      <th>weighted avg</th>\n",
       "      <td>NaN</td>\n",
       "      <td>NaN</td>\n",
       "      <td>NaN</td>\n",
       "      <td>0.918061</td>\n",
       "      <td>0.901130</td>\n",
       "      <td>0.899486</td>\n",
       "      <td>354.00000</td>\n",
       "    </tr>\n",
       "  </tbody>\n",
       "</table>\n",
       "</div>"
      ],
      "text/plain": [
       "                                                                   LOW  \\\n",
       "HIGH CORR TOP 10 PICKED 9,11,10,5,8,7,6,12,13,4... LOW           108.0   \n",
       "                                                   MEDIUM          7.0   \n",
       "                                                   HIGH            1.0   \n",
       "                                                   accuracy        NaN   \n",
       "                                                   macro avg       NaN   \n",
       "                                                   weighted avg    NaN   \n",
       "\n",
       "                                                                 MEDIUM  \\\n",
       "HIGH CORR TOP 10 PICKED 9,11,10,5,8,7,6,12,13,4... LOW              0.0   \n",
       "                                                   MEDIUM         109.0   \n",
       "                                                   HIGH             0.0   \n",
       "                                                   accuracy         NaN   \n",
       "                                                   macro avg        NaN   \n",
       "                                                   weighted avg     NaN   \n",
       "\n",
       "                                                                  HIGH  \\\n",
       "HIGH CORR TOP 10 PICKED 9,11,10,5,8,7,6,12,13,4... LOW             0.0   \n",
       "                                                   MEDIUM         27.0   \n",
       "                                                   HIGH          102.0   \n",
       "                                                   accuracy        NaN   \n",
       "                                                   macro avg       NaN   \n",
       "                                                   weighted avg    NaN   \n",
       "\n",
       "                                                                 precision  \\\n",
       "HIGH CORR TOP 10 PICKED 9,11,10,5,8,7,6,12,13,4... LOW            0.931034   \n",
       "                                                   MEDIUM         1.000000   \n",
       "                                                   HIGH           0.790698   \n",
       "                                                   accuracy       0.901130   \n",
       "                                                   macro avg      0.907244   \n",
       "                                                   weighted avg   0.918061   \n",
       "\n",
       "                                                                   recall  \\\n",
       "HIGH CORR TOP 10 PICKED 9,11,10,5,8,7,6,12,13,4... LOW           1.000000   \n",
       "                                                   MEDIUM        0.762238   \n",
       "                                                   HIGH          0.990291   \n",
       "                                                   accuracy      0.901130   \n",
       "                                                   macro avg     0.917510   \n",
       "                                                   weighted avg  0.901130   \n",
       "\n",
       "                                                                 f1-score  \\\n",
       "HIGH CORR TOP 10 PICKED 9,11,10,5,8,7,6,12,13,4... LOW           0.964286   \n",
       "                                                   MEDIUM        0.865079   \n",
       "                                                   HIGH          0.879310   \n",
       "                                                   accuracy      0.901130   \n",
       "                                                   macro avg     0.902892   \n",
       "                                                   weighted avg  0.899486   \n",
       "\n",
       "                                                                   support  \n",
       "HIGH CORR TOP 10 PICKED 9,11,10,5,8,7,6,12,13,4... LOW           108.00000  \n",
       "                                                   MEDIUM        143.00000  \n",
       "                                                   HIGH          103.00000  \n",
       "                                                   accuracy        0.90113  \n",
       "                                                   macro avg     354.00000  \n",
       "                                                   weighted avg  354.00000  "
      ]
     },
     "execution_count": 104,
     "metadata": {},
     "output_type": "execute_result"
    }
   ],
   "source": [
    "ex9 = pd.concat([dfcm,cm_classification_report(cm,df,kl)],axis=1)\n",
    "ex9.set_index([[text,text,text,text,text,text],ex9.index],inplace=True)\n",
    "ex9"
   ]
  },
  {
   "cell_type": "code",
   "execution_count": 105,
   "id": "9b2d2d50",
   "metadata": {},
   "outputs": [
    {
     "data": {
      "text/plain": [
       "<AxesSubplot:xlabel='Cluster', ylabel='WSS'>"
      ]
     },
     "execution_count": 105,
     "metadata": {},
     "output_type": "execute_result"
    },
    {
     "data": {
      "image/png": "[encoded data removed]",
      "text/plain": [
       "<Figure size 432x288 with 1 Axes>"
      ]
     },
     "metadata": {
      "needs_background": "light"
     },
     "output_type": "display_data"
    }
   ],
   "source": [
    "# ELBOW METHOD\n",
    "wss = []\n",
    "for k in range(1,12):\n",
    "    kmeans = KMeans(n_clusters = k,init='k-means++',random_state=rs)\n",
    "    kmeans.fit(X)\n",
    "    wss.append(kmeans.inertia_)\n",
    "clu = pd.DataFrame(wss,columns=['WSS'])\n",
    "clu.index += 1\n",
    "clu.index.names = ['Cluster']\n",
    "sns.lineplot(x=clu.index,y=clu['WSS'],marker='o')"
   ]
  },
  {
   "cell_type": "code",
   "execution_count": 106,
   "id": "64b9ba02",
   "metadata": {},
   "outputs": [
    {
     "name": "stdout",
     "output_type": "stream",
     "text": [
      "Silhouette score from k(clusters) = 2 is 0.4888471343460404\n",
      "Silhouette score from k(clusters) = 3 is 0.37120741533942114\n",
      "Silhouette score from k(clusters) = 4 is 0.3003902576803665\n",
      "Silhouette score from k(clusters) = 5 is 0.2535805041404124\n",
      "Silhouette score from k(clusters) = 6 is 0.22850632795478798\n",
      "Silhouette score from k(clusters) = 7 is 0.2078664214068278\n",
      "Silhouette score from k(clusters) = 8 is 0.21161275724863476\n",
      "Silhouette score from k(clusters) = 9 is 0.20928769013341272\n",
      "Silhouette score from k(clusters) = 10 is 0.19917072701712737\n",
      "Silhouette score from k(clusters) = 11 is 0.19752508949588451\n",
      "Silhouette score from k(clusters) = 12 is 0.20387778830337833\n"
     ]
    }
   ],
   "source": [
    "# SILHOUETTE METHOD (AVERAGES)\n",
    "for i in range (2,13):\n",
    "    print(\"Silhouette score from k(clusters) = \" + str(i) + \" is \" + str(silhouette_score(X,KMeans(n_clusters=i,init='k-means++',random_state=rs).fit(X).labels_,metric='euclidean',random_state=rs)))"
   ]
  },
  {
   "cell_type": "code",
   "execution_count": 107,
   "id": "2bf9b7c8",
   "metadata": {},
   "outputs": [
    {
     "name": "stdout",
     "output_type": "stream",
     "text": [
      "This Many Clusters: 2 | Number of Negative Values: 3\n",
      "This Many Clusters: 3 | Number of Negative Values: 1\n",
      "This Many Clusters: 4 | Number of Negative Values: 20\n",
      "This Many Clusters: 5 | Number of Negative Values: 13\n",
      "This Many Clusters: 6 | Number of Negative Values: 24\n",
      "This Many Clusters: 7 | Number of Negative Values: 20\n",
      "This Many Clusters: 8 | Number of Negative Values: 15\n",
      "This Many Clusters: 9 | Number of Negative Values: 16\n",
      "This Many Clusters: 10 | Number of Negative Values: 23\n",
      "This Many Clusters: 11 | Number of Negative Values: 30\n",
      "This Many Clusters: 12 | Number of Negative Values: 16\n"
     ]
    }
   ],
   "source": [
    "# SILHOUETTE METHOD (NEGATIVES CHECK)\n",
    "bad_k_values = {}\n",
    "\n",
    "for each_value in range(2,13):\n",
    "    for each_silhouette in silhouette_samples(X,KMeans(n_clusters=each_value,init='k-means++',random_state=rs).fit(X).predict(X)):\n",
    "        if each_silhouette < 0:\n",
    "            if each_value not in bad_k_values:\n",
    "                bad_k_values[each_value] = 1\n",
    "            else:\n",
    "                bad_k_values[each_value] += 1        \n",
    "        if each_value not in bad_k_values:\n",
    "            bad_k_values[each_value] = 0\n",
    "                \n",
    "for key, val in bad_k_values.items():\n",
    "    print(f'This Many Clusters: {key} | Number of Negative Values: {val}')"
   ]
  },
  {
   "cell_type": "code",
   "execution_count": 108,
   "id": "1b88df65",
   "metadata": {},
   "outputs": [],
   "source": [
    "# Elbow and Silhouette at k(Clusters) = 3 BEST"
   ]
  },
  {
   "cell_type": "code",
   "execution_count": 109,
   "id": "9debf014",
   "metadata": {},
   "outputs": [
    {
     "data": {
      "text/html": [
       "<div>\n",
       "<style scoped>\n",
       "    .dataframe tbody tr th:only-of-type {\n",
       "        vertical-align: middle;\n",
       "    }\n",
       "\n",
       "    .dataframe tbody tr th {\n",
       "        vertical-align: top;\n",
       "    }\n",
       "\n",
       "    .dataframe thead th {\n",
       "        text-align: right;\n",
       "    }\n",
       "</style>\n",
       "<table border=\"1\" class=\"dataframe\">\n",
       "  <thead>\n",
       "    <tr style=\"text-align: right;\">\n",
       "      <th></th>\n",
       "      <th></th>\n",
       "      <th>LOW</th>\n",
       "      <th>MEDIUM</th>\n",
       "      <th>HIGH</th>\n",
       "      <th>precision</th>\n",
       "      <th>recall</th>\n",
       "      <th>f1-score</th>\n",
       "      <th>support</th>\n",
       "    </tr>\n",
       "  </thead>\n",
       "  <tbody>\n",
       "    <tr>\n",
       "      <th rowspan=\"6\" valign=\"top\">Original</th>\n",
       "      <th>LOW</th>\n",
       "      <td>108.0</td>\n",
       "      <td>0.0</td>\n",
       "      <td>0.0</td>\n",
       "      <td>0.805970</td>\n",
       "      <td>1.000000</td>\n",
       "      <td>0.892562</td>\n",
       "      <td>108.000000</td>\n",
       "    </tr>\n",
       "    <tr>\n",
       "      <th>MEDIUM</th>\n",
       "      <td>26.0</td>\n",
       "      <td>110.0</td>\n",
       "      <td>7.0</td>\n",
       "      <td>1.000000</td>\n",
       "      <td>0.769231</td>\n",
       "      <td>0.869565</td>\n",
       "      <td>143.000000</td>\n",
       "    </tr>\n",
       "    <tr>\n",
       "      <th>HIGH</th>\n",
       "      <td>0.0</td>\n",
       "      <td>0.0</td>\n",
       "      <td>103.0</td>\n",
       "      <td>0.936364</td>\n",
       "      <td>1.000000</td>\n",
       "      <td>0.967136</td>\n",
       "      <td>103.000000</td>\n",
       "    </tr>\n",
       "    <tr>\n",
       "      <th>accuracy</th>\n",
       "      <td>NaN</td>\n",
       "      <td>NaN</td>\n",
       "      <td>NaN</td>\n",
       "      <td>0.906780</td>\n",
       "      <td>0.906780</td>\n",
       "      <td>0.906780</td>\n",
       "      <td>0.906780</td>\n",
       "    </tr>\n",
       "    <tr>\n",
       "      <th>macro avg</th>\n",
       "      <td>NaN</td>\n",
       "      <td>NaN</td>\n",
       "      <td>NaN</td>\n",
       "      <td>0.914111</td>\n",
       "      <td>0.923077</td>\n",
       "      <td>0.909754</td>\n",
       "      <td>354.000000</td>\n",
       "    </tr>\n",
       "    <tr>\n",
       "      <th>weighted avg</th>\n",
       "      <td>NaN</td>\n",
       "      <td>NaN</td>\n",
       "      <td>NaN</td>\n",
       "      <td>0.922289</td>\n",
       "      <td>0.906780</td>\n",
       "      <td>0.904970</td>\n",
       "      <td>354.000000</td>\n",
       "    </tr>\n",
       "    <tr>\n",
       "      <th rowspan=\"6\" valign=\"top\">HIGH CORR TOP 4 PICKED 9,11,10,5 (4 TOTAL ITEMS)</th>\n",
       "      <th>LOW</th>\n",
       "      <td>105.0</td>\n",
       "      <td>3.0</td>\n",
       "      <td>0.0</td>\n",
       "      <td>0.719178</td>\n",
       "      <td>0.972222</td>\n",
       "      <td>0.826772</td>\n",
       "      <td>108.000000</td>\n",
       "    </tr>\n",
       "    <tr>\n",
       "      <th>MEDIUM</th>\n",
       "      <td>41.0</td>\n",
       "      <td>91.0</td>\n",
       "      <td>11.0</td>\n",
       "      <td>0.947917</td>\n",
       "      <td>0.636364</td>\n",
       "      <td>0.761506</td>\n",
       "      <td>143.000000</td>\n",
       "    </tr>\n",
       "    <tr>\n",
       "      <th>HIGH</th>\n",
       "      <td>0.0</td>\n",
       "      <td>2.0</td>\n",
       "      <td>101.0</td>\n",
       "      <td>0.901786</td>\n",
       "      <td>0.980583</td>\n",
       "      <td>0.939535</td>\n",
       "      <td>103.000000</td>\n",
       "    </tr>\n",
       "    <tr>\n",
       "      <th>accuracy</th>\n",
       "      <td>NaN</td>\n",
       "      <td>NaN</td>\n",
       "      <td>NaN</td>\n",
       "      <td>0.838983</td>\n",
       "      <td>0.838983</td>\n",
       "      <td>0.838983</td>\n",
       "      <td>0.838983</td>\n",
       "    </tr>\n",
       "    <tr>\n",
       "      <th>macro avg</th>\n",
       "      <td>NaN</td>\n",
       "      <td>NaN</td>\n",
       "      <td>NaN</td>\n",
       "      <td>0.856293</td>\n",
       "      <td>0.863056</td>\n",
       "      <td>0.842604</td>\n",
       "      <td>354.000000</td>\n",
       "    </tr>\n",
       "    <tr>\n",
       "      <th>weighted avg</th>\n",
       "      <td>NaN</td>\n",
       "      <td>NaN</td>\n",
       "      <td>NaN</td>\n",
       "      <td>0.864710</td>\n",
       "      <td>0.838983</td>\n",
       "      <td>0.833217</td>\n",
       "      <td>354.000000</td>\n",
       "    </tr>\n",
       "    <tr>\n",
       "      <th rowspan=\"6\" valign=\"top\">HIGH CORR TOP 5 PICKED 9,11,10,5,8 (5 TOTAL ITEMS)</th>\n",
       "      <th>LOW</th>\n",
       "      <td>107.0</td>\n",
       "      <td>1.0</td>\n",
       "      <td>0.0</td>\n",
       "      <td>0.798507</td>\n",
       "      <td>0.990741</td>\n",
       "      <td>0.884298</td>\n",
       "      <td>108.000000</td>\n",
       "    </tr>\n",
       "    <tr>\n",
       "      <th>MEDIUM</th>\n",
       "      <td>27.0</td>\n",
       "      <td>111.0</td>\n",
       "      <td>5.0</td>\n",
       "      <td>0.973684</td>\n",
       "      <td>0.776224</td>\n",
       "      <td>0.863813</td>\n",
       "      <td>143.000000</td>\n",
       "    </tr>\n",
       "    <tr>\n",
       "      <th>HIGH</th>\n",
       "      <td>0.0</td>\n",
       "      <td>2.0</td>\n",
       "      <td>101.0</td>\n",
       "      <td>0.952830</td>\n",
       "      <td>0.980583</td>\n",
       "      <td>0.966507</td>\n",
       "      <td>103.000000</td>\n",
       "    </tr>\n",
       "    <tr>\n",
       "      <th>accuracy</th>\n",
       "      <td>NaN</td>\n",
       "      <td>NaN</td>\n",
       "      <td>NaN</td>\n",
       "      <td>0.901130</td>\n",
       "      <td>0.901130</td>\n",
       "      <td>0.901130</td>\n",
       "      <td>0.901130</td>\n",
       "    </tr>\n",
       "    <tr>\n",
       "      <th>macro avg</th>\n",
       "      <td>NaN</td>\n",
       "      <td>NaN</td>\n",
       "      <td>NaN</td>\n",
       "      <td>0.908341</td>\n",
       "      <td>0.915849</td>\n",
       "      <td>0.904873</td>\n",
       "      <td>354.000000</td>\n",
       "    </tr>\n",
       "    <tr>\n",
       "      <th>weighted avg</th>\n",
       "      <td>NaN</td>\n",
       "      <td>NaN</td>\n",
       "      <td>NaN</td>\n",
       "      <td>0.914173</td>\n",
       "      <td>0.901130</td>\n",
       "      <td>0.899943</td>\n",
       "      <td>354.000000</td>\n",
       "    </tr>\n",
       "    <tr>\n",
       "      <th rowspan=\"6\" valign=\"top\">HIGH CORR TOP 6 PICKED 9,11,10,5,8,7 (6 TOTAL ITEMS)</th>\n",
       "      <th>LOW</th>\n",
       "      <td>108.0</td>\n",
       "      <td>0.0</td>\n",
       "      <td>0.0</td>\n",
       "      <td>0.794118</td>\n",
       "      <td>1.000000</td>\n",
       "      <td>0.885246</td>\n",
       "      <td>108.000000</td>\n",
       "    </tr>\n",
       "    <tr>\n",
       "      <th>MEDIUM</th>\n",
       "      <td>28.0</td>\n",
       "      <td>112.0</td>\n",
       "      <td>3.0</td>\n",
       "      <td>0.982456</td>\n",
       "      <td>0.783217</td>\n",
       "      <td>0.871595</td>\n",
       "      <td>143.000000</td>\n",
       "    </tr>\n",
       "    <tr>\n",
       "      <th>HIGH</th>\n",
       "      <td>0.0</td>\n",
       "      <td>2.0</td>\n",
       "      <td>101.0</td>\n",
       "      <td>0.971154</td>\n",
       "      <td>0.980583</td>\n",
       "      <td>0.975845</td>\n",
       "      <td>103.000000</td>\n",
       "    </tr>\n",
       "    <tr>\n",
       "      <th>accuracy</th>\n",
       "      <td>NaN</td>\n",
       "      <td>NaN</td>\n",
       "      <td>NaN</td>\n",
       "      <td>0.906780</td>\n",
       "      <td>0.906780</td>\n",
       "      <td>0.906780</td>\n",
       "      <td>0.906780</td>\n",
       "    </tr>\n",
       "    <tr>\n",
       "      <th>macro avg</th>\n",
       "      <td>NaN</td>\n",
       "      <td>NaN</td>\n",
       "      <td>NaN</td>\n",
       "      <td>0.915909</td>\n",
       "      <td>0.921266</td>\n",
       "      <td>0.910896</td>\n",
       "      <td>354.000000</td>\n",
       "    </tr>\n",
       "    <tr>\n",
       "      <th>weighted avg</th>\n",
       "      <td>NaN</td>\n",
       "      <td>NaN</td>\n",
       "      <td>NaN</td>\n",
       "      <td>0.921708</td>\n",
       "      <td>0.906780</td>\n",
       "      <td>0.906093</td>\n",
       "      <td>354.000000</td>\n",
       "    </tr>\n",
       "    <tr>\n",
       "      <th rowspan=\"6\" valign=\"top\">DS PRACTICAL PICK 14,12,11,10,8,4 (6 TOTAL ITEMS)</th>\n",
       "      <th>LOW</th>\n",
       "      <td>103.0</td>\n",
       "      <td>5.0</td>\n",
       "      <td>0.0</td>\n",
       "      <td>0.811024</td>\n",
       "      <td>0.953704</td>\n",
       "      <td>0.876596</td>\n",
       "      <td>108.000000</td>\n",
       "    </tr>\n",
       "    <tr>\n",
       "      <th>MEDIUM</th>\n",
       "      <td>24.0</td>\n",
       "      <td>106.0</td>\n",
       "      <td>13.0</td>\n",
       "      <td>0.929825</td>\n",
       "      <td>0.741259</td>\n",
       "      <td>0.824903</td>\n",
       "      <td>143.000000</td>\n",
       "    </tr>\n",
       "    <tr>\n",
       "      <th>HIGH</th>\n",
       "      <td>0.0</td>\n",
       "      <td>3.0</td>\n",
       "      <td>100.0</td>\n",
       "      <td>0.884956</td>\n",
       "      <td>0.970874</td>\n",
       "      <td>0.925926</td>\n",
       "      <td>103.000000</td>\n",
       "    </tr>\n",
       "    <tr>\n",
       "      <th>accuracy</th>\n",
       "      <td>NaN</td>\n",
       "      <td>NaN</td>\n",
       "      <td>NaN</td>\n",
       "      <td>0.872881</td>\n",
       "      <td>0.872881</td>\n",
       "      <td>0.872881</td>\n",
       "      <td>0.872881</td>\n",
       "    </tr>\n",
       "    <tr>\n",
       "      <th>macro avg</th>\n",
       "      <td>NaN</td>\n",
       "      <td>NaN</td>\n",
       "      <td>NaN</td>\n",
       "      <td>0.875268</td>\n",
       "      <td>0.888612</td>\n",
       "      <td>0.875808</td>\n",
       "      <td>354.000000</td>\n",
       "    </tr>\n",
       "    <tr>\n",
       "      <th>weighted avg</th>\n",
       "      <td>NaN</td>\n",
       "      <td>NaN</td>\n",
       "      <td>NaN</td>\n",
       "      <td>0.880525</td>\n",
       "      <td>0.872881</td>\n",
       "      <td>0.870067</td>\n",
       "      <td>354.000000</td>\n",
       "    </tr>\n",
       "    <tr>\n",
       "      <th rowspan=\"6\" valign=\"top\">HIGH CORR TOP 7 PICKED 9,11,10,5,8,7,6 (7 TOTAL ITEMS)</th>\n",
       "      <th>LOW</th>\n",
       "      <td>107.0</td>\n",
       "      <td>0.0</td>\n",
       "      <td>1.0</td>\n",
       "      <td>0.946903</td>\n",
       "      <td>0.990741</td>\n",
       "      <td>0.968326</td>\n",
       "      <td>108.000000</td>\n",
       "    </tr>\n",
       "    <tr>\n",
       "      <th>MEDIUM</th>\n",
       "      <td>4.0</td>\n",
       "      <td>111.0</td>\n",
       "      <td>28.0</td>\n",
       "      <td>1.000000</td>\n",
       "      <td>0.776224</td>\n",
       "      <td>0.874016</td>\n",
       "      <td>143.000000</td>\n",
       "    </tr>\n",
       "    <tr>\n",
       "      <th>HIGH</th>\n",
       "      <td>2.0</td>\n",
       "      <td>0.0</td>\n",
       "      <td>101.0</td>\n",
       "      <td>0.776923</td>\n",
       "      <td>0.980583</td>\n",
       "      <td>0.866953</td>\n",
       "      <td>103.000000</td>\n",
       "    </tr>\n",
       "    <tr>\n",
       "      <th>accuracy</th>\n",
       "      <td>NaN</td>\n",
       "      <td>NaN</td>\n",
       "      <td>NaN</td>\n",
       "      <td>0.901130</td>\n",
       "      <td>0.901130</td>\n",
       "      <td>0.901130</td>\n",
       "      <td>0.901130</td>\n",
       "    </tr>\n",
       "    <tr>\n",
       "      <th>macro avg</th>\n",
       "      <td>NaN</td>\n",
       "      <td>NaN</td>\n",
       "      <td>NaN</td>\n",
       "      <td>0.907942</td>\n",
       "      <td>0.915849</td>\n",
       "      <td>0.903098</td>\n",
       "      <td>354.000000</td>\n",
       "    </tr>\n",
       "    <tr>\n",
       "      <th>weighted avg</th>\n",
       "      <td>NaN</td>\n",
       "      <td>NaN</td>\n",
       "      <td>NaN</td>\n",
       "      <td>0.918894</td>\n",
       "      <td>0.901130</td>\n",
       "      <td>0.900733</td>\n",
       "      <td>354.000000</td>\n",
       "    </tr>\n",
       "    <tr>\n",
       "      <th rowspan=\"6\" valign=\"top\">HIGH CORR TOP 8 PICKED 9,11,10,5,8,7,6,12 (8 TOTAL ITEMS)</th>\n",
       "      <th>LOW</th>\n",
       "      <td>108.0</td>\n",
       "      <td>0.0</td>\n",
       "      <td>0.0</td>\n",
       "      <td>0.939130</td>\n",
       "      <td>1.000000</td>\n",
       "      <td>0.968610</td>\n",
       "      <td>108.000000</td>\n",
       "    </tr>\n",
       "    <tr>\n",
       "      <th>MEDIUM</th>\n",
       "      <td>5.0</td>\n",
       "      <td>111.0</td>\n",
       "      <td>27.0</td>\n",
       "      <td>1.000000</td>\n",
       "      <td>0.776224</td>\n",
       "      <td>0.874016</td>\n",
       "      <td>143.000000</td>\n",
       "    </tr>\n",
       "    <tr>\n",
       "      <th>HIGH</th>\n",
       "      <td>2.0</td>\n",
       "      <td>0.0</td>\n",
       "      <td>101.0</td>\n",
       "      <td>0.789062</td>\n",
       "      <td>0.980583</td>\n",
       "      <td>0.874459</td>\n",
       "      <td>103.000000</td>\n",
       "    </tr>\n",
       "    <tr>\n",
       "      <th>accuracy</th>\n",
       "      <td>NaN</td>\n",
       "      <td>NaN</td>\n",
       "      <td>NaN</td>\n",
       "      <td>0.903955</td>\n",
       "      <td>0.903955</td>\n",
       "      <td>0.903955</td>\n",
       "      <td>0.903955</td>\n",
       "    </tr>\n",
       "    <tr>\n",
       "      <th>macro avg</th>\n",
       "      <td>NaN</td>\n",
       "      <td>NaN</td>\n",
       "      <td>NaN</td>\n",
       "      <td>0.909398</td>\n",
       "      <td>0.918935</td>\n",
       "      <td>0.905695</td>\n",
       "      <td>354.000000</td>\n",
       "    </tr>\n",
       "    <tr>\n",
       "      <th>weighted avg</th>\n",
       "      <td>NaN</td>\n",
       "      <td>NaN</td>\n",
       "      <td>NaN</td>\n",
       "      <td>0.920055</td>\n",
       "      <td>0.903955</td>\n",
       "      <td>0.903004</td>\n",
       "      <td>354.000000</td>\n",
       "    </tr>\n",
       "    <tr>\n",
       "      <th rowspan=\"6\" valign=\"top\">HIGH CORR TOP 9 PICKED 9,11,10,5,8,7,6,12,13 (9 TOTAL ITEMS)</th>\n",
       "      <th>LOW</th>\n",
       "      <td>108.0</td>\n",
       "      <td>0.0</td>\n",
       "      <td>0.0</td>\n",
       "      <td>0.923077</td>\n",
       "      <td>1.000000</td>\n",
       "      <td>0.960000</td>\n",
       "      <td>108.000000</td>\n",
       "    </tr>\n",
       "    <tr>\n",
       "      <th>MEDIUM</th>\n",
       "      <td>7.0</td>\n",
       "      <td>110.0</td>\n",
       "      <td>26.0</td>\n",
       "      <td>1.000000</td>\n",
       "      <td>0.769231</td>\n",
       "      <td>0.869565</td>\n",
       "      <td>143.000000</td>\n",
       "    </tr>\n",
       "    <tr>\n",
       "      <th>HIGH</th>\n",
       "      <td>2.0</td>\n",
       "      <td>0.0</td>\n",
       "      <td>101.0</td>\n",
       "      <td>0.795276</td>\n",
       "      <td>0.980583</td>\n",
       "      <td>0.878261</td>\n",
       "      <td>103.000000</td>\n",
       "    </tr>\n",
       "    <tr>\n",
       "      <th>accuracy</th>\n",
       "      <td>NaN</td>\n",
       "      <td>NaN</td>\n",
       "      <td>NaN</td>\n",
       "      <td>0.901130</td>\n",
       "      <td>0.901130</td>\n",
       "      <td>0.901130</td>\n",
       "      <td>0.901130</td>\n",
       "    </tr>\n",
       "    <tr>\n",
       "      <th>macro avg</th>\n",
       "      <td>NaN</td>\n",
       "      <td>NaN</td>\n",
       "      <td>NaN</td>\n",
       "      <td>0.906118</td>\n",
       "      <td>0.916604</td>\n",
       "      <td>0.902609</td>\n",
       "      <td>354.000000</td>\n",
       "    </tr>\n",
       "    <tr>\n",
       "      <th>weighted avg</th>\n",
       "      <td>NaN</td>\n",
       "      <td>NaN</td>\n",
       "      <td>NaN</td>\n",
       "      <td>0.916965</td>\n",
       "      <td>0.901130</td>\n",
       "      <td>0.899686</td>\n",
       "      <td>354.000000</td>\n",
       "    </tr>\n",
       "    <tr>\n",
       "      <th rowspan=\"6\" valign=\"top\">HIGH CORR TOP 10 PICKED 9,11,10,5,8,7,6,12,13,4 (10 TOTAL ITEMS)</th>\n",
       "      <th>LOW</th>\n",
       "      <td>108.0</td>\n",
       "      <td>0.0</td>\n",
       "      <td>0.0</td>\n",
       "      <td>0.931034</td>\n",
       "      <td>1.000000</td>\n",
       "      <td>0.964286</td>\n",
       "      <td>108.000000</td>\n",
       "    </tr>\n",
       "    <tr>\n",
       "      <th>MEDIUM</th>\n",
       "      <td>7.0</td>\n",
       "      <td>109.0</td>\n",
       "      <td>27.0</td>\n",
       "      <td>1.000000</td>\n",
       "      <td>0.762238</td>\n",
       "      <td>0.865079</td>\n",
       "      <td>143.000000</td>\n",
       "    </tr>\n",
       "    <tr>\n",
       "      <th>HIGH</th>\n",
       "      <td>1.0</td>\n",
       "      <td>0.0</td>\n",
       "      <td>102.0</td>\n",
       "      <td>0.790698</td>\n",
       "      <td>0.990291</td>\n",
       "      <td>0.879310</td>\n",
       "      <td>103.000000</td>\n",
       "    </tr>\n",
       "    <tr>\n",
       "      <th>accuracy</th>\n",
       "      <td>NaN</td>\n",
       "      <td>NaN</td>\n",
       "      <td>NaN</td>\n",
       "      <td>0.901130</td>\n",
       "      <td>0.901130</td>\n",
       "      <td>0.901130</td>\n",
       "      <td>0.901130</td>\n",
       "    </tr>\n",
       "    <tr>\n",
       "      <th>macro avg</th>\n",
       "      <td>NaN</td>\n",
       "      <td>NaN</td>\n",
       "      <td>NaN</td>\n",
       "      <td>0.907244</td>\n",
       "      <td>0.917510</td>\n",
       "      <td>0.902892</td>\n",
       "      <td>354.000000</td>\n",
       "    </tr>\n",
       "    <tr>\n",
       "      <th>weighted avg</th>\n",
       "      <td>NaN</td>\n",
       "      <td>NaN</td>\n",
       "      <td>NaN</td>\n",
       "      <td>0.918061</td>\n",
       "      <td>0.901130</td>\n",
       "      <td>0.899486</td>\n",
       "      <td>354.000000</td>\n",
       "    </tr>\n",
       "  </tbody>\n",
       "</table>\n",
       "</div>"
      ],
      "text/plain": [
       "                                                                   LOW  \\\n",
       "Original                                           LOW           108.0   \n",
       "                                                   MEDIUM         26.0   \n",
       "                                                   HIGH            0.0   \n",
       "                                                   accuracy        NaN   \n",
       "                                                   macro avg       NaN   \n",
       "                                                   weighted avg    NaN   \n",
       "HIGH CORR TOP 4 PICKED 9,11,10,5 (4 TOTAL ITEMS)   LOW           105.0   \n",
       "                                                   MEDIUM         41.0   \n",
       "                                                   HIGH            0.0   \n",
       "                                                   accuracy        NaN   \n",
       "                                                   macro avg       NaN   \n",
       "                                                   weighted avg    NaN   \n",
       "HIGH CORR TOP 5 PICKED 9,11,10,5,8 (5 TOTAL ITEMS) LOW           107.0   \n",
       "                                                   MEDIUM         27.0   \n",
       "                                                   HIGH            0.0   \n",
       "                                                   accuracy        NaN   \n",
       "                                                   macro avg       NaN   \n",
       "                                                   weighted avg    NaN   \n",
       "HIGH CORR TOP 6 PICKED 9,11,10,5,8,7 (6 TOTAL I... LOW           108.0   \n",
       "                                                   MEDIUM         28.0   \n",
       "                                                   HIGH            0.0   \n",
       "                                                   accuracy        NaN   \n",
       "                                                   macro avg       NaN   \n",
       "                                                   weighted avg    NaN   \n",
       "DS PRACTICAL PICK 14,12,11,10,8,4 (6 TOTAL ITEMS)  LOW           103.0   \n",
       "                                                   MEDIUM         24.0   \n",
       "                                                   HIGH            0.0   \n",
       "                                                   accuracy        NaN   \n",
       "                                                   macro avg       NaN   \n",
       "                                                   weighted avg    NaN   \n",
       "HIGH CORR TOP 7 PICKED 9,11,10,5,8,7,6 (7 TOTAL... LOW           107.0   \n",
       "                                                   MEDIUM          4.0   \n",
       "                                                   HIGH            2.0   \n",
       "                                                   accuracy        NaN   \n",
       "                                                   macro avg       NaN   \n",
       "                                                   weighted avg    NaN   \n",
       "HIGH CORR TOP 8 PICKED 9,11,10,5,8,7,6,12 (8 TO... LOW           108.0   \n",
       "                                                   MEDIUM          5.0   \n",
       "                                                   HIGH            2.0   \n",
       "                                                   accuracy        NaN   \n",
       "                                                   macro avg       NaN   \n",
       "                                                   weighted avg    NaN   \n",
       "HIGH CORR TOP 9 PICKED 9,11,10,5,8,7,6,12,13 (9... LOW           108.0   \n",
       "                                                   MEDIUM          7.0   \n",
       "                                                   HIGH            2.0   \n",
       "                                                   accuracy        NaN   \n",
       "                                                   macro avg       NaN   \n",
       "                                                   weighted avg    NaN   \n",
       "HIGH CORR TOP 10 PICKED 9,11,10,5,8,7,6,12,13,4... LOW           108.0   \n",
       "                                                   MEDIUM          7.0   \n",
       "                                                   HIGH            1.0   \n",
       "                                                   accuracy        NaN   \n",
       "                                                   macro avg       NaN   \n",
       "                                                   weighted avg    NaN   \n",
       "\n",
       "                                                                 MEDIUM  \\\n",
       "Original                                           LOW              0.0   \n",
       "                                                   MEDIUM         110.0   \n",
       "                                                   HIGH             0.0   \n",
       "                                                   accuracy         NaN   \n",
       "                                                   macro avg        NaN   \n",
       "                                                   weighted avg     NaN   \n",
       "HIGH CORR TOP 4 PICKED 9,11,10,5 (4 TOTAL ITEMS)   LOW              3.0   \n",
       "                                                   MEDIUM          91.0   \n",
       "                                                   HIGH             2.0   \n",
       "                                                   accuracy         NaN   \n",
       "                                                   macro avg        NaN   \n",
       "                                                   weighted avg     NaN   \n",
       "HIGH CORR TOP 5 PICKED 9,11,10,5,8 (5 TOTAL ITEMS) LOW              1.0   \n",
       "                                                   MEDIUM         111.0   \n",
       "                                                   HIGH             2.0   \n",
       "                                                   accuracy         NaN   \n",
       "                                                   macro avg        NaN   \n",
       "                                                   weighted avg     NaN   \n",
       "HIGH CORR TOP 6 PICKED 9,11,10,5,8,7 (6 TOTAL I... LOW              0.0   \n",
       "                                                   MEDIUM         112.0   \n",
       "                                                   HIGH             2.0   \n",
       "                                                   accuracy         NaN   \n",
       "                                                   macro avg        NaN   \n",
       "                                                   weighted avg     NaN   \n",
       "DS PRACTICAL PICK 14,12,11,10,8,4 (6 TOTAL ITEMS)  LOW              5.0   \n",
       "                                                   MEDIUM         106.0   \n",
       "                                                   HIGH             3.0   \n",
       "                                                   accuracy         NaN   \n",
       "                                                   macro avg        NaN   \n",
       "                                                   weighted avg     NaN   \n",
       "HIGH CORR TOP 7 PICKED 9,11,10,5,8,7,6 (7 TOTAL... LOW              0.0   \n",
       "                                                   MEDIUM         111.0   \n",
       "                                                   HIGH             0.0   \n",
       "                                                   accuracy         NaN   \n",
       "                                                   macro avg        NaN   \n",
       "                                                   weighted avg     NaN   \n",
       "HIGH CORR TOP 8 PICKED 9,11,10,5,8,7,6,12 (8 TO... LOW              0.0   \n",
       "                                                   MEDIUM         111.0   \n",
       "                                                   HIGH             0.0   \n",
       "                                                   accuracy         NaN   \n",
       "                                                   macro avg        NaN   \n",
       "                                                   weighted avg     NaN   \n",
       "HIGH CORR TOP 9 PICKED 9,11,10,5,8,7,6,12,13 (9... LOW              0.0   \n",
       "                                                   MEDIUM         110.0   \n",
       "                                                   HIGH             0.0   \n",
       "                                                   accuracy         NaN   \n",
       "                                                   macro avg        NaN   \n",
       "                                                   weighted avg     NaN   \n",
       "HIGH CORR TOP 10 PICKED 9,11,10,5,8,7,6,12,13,4... LOW              0.0   \n",
       "                                                   MEDIUM         109.0   \n",
       "                                                   HIGH             0.0   \n",
       "                                                   accuracy         NaN   \n",
       "                                                   macro avg        NaN   \n",
       "                                                   weighted avg     NaN   \n",
       "\n",
       "                                                                  HIGH  \\\n",
       "Original                                           LOW             0.0   \n",
       "                                                   MEDIUM          7.0   \n",
       "                                                   HIGH          103.0   \n",
       "                                                   accuracy        NaN   \n",
       "                                                   macro avg       NaN   \n",
       "                                                   weighted avg    NaN   \n",
       "HIGH CORR TOP 4 PICKED 9,11,10,5 (4 TOTAL ITEMS)   LOW             0.0   \n",
       "                                                   MEDIUM         11.0   \n",
       "                                                   HIGH          101.0   \n",
       "                                                   accuracy        NaN   \n",
       "                                                   macro avg       NaN   \n",
       "                                                   weighted avg    NaN   \n",
       "HIGH CORR TOP 5 PICKED 9,11,10,5,8 (5 TOTAL ITEMS) LOW             0.0   \n",
       "                                                   MEDIUM          5.0   \n",
       "                                                   HIGH          101.0   \n",
       "                                                   accuracy        NaN   \n",
       "                                                   macro avg       NaN   \n",
       "                                                   weighted avg    NaN   \n",
       "HIGH CORR TOP 6 PICKED 9,11,10,5,8,7 (6 TOTAL I... LOW             0.0   \n",
       "                                                   MEDIUM          3.0   \n",
       "                                                   HIGH          101.0   \n",
       "                                                   accuracy        NaN   \n",
       "                                                   macro avg       NaN   \n",
       "                                                   weighted avg    NaN   \n",
       "DS PRACTICAL PICK 14,12,11,10,8,4 (6 TOTAL ITEMS)  LOW             0.0   \n",
       "                                                   MEDIUM         13.0   \n",
       "                                                   HIGH          100.0   \n",
       "                                                   accuracy        NaN   \n",
       "                                                   macro avg       NaN   \n",
       "                                                   weighted avg    NaN   \n",
       "HIGH CORR TOP 7 PICKED 9,11,10,5,8,7,6 (7 TOTAL... LOW             1.0   \n",
       "                                                   MEDIUM         28.0   \n",
       "                                                   HIGH          101.0   \n",
       "                                                   accuracy        NaN   \n",
       "                                                   macro avg       NaN   \n",
       "                                                   weighted avg    NaN   \n",
       "HIGH CORR TOP 8 PICKED 9,11,10,5,8,7,6,12 (8 TO... LOW             0.0   \n",
       "                                                   MEDIUM         27.0   \n",
       "                                                   HIGH          101.0   \n",
       "                                                   accuracy        NaN   \n",
       "                                                   macro avg       NaN   \n",
       "                                                   weighted avg    NaN   \n",
       "HIGH CORR TOP 9 PICKED 9,11,10,5,8,7,6,12,13 (9... LOW             0.0   \n",
       "                                                   MEDIUM         26.0   \n",
       "                                                   HIGH          101.0   \n",
       "                                                   accuracy        NaN   \n",
       "                                                   macro avg       NaN   \n",
       "                                                   weighted avg    NaN   \n",
       "HIGH CORR TOP 10 PICKED 9,11,10,5,8,7,6,12,13,4... LOW             0.0   \n",
       "                                                   MEDIUM         27.0   \n",
       "                                                   HIGH          102.0   \n",
       "                                                   accuracy        NaN   \n",
       "                                                   macro avg       NaN   \n",
       "                                                   weighted avg    NaN   \n",
       "\n",
       "                                                                 precision  \\\n",
       "Original                                           LOW            0.805970   \n",
       "                                                   MEDIUM         1.000000   \n",
       "                                                   HIGH           0.936364   \n",
       "                                                   accuracy       0.906780   \n",
       "                                                   macro avg      0.914111   \n",
       "                                                   weighted avg   0.922289   \n",
       "HIGH CORR TOP 4 PICKED 9,11,10,5 (4 TOTAL ITEMS)   LOW            0.719178   \n",
       "                                                   MEDIUM         0.947917   \n",
       "                                                   HIGH           0.901786   \n",
       "                                                   accuracy       0.838983   \n",
       "                                                   macro avg      0.856293   \n",
       "                                                   weighted avg   0.864710   \n",
       "HIGH CORR TOP 5 PICKED 9,11,10,5,8 (5 TOTAL ITEMS) LOW            0.798507   \n",
       "                                                   MEDIUM         0.973684   \n",
       "                                                   HIGH           0.952830   \n",
       "                                                   accuracy       0.901130   \n",
       "                                                   macro avg      0.908341   \n",
       "                                                   weighted avg   0.914173   \n",
       "HIGH CORR TOP 6 PICKED 9,11,10,5,8,7 (6 TOTAL I... LOW            0.794118   \n",
       "                                                   MEDIUM         0.982456   \n",
       "                                                   HIGH           0.971154   \n",
       "                                                   accuracy       0.906780   \n",
       "                                                   macro avg      0.915909   \n",
       "                                                   weighted avg   0.921708   \n",
       "DS PRACTICAL PICK 14,12,11,10,8,4 (6 TOTAL ITEMS)  LOW            0.811024   \n",
       "                                                   MEDIUM         0.929825   \n",
       "                                                   HIGH           0.884956   \n",
       "                                                   accuracy       0.872881   \n",
       "                                                   macro avg      0.875268   \n",
       "                                                   weighted avg   0.880525   \n",
       "HIGH CORR TOP 7 PICKED 9,11,10,5,8,7,6 (7 TOTAL... LOW            0.946903   \n",
       "                                                   MEDIUM         1.000000   \n",
       "                                                   HIGH           0.776923   \n",
       "                                                   accuracy       0.901130   \n",
       "                                                   macro avg      0.907942   \n",
       "                                                   weighted avg   0.918894   \n",
       "HIGH CORR TOP 8 PICKED 9,11,10,5,8,7,6,12 (8 TO... LOW            0.939130   \n",
       "                                                   MEDIUM         1.000000   \n",
       "                                                   HIGH           0.789062   \n",
       "                                                   accuracy       0.903955   \n",
       "                                                   macro avg      0.909398   \n",
       "                                                   weighted avg   0.920055   \n",
       "HIGH CORR TOP 9 PICKED 9,11,10,5,8,7,6,12,13 (9... LOW            0.923077   \n",
       "                                                   MEDIUM         1.000000   \n",
       "                                                   HIGH           0.795276   \n",
       "                                                   accuracy       0.901130   \n",
       "                                                   macro avg      0.906118   \n",
       "                                                   weighted avg   0.916965   \n",
       "HIGH CORR TOP 10 PICKED 9,11,10,5,8,7,6,12,13,4... LOW            0.931034   \n",
       "                                                   MEDIUM         1.000000   \n",
       "                                                   HIGH           0.790698   \n",
       "                                                   accuracy       0.901130   \n",
       "                                                   macro avg      0.907244   \n",
       "                                                   weighted avg   0.918061   \n",
       "\n",
       "                                                                   recall  \\\n",
       "Original                                           LOW           1.000000   \n",
       "                                                   MEDIUM        0.769231   \n",
       "                                                   HIGH          1.000000   \n",
       "                                                   accuracy      0.906780   \n",
       "                                                   macro avg     0.923077   \n",
       "                                                   weighted avg  0.906780   \n",
       "HIGH CORR TOP 4 PICKED 9,11,10,5 (4 TOTAL ITEMS)   LOW           0.972222   \n",
       "                                                   MEDIUM        0.636364   \n",
       "                                                   HIGH          0.980583   \n",
       "                                                   accuracy      0.838983   \n",
       "                                                   macro avg     0.863056   \n",
       "                                                   weighted avg  0.838983   \n",
       "HIGH CORR TOP 5 PICKED 9,11,10,5,8 (5 TOTAL ITEMS) LOW           0.990741   \n",
       "                                                   MEDIUM        0.776224   \n",
       "                                                   HIGH          0.980583   \n",
       "                                                   accuracy      0.901130   \n",
       "                                                   macro avg     0.915849   \n",
       "                                                   weighted avg  0.901130   \n",
       "HIGH CORR TOP 6 PICKED 9,11,10,5,8,7 (6 TOTAL I... LOW           1.000000   \n",
       "                                                   MEDIUM        0.783217   \n",
       "                                                   HIGH          0.980583   \n",
       "                                                   accuracy      0.906780   \n",
       "                                                   macro avg     0.921266   \n",
       "                                                   weighted avg  0.906780   \n",
       "DS PRACTICAL PICK 14,12,11,10,8,4 (6 TOTAL ITEMS)  LOW           0.953704   \n",
       "                                                   MEDIUM        0.741259   \n",
       "                                                   HIGH          0.970874   \n",
       "                                                   accuracy      0.872881   \n",
       "                                                   macro avg     0.888612   \n",
       "                                                   weighted avg  0.872881   \n",
       "HIGH CORR TOP 7 PICKED 9,11,10,5,8,7,6 (7 TOTAL... LOW           0.990741   \n",
       "                                                   MEDIUM        0.776224   \n",
       "                                                   HIGH          0.980583   \n",
       "                                                   accuracy      0.901130   \n",
       "                                                   macro avg     0.915849   \n",
       "                                                   weighted avg  0.901130   \n",
       "HIGH CORR TOP 8 PICKED 9,11,10,5,8,7,6,12 (8 TO... LOW           1.000000   \n",
       "                                                   MEDIUM        0.776224   \n",
       "                                                   HIGH          0.980583   \n",
       "                                                   accuracy      0.903955   \n",
       "                                                   macro avg     0.918935   \n",
       "                                                   weighted avg  0.903955   \n",
       "HIGH CORR TOP 9 PICKED 9,11,10,5,8,7,6,12,13 (9... LOW           1.000000   \n",
       "                                                   MEDIUM        0.769231   \n",
       "                                                   HIGH          0.980583   \n",
       "                                                   accuracy      0.901130   \n",
       "                                                   macro avg     0.916604   \n",
       "                                                   weighted avg  0.901130   \n",
       "HIGH CORR TOP 10 PICKED 9,11,10,5,8,7,6,12,13,4... LOW           1.000000   \n",
       "                                                   MEDIUM        0.762238   \n",
       "                                                   HIGH          0.990291   \n",
       "                                                   accuracy      0.901130   \n",
       "                                                   macro avg     0.917510   \n",
       "                                                   weighted avg  0.901130   \n",
       "\n",
       "                                                                 f1-score  \\\n",
       "Original                                           LOW           0.892562   \n",
       "                                                   MEDIUM        0.869565   \n",
       "                                                   HIGH          0.967136   \n",
       "                                                   accuracy      0.906780   \n",
       "                                                   macro avg     0.909754   \n",
       "                                                   weighted avg  0.904970   \n",
       "HIGH CORR TOP 4 PICKED 9,11,10,5 (4 TOTAL ITEMS)   LOW           0.826772   \n",
       "                                                   MEDIUM        0.761506   \n",
       "                                                   HIGH          0.939535   \n",
       "                                                   accuracy      0.838983   \n",
       "                                                   macro avg     0.842604   \n",
       "                                                   weighted avg  0.833217   \n",
       "HIGH CORR TOP 5 PICKED 9,11,10,5,8 (5 TOTAL ITEMS) LOW           0.884298   \n",
       "                                                   MEDIUM        0.863813   \n",
       "                                                   HIGH          0.966507   \n",
       "                                                   accuracy      0.901130   \n",
       "                                                   macro avg     0.904873   \n",
       "                                                   weighted avg  0.899943   \n",
       "HIGH CORR TOP 6 PICKED 9,11,10,5,8,7 (6 TOTAL I... LOW           0.885246   \n",
       "                                                   MEDIUM        0.871595   \n",
       "                                                   HIGH          0.975845   \n",
       "                                                   accuracy      0.906780   \n",
       "                                                   macro avg     0.910896   \n",
       "                                                   weighted avg  0.906093   \n",
       "DS PRACTICAL PICK 14,12,11,10,8,4 (6 TOTAL ITEMS)  LOW           0.876596   \n",
       "                                                   MEDIUM        0.824903   \n",
       "                                                   HIGH          0.925926   \n",
       "                                                   accuracy      0.872881   \n",
       "                                                   macro avg     0.875808   \n",
       "                                                   weighted avg  0.870067   \n",
       "HIGH CORR TOP 7 PICKED 9,11,10,5,8,7,6 (7 TOTAL... LOW           0.968326   \n",
       "                                                   MEDIUM        0.874016   \n",
       "                                                   HIGH          0.866953   \n",
       "                                                   accuracy      0.901130   \n",
       "                                                   macro avg     0.903098   \n",
       "                                                   weighted avg  0.900733   \n",
       "HIGH CORR TOP 8 PICKED 9,11,10,5,8,7,6,12 (8 TO... LOW           0.968610   \n",
       "                                                   MEDIUM        0.874016   \n",
       "                                                   HIGH          0.874459   \n",
       "                                                   accuracy      0.903955   \n",
       "                                                   macro avg     0.905695   \n",
       "                                                   weighted avg  0.903004   \n",
       "HIGH CORR TOP 9 PICKED 9,11,10,5,8,7,6,12,13 (9... LOW           0.960000   \n",
       "                                                   MEDIUM        0.869565   \n",
       "                                                   HIGH          0.878261   \n",
       "                                                   accuracy      0.901130   \n",
       "                                                   macro avg     0.902609   \n",
       "                                                   weighted avg  0.899686   \n",
       "HIGH CORR TOP 10 PICKED 9,11,10,5,8,7,6,12,13,4... LOW           0.964286   \n",
       "                                                   MEDIUM        0.865079   \n",
       "                                                   HIGH          0.879310   \n",
       "                                                   accuracy      0.901130   \n",
       "                                                   macro avg     0.902892   \n",
       "                                                   weighted avg  0.899486   \n",
       "\n",
       "                                                                    support  \n",
       "Original                                           LOW           108.000000  \n",
       "                                                   MEDIUM        143.000000  \n",
       "                                                   HIGH          103.000000  \n",
       "                                                   accuracy        0.906780  \n",
       "                                                   macro avg     354.000000  \n",
       "                                                   weighted avg  354.000000  \n",
       "HIGH CORR TOP 4 PICKED 9,11,10,5 (4 TOTAL ITEMS)   LOW           108.000000  \n",
       "                                                   MEDIUM        143.000000  \n",
       "                                                   HIGH          103.000000  \n",
       "                                                   accuracy        0.838983  \n",
       "                                                   macro avg     354.000000  \n",
       "                                                   weighted avg  354.000000  \n",
       "HIGH CORR TOP 5 PICKED 9,11,10,5,8 (5 TOTAL ITEMS) LOW           108.000000  \n",
       "                                                   MEDIUM        143.000000  \n",
       "                                                   HIGH          103.000000  \n",
       "                                                   accuracy        0.901130  \n",
       "                                                   macro avg     354.000000  \n",
       "                                                   weighted avg  354.000000  \n",
       "HIGH CORR TOP 6 PICKED 9,11,10,5,8,7 (6 TOTAL I... LOW           108.000000  \n",
       "                                                   MEDIUM        143.000000  \n",
       "                                                   HIGH          103.000000  \n",
       "                                                   accuracy        0.906780  \n",
       "                                                   macro avg     354.000000  \n",
       "                                                   weighted avg  354.000000  \n",
       "DS PRACTICAL PICK 14,12,11,10,8,4 (6 TOTAL ITEMS)  LOW           108.000000  \n",
       "                                                   MEDIUM        143.000000  \n",
       "                                                   HIGH          103.000000  \n",
       "                                                   accuracy        0.872881  \n",
       "                                                   macro avg     354.000000  \n",
       "                                                   weighted avg  354.000000  \n",
       "HIGH CORR TOP 7 PICKED 9,11,10,5,8,7,6 (7 TOTAL... LOW           108.000000  \n",
       "                                                   MEDIUM        143.000000  \n",
       "                                                   HIGH          103.000000  \n",
       "                                                   accuracy        0.901130  \n",
       "                                                   macro avg     354.000000  \n",
       "                                                   weighted avg  354.000000  \n",
       "HIGH CORR TOP 8 PICKED 9,11,10,5,8,7,6,12 (8 TO... LOW           108.000000  \n",
       "                                                   MEDIUM        143.000000  \n",
       "                                                   HIGH          103.000000  \n",
       "                                                   accuracy        0.903955  \n",
       "                                                   macro avg     354.000000  \n",
       "                                                   weighted avg  354.000000  \n",
       "HIGH CORR TOP 9 PICKED 9,11,10,5,8,7,6,12,13 (9... LOW           108.000000  \n",
       "                                                   MEDIUM        143.000000  \n",
       "                                                   HIGH          103.000000  \n",
       "                                                   accuracy        0.901130  \n",
       "                                                   macro avg     354.000000  \n",
       "                                                   weighted avg  354.000000  \n",
       "HIGH CORR TOP 10 PICKED 9,11,10,5,8,7,6,12,13,4... LOW           108.000000  \n",
       "                                                   MEDIUM        143.000000  \n",
       "                                                   HIGH          103.000000  \n",
       "                                                   accuracy        0.901130  \n",
       "                                                   macro avg     354.000000  \n",
       "                                                   weighted avg  354.000000  "
      ]
     },
     "execution_count": 109,
     "metadata": {},
     "output_type": "execute_result"
    }
   ],
   "source": [
    "finalex = pd.concat([ex1,ex6,ex2,ex3,ex4,ex5,ex7,ex8,ex9])\n",
    "finalex"
   ]
  },
  {
   "cell_type": "code",
   "execution_count": 110,
   "id": "004a8750",
   "metadata": {},
   "outputs": [],
   "source": [
    "finalex.to_excel(r'C:\\Users\\krunk\\OneDrive\\Documents\\CPSC 597\\Project Data\\BBS Machine Learning Data Collection (K Means Clustering).xlsx',sheet_name='K Means Clustering')"
   ]
  }
 ],
 "metadata": {
  "kernelspec": {
   "display_name": "Python 3 (ipykernel)",
   "language": "python",
   "name": "python3"
  },
  "language_info": {
   "codemirror_mode": {
    "name": "ipython",
    "version": 3
   },
   "file_extension": ".py",
   "mimetype": "text/x-python",
   "name": "python",
   "nbconvert_exporter": "python",
   "pygments_lexer": "ipython3",
   "version": "3.9.12"
  }
 },
 "nbformat": 4,
 "nbformat_minor": 5
}
