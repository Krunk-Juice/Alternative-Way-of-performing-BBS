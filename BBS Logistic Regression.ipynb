{
 "cells": [
  {
   "cell_type": "code",
   "execution_count": 1,
   "id": "ce059bfc",
   "metadata": {},
   "outputs": [],
   "source": [
    "# STANDARDS\n",
    "import pandas as pd\n",
    "import numpy as np\n",
    "import matplotlib.pyplot as plt\n",
    "import seaborn as sns\n",
    "%matplotlib inline"
   ]
  },
  {
   "cell_type": "code",
   "execution_count": 2,
   "id": "6904f655",
   "metadata": {},
   "outputs": [
    {
     "data": {
      "text/html": [
       "        <script type=\"text/javascript\">\n",
       "        window.PlotlyConfig = {MathJaxConfig: 'local'};\n",
       "        if (window.MathJax && window.MathJax.Hub && window.MathJax.Hub.Config) {window.MathJax.Hub.Config({SVG: {font: \"STIX-Web\"}});}\n",
       "        if (typeof require !== 'undefined') {\n",
       "        require.undef(\"plotly\");\n",
       "        requirejs.config({\n",
       "            paths: {\n",
       "                'plotly': ['https://cdn.plot.ly/plotly-2.14.0.min']\n",
       "            }\n",
       "        });\n",
       "        require(['plotly'], function(Plotly) {\n",
       "            window._Plotly = Plotly;\n",
       "        });\n",
       "        }\n",
       "        </script>\n",
       "        "
      ]
     },
     "metadata": {},
     "output_type": "display_data"
    },
    {
     "data": {
      "text/html": [
       "        <script type=\"text/javascript\">\n",
       "        window.PlotlyConfig = {MathJaxConfig: 'local'};\n",
       "        if (window.MathJax && window.MathJax.Hub && window.MathJax.Hub.Config) {window.MathJax.Hub.Config({SVG: {font: \"STIX-Web\"}});}\n",
       "        if (typeof require !== 'undefined') {\n",
       "        require.undef(\"plotly\");\n",
       "        requirejs.config({\n",
       "            paths: {\n",
       "                'plotly': ['https://cdn.plot.ly/plotly-2.14.0.min']\n",
       "            }\n",
       "        });\n",
       "        require(['plotly'], function(Plotly) {\n",
       "            window._Plotly = Plotly;\n",
       "        });\n",
       "        }\n",
       "        </script>\n",
       "        "
      ]
     },
     "metadata": {},
     "output_type": "display_data"
    }
   ],
   "source": [
    "# CUFFLINKS & PLOTLY\n",
    "from plotly.offline import download_plotlyjs, init_notebook_mode, plot, iplot\n",
    "import cufflinks as cf\n",
    "init_notebook_mode(connected=True)\n",
    "cf.go_offline()"
   ]
  },
  {
   "cell_type": "code",
   "execution_count": 3,
   "id": "8c826929",
   "metadata": {},
   "outputs": [
    {
     "data": {
      "text/html": [
       "<div>\n",
       "<style scoped>\n",
       "    .dataframe tbody tr th:only-of-type {\n",
       "        vertical-align: middle;\n",
       "    }\n",
       "\n",
       "    .dataframe tbody tr th {\n",
       "        vertical-align: top;\n",
       "    }\n",
       "\n",
       "    .dataframe thead th {\n",
       "        text-align: right;\n",
       "    }\n",
       "</style>\n",
       "<table border=\"1\" class=\"dataframe\">\n",
       "  <thead>\n",
       "    <tr style=\"text-align: right;\">\n",
       "      <th></th>\n",
       "      <th>Patient's Age</th>\n",
       "      <th>Item 1</th>\n",
       "      <th>Item 2</th>\n",
       "      <th>Item 3</th>\n",
       "      <th>Item 4</th>\n",
       "      <th>Item 5</th>\n",
       "      <th>Item 6</th>\n",
       "      <th>Item 7</th>\n",
       "      <th>Item 8</th>\n",
       "      <th>Item 9</th>\n",
       "      <th>Item 10</th>\n",
       "      <th>Item 11</th>\n",
       "      <th>Item 12</th>\n",
       "      <th>Item 13</th>\n",
       "      <th>Item 14</th>\n",
       "      <th>BBS Sum</th>\n",
       "      <th>Assessment of Risk</th>\n",
       "    </tr>\n",
       "  </thead>\n",
       "  <tbody>\n",
       "    <tr>\n",
       "      <th>0</th>\n",
       "      <td>97</td>\n",
       "      <td>1</td>\n",
       "      <td>0</td>\n",
       "      <td>1</td>\n",
       "      <td>1</td>\n",
       "      <td>1</td>\n",
       "      <td>0</td>\n",
       "      <td>0</td>\n",
       "      <td>1</td>\n",
       "      <td>1</td>\n",
       "      <td>0</td>\n",
       "      <td>0</td>\n",
       "      <td>0</td>\n",
       "      <td>1</td>\n",
       "      <td>1</td>\n",
       "      <td>8</td>\n",
       "      <td>HIGH</td>\n",
       "    </tr>\n",
       "    <tr>\n",
       "      <th>1</th>\n",
       "      <td>88</td>\n",
       "      <td>2</td>\n",
       "      <td>0</td>\n",
       "      <td>1</td>\n",
       "      <td>4</td>\n",
       "      <td>3</td>\n",
       "      <td>2</td>\n",
       "      <td>2</td>\n",
       "      <td>3</td>\n",
       "      <td>4</td>\n",
       "      <td>0</td>\n",
       "      <td>1</td>\n",
       "      <td>0</td>\n",
       "      <td>4</td>\n",
       "      <td>4</td>\n",
       "      <td>30</td>\n",
       "      <td>MEDIUM</td>\n",
       "    </tr>\n",
       "    <tr>\n",
       "      <th>2</th>\n",
       "      <td>73</td>\n",
       "      <td>3</td>\n",
       "      <td>4</td>\n",
       "      <td>3</td>\n",
       "      <td>2</td>\n",
       "      <td>2</td>\n",
       "      <td>0</td>\n",
       "      <td>2</td>\n",
       "      <td>3</td>\n",
       "      <td>1</td>\n",
       "      <td>0</td>\n",
       "      <td>1</td>\n",
       "      <td>2</td>\n",
       "      <td>4</td>\n",
       "      <td>3</td>\n",
       "      <td>30</td>\n",
       "      <td>MEDIUM</td>\n",
       "    </tr>\n",
       "    <tr>\n",
       "      <th>3</th>\n",
       "      <td>77</td>\n",
       "      <td>2</td>\n",
       "      <td>3</td>\n",
       "      <td>1</td>\n",
       "      <td>0</td>\n",
       "      <td>4</td>\n",
       "      <td>4</td>\n",
       "      <td>2</td>\n",
       "      <td>0</td>\n",
       "      <td>1</td>\n",
       "      <td>1</td>\n",
       "      <td>0</td>\n",
       "      <td>2</td>\n",
       "      <td>3</td>\n",
       "      <td>1</td>\n",
       "      <td>24</td>\n",
       "      <td>MEDIUM</td>\n",
       "    </tr>\n",
       "    <tr>\n",
       "      <th>4</th>\n",
       "      <td>65</td>\n",
       "      <td>3</td>\n",
       "      <td>4</td>\n",
       "      <td>1</td>\n",
       "      <td>4</td>\n",
       "      <td>4</td>\n",
       "      <td>2</td>\n",
       "      <td>4</td>\n",
       "      <td>4</td>\n",
       "      <td>2</td>\n",
       "      <td>1</td>\n",
       "      <td>2</td>\n",
       "      <td>3</td>\n",
       "      <td>3</td>\n",
       "      <td>4</td>\n",
       "      <td>41</td>\n",
       "      <td>LOW</td>\n",
       "    </tr>\n",
       "  </tbody>\n",
       "</table>\n",
       "</div>"
      ],
      "text/plain": [
       "   Patient's Age  Item 1  Item 2  Item 3  Item 4  Item 5  Item 6  Item 7  \\\n",
       "0             97       1       0       1       1       1       0       0   \n",
       "1             88       2       0       1       4       3       2       2   \n",
       "2             73       3       4       3       2       2       0       2   \n",
       "3             77       2       3       1       0       4       4       2   \n",
       "4             65       3       4       1       4       4       2       4   \n",
       "\n",
       "   Item 8  Item 9  Item 10  Item 11  Item 12  Item 13  Item 14  BBS Sum  \\\n",
       "0       1       1        0        0        0        1        1        8   \n",
       "1       3       4        0        1        0        4        4       30   \n",
       "2       3       1        0        1        2        4        3       30   \n",
       "3       0       1        1        0        2        3        1       24   \n",
       "4       4       2        1        2        3        3        4       41   \n",
       "\n",
       "  Assessment of Risk  \n",
       "0               HIGH  \n",
       "1             MEDIUM  \n",
       "2             MEDIUM  \n",
       "3             MEDIUM  \n",
       "4                LOW  "
      ]
     },
     "execution_count": 3,
     "metadata": {},
     "output_type": "execute_result"
    }
   ],
   "source": [
    "df = pd.read_excel(r'C:\\Users\\krunk\\OneDrive\\Documents\\CPSC 589\\Dataset\\BBS Dataset.xlsx',sheet_name='ReData')\n",
    "df.head()"
   ]
  },
  {
   "cell_type": "code",
   "execution_count": 4,
   "id": "5c43e091",
   "metadata": {
    "scrolled": true
   },
   "outputs": [
    {
     "data": {
      "text/plain": [
       "<AxesSubplot:xlabel='Assessment of Risk', ylabel='count'>"
      ]
     },
     "execution_count": 4,
     "metadata": {},
     "output_type": "execute_result"
    },
    {
     "data": {
      "image/png": "[encoded data removed]",
      "text/plain": [
       "<Figure size 432x288 with 1 Axes>"
      ]
     },
     "metadata": {
      "needs_background": "light"
     },
     "output_type": "display_data"
    }
   ],
   "source": [
    "sns.countplot(data=df,x='Assessment of Risk')"
   ]
  },
  {
   "cell_type": "code",
   "execution_count": 5,
   "id": "6ae502c6",
   "metadata": {},
   "outputs": [
    {
     "data": {
      "application/vnd.plotly.v1+json": {
       "config": {
        "linkText": "Export to plot.ly",
        "plotlyServerURL": "https://plot.ly",
        "showLink": true
       },
       "data": [
        {
         "histfunc": "count",
         "histnorm": "",
         "marker": {
          "color": "rgba(55, 128, 191, 1.0)",
          "line": {
           "color": "#4D5663",
           "width": 1.3
          }
         },
         "name": "Assessment of Risk",
         "opacity": 0.8,
         "orientation": "v",
         "type": "histogram",
         "x": [
          "HIGH",
          "MEDIUM",
          "MEDIUM",
          "MEDIUM",
          "LOW",
          "LOW",
          "MEDIUM",
          "MEDIUM",
          "MEDIUM",
          "MEDIUM",
          "LOW",
          "LOW",
          "MEDIUM",
          "LOW",
          "HIGH",
          "MEDIUM",
          "MEDIUM",
          "MEDIUM",
          "LOW",
          "MEDIUM",
          "HIGH",
          "HIGH",
          "MEDIUM",
          "LOW",
          "LOW",
          "MEDIUM",
          "LOW",
          "LOW",
          "MEDIUM",
          "MEDIUM",
          "MEDIUM",
          "LOW",
          "MEDIUM",
          "LOW",
          "HIGH",
          "MEDIUM",
          "MEDIUM",
          "HIGH",
          "MEDIUM",
          "MEDIUM",
          "LOW",
          "LOW",
          "MEDIUM",
          "HIGH",
          "LOW",
          "MEDIUM",
          "MEDIUM",
          "HIGH",
          "LOW",
          "MEDIUM",
          "HIGH",
          "LOW",
          "MEDIUM",
          "MEDIUM",
          "HIGH",
          "HIGH",
          "MEDIUM",
          "LOW",
          "LOW",
          "LOW",
          "MEDIUM",
          "MEDIUM",
          "MEDIUM",
          "LOW",
          "MEDIUM",
          "MEDIUM",
          "MEDIUM",
          "LOW",
          "MEDIUM",
          "MEDIUM",
          "LOW",
          "MEDIUM",
          "MEDIUM",
          "MEDIUM",
          "HIGH",
          "LOW",
          "LOW",
          "LOW",
          "LOW",
          "LOW",
          "MEDIUM",
          "MEDIUM",
          "LOW",
          "LOW",
          "LOW",
          "MEDIUM",
          "MEDIUM",
          "MEDIUM",
          "LOW",
          "MEDIUM",
          "LOW",
          "MEDIUM",
          "MEDIUM",
          "MEDIUM",
          "LOW",
          "LOW",
          "MEDIUM",
          "LOW",
          "MEDIUM",
          "MEDIUM",
          "MEDIUM",
          "MEDIUM",
          "LOW",
          "MEDIUM",
          "MEDIUM",
          "MEDIUM",
          "LOW",
          "MEDIUM",
          "MEDIUM",
          "MEDIUM",
          "MEDIUM",
          "LOW",
          "MEDIUM",
          "MEDIUM",
          "LOW",
          "LOW",
          "MEDIUM",
          "MEDIUM",
          "MEDIUM",
          "MEDIUM",
          "LOW",
          "MEDIUM",
          "MEDIUM",
          "MEDIUM",
          "MEDIUM",
          "LOW",
          "MEDIUM",
          "MEDIUM",
          "MEDIUM",
          "LOW",
          "MEDIUM",
          "MEDIUM",
          "MEDIUM",
          "MEDIUM",
          "LOW",
          "MEDIUM",
          "MEDIUM",
          "LOW",
          "MEDIUM",
          "MEDIUM",
          "MEDIUM",
          "MEDIUM",
          "MEDIUM",
          "LOW",
          "MEDIUM",
          "MEDIUM",
          "MEDIUM",
          "MEDIUM",
          "LOW",
          "MEDIUM",
          "MEDIUM",
          "MEDIUM",
          "LOW",
          "MEDIUM",
          "MEDIUM",
          "MEDIUM",
          "MEDIUM",
          "LOW",
          "MEDIUM",
          "MEDIUM",
          "LOW",
          "MEDIUM",
          "MEDIUM",
          "MEDIUM",
          "MEDIUM",
          "MEDIUM",
          "LOW",
          "MEDIUM",
          "MEDIUM",
          "MEDIUM",
          "MEDIUM",
          "LOW",
          "MEDIUM",
          "MEDIUM",
          "MEDIUM",
          "LOW",
          "MEDIUM",
          "MEDIUM",
          "MEDIUM",
          "MEDIUM",
          "LOW",
          "MEDIUM",
          "MEDIUM",
          "LOW",
          "MEDIUM",
          "MEDIUM",
          "MEDIUM",
          "MEDIUM",
          "MEDIUM",
          "LOW",
          "MEDIUM",
          "MEDIUM",
          "LOW",
          "MEDIUM",
          "HIGH",
          "MEDIUM",
          "HIGH",
          "MEDIUM",
          "LOW",
          "HIGH",
          "HIGH",
          "LOW",
          "MEDIUM",
          "LOW",
          "MEDIUM",
          "MEDIUM",
          "MEDIUM",
          "HIGH",
          "MEDIUM",
          "MEDIUM",
          "MEDIUM",
          "LOW",
          "MEDIUM",
          "MEDIUM",
          "LOW",
          "LOW",
          "MEDIUM",
          "LOW",
          "MEDIUM",
          "LOW",
          "MEDIUM",
          "MEDIUM",
          "MEDIUM",
          "MEDIUM",
          "HIGH",
          "MEDIUM",
          "HIGH",
          "HIGH",
          "HIGH",
          "HIGH",
          "HIGH",
          "HIGH",
          "HIGH",
          "HIGH",
          "HIGH",
          "HIGH",
          "HIGH",
          "HIGH",
          "HIGH",
          "HIGH",
          "HIGH",
          "HIGH",
          "HIGH",
          "HIGH",
          "HIGH",
          "HIGH",
          "HIGH",
          "HIGH",
          "HIGH",
          "HIGH",
          "HIGH",
          "HIGH",
          "HIGH",
          "HIGH",
          "HIGH",
          "HIGH",
          "HIGH",
          "HIGH",
          "HIGH",
          "HIGH",
          "HIGH",
          "LOW",
          "HIGH",
          "HIGH",
          "HIGH",
          "HIGH",
          "HIGH",
          "HIGH",
          "HIGH",
          "HIGH",
          "HIGH",
          "HIGH",
          "HIGH",
          "HIGH",
          "HIGH",
          "HIGH",
          "HIGH",
          "HIGH",
          "HIGH",
          "HIGH",
          "HIGH",
          "HIGH",
          "HIGH",
          "HIGH",
          "HIGH",
          "HIGH",
          "HIGH",
          "HIGH",
          "HIGH",
          "HIGH",
          "HIGH",
          "HIGH",
          "HIGH",
          "HIGH",
          "HIGH",
          "HIGH",
          "HIGH",
          "HIGH",
          "HIGH",
          "HIGH",
          "HIGH",
          "HIGH",
          "HIGH",
          "HIGH",
          "HIGH",
          "HIGH",
          "HIGH",
          "HIGH",
          "HIGH",
          "HIGH",
          "LOW",
          "LOW",
          "LOW",
          "LOW",
          "LOW",
          "LOW",
          "LOW",
          "LOW",
          "LOW",
          "LOW",
          "LOW",
          "LOW",
          "LOW",
          "LOW",
          "LOW",
          "LOW",
          "LOW",
          "LOW",
          "LOW",
          "LOW",
          "LOW",
          "LOW",
          "LOW",
          "LOW",
          "LOW",
          "LOW",
          "LOW",
          "LOW",
          "LOW",
          "LOW",
          "LOW",
          "MEDIUM",
          "LOW",
          "LOW",
          "LOW",
          "LOW",
          "LOW",
          "LOW",
          "LOW",
          "LOW",
          "HIGH",
          "HIGH",
          "LOW",
          "LOW"
         ]
        }
       ],
       "layout": {
        "barmode": "overlay",
        "legend": {
         "bgcolor": "#F5F6F9",
         "font": {
          "color": "#4D5663"
         }
        },
        "paper_bgcolor": "#F5F6F9",
        "plot_bgcolor": "#F5F6F9",
        "template": {
         "data": {
          "bar": [
           {
            "error_x": {
             "color": "#2a3f5f"
            },
            "error_y": {
             "color": "#2a3f5f"
            },
            "marker": {
             "line": {
              "color": "#E5ECF6",
              "width": 0.5
             },
             "pattern": {
              "fillmode": "overlay",
              "size": 10,
              "solidity": 0.2
             }
            },
            "type": "bar"
           }
          ],
          "barpolar": [
           {
            "marker": {
             "line": {
              "color": "#E5ECF6",
              "width": 0.5
             },
             "pattern": {
              "fillmode": "overlay",
              "size": 10,
              "solidity": 0.2
             }
            },
            "type": "barpolar"
           }
          ],
          "carpet": [
           {
            "aaxis": {
             "endlinecolor": "#2a3f5f",
             "gridcolor": "white",
             "linecolor": "white",
             "minorgridcolor": "white",
             "startlinecolor": "#2a3f5f"
            },
            "baxis": {
             "endlinecolor": "#2a3f5f",
             "gridcolor": "white",
             "linecolor": "white",
             "minorgridcolor": "white",
             "startlinecolor": "#2a3f5f"
            },
            "type": "carpet"
           }
          ],
          "choropleth": [
           {
            "colorbar": {
             "outlinewidth": 0,
             "ticks": ""
            },
            "type": "choropleth"
           }
          ],
          "contour": [
           {
            "colorbar": {
             "outlinewidth": 0,
             "ticks": ""
            },
            "colorscale": [
             [
              0,
              "#0d0887"
             ],
             [
              0.1111111111111111,
              "#46039f"
             ],
             [
              0.2222222222222222,
              "#7201a8"
             ],
             [
              0.3333333333333333,
              "#9c179e"
             ],
             [
              0.4444444444444444,
              "#bd3786"
             ],
             [
              0.5555555555555556,
              "#d8576b"
             ],
             [
              0.6666666666666666,
              "#ed7953"
             ],
             [
              0.7777777777777778,
              "#fb9f3a"
             ],
             [
              0.8888888888888888,
              "#fdca26"
             ],
             [
              1,
              "#f0f921"
             ]
            ],
            "type": "contour"
           }
          ],
          "contourcarpet": [
           {
            "colorbar": {
             "outlinewidth": 0,
             "ticks": ""
            },
            "type": "contourcarpet"
           }
          ],
          "heatmap": [
           {
            "colorbar": {
             "outlinewidth": 0,
             "ticks": ""
            },
            "colorscale": [
             [
              0,
              "#0d0887"
             ],
             [
              0.1111111111111111,
              "#46039f"
             ],
             [
              0.2222222222222222,
              "#7201a8"
             ],
             [
              0.3333333333333333,
              "#9c179e"
             ],
             [
              0.4444444444444444,
              "#bd3786"
             ],
             [
              0.5555555555555556,
              "#d8576b"
             ],
             [
              0.6666666666666666,
              "#ed7953"
             ],
             [
              0.7777777777777778,
              "#fb9f3a"
             ],
             [
              0.8888888888888888,
              "#fdca26"
             ],
             [
              1,
              "#f0f921"
             ]
            ],
            "type": "heatmap"
           }
          ],
          "heatmapgl": [
           {
            "colorbar": {
             "outlinewidth": 0,
             "ticks": ""
            },
            "colorscale": [
             [
              0,
              "#0d0887"
             ],
             [
              0.1111111111111111,
              "#46039f"
             ],
             [
              0.2222222222222222,
              "#7201a8"
             ],
             [
              0.3333333333333333,
              "#9c179e"
             ],
             [
              0.4444444444444444,
              "#bd3786"
             ],
             [
              0.5555555555555556,
              "#d8576b"
             ],
             [
              0.6666666666666666,
              "#ed7953"
             ],
             [
              0.7777777777777778,
              "#fb9f3a"
             ],
             [
              0.8888888888888888,
              "#fdca26"
             ],
             [
              1,
              "#f0f921"
             ]
            ],
            "type": "heatmapgl"
           }
          ],
          "histogram": [
           {
            "marker": {
             "pattern": {
              "fillmode": "overlay",
              "size": 10,
              "solidity": 0.2
             }
            },
            "type": "histogram"
           }
          ],
          "histogram2d": [
           {
            "colorbar": {
             "outlinewidth": 0,
             "ticks": ""
            },
            "colorscale": [
             [
              0,
              "#0d0887"
             ],
             [
              0.1111111111111111,
              "#46039f"
             ],
             [
              0.2222222222222222,
              "#7201a8"
             ],
             [
              0.3333333333333333,
              "#9c179e"
             ],
             [
              0.4444444444444444,
              "#bd3786"
             ],
             [
              0.5555555555555556,
              "#d8576b"
             ],
             [
              0.6666666666666666,
              "#ed7953"
             ],
             [
              0.7777777777777778,
              "#fb9f3a"
             ],
             [
              0.8888888888888888,
              "#fdca26"
             ],
             [
              1,
              "#f0f921"
             ]
            ],
            "type": "histogram2d"
           }
          ],
          "histogram2dcontour": [
           {
            "colorbar": {
             "outlinewidth": 0,
             "ticks": ""
            },
            "colorscale": [
             [
              0,
              "#0d0887"
             ],
             [
              0.1111111111111111,
              "#46039f"
             ],
             [
              0.2222222222222222,
              "#7201a8"
             ],
             [
              0.3333333333333333,
              "#9c179e"
             ],
             [
              0.4444444444444444,
              "#bd3786"
             ],
             [
              0.5555555555555556,
              "#d8576b"
             ],
             [
              0.6666666666666666,
              "#ed7953"
             ],
             [
              0.7777777777777778,
              "#fb9f3a"
             ],
             [
              0.8888888888888888,
              "#fdca26"
             ],
             [
              1,
              "#f0f921"
             ]
            ],
            "type": "histogram2dcontour"
           }
          ],
          "mesh3d": [
           {
            "colorbar": {
             "outlinewidth": 0,
             "ticks": ""
            },
            "type": "mesh3d"
           }
          ],
          "parcoords": [
           {
            "line": {
             "colorbar": {
              "outlinewidth": 0,
              "ticks": ""
             }
            },
            "type": "parcoords"
           }
          ],
          "pie": [
           {
            "automargin": true,
            "type": "pie"
           }
          ],
          "scatter": [
           {
            "fillpattern": {
             "fillmode": "overlay",
             "size": 10,
             "solidity": 0.2
            },
            "type": "scatter"
           }
          ],
          "scatter3d": [
           {
            "line": {
             "colorbar": {
              "outlinewidth": 0,
              "ticks": ""
             }
            },
            "marker": {
             "colorbar": {
              "outlinewidth": 0,
              "ticks": ""
             }
            },
            "type": "scatter3d"
           }
          ],
          "scattercarpet": [
           {
            "marker": {
             "colorbar": {
              "outlinewidth": 0,
              "ticks": ""
             }
            },
            "type": "scattercarpet"
           }
          ],
          "scattergeo": [
           {
            "marker": {
             "colorbar": {
              "outlinewidth": 0,
              "ticks": ""
             }
            },
            "type": "scattergeo"
           }
          ],
          "scattergl": [
           {
            "marker": {
             "colorbar": {
              "outlinewidth": 0,
              "ticks": ""
             }
            },
            "type": "scattergl"
           }
          ],
          "scattermapbox": [
           {
            "marker": {
             "colorbar": {
              "outlinewidth": 0,
              "ticks": ""
             }
            },
            "type": "scattermapbox"
           }
          ],
          "scatterpolar": [
           {
            "marker": {
             "colorbar": {
              "outlinewidth": 0,
              "ticks": ""
             }
            },
            "type": "scatterpolar"
           }
          ],
          "scatterpolargl": [
           {
            "marker": {
             "colorbar": {
              "outlinewidth": 0,
              "ticks": ""
             }
            },
            "type": "scatterpolargl"
           }
          ],
          "scatterternary": [
           {
            "marker": {
             "colorbar": {
              "outlinewidth": 0,
              "ticks": ""
             }
            },
            "type": "scatterternary"
           }
          ],
          "surface": [
           {
            "colorbar": {
             "outlinewidth": 0,
             "ticks": ""
            },
            "colorscale": [
             [
              0,
              "#0d0887"
             ],
             [
              0.1111111111111111,
              "#46039f"
             ],
             [
              0.2222222222222222,
              "#7201a8"
             ],
             [
              0.3333333333333333,
              "#9c179e"
             ],
             [
              0.4444444444444444,
              "#bd3786"
             ],
             [
              0.5555555555555556,
              "#d8576b"
             ],
             [
              0.6666666666666666,
              "#ed7953"
             ],
             [
              0.7777777777777778,
              "#fb9f3a"
             ],
             [
              0.8888888888888888,
              "#fdca26"
             ],
             [
              1,
              "#f0f921"
             ]
            ],
            "type": "surface"
           }
          ],
          "table": [
           {
            "cells": {
             "fill": {
              "color": "#EBF0F8"
             },
             "line": {
              "color": "white"
             }
            },
            "header": {
             "fill": {
              "color": "#C8D4E3"
             },
             "line": {
              "color": "white"
             }
            },
            "type": "table"
           }
          ]
         },
         "layout": {
          "annotationdefaults": {
           "arrowcolor": "#2a3f5f",
           "arrowhead": 0,
           "arrowwidth": 1
          },
          "autotypenumbers": "strict",
          "coloraxis": {
           "colorbar": {
            "outlinewidth": 0,
            "ticks": ""
           }
          },
          "colorscale": {
           "diverging": [
            [
             0,
             "#8e0152"
            ],
            [
             0.1,
             "#c51b7d"
            ],
            [
             0.2,
             "#de77ae"
            ],
            [
             0.3,
             "#f1b6da"
            ],
            [
             0.4,
             "#fde0ef"
            ],
            [
             0.5,
             "#f7f7f7"
            ],
            [
             0.6,
             "#e6f5d0"
            ],
            [
             0.7,
             "#b8e186"
            ],
            [
             0.8,
             "#7fbc41"
            ],
            [
             0.9,
             "#4d9221"
            ],
            [
             1,
             "#276419"
            ]
           ],
           "sequential": [
            [
             0,
             "#0d0887"
            ],
            [
             0.1111111111111111,
             "#46039f"
            ],
            [
             0.2222222222222222,
             "#7201a8"
            ],
            [
             0.3333333333333333,
             "#9c179e"
            ],
            [
             0.4444444444444444,
             "#bd3786"
            ],
            [
             0.5555555555555556,
             "#d8576b"
            ],
            [
             0.6666666666666666,
             "#ed7953"
            ],
            [
             0.7777777777777778,
             "#fb9f3a"
            ],
            [
             0.8888888888888888,
             "#fdca26"
            ],
            [
             1,
             "#f0f921"
            ]
           ],
           "sequentialminus": [
            [
             0,
             "#0d0887"
            ],
            [
             0.1111111111111111,
             "#46039f"
            ],
            [
             0.2222222222222222,
             "#7201a8"
            ],
            [
             0.3333333333333333,
             "#9c179e"
            ],
            [
             0.4444444444444444,
             "#bd3786"
            ],
            [
             0.5555555555555556,
             "#d8576b"
            ],
            [
             0.6666666666666666,
             "#ed7953"
            ],
            [
             0.7777777777777778,
             "#fb9f3a"
            ],
            [
             0.8888888888888888,
             "#fdca26"
            ],
            [
             1,
             "#f0f921"
            ]
           ]
          },
          "colorway": [
           "#636efa",
           "#EF553B",
           "#00cc96",
           "#ab63fa",
           "#FFA15A",
           "#19d3f3",
           "#FF6692",
           "#B6E880",
           "#FF97FF",
           "#FECB52"
          ],
          "font": {
           "color": "#2a3f5f"
          },
          "geo": {
           "bgcolor": "white",
           "lakecolor": "white",
           "landcolor": "#E5ECF6",
           "showlakes": true,
           "showland": true,
           "subunitcolor": "white"
          },
          "hoverlabel": {
           "align": "left"
          },
          "hovermode": "closest",
          "mapbox": {
           "style": "light"
          },
          "paper_bgcolor": "white",
          "plot_bgcolor": "#E5ECF6",
          "polar": {
           "angularaxis": {
            "gridcolor": "white",
            "linecolor": "white",
            "ticks": ""
           },
           "bgcolor": "#E5ECF6",
           "radialaxis": {
            "gridcolor": "white",
            "linecolor": "white",
            "ticks": ""
           }
          },
          "scene": {
           "xaxis": {
            "backgroundcolor": "#E5ECF6",
            "gridcolor": "white",
            "gridwidth": 2,
            "linecolor": "white",
            "showbackground": true,
            "ticks": "",
            "zerolinecolor": "white"
           },
           "yaxis": {
            "backgroundcolor": "#E5ECF6",
            "gridcolor": "white",
            "gridwidth": 2,
            "linecolor": "white",
            "showbackground": true,
            "ticks": "",
            "zerolinecolor": "white"
           },
           "zaxis": {
            "backgroundcolor": "#E5ECF6",
            "gridcolor": "white",
            "gridwidth": 2,
            "linecolor": "white",
            "showbackground": true,
            "ticks": "",
            "zerolinecolor": "white"
           }
          },
          "shapedefaults": {
           "line": {
            "color": "#2a3f5f"
           }
          },
          "ternary": {
           "aaxis": {
            "gridcolor": "white",
            "linecolor": "white",
            "ticks": ""
           },
           "baxis": {
            "gridcolor": "white",
            "linecolor": "white",
            "ticks": ""
           },
           "bgcolor": "#E5ECF6",
           "caxis": {
            "gridcolor": "white",
            "linecolor": "white",
            "ticks": ""
           }
          },
          "title": {
           "x": 0.05
          },
          "xaxis": {
           "automargin": true,
           "gridcolor": "white",
           "linecolor": "white",
           "ticks": "",
           "title": {
            "standoff": 15
           },
           "zerolinecolor": "white",
           "zerolinewidth": 2
          },
          "yaxis": {
           "automargin": true,
           "gridcolor": "white",
           "linecolor": "white",
           "ticks": "",
           "title": {
            "standoff": 15
           },
           "zerolinecolor": "white",
           "zerolinewidth": 2
          }
         }
        },
        "title": {
         "font": {
          "color": "#4D5663"
         }
        },
        "xaxis": {
         "gridcolor": "#E1E5ED",
         "showgrid": true,
         "tickfont": {
          "color": "#4D5663"
         },
         "title": {
          "font": {
           "color": "#4D5663"
          },
          "text": ""
         },
         "zerolinecolor": "#E1E5ED"
        },
        "yaxis": {
         "gridcolor": "#E1E5ED",
         "showgrid": true,
         "tickfont": {
          "color": "#4D5663"
         },
         "title": {
          "font": {
           "color": "#4D5663"
          },
          "text": ""
         },
         "zerolinecolor": "#E1E5ED"
        }
       }
      },
      "text/html": [
       "<div>                            <div id=\"ecc540f3-d787-41ad-b6cc-e999570e1bd1\" class=\"plotly-graph-div\" style=\"height:525px; width:100%;\"></div>            <script type=\"text/javascript\">                require([\"plotly\"], function(Plotly) {                    window.PLOTLYENV=window.PLOTLYENV || {};\n",
       "                    window.PLOTLYENV.BASE_URL='https://plot.ly';                                    if (document.getElementById(\"ecc540f3-d787-41ad-b6cc-e999570e1bd1\")) {                    Plotly.newPlot(                        \"ecc540f3-d787-41ad-b6cc-e999570e1bd1\",                        [{\"histfunc\":\"count\",\"histnorm\":\"\",\"marker\":{\"color\":\"rgba(55, 128, 191, 1.0)\",\"line\":{\"color\":\"#4D5663\",\"width\":1.3}},\"name\":\"Assessment of Risk\",\"opacity\":0.8,\"orientation\":\"v\",\"x\":[\"HIGH\",\"MEDIUM\",\"MEDIUM\",\"MEDIUM\",\"LOW\",\"LOW\",\"MEDIUM\",\"MEDIUM\",\"MEDIUM\",\"MEDIUM\",\"LOW\",\"LOW\",\"MEDIUM\",\"LOW\",\"HIGH\",\"MEDIUM\",\"MEDIUM\",\"MEDIUM\",\"LOW\",\"MEDIUM\",\"HIGH\",\"HIGH\",\"MEDIUM\",\"LOW\",\"LOW\",\"MEDIUM\",\"LOW\",\"LOW\",\"MEDIUM\",\"MEDIUM\",\"MEDIUM\",\"LOW\",\"MEDIUM\",\"LOW\",\"HIGH\",\"MEDIUM\",\"MEDIUM\",\"HIGH\",\"MEDIUM\",\"MEDIUM\",\"LOW\",\"LOW\",\"MEDIUM\",\"HIGH\",\"LOW\",\"MEDIUM\",\"MEDIUM\",\"HIGH\",\"LOW\",\"MEDIUM\",\"HIGH\",\"LOW\",\"MEDIUM\",\"MEDIUM\",\"HIGH\",\"HIGH\",\"MEDIUM\",\"LOW\",\"LOW\",\"LOW\",\"MEDIUM\",\"MEDIUM\",\"MEDIUM\",\"LOW\",\"MEDIUM\",\"MEDIUM\",\"MEDIUM\",\"LOW\",\"MEDIUM\",\"MEDIUM\",\"LOW\",\"MEDIUM\",\"MEDIUM\",\"MEDIUM\",\"HIGH\",\"LOW\",\"LOW\",\"LOW\",\"LOW\",\"LOW\",\"MEDIUM\",\"MEDIUM\",\"LOW\",\"LOW\",\"LOW\",\"MEDIUM\",\"MEDIUM\",\"MEDIUM\",\"LOW\",\"MEDIUM\",\"LOW\",\"MEDIUM\",\"MEDIUM\",\"MEDIUM\",\"LOW\",\"LOW\",\"MEDIUM\",\"LOW\",\"MEDIUM\",\"MEDIUM\",\"MEDIUM\",\"MEDIUM\",\"LOW\",\"MEDIUM\",\"MEDIUM\",\"MEDIUM\",\"LOW\",\"MEDIUM\",\"MEDIUM\",\"MEDIUM\",\"MEDIUM\",\"LOW\",\"MEDIUM\",\"MEDIUM\",\"LOW\",\"LOW\",\"MEDIUM\",\"MEDIUM\",\"MEDIUM\",\"MEDIUM\",\"LOW\",\"MEDIUM\",\"MEDIUM\",\"MEDIUM\",\"MEDIUM\",\"LOW\",\"MEDIUM\",\"MEDIUM\",\"MEDIUM\",\"LOW\",\"MEDIUM\",\"MEDIUM\",\"MEDIUM\",\"MEDIUM\",\"LOW\",\"MEDIUM\",\"MEDIUM\",\"LOW\",\"MEDIUM\",\"MEDIUM\",\"MEDIUM\",\"MEDIUM\",\"MEDIUM\",\"LOW\",\"MEDIUM\",\"MEDIUM\",\"MEDIUM\",\"MEDIUM\",\"LOW\",\"MEDIUM\",\"MEDIUM\",\"MEDIUM\",\"LOW\",\"MEDIUM\",\"MEDIUM\",\"MEDIUM\",\"MEDIUM\",\"LOW\",\"MEDIUM\",\"MEDIUM\",\"LOW\",\"MEDIUM\",\"MEDIUM\",\"MEDIUM\",\"MEDIUM\",\"MEDIUM\",\"LOW\",\"MEDIUM\",\"MEDIUM\",\"MEDIUM\",\"MEDIUM\",\"LOW\",\"MEDIUM\",\"MEDIUM\",\"MEDIUM\",\"LOW\",\"MEDIUM\",\"MEDIUM\",\"MEDIUM\",\"MEDIUM\",\"LOW\",\"MEDIUM\",\"MEDIUM\",\"LOW\",\"MEDIUM\",\"MEDIUM\",\"MEDIUM\",\"MEDIUM\",\"MEDIUM\",\"LOW\",\"MEDIUM\",\"MEDIUM\",\"LOW\",\"MEDIUM\",\"HIGH\",\"MEDIUM\",\"HIGH\",\"MEDIUM\",\"LOW\",\"HIGH\",\"HIGH\",\"LOW\",\"MEDIUM\",\"LOW\",\"MEDIUM\",\"MEDIUM\",\"MEDIUM\",\"HIGH\",\"MEDIUM\",\"MEDIUM\",\"MEDIUM\",\"LOW\",\"MEDIUM\",\"MEDIUM\",\"LOW\",\"LOW\",\"MEDIUM\",\"LOW\",\"MEDIUM\",\"LOW\",\"MEDIUM\",\"MEDIUM\",\"MEDIUM\",\"MEDIUM\",\"HIGH\",\"MEDIUM\",\"HIGH\",\"HIGH\",\"HIGH\",\"HIGH\",\"HIGH\",\"HIGH\",\"HIGH\",\"HIGH\",\"HIGH\",\"HIGH\",\"HIGH\",\"HIGH\",\"HIGH\",\"HIGH\",\"HIGH\",\"HIGH\",\"HIGH\",\"HIGH\",\"HIGH\",\"HIGH\",\"HIGH\",\"HIGH\",\"HIGH\",\"HIGH\",\"HIGH\",\"HIGH\",\"HIGH\",\"HIGH\",\"HIGH\",\"HIGH\",\"HIGH\",\"HIGH\",\"HIGH\",\"HIGH\",\"HIGH\",\"LOW\",\"HIGH\",\"HIGH\",\"HIGH\",\"HIGH\",\"HIGH\",\"HIGH\",\"HIGH\",\"HIGH\",\"HIGH\",\"HIGH\",\"HIGH\",\"HIGH\",\"HIGH\",\"HIGH\",\"HIGH\",\"HIGH\",\"HIGH\",\"HIGH\",\"HIGH\",\"HIGH\",\"HIGH\",\"HIGH\",\"HIGH\",\"HIGH\",\"HIGH\",\"HIGH\",\"HIGH\",\"HIGH\",\"HIGH\",\"HIGH\",\"HIGH\",\"HIGH\",\"HIGH\",\"HIGH\",\"HIGH\",\"HIGH\",\"HIGH\",\"HIGH\",\"HIGH\",\"HIGH\",\"HIGH\",\"HIGH\",\"HIGH\",\"HIGH\",\"HIGH\",\"HIGH\",\"HIGH\",\"HIGH\",\"LOW\",\"LOW\",\"LOW\",\"LOW\",\"LOW\",\"LOW\",\"LOW\",\"LOW\",\"LOW\",\"LOW\",\"LOW\",\"LOW\",\"LOW\",\"LOW\",\"LOW\",\"LOW\",\"LOW\",\"LOW\",\"LOW\",\"LOW\",\"LOW\",\"LOW\",\"LOW\",\"LOW\",\"LOW\",\"LOW\",\"LOW\",\"LOW\",\"LOW\",\"LOW\",\"LOW\",\"MEDIUM\",\"LOW\",\"LOW\",\"LOW\",\"LOW\",\"LOW\",\"LOW\",\"LOW\",\"LOW\",\"HIGH\",\"HIGH\",\"LOW\",\"LOW\"],\"type\":\"histogram\"}],                        {\"barmode\":\"overlay\",\"legend\":{\"bgcolor\":\"#F5F6F9\",\"font\":{\"color\":\"#4D5663\"}},\"paper_bgcolor\":\"#F5F6F9\",\"plot_bgcolor\":\"#F5F6F9\",\"template\":{\"data\":{\"barpolar\":[{\"marker\":{\"line\":{\"color\":\"#E5ECF6\",\"width\":0.5},\"pattern\":{\"fillmode\":\"overlay\",\"size\":10,\"solidity\":0.2}},\"type\":\"barpolar\"}],\"bar\":[{\"error_x\":{\"color\":\"#2a3f5f\"},\"error_y\":{\"color\":\"#2a3f5f\"},\"marker\":{\"line\":{\"color\":\"#E5ECF6\",\"width\":0.5},\"pattern\":{\"fillmode\":\"overlay\",\"size\":10,\"solidity\":0.2}},\"type\":\"bar\"}],\"carpet\":[{\"aaxis\":{\"endlinecolor\":\"#2a3f5f\",\"gridcolor\":\"white\",\"linecolor\":\"white\",\"minorgridcolor\":\"white\",\"startlinecolor\":\"#2a3f5f\"},\"baxis\":{\"endlinecolor\":\"#2a3f5f\",\"gridcolor\":\"white\",\"linecolor\":\"white\",\"minorgridcolor\":\"white\",\"startlinecolor\":\"#2a3f5f\"},\"type\":\"carpet\"}],\"choropleth\":[{\"colorbar\":{\"outlinewidth\":0,\"ticks\":\"\"},\"type\":\"choropleth\"}],\"contourcarpet\":[{\"colorbar\":{\"outlinewidth\":0,\"ticks\":\"\"},\"type\":\"contourcarpet\"}],\"contour\":[{\"colorbar\":{\"outlinewidth\":0,\"ticks\":\"\"},\"colorscale\":[[0.0,\"#0d0887\"],[0.1111111111111111,\"#46039f\"],[0.2222222222222222,\"#7201a8\"],[0.3333333333333333,\"#9c179e\"],[0.4444444444444444,\"#bd3786\"],[0.5555555555555556,\"#d8576b\"],[0.6666666666666666,\"#ed7953\"],[0.7777777777777778,\"#fb9f3a\"],[0.8888888888888888,\"#fdca26\"],[1.0,\"#f0f921\"]],\"type\":\"contour\"}],\"heatmapgl\":[{\"colorbar\":{\"outlinewidth\":0,\"ticks\":\"\"},\"colorscale\":[[0.0,\"#0d0887\"],[0.1111111111111111,\"#46039f\"],[0.2222222222222222,\"#7201a8\"],[0.3333333333333333,\"#9c179e\"],[0.4444444444444444,\"#bd3786\"],[0.5555555555555556,\"#d8576b\"],[0.6666666666666666,\"#ed7953\"],[0.7777777777777778,\"#fb9f3a\"],[0.8888888888888888,\"#fdca26\"],[1.0,\"#f0f921\"]],\"type\":\"heatmapgl\"}],\"heatmap\":[{\"colorbar\":{\"outlinewidth\":0,\"ticks\":\"\"},\"colorscale\":[[0.0,\"#0d0887\"],[0.1111111111111111,\"#46039f\"],[0.2222222222222222,\"#7201a8\"],[0.3333333333333333,\"#9c179e\"],[0.4444444444444444,\"#bd3786\"],[0.5555555555555556,\"#d8576b\"],[0.6666666666666666,\"#ed7953\"],[0.7777777777777778,\"#fb9f3a\"],[0.8888888888888888,\"#fdca26\"],[1.0,\"#f0f921\"]],\"type\":\"heatmap\"}],\"histogram2dcontour\":[{\"colorbar\":{\"outlinewidth\":0,\"ticks\":\"\"},\"colorscale\":[[0.0,\"#0d0887\"],[0.1111111111111111,\"#46039f\"],[0.2222222222222222,\"#7201a8\"],[0.3333333333333333,\"#9c179e\"],[0.4444444444444444,\"#bd3786\"],[0.5555555555555556,\"#d8576b\"],[0.6666666666666666,\"#ed7953\"],[0.7777777777777778,\"#fb9f3a\"],[0.8888888888888888,\"#fdca26\"],[1.0,\"#f0f921\"]],\"type\":\"histogram2dcontour\"}],\"histogram2d\":[{\"colorbar\":{\"outlinewidth\":0,\"ticks\":\"\"},\"colorscale\":[[0.0,\"#0d0887\"],[0.1111111111111111,\"#46039f\"],[0.2222222222222222,\"#7201a8\"],[0.3333333333333333,\"#9c179e\"],[0.4444444444444444,\"#bd3786\"],[0.5555555555555556,\"#d8576b\"],[0.6666666666666666,\"#ed7953\"],[0.7777777777777778,\"#fb9f3a\"],[0.8888888888888888,\"#fdca26\"],[1.0,\"#f0f921\"]],\"type\":\"histogram2d\"}],\"histogram\":[{\"marker\":{\"pattern\":{\"fillmode\":\"overlay\",\"size\":10,\"solidity\":0.2}},\"type\":\"histogram\"}],\"mesh3d\":[{\"colorbar\":{\"outlinewidth\":0,\"ticks\":\"\"},\"type\":\"mesh3d\"}],\"parcoords\":[{\"line\":{\"colorbar\":{\"outlinewidth\":0,\"ticks\":\"\"}},\"type\":\"parcoords\"}],\"pie\":[{\"automargin\":true,\"type\":\"pie\"}],\"scatter3d\":[{\"line\":{\"colorbar\":{\"outlinewidth\":0,\"ticks\":\"\"}},\"marker\":{\"colorbar\":{\"outlinewidth\":0,\"ticks\":\"\"}},\"type\":\"scatter3d\"}],\"scattercarpet\":[{\"marker\":{\"colorbar\":{\"outlinewidth\":0,\"ticks\":\"\"}},\"type\":\"scattercarpet\"}],\"scattergeo\":[{\"marker\":{\"colorbar\":{\"outlinewidth\":0,\"ticks\":\"\"}},\"type\":\"scattergeo\"}],\"scattergl\":[{\"marker\":{\"colorbar\":{\"outlinewidth\":0,\"ticks\":\"\"}},\"type\":\"scattergl\"}],\"scattermapbox\":[{\"marker\":{\"colorbar\":{\"outlinewidth\":0,\"ticks\":\"\"}},\"type\":\"scattermapbox\"}],\"scatterpolargl\":[{\"marker\":{\"colorbar\":{\"outlinewidth\":0,\"ticks\":\"\"}},\"type\":\"scatterpolargl\"}],\"scatterpolar\":[{\"marker\":{\"colorbar\":{\"outlinewidth\":0,\"ticks\":\"\"}},\"type\":\"scatterpolar\"}],\"scatter\":[{\"fillpattern\":{\"fillmode\":\"overlay\",\"size\":10,\"solidity\":0.2},\"type\":\"scatter\"}],\"scatterternary\":[{\"marker\":{\"colorbar\":{\"outlinewidth\":0,\"ticks\":\"\"}},\"type\":\"scatterternary\"}],\"surface\":[{\"colorbar\":{\"outlinewidth\":0,\"ticks\":\"\"},\"colorscale\":[[0.0,\"#0d0887\"],[0.1111111111111111,\"#46039f\"],[0.2222222222222222,\"#7201a8\"],[0.3333333333333333,\"#9c179e\"],[0.4444444444444444,\"#bd3786\"],[0.5555555555555556,\"#d8576b\"],[0.6666666666666666,\"#ed7953\"],[0.7777777777777778,\"#fb9f3a\"],[0.8888888888888888,\"#fdca26\"],[1.0,\"#f0f921\"]],\"type\":\"surface\"}],\"table\":[{\"cells\":{\"fill\":{\"color\":\"#EBF0F8\"},\"line\":{\"color\":\"white\"}},\"header\":{\"fill\":{\"color\":\"#C8D4E3\"},\"line\":{\"color\":\"white\"}},\"type\":\"table\"}]},\"layout\":{\"annotationdefaults\":{\"arrowcolor\":\"#2a3f5f\",\"arrowhead\":0,\"arrowwidth\":1},\"autotypenumbers\":\"strict\",\"coloraxis\":{\"colorbar\":{\"outlinewidth\":0,\"ticks\":\"\"}},\"colorscale\":{\"diverging\":[[0,\"#8e0152\"],[0.1,\"#c51b7d\"],[0.2,\"#de77ae\"],[0.3,\"#f1b6da\"],[0.4,\"#fde0ef\"],[0.5,\"#f7f7f7\"],[0.6,\"#e6f5d0\"],[0.7,\"#b8e186\"],[0.8,\"#7fbc41\"],[0.9,\"#4d9221\"],[1,\"#276419\"]],\"sequential\":[[0.0,\"#0d0887\"],[0.1111111111111111,\"#46039f\"],[0.2222222222222222,\"#7201a8\"],[0.3333333333333333,\"#9c179e\"],[0.4444444444444444,\"#bd3786\"],[0.5555555555555556,\"#d8576b\"],[0.6666666666666666,\"#ed7953\"],[0.7777777777777778,\"#fb9f3a\"],[0.8888888888888888,\"#fdca26\"],[1.0,\"#f0f921\"]],\"sequentialminus\":[[0.0,\"#0d0887\"],[0.1111111111111111,\"#46039f\"],[0.2222222222222222,\"#7201a8\"],[0.3333333333333333,\"#9c179e\"],[0.4444444444444444,\"#bd3786\"],[0.5555555555555556,\"#d8576b\"],[0.6666666666666666,\"#ed7953\"],[0.7777777777777778,\"#fb9f3a\"],[0.8888888888888888,\"#fdca26\"],[1.0,\"#f0f921\"]]},\"colorway\":[\"#636efa\",\"#EF553B\",\"#00cc96\",\"#ab63fa\",\"#FFA15A\",\"#19d3f3\",\"#FF6692\",\"#B6E880\",\"#FF97FF\",\"#FECB52\"],\"font\":{\"color\":\"#2a3f5f\"},\"geo\":{\"bgcolor\":\"white\",\"lakecolor\":\"white\",\"landcolor\":\"#E5ECF6\",\"showlakes\":true,\"showland\":true,\"subunitcolor\":\"white\"},\"hoverlabel\":{\"align\":\"left\"},\"hovermode\":\"closest\",\"mapbox\":{\"style\":\"light\"},\"paper_bgcolor\":\"white\",\"plot_bgcolor\":\"#E5ECF6\",\"polar\":{\"angularaxis\":{\"gridcolor\":\"white\",\"linecolor\":\"white\",\"ticks\":\"\"},\"bgcolor\":\"#E5ECF6\",\"radialaxis\":{\"gridcolor\":\"white\",\"linecolor\":\"white\",\"ticks\":\"\"}},\"scene\":{\"xaxis\":{\"backgroundcolor\":\"#E5ECF6\",\"gridcolor\":\"white\",\"gridwidth\":2,\"linecolor\":\"white\",\"showbackground\":true,\"ticks\":\"\",\"zerolinecolor\":\"white\"},\"yaxis\":{\"backgroundcolor\":\"#E5ECF6\",\"gridcolor\":\"white\",\"gridwidth\":2,\"linecolor\":\"white\",\"showbackground\":true,\"ticks\":\"\",\"zerolinecolor\":\"white\"},\"zaxis\":{\"backgroundcolor\":\"#E5ECF6\",\"gridcolor\":\"white\",\"gridwidth\":2,\"linecolor\":\"white\",\"showbackground\":true,\"ticks\":\"\",\"zerolinecolor\":\"white\"}},\"shapedefaults\":{\"line\":{\"color\":\"#2a3f5f\"}},\"ternary\":{\"aaxis\":{\"gridcolor\":\"white\",\"linecolor\":\"white\",\"ticks\":\"\"},\"baxis\":{\"gridcolor\":\"white\",\"linecolor\":\"white\",\"ticks\":\"\"},\"bgcolor\":\"#E5ECF6\",\"caxis\":{\"gridcolor\":\"white\",\"linecolor\":\"white\",\"ticks\":\"\"}},\"title\":{\"x\":0.05},\"xaxis\":{\"automargin\":true,\"gridcolor\":\"white\",\"linecolor\":\"white\",\"ticks\":\"\",\"title\":{\"standoff\":15},\"zerolinecolor\":\"white\",\"zerolinewidth\":2},\"yaxis\":{\"automargin\":true,\"gridcolor\":\"white\",\"linecolor\":\"white\",\"ticks\":\"\",\"title\":{\"standoff\":15},\"zerolinecolor\":\"white\",\"zerolinewidth\":2}}},\"title\":{\"font\":{\"color\":\"#4D5663\"}},\"xaxis\":{\"gridcolor\":\"#E1E5ED\",\"showgrid\":true,\"tickfont\":{\"color\":\"#4D5663\"},\"title\":{\"font\":{\"color\":\"#4D5663\"},\"text\":\"\"},\"zerolinecolor\":\"#E1E5ED\"},\"yaxis\":{\"gridcolor\":\"#E1E5ED\",\"showgrid\":true,\"tickfont\":{\"color\":\"#4D5663\"},\"title\":{\"font\":{\"color\":\"#4D5663\"},\"text\":\"\"},\"zerolinecolor\":\"#E1E5ED\"}},                        {\"showLink\": true, \"linkText\": \"Export to plot.ly\", \"plotlyServerURL\": \"https://plot.ly\", \"responsive\": true}                    ).then(function(){\n",
       "                            \n",
       "var gd = document.getElementById('ecc540f3-d787-41ad-b6cc-e999570e1bd1');\n",
       "var x = new MutationObserver(function (mutations, observer) {{\n",
       "        var display = window.getComputedStyle(gd).display;\n",
       "        if (!display || display === 'none') {{\n",
       "            console.log([gd, 'removed!']);\n",
       "            Plotly.purge(gd);\n",
       "            observer.disconnect();\n",
       "        }}\n",
       "}});\n",
       "\n",
       "// Listen for the removal of the full notebook cells\n",
       "var notebookContainer = gd.closest('#notebook-container');\n",
       "if (notebookContainer) {{\n",
       "    x.observe(notebookContainer, {childList: true});\n",
       "}}\n",
       "\n",
       "// Listen for the clearing of the current output cell\n",
       "var outputEl = gd.closest('.output');\n",
       "if (outputEl) {{\n",
       "    x.observe(outputEl, {childList: true});\n",
       "}}\n",
       "\n",
       "                        })                };                });            </script>        </div>"
      ]
     },
     "metadata": {},
     "output_type": "display_data"
    }
   ],
   "source": [
    "df['Assessment of Risk'].iplot(kind='hist',color='blue')"
   ]
  },
  {
   "cell_type": "code",
   "execution_count": 6,
   "id": "e100751a",
   "metadata": {
    "scrolled": true
   },
   "outputs": [
    {
     "data": {
      "text/plain": [
       "<AxesSubplot:xlabel=\"Patient's Age\", ylabel='Count'>"
      ]
     },
     "execution_count": 6,
     "metadata": {},
     "output_type": "execute_result"
    },
    {
     "data": {
      "image/png": "[encoded data removed]",
      "text/plain": [
       "<Figure size 432x288 with 1 Axes>"
      ]
     },
     "metadata": {
      "needs_background": "light"
     },
     "output_type": "display_data"
    }
   ],
   "source": [
    "sns.histplot(df['Patient\\'s Age'],bins=50)"
   ]
  },
  {
   "cell_type": "code",
   "execution_count": 7,
   "id": "f38e38e3",
   "metadata": {},
   "outputs": [
    {
     "data": {
      "text/plain": [
       "\"rof = pd.get_dummies(df['Assessment of Risk'],drop_first=True)\\ndf.drop('Assessment of Risk',axis=1,inplace=True)\\ndf = pd.concat([df,rof],axis=1)\\ndf.head()\""
      ]
     },
     "execution_count": 7,
     "metadata": {},
     "output_type": "execute_result"
    }
   ],
   "source": [
    "# CONVERTING CATEGORICAL LABELS\n",
    "\"\"\"rof = pd.get_dummies(df['Assessment of Risk'],drop_first=True)\n",
    "df.drop('Assessment of Risk',axis=1,inplace=True)\n",
    "df = pd.concat([df,rof],axis=1)\n",
    "df.head()\"\"\""
   ]
  },
  {
   "cell_type": "code",
   "execution_count": 8,
   "id": "60a8a2c2",
   "metadata": {},
   "outputs": [],
   "source": [
    "from sklearn.model_selection import train_test_split"
   ]
  },
  {
   "cell_type": "code",
   "execution_count": 9,
   "id": "ba18a91f",
   "metadata": {},
   "outputs": [],
   "source": [
    "rs = 3717"
   ]
  },
  {
   "cell_type": "code",
   "execution_count": 10,
   "id": "9ebdca1a",
   "metadata": {},
   "outputs": [],
   "source": [
    "# ALL ITEMS INCLUDED"
   ]
  },
  {
   "cell_type": "code",
   "execution_count": 11,
   "id": "466dc2c9",
   "metadata": {},
   "outputs": [],
   "source": [
    "X_train, X_test, y_train, y_test = train_test_split(df.drop(['Patient\\'s Age','BBS Sum','Assessment of Risk'],axis=1), \n",
    "                                                    df['Assessment of Risk'], test_size=0.30, \n",
    "                                                    random_state=rs)"
   ]
  },
  {
   "cell_type": "code",
   "execution_count": 12,
   "id": "239ddcae",
   "metadata": {},
   "outputs": [],
   "source": [
    "from sklearn.linear_model import LogisticRegression"
   ]
  },
  {
   "cell_type": "code",
   "execution_count": 13,
   "id": "bd469bcf",
   "metadata": {},
   "outputs": [],
   "source": [
    "logmodel = LogisticRegression(solver='lbfgs', max_iter=10000)\n",
    "logmodel.fit(X_train,y_train)\n",
    "y_predict = logmodel.predict(X_test)"
   ]
  },
  {
   "cell_type": "code",
   "execution_count": 14,
   "id": "fe0544e5",
   "metadata": {},
   "outputs": [],
   "source": [
    "from sklearn.metrics import classification_report,confusion_matrix"
   ]
  },
  {
   "cell_type": "code",
   "execution_count": 15,
   "id": "a3af9ff5",
   "metadata": {
    "scrolled": true
   },
   "outputs": [
    {
     "name": "stdout",
     "output_type": "stream",
     "text": [
      "[[39  0  0]\n",
      " [ 0 36  1]\n",
      " [ 0  0 31]]\n",
      "              precision    recall  f1-score   support\n",
      "\n",
      "         LOW       1.00      1.00      1.00        39\n",
      "      MEDIUM       1.00      0.97      0.99        37\n",
      "        HIGH       0.97      1.00      0.98        31\n",
      "\n",
      "    accuracy                           0.99       107\n",
      "   macro avg       0.99      0.99      0.99       107\n",
      "weighted avg       0.99      0.99      0.99       107\n",
      "\n"
     ]
    }
   ],
   "source": [
    "print(confusion_matrix(y_test,y_predict,labels=['LOW','MEDIUM','HIGH']))\n",
    "print(classification_report(y_test,y_predict,labels=['LOW','MEDIUM','HIGH']))"
   ]
  },
  {
   "cell_type": "code",
   "execution_count": 16,
   "id": "9a6cc994",
   "metadata": {},
   "outputs": [],
   "source": [
    "# HIGH CORR TOP 4 PICKED 9,11,10,5 (4 TOTAL ITEMS)"
   ]
  },
  {
   "cell_type": "code",
   "execution_count": 17,
   "id": "87de7b67",
   "metadata": {},
   "outputs": [
    {
     "name": "stdout",
     "output_type": "stream",
     "text": [
      "[[38  1  0]\n",
      " [ 6 31  0]\n",
      " [ 0  2 29]]\n",
      "              precision    recall  f1-score   support\n",
      "\n",
      "         LOW       0.86      0.97      0.92        39\n",
      "      MEDIUM       0.91      0.84      0.87        37\n",
      "        HIGH       1.00      0.94      0.97        31\n",
      "\n",
      "    accuracy                           0.92       107\n",
      "   macro avg       0.93      0.92      0.92       107\n",
      "weighted avg       0.92      0.92      0.92       107\n",
      "\n"
     ]
    }
   ],
   "source": [
    "e_text = 'HIGH CORR TOP 4 PICKED 9,11,10,5 (4 TOTAL ITEMS)'\n",
    "Xe_train, Xe_test, ye_train, ye_test = train_test_split(df[['Item 5','Item 9','Item 10','Item 11']], \n",
    "                                                    df['Assessment of Risk'], test_size=0.30, \n",
    "                                                    random_state=rs)\n",
    "logmodele = LogisticRegression(solver='lbfgs', max_iter=10000)\n",
    "logmodele.fit(Xe_train,ye_train)\n",
    "ye_predict = logmodele.predict(Xe_test)\n",
    "print(confusion_matrix(ye_test,ye_predict,labels=['LOW','MEDIUM','HIGH']))\n",
    "print(classification_report(ye_test,ye_predict,labels=['LOW','MEDIUM','HIGH']))"
   ]
  },
  {
   "cell_type": "code",
   "execution_count": 18,
   "id": "30f008b9",
   "metadata": {},
   "outputs": [],
   "source": [
    "# HIGH CORR TOP 5 PICKED 9,11,10,5,8 (5 TOTAL ITEMS)"
   ]
  },
  {
   "cell_type": "code",
   "execution_count": 19,
   "id": "589c84b7",
   "metadata": {},
   "outputs": [
    {
     "name": "stdout",
     "output_type": "stream",
     "text": [
      "[[39  0  0]\n",
      " [ 1 35  1]\n",
      " [ 0  0 31]]\n",
      "              precision    recall  f1-score   support\n",
      "\n",
      "         LOW       0.97      1.00      0.99        39\n",
      "      MEDIUM       1.00      0.95      0.97        37\n",
      "        HIGH       0.97      1.00      0.98        31\n",
      "\n",
      "    accuracy                           0.98       107\n",
      "   macro avg       0.98      0.98      0.98       107\n",
      "weighted avg       0.98      0.98      0.98       107\n",
      "\n"
     ]
    }
   ],
   "source": [
    "Xa_train, Xa_test, ya_train, ya_test = train_test_split(df[['Item 5','Item 8','Item 9','Item 10','Item 11']], \n",
    "                                                    df['Assessment of Risk'], test_size=0.30, \n",
    "                                                    random_state=rs)\n",
    "logmodela = LogisticRegression(solver='lbfgs', max_iter=10000)\n",
    "logmodela.fit(Xa_train,ya_train)\n",
    "ya_predict = logmodela.predict(Xa_test)\n",
    "print(confusion_matrix(ya_test,ya_predict,labels=['LOW','MEDIUM','HIGH']))\n",
    "print(classification_report(ya_test,ya_predict,labels=['LOW','MEDIUM','HIGH']))"
   ]
  },
  {
   "cell_type": "code",
   "execution_count": 20,
   "id": "0324b7cb",
   "metadata": {},
   "outputs": [],
   "source": [
    "# HIGH CORR TOP 6 PICKED 9,11,10,5,8,7 (6 TOTAL ITEMS)"
   ]
  },
  {
   "cell_type": "code",
   "execution_count": 21,
   "id": "c9d9cfac",
   "metadata": {},
   "outputs": [
    {
     "name": "stdout",
     "output_type": "stream",
     "text": [
      "[[39  0  0]\n",
      " [ 0 36  1]\n",
      " [ 0  0 31]]\n",
      "              precision    recall  f1-score   support\n",
      "\n",
      "         LOW       1.00      1.00      1.00        39\n",
      "      MEDIUM       1.00      0.97      0.99        37\n",
      "        HIGH       0.97      1.00      0.98        31\n",
      "\n",
      "    accuracy                           0.99       107\n",
      "   macro avg       0.99      0.99      0.99       107\n",
      "weighted avg       0.99      0.99      0.99       107\n",
      "\n"
     ]
    }
   ],
   "source": [
    "Xb_train, Xb_test, yb_train, yb_test = train_test_split(df[['Item 5','Item 7','Item 8','Item 9','Item 10','Item 11']], \n",
    "                                                    df['Assessment of Risk'], test_size=0.30, \n",
    "                                                    random_state=rs)\n",
    "logmodelb = LogisticRegression(solver='lbfgs', max_iter=10000)\n",
    "logmodelb.fit(Xb_train,yb_train)\n",
    "yb_predict = logmodelb.predict(Xb_test)\n",
    "print(confusion_matrix(yb_test,yb_predict,labels=['LOW','MEDIUM','HIGH']))\n",
    "print(classification_report(yb_test,yb_predict,labels=['LOW','MEDIUM','HIGH']))"
   ]
  },
  {
   "cell_type": "code",
   "execution_count": 22,
   "id": "516172b5",
   "metadata": {},
   "outputs": [],
   "source": [
    "# DS PRACTICAL PICK 14,12,11,10,8,4 (6 TOTAL ITEMS)"
   ]
  },
  {
   "cell_type": "code",
   "execution_count": 23,
   "id": "28716770",
   "metadata": {},
   "outputs": [
    {
     "name": "stdout",
     "output_type": "stream",
     "text": [
      "[[39  0  0]\n",
      " [ 2 33  2]\n",
      " [ 0  1 30]]\n",
      "              precision    recall  f1-score   support\n",
      "\n",
      "         LOW       0.95      1.00      0.97        39\n",
      "      MEDIUM       0.97      0.89      0.93        37\n",
      "        HIGH       0.94      0.97      0.95        31\n",
      "\n",
      "    accuracy                           0.95       107\n",
      "   macro avg       0.95      0.95      0.95       107\n",
      "weighted avg       0.95      0.95      0.95       107\n",
      "\n"
     ]
    }
   ],
   "source": [
    "Xc_train, Xc_test, yc_train, yc_test = train_test_split(df[['Item 4','Item 8','Item 10','Item 11','Item 12','Item 14']], \n",
    "                                                    df['Assessment of Risk'], test_size=0.30, \n",
    "                                                    random_state=rs)\n",
    "logmodelc = LogisticRegression(solver='lbfgs', max_iter=10000)\n",
    "logmodelc.fit(Xc_train,yc_train)\n",
    "yc_predict = logmodelc.predict(Xc_test)\n",
    "print(confusion_matrix(yc_test,yc_predict,labels=['LOW','MEDIUM','HIGH']))\n",
    "print(classification_report(yc_test,yc_predict,labels=['LOW','MEDIUM','HIGH']))"
   ]
  },
  {
   "cell_type": "code",
   "execution_count": 24,
   "id": "4ae70fb3",
   "metadata": {},
   "outputs": [],
   "source": [
    "# HIGH CORR TOP 7 PICKED 9,11,10,5,8,7,6 (7 TOTAL ITEMS)"
   ]
  },
  {
   "cell_type": "code",
   "execution_count": 25,
   "id": "f9210b17",
   "metadata": {
    "scrolled": true
   },
   "outputs": [
    {
     "name": "stdout",
     "output_type": "stream",
     "text": [
      "[[39  0  0]\n",
      " [ 0 36  1]\n",
      " [ 0  0 31]]\n",
      "              precision    recall  f1-score   support\n",
      "\n",
      "         LOW       1.00      1.00      1.00        39\n",
      "      MEDIUM       1.00      0.97      0.99        37\n",
      "        HIGH       0.97      1.00      0.98        31\n",
      "\n",
      "    accuracy                           0.99       107\n",
      "   macro avg       0.99      0.99      0.99       107\n",
      "weighted avg       0.99      0.99      0.99       107\n",
      "\n"
     ]
    }
   ],
   "source": [
    "Xd_train, Xd_test, yd_train, yd_test = train_test_split(df[['Item 5','Item 6','Item 7','Item 8','Item 9','Item 10','Item 11']], \n",
    "                                                    df['Assessment of Risk'], test_size=0.30, \n",
    "                                                    random_state=rs)\n",
    "logmodeld = LogisticRegression(solver='lbfgs', max_iter=10000)\n",
    "logmodeld.fit(Xd_train,yd_train)\n",
    "yd_predict = logmodeld.predict(Xd_test)\n",
    "print(confusion_matrix(yd_test,yd_predict,labels=['LOW','MEDIUM','HIGH']))\n",
    "print(classification_report(yd_test,yd_predict,labels=['LOW','MEDIUM','HIGH']))"
   ]
  },
  {
   "cell_type": "code",
   "execution_count": 26,
   "id": "faf2e5e4",
   "metadata": {},
   "outputs": [],
   "source": [
    "# HIGH CORR TOP 8 PICKED 9,11,10,5,8,7,6,12 (8 TOTAL ITEMS)"
   ]
  },
  {
   "cell_type": "code",
   "execution_count": 27,
   "id": "425f9f94",
   "metadata": {},
   "outputs": [
    {
     "name": "stdout",
     "output_type": "stream",
     "text": [
      "[[39  0  0]\n",
      " [ 0 36  1]\n",
      " [ 0  0 31]]\n",
      "              precision    recall  f1-score   support\n",
      "\n",
      "         LOW       1.00      1.00      1.00        39\n",
      "      MEDIUM       1.00      0.97      0.99        37\n",
      "        HIGH       0.97      1.00      0.98        31\n",
      "\n",
      "    accuracy                           0.99       107\n",
      "   macro avg       0.99      0.99      0.99       107\n",
      "weighted avg       0.99      0.99      0.99       107\n",
      "\n"
     ]
    }
   ],
   "source": [
    "f_text = 'HIGH CORR TOP 8 PICKED 9,11,10,5,8,7,6,12 (8 TOTAL ITEMS)'\n",
    "Xf_train, Xf_test, yf_train, yf_test = train_test_split(df[['Item 5','Item 6','Item 7','Item 8','Item 9','Item 10','Item 11','Item 12']], \n",
    "                                                    df['Assessment of Risk'], test_size=0.30, \n",
    "                                                    random_state=rs)\n",
    "logmodelf = LogisticRegression(solver='lbfgs', max_iter=10000)\n",
    "logmodelf.fit(Xf_train,yf_train)\n",
    "yf_predict = logmodelf.predict(Xf_test)\n",
    "print(confusion_matrix(yf_test,yf_predict,labels=['LOW','MEDIUM','HIGH']))\n",
    "print(classification_report(yf_test,yf_predict,labels=['LOW','MEDIUM','HIGH']))"
   ]
  },
  {
   "cell_type": "code",
   "execution_count": 28,
   "id": "0fa77295",
   "metadata": {},
   "outputs": [],
   "source": [
    "# HIGH CORR TOP 9 PICKED 9,11,10,5,8,7,6,12,13 (9 TOTAL ITEMS)"
   ]
  },
  {
   "cell_type": "code",
   "execution_count": 29,
   "id": "71e870c1",
   "metadata": {},
   "outputs": [
    {
     "name": "stdout",
     "output_type": "stream",
     "text": [
      "[[37  2  0]\n",
      " [ 0 36  1]\n",
      " [ 0  0 31]]\n",
      "              precision    recall  f1-score   support\n",
      "\n",
      "         LOW       1.00      0.95      0.97        39\n",
      "      MEDIUM       0.95      0.97      0.96        37\n",
      "        HIGH       0.97      1.00      0.98        31\n",
      "\n",
      "    accuracy                           0.97       107\n",
      "   macro avg       0.97      0.97      0.97       107\n",
      "weighted avg       0.97      0.97      0.97       107\n",
      "\n"
     ]
    }
   ],
   "source": [
    "g_text = 'HIGH CORR TOP 9 PICKED 9,11,10,5,8,7,6,12,13 (9 TOTAL ITEMS)'\n",
    "Xg_train, Xg_test, yg_train, yg_test = train_test_split(df[['Item 5','Item 6','Item 7','Item 8','Item 9','Item 10','Item 11','Item 12','Item 13']], \n",
    "                                                    df['Assessment of Risk'], test_size=0.30, \n",
    "                                                    random_state=rs)\n",
    "logmodelg = LogisticRegression(solver='lbfgs', max_iter=10000)\n",
    "logmodelg.fit(Xg_train,yg_train)\n",
    "yg_predict = logmodelg.predict(Xg_test)\n",
    "print(confusion_matrix(yg_test,yg_predict,labels=['LOW','MEDIUM','HIGH']))\n",
    "print(classification_report(yg_test,yg_predict,labels=['LOW','MEDIUM','HIGH']))"
   ]
  },
  {
   "cell_type": "code",
   "execution_count": 30,
   "id": "8cd621dc",
   "metadata": {},
   "outputs": [],
   "source": [
    "# HIGH CORR TOP 10 PICKED 9,11,10,5,8,7,6,12,13,4 (10 TOTAL ITEMS)"
   ]
  },
  {
   "cell_type": "code",
   "execution_count": 31,
   "id": "51c1fbcd",
   "metadata": {},
   "outputs": [
    {
     "name": "stdout",
     "output_type": "stream",
     "text": [
      "[[38  1  0]\n",
      " [ 0 36  1]\n",
      " [ 0  0 31]]\n",
      "              precision    recall  f1-score   support\n",
      "\n",
      "         LOW       1.00      0.97      0.99        39\n",
      "      MEDIUM       0.97      0.97      0.97        37\n",
      "        HIGH       0.97      1.00      0.98        31\n",
      "\n",
      "    accuracy                           0.98       107\n",
      "   macro avg       0.98      0.98      0.98       107\n",
      "weighted avg       0.98      0.98      0.98       107\n",
      "\n"
     ]
    }
   ],
   "source": [
    "h_text = 'HIGH CORR TOP 10 PICKED 9,11,10,5,8,7,6,12,13,4 (10 TOTAL ITEMS)'\n",
    "Xh_train, Xh_test, yh_train, yh_test = train_test_split(df[['Item 4','Item 5','Item 6','Item 7','Item 8','Item 9','Item 10','Item 11','Item 12','Item 13']], \n",
    "                                                    df['Assessment of Risk'], test_size=0.30, \n",
    "                                                    random_state=rs)\n",
    "logmodelh = LogisticRegression(solver='lbfgs', max_iter=10000)\n",
    "logmodelh.fit(Xh_train,yh_train)\n",
    "yh_predict = logmodelh.predict(Xh_test)\n",
    "print(confusion_matrix(yh_test,yh_predict,labels=['LOW','MEDIUM','HIGH']))\n",
    "print(classification_report(yh_test,yh_predict,labels=['LOW','MEDIUM','HIGH']))"
   ]
  },
  {
   "cell_type": "code",
   "execution_count": 32,
   "id": "b296af4a",
   "metadata": {
    "scrolled": false
   },
   "outputs": [
    {
     "data": {
      "text/html": [
       "<div>\n",
       "<style scoped>\n",
       "    .dataframe tbody tr th:only-of-type {\n",
       "        vertical-align: middle;\n",
       "    }\n",
       "\n",
       "    .dataframe tbody tr th {\n",
       "        vertical-align: top;\n",
       "    }\n",
       "\n",
       "    .dataframe thead th {\n",
       "        text-align: right;\n",
       "    }\n",
       "</style>\n",
       "<table border=\"1\" class=\"dataframe\">\n",
       "  <thead>\n",
       "    <tr style=\"text-align: right;\">\n",
       "      <th></th>\n",
       "      <th></th>\n",
       "      <th>LOW</th>\n",
       "      <th>MEDIUM</th>\n",
       "      <th>HIGH</th>\n",
       "      <th>precision</th>\n",
       "      <th>recall</th>\n",
       "      <th>f1-score</th>\n",
       "      <th>support</th>\n",
       "    </tr>\n",
       "  </thead>\n",
       "  <tbody>\n",
       "    <tr>\n",
       "      <th rowspan=\"6\" valign=\"top\">Original</th>\n",
       "      <th>LOW</th>\n",
       "      <td>39.0</td>\n",
       "      <td>0.0</td>\n",
       "      <td>0.0</td>\n",
       "      <td>1.000000</td>\n",
       "      <td>1.000000</td>\n",
       "      <td>1.000000</td>\n",
       "      <td>39.000000</td>\n",
       "    </tr>\n",
       "    <tr>\n",
       "      <th>MEDIUM</th>\n",
       "      <td>0.0</td>\n",
       "      <td>36.0</td>\n",
       "      <td>1.0</td>\n",
       "      <td>1.000000</td>\n",
       "      <td>0.972973</td>\n",
       "      <td>0.986301</td>\n",
       "      <td>37.000000</td>\n",
       "    </tr>\n",
       "    <tr>\n",
       "      <th>HIGH</th>\n",
       "      <td>0.0</td>\n",
       "      <td>0.0</td>\n",
       "      <td>31.0</td>\n",
       "      <td>0.968750</td>\n",
       "      <td>1.000000</td>\n",
       "      <td>0.984127</td>\n",
       "      <td>31.000000</td>\n",
       "    </tr>\n",
       "    <tr>\n",
       "      <th>accuracy</th>\n",
       "      <td>NaN</td>\n",
       "      <td>NaN</td>\n",
       "      <td>NaN</td>\n",
       "      <td>0.990654</td>\n",
       "      <td>0.990654</td>\n",
       "      <td>0.990654</td>\n",
       "      <td>0.990654</td>\n",
       "    </tr>\n",
       "    <tr>\n",
       "      <th>macro avg</th>\n",
       "      <td>NaN</td>\n",
       "      <td>NaN</td>\n",
       "      <td>NaN</td>\n",
       "      <td>0.989583</td>\n",
       "      <td>0.990991</td>\n",
       "      <td>0.990143</td>\n",
       "      <td>107.000000</td>\n",
       "    </tr>\n",
       "    <tr>\n",
       "      <th>weighted avg</th>\n",
       "      <td>NaN</td>\n",
       "      <td>NaN</td>\n",
       "      <td>NaN</td>\n",
       "      <td>0.990946</td>\n",
       "      <td>0.990654</td>\n",
       "      <td>0.990664</td>\n",
       "      <td>107.000000</td>\n",
       "    </tr>\n",
       "    <tr>\n",
       "      <th rowspan=\"6\" valign=\"top\">HIGH CORR TOP 4 PICKED 9,11,10,5 (4 TOTAL ITEMS)</th>\n",
       "      <th>LOW</th>\n",
       "      <td>38.0</td>\n",
       "      <td>1.0</td>\n",
       "      <td>0.0</td>\n",
       "      <td>0.863636</td>\n",
       "      <td>0.974359</td>\n",
       "      <td>0.915663</td>\n",
       "      <td>39.000000</td>\n",
       "    </tr>\n",
       "    <tr>\n",
       "      <th>MEDIUM</th>\n",
       "      <td>6.0</td>\n",
       "      <td>31.0</td>\n",
       "      <td>0.0</td>\n",
       "      <td>0.911765</td>\n",
       "      <td>0.837838</td>\n",
       "      <td>0.873239</td>\n",
       "      <td>37.000000</td>\n",
       "    </tr>\n",
       "    <tr>\n",
       "      <th>HIGH</th>\n",
       "      <td>0.0</td>\n",
       "      <td>2.0</td>\n",
       "      <td>29.0</td>\n",
       "      <td>1.000000</td>\n",
       "      <td>0.935484</td>\n",
       "      <td>0.966667</td>\n",
       "      <td>31.000000</td>\n",
       "    </tr>\n",
       "    <tr>\n",
       "      <th>accuracy</th>\n",
       "      <td>NaN</td>\n",
       "      <td>NaN</td>\n",
       "      <td>NaN</td>\n",
       "      <td>0.915888</td>\n",
       "      <td>0.915888</td>\n",
       "      <td>0.915888</td>\n",
       "      <td>0.915888</td>\n",
       "    </tr>\n",
       "    <tr>\n",
       "      <th>macro avg</th>\n",
       "      <td>NaN</td>\n",
       "      <td>NaN</td>\n",
       "      <td>NaN</td>\n",
       "      <td>0.925134</td>\n",
       "      <td>0.915894</td>\n",
       "      <td>0.918523</td>\n",
       "      <td>107.000000</td>\n",
       "    </tr>\n",
       "    <tr>\n",
       "      <th>weighted avg</th>\n",
       "      <td>NaN</td>\n",
       "      <td>NaN</td>\n",
       "      <td>NaN</td>\n",
       "      <td>0.919786</td>\n",
       "      <td>0.915888</td>\n",
       "      <td>0.915770</td>\n",
       "      <td>107.000000</td>\n",
       "    </tr>\n",
       "    <tr>\n",
       "      <th rowspan=\"6\" valign=\"top\">HIGH CORR TOP 5 PICKED 9,11,10,5,8 (5 TOTAL ITEMS)</th>\n",
       "      <th>LOW</th>\n",
       "      <td>39.0</td>\n",
       "      <td>0.0</td>\n",
       "      <td>0.0</td>\n",
       "      <td>0.975000</td>\n",
       "      <td>1.000000</td>\n",
       "      <td>0.987342</td>\n",
       "      <td>39.000000</td>\n",
       "    </tr>\n",
       "    <tr>\n",
       "      <th>MEDIUM</th>\n",
       "      <td>1.0</td>\n",
       "      <td>35.0</td>\n",
       "      <td>1.0</td>\n",
       "      <td>1.000000</td>\n",
       "      <td>0.945946</td>\n",
       "      <td>0.972222</td>\n",
       "      <td>37.000000</td>\n",
       "    </tr>\n",
       "    <tr>\n",
       "      <th>HIGH</th>\n",
       "      <td>0.0</td>\n",
       "      <td>0.0</td>\n",
       "      <td>31.0</td>\n",
       "      <td>0.968750</td>\n",
       "      <td>1.000000</td>\n",
       "      <td>0.984127</td>\n",
       "      <td>31.000000</td>\n",
       "    </tr>\n",
       "    <tr>\n",
       "      <th>accuracy</th>\n",
       "      <td>NaN</td>\n",
       "      <td>NaN</td>\n",
       "      <td>NaN</td>\n",
       "      <td>0.981308</td>\n",
       "      <td>0.981308</td>\n",
       "      <td>0.981308</td>\n",
       "      <td>0.981308</td>\n",
       "    </tr>\n",
       "    <tr>\n",
       "      <th>macro avg</th>\n",
       "      <td>NaN</td>\n",
       "      <td>NaN</td>\n",
       "      <td>NaN</td>\n",
       "      <td>0.981250</td>\n",
       "      <td>0.981982</td>\n",
       "      <td>0.981230</td>\n",
       "      <td>107.000000</td>\n",
       "    </tr>\n",
       "    <tr>\n",
       "      <th>weighted avg</th>\n",
       "      <td>NaN</td>\n",
       "      <td>NaN</td>\n",
       "      <td>NaN</td>\n",
       "      <td>0.981834</td>\n",
       "      <td>0.981308</td>\n",
       "      <td>0.981182</td>\n",
       "      <td>107.000000</td>\n",
       "    </tr>\n",
       "    <tr>\n",
       "      <th rowspan=\"6\" valign=\"top\">HIGH CORR TOP 6 PICKED 9,11,10,5,8,7 (6 TOTAL ITEMS)</th>\n",
       "      <th>LOW</th>\n",
       "      <td>39.0</td>\n",
       "      <td>0.0</td>\n",
       "      <td>0.0</td>\n",
       "      <td>1.000000</td>\n",
       "      <td>1.000000</td>\n",
       "      <td>1.000000</td>\n",
       "      <td>39.000000</td>\n",
       "    </tr>\n",
       "    <tr>\n",
       "      <th>MEDIUM</th>\n",
       "      <td>0.0</td>\n",
       "      <td>36.0</td>\n",
       "      <td>1.0</td>\n",
       "      <td>1.000000</td>\n",
       "      <td>0.972973</td>\n",
       "      <td>0.986301</td>\n",
       "      <td>37.000000</td>\n",
       "    </tr>\n",
       "    <tr>\n",
       "      <th>HIGH</th>\n",
       "      <td>0.0</td>\n",
       "      <td>0.0</td>\n",
       "      <td>31.0</td>\n",
       "      <td>0.968750</td>\n",
       "      <td>1.000000</td>\n",
       "      <td>0.984127</td>\n",
       "      <td>31.000000</td>\n",
       "    </tr>\n",
       "    <tr>\n",
       "      <th>accuracy</th>\n",
       "      <td>NaN</td>\n",
       "      <td>NaN</td>\n",
       "      <td>NaN</td>\n",
       "      <td>0.990654</td>\n",
       "      <td>0.990654</td>\n",
       "      <td>0.990654</td>\n",
       "      <td>0.990654</td>\n",
       "    </tr>\n",
       "    <tr>\n",
       "      <th>macro avg</th>\n",
       "      <td>NaN</td>\n",
       "      <td>NaN</td>\n",
       "      <td>NaN</td>\n",
       "      <td>0.989583</td>\n",
       "      <td>0.990991</td>\n",
       "      <td>0.990143</td>\n",
       "      <td>107.000000</td>\n",
       "    </tr>\n",
       "    <tr>\n",
       "      <th>weighted avg</th>\n",
       "      <td>NaN</td>\n",
       "      <td>NaN</td>\n",
       "      <td>NaN</td>\n",
       "      <td>0.990946</td>\n",
       "      <td>0.990654</td>\n",
       "      <td>0.990664</td>\n",
       "      <td>107.000000</td>\n",
       "    </tr>\n",
       "    <tr>\n",
       "      <th rowspan=\"6\" valign=\"top\">DS PRACTICAL PICK 14,12,11,10,8,4 (6 TOTAL ITEMS)</th>\n",
       "      <th>LOW</th>\n",
       "      <td>39.0</td>\n",
       "      <td>0.0</td>\n",
       "      <td>0.0</td>\n",
       "      <td>0.951220</td>\n",
       "      <td>1.000000</td>\n",
       "      <td>0.975000</td>\n",
       "      <td>39.000000</td>\n",
       "    </tr>\n",
       "    <tr>\n",
       "      <th>MEDIUM</th>\n",
       "      <td>2.0</td>\n",
       "      <td>33.0</td>\n",
       "      <td>2.0</td>\n",
       "      <td>0.970588</td>\n",
       "      <td>0.891892</td>\n",
       "      <td>0.929577</td>\n",
       "      <td>37.000000</td>\n",
       "    </tr>\n",
       "    <tr>\n",
       "      <th>HIGH</th>\n",
       "      <td>0.0</td>\n",
       "      <td>1.0</td>\n",
       "      <td>30.0</td>\n",
       "      <td>0.937500</td>\n",
       "      <td>0.967742</td>\n",
       "      <td>0.952381</td>\n",
       "      <td>31.000000</td>\n",
       "    </tr>\n",
       "    <tr>\n",
       "      <th>accuracy</th>\n",
       "      <td>NaN</td>\n",
       "      <td>NaN</td>\n",
       "      <td>NaN</td>\n",
       "      <td>0.953271</td>\n",
       "      <td>0.953271</td>\n",
       "      <td>0.953271</td>\n",
       "      <td>0.953271</td>\n",
       "    </tr>\n",
       "    <tr>\n",
       "      <th>macro avg</th>\n",
       "      <td>NaN</td>\n",
       "      <td>NaN</td>\n",
       "      <td>NaN</td>\n",
       "      <td>0.953103</td>\n",
       "      <td>0.953211</td>\n",
       "      <td>0.952319</td>\n",
       "      <td>107.000000</td>\n",
       "    </tr>\n",
       "    <tr>\n",
       "      <th>weighted avg</th>\n",
       "      <td>NaN</td>\n",
       "      <td>NaN</td>\n",
       "      <td>NaN</td>\n",
       "      <td>0.953942</td>\n",
       "      <td>0.953271</td>\n",
       "      <td>0.952740</td>\n",
       "      <td>107.000000</td>\n",
       "    </tr>\n",
       "    <tr>\n",
       "      <th rowspan=\"6\" valign=\"top\">HIGH CORR TOP 7 PICKED 9,11,10,5,8,7,6 (7 TOTAL ITEMS)</th>\n",
       "      <th>LOW</th>\n",
       "      <td>39.0</td>\n",
       "      <td>0.0</td>\n",
       "      <td>0.0</td>\n",
       "      <td>1.000000</td>\n",
       "      <td>1.000000</td>\n",
       "      <td>1.000000</td>\n",
       "      <td>39.000000</td>\n",
       "    </tr>\n",
       "    <tr>\n",
       "      <th>MEDIUM</th>\n",
       "      <td>0.0</td>\n",
       "      <td>36.0</td>\n",
       "      <td>1.0</td>\n",
       "      <td>1.000000</td>\n",
       "      <td>0.972973</td>\n",
       "      <td>0.986301</td>\n",
       "      <td>37.000000</td>\n",
       "    </tr>\n",
       "    <tr>\n",
       "      <th>HIGH</th>\n",
       "      <td>0.0</td>\n",
       "      <td>0.0</td>\n",
       "      <td>31.0</td>\n",
       "      <td>0.968750</td>\n",
       "      <td>1.000000</td>\n",
       "      <td>0.984127</td>\n",
       "      <td>31.000000</td>\n",
       "    </tr>\n",
       "    <tr>\n",
       "      <th>accuracy</th>\n",
       "      <td>NaN</td>\n",
       "      <td>NaN</td>\n",
       "      <td>NaN</td>\n",
       "      <td>0.990654</td>\n",
       "      <td>0.990654</td>\n",
       "      <td>0.990654</td>\n",
       "      <td>0.990654</td>\n",
       "    </tr>\n",
       "    <tr>\n",
       "      <th>macro avg</th>\n",
       "      <td>NaN</td>\n",
       "      <td>NaN</td>\n",
       "      <td>NaN</td>\n",
       "      <td>0.989583</td>\n",
       "      <td>0.990991</td>\n",
       "      <td>0.990143</td>\n",
       "      <td>107.000000</td>\n",
       "    </tr>\n",
       "    <tr>\n",
       "      <th>weighted avg</th>\n",
       "      <td>NaN</td>\n",
       "      <td>NaN</td>\n",
       "      <td>NaN</td>\n",
       "      <td>0.990946</td>\n",
       "      <td>0.990654</td>\n",
       "      <td>0.990664</td>\n",
       "      <td>107.000000</td>\n",
       "    </tr>\n",
       "    <tr>\n",
       "      <th rowspan=\"6\" valign=\"top\">HIGH CORR TOP 8 PICKED 9,11,10,5,8,7,6,12 (8 TOTAL ITEMS)</th>\n",
       "      <th>LOW</th>\n",
       "      <td>39.0</td>\n",
       "      <td>0.0</td>\n",
       "      <td>0.0</td>\n",
       "      <td>1.000000</td>\n",
       "      <td>1.000000</td>\n",
       "      <td>1.000000</td>\n",
       "      <td>39.000000</td>\n",
       "    </tr>\n",
       "    <tr>\n",
       "      <th>MEDIUM</th>\n",
       "      <td>0.0</td>\n",
       "      <td>36.0</td>\n",
       "      <td>1.0</td>\n",
       "      <td>1.000000</td>\n",
       "      <td>0.972973</td>\n",
       "      <td>0.986301</td>\n",
       "      <td>37.000000</td>\n",
       "    </tr>\n",
       "    <tr>\n",
       "      <th>HIGH</th>\n",
       "      <td>0.0</td>\n",
       "      <td>0.0</td>\n",
       "      <td>31.0</td>\n",
       "      <td>0.968750</td>\n",
       "      <td>1.000000</td>\n",
       "      <td>0.984127</td>\n",
       "      <td>31.000000</td>\n",
       "    </tr>\n",
       "    <tr>\n",
       "      <th>accuracy</th>\n",
       "      <td>NaN</td>\n",
       "      <td>NaN</td>\n",
       "      <td>NaN</td>\n",
       "      <td>0.990654</td>\n",
       "      <td>0.990654</td>\n",
       "      <td>0.990654</td>\n",
       "      <td>0.990654</td>\n",
       "    </tr>\n",
       "    <tr>\n",
       "      <th>macro avg</th>\n",
       "      <td>NaN</td>\n",
       "      <td>NaN</td>\n",
       "      <td>NaN</td>\n",
       "      <td>0.989583</td>\n",
       "      <td>0.990991</td>\n",
       "      <td>0.990143</td>\n",
       "      <td>107.000000</td>\n",
       "    </tr>\n",
       "    <tr>\n",
       "      <th>weighted avg</th>\n",
       "      <td>NaN</td>\n",
       "      <td>NaN</td>\n",
       "      <td>NaN</td>\n",
       "      <td>0.990946</td>\n",
       "      <td>0.990654</td>\n",
       "      <td>0.990664</td>\n",
       "      <td>107.000000</td>\n",
       "    </tr>\n",
       "    <tr>\n",
       "      <th rowspan=\"6\" valign=\"top\">HIGH CORR TOP 9 PICKED 9,11,10,5,8,7,6,12,13 (9 TOTAL ITEMS)</th>\n",
       "      <th>LOW</th>\n",
       "      <td>37.0</td>\n",
       "      <td>2.0</td>\n",
       "      <td>0.0</td>\n",
       "      <td>1.000000</td>\n",
       "      <td>0.948718</td>\n",
       "      <td>0.973684</td>\n",
       "      <td>39.000000</td>\n",
       "    </tr>\n",
       "    <tr>\n",
       "      <th>MEDIUM</th>\n",
       "      <td>0.0</td>\n",
       "      <td>36.0</td>\n",
       "      <td>1.0</td>\n",
       "      <td>0.947368</td>\n",
       "      <td>0.972973</td>\n",
       "      <td>0.960000</td>\n",
       "      <td>37.000000</td>\n",
       "    </tr>\n",
       "    <tr>\n",
       "      <th>HIGH</th>\n",
       "      <td>0.0</td>\n",
       "      <td>0.0</td>\n",
       "      <td>31.0</td>\n",
       "      <td>0.968750</td>\n",
       "      <td>1.000000</td>\n",
       "      <td>0.984127</td>\n",
       "      <td>31.000000</td>\n",
       "    </tr>\n",
       "    <tr>\n",
       "      <th>accuracy</th>\n",
       "      <td>NaN</td>\n",
       "      <td>NaN</td>\n",
       "      <td>NaN</td>\n",
       "      <td>0.971963</td>\n",
       "      <td>0.971963</td>\n",
       "      <td>0.971963</td>\n",
       "      <td>0.971963</td>\n",
       "    </tr>\n",
       "    <tr>\n",
       "      <th>macro avg</th>\n",
       "      <td>NaN</td>\n",
       "      <td>NaN</td>\n",
       "      <td>NaN</td>\n",
       "      <td>0.972039</td>\n",
       "      <td>0.973897</td>\n",
       "      <td>0.972604</td>\n",
       "      <td>107.000000</td>\n",
       "    </tr>\n",
       "    <tr>\n",
       "      <th>weighted avg</th>\n",
       "      <td>NaN</td>\n",
       "      <td>NaN</td>\n",
       "      <td>NaN</td>\n",
       "      <td>0.972747</td>\n",
       "      <td>0.971963</td>\n",
       "      <td>0.971978</td>\n",
       "      <td>107.000000</td>\n",
       "    </tr>\n",
       "    <tr>\n",
       "      <th rowspan=\"6\" valign=\"top\">HIGH CORR TOP 10 PICKED 9,11,10,5,8,7,6,12,13,4 (10 TOTAL ITEMS)</th>\n",
       "      <th>LOW</th>\n",
       "      <td>38.0</td>\n",
       "      <td>1.0</td>\n",
       "      <td>0.0</td>\n",
       "      <td>1.000000</td>\n",
       "      <td>0.974359</td>\n",
       "      <td>0.987013</td>\n",
       "      <td>39.000000</td>\n",
       "    </tr>\n",
       "    <tr>\n",
       "      <th>MEDIUM</th>\n",
       "      <td>0.0</td>\n",
       "      <td>36.0</td>\n",
       "      <td>1.0</td>\n",
       "      <td>0.972973</td>\n",
       "      <td>0.972973</td>\n",
       "      <td>0.972973</td>\n",
       "      <td>37.000000</td>\n",
       "    </tr>\n",
       "    <tr>\n",
       "      <th>HIGH</th>\n",
       "      <td>0.0</td>\n",
       "      <td>0.0</td>\n",
       "      <td>31.0</td>\n",
       "      <td>0.968750</td>\n",
       "      <td>1.000000</td>\n",
       "      <td>0.984127</td>\n",
       "      <td>31.000000</td>\n",
       "    </tr>\n",
       "    <tr>\n",
       "      <th>accuracy</th>\n",
       "      <td>NaN</td>\n",
       "      <td>NaN</td>\n",
       "      <td>NaN</td>\n",
       "      <td>0.981308</td>\n",
       "      <td>0.981308</td>\n",
       "      <td>0.981308</td>\n",
       "      <td>0.981308</td>\n",
       "    </tr>\n",
       "    <tr>\n",
       "      <th>macro avg</th>\n",
       "      <td>NaN</td>\n",
       "      <td>NaN</td>\n",
       "      <td>NaN</td>\n",
       "      <td>0.980574</td>\n",
       "      <td>0.982444</td>\n",
       "      <td>0.981371</td>\n",
       "      <td>107.000000</td>\n",
       "    </tr>\n",
       "    <tr>\n",
       "      <th>weighted avg</th>\n",
       "      <td>NaN</td>\n",
       "      <td>NaN</td>\n",
       "      <td>NaN</td>\n",
       "      <td>0.981600</td>\n",
       "      <td>0.981308</td>\n",
       "      <td>0.981322</td>\n",
       "      <td>107.000000</td>\n",
       "    </tr>\n",
       "  </tbody>\n",
       "</table>\n",
       "</div>"
      ],
      "text/plain": [
       "                                                                  LOW  MEDIUM  \\\n",
       "Original                                           LOW           39.0     0.0   \n",
       "                                                   MEDIUM         0.0    36.0   \n",
       "                                                   HIGH           0.0     0.0   \n",
       "                                                   accuracy       NaN     NaN   \n",
       "                                                   macro avg      NaN     NaN   \n",
       "                                                   weighted avg   NaN     NaN   \n",
       "HIGH CORR TOP 4 PICKED 9,11,10,5 (4 TOTAL ITEMS)   LOW           38.0     1.0   \n",
       "                                                   MEDIUM         6.0    31.0   \n",
       "                                                   HIGH           0.0     2.0   \n",
       "                                                   accuracy       NaN     NaN   \n",
       "                                                   macro avg      NaN     NaN   \n",
       "                                                   weighted avg   NaN     NaN   \n",
       "HIGH CORR TOP 5 PICKED 9,11,10,5,8 (5 TOTAL ITEMS) LOW           39.0     0.0   \n",
       "                                                   MEDIUM         1.0    35.0   \n",
       "                                                   HIGH           0.0     0.0   \n",
       "                                                   accuracy       NaN     NaN   \n",
       "                                                   macro avg      NaN     NaN   \n",
       "                                                   weighted avg   NaN     NaN   \n",
       "HIGH CORR TOP 6 PICKED 9,11,10,5,8,7 (6 TOTAL I... LOW           39.0     0.0   \n",
       "                                                   MEDIUM         0.0    36.0   \n",
       "                                                   HIGH           0.0     0.0   \n",
       "                                                   accuracy       NaN     NaN   \n",
       "                                                   macro avg      NaN     NaN   \n",
       "                                                   weighted avg   NaN     NaN   \n",
       "DS PRACTICAL PICK 14,12,11,10,8,4 (6 TOTAL ITEMS)  LOW           39.0     0.0   \n",
       "                                                   MEDIUM         2.0    33.0   \n",
       "                                                   HIGH           0.0     1.0   \n",
       "                                                   accuracy       NaN     NaN   \n",
       "                                                   macro avg      NaN     NaN   \n",
       "                                                   weighted avg   NaN     NaN   \n",
       "HIGH CORR TOP 7 PICKED 9,11,10,5,8,7,6 (7 TOTAL... LOW           39.0     0.0   \n",
       "                                                   MEDIUM         0.0    36.0   \n",
       "                                                   HIGH           0.0     0.0   \n",
       "                                                   accuracy       NaN     NaN   \n",
       "                                                   macro avg      NaN     NaN   \n",
       "                                                   weighted avg   NaN     NaN   \n",
       "HIGH CORR TOP 8 PICKED 9,11,10,5,8,7,6,12 (8 TO... LOW           39.0     0.0   \n",
       "                                                   MEDIUM         0.0    36.0   \n",
       "                                                   HIGH           0.0     0.0   \n",
       "                                                   accuracy       NaN     NaN   \n",
       "                                                   macro avg      NaN     NaN   \n",
       "                                                   weighted avg   NaN     NaN   \n",
       "HIGH CORR TOP 9 PICKED 9,11,10,5,8,7,6,12,13 (9... LOW           37.0     2.0   \n",
       "                                                   MEDIUM         0.0    36.0   \n",
       "                                                   HIGH           0.0     0.0   \n",
       "                                                   accuracy       NaN     NaN   \n",
       "                                                   macro avg      NaN     NaN   \n",
       "                                                   weighted avg   NaN     NaN   \n",
       "HIGH CORR TOP 10 PICKED 9,11,10,5,8,7,6,12,13,4... LOW           38.0     1.0   \n",
       "                                                   MEDIUM         0.0    36.0   \n",
       "                                                   HIGH           0.0     0.0   \n",
       "                                                   accuracy       NaN     NaN   \n",
       "                                                   macro avg      NaN     NaN   \n",
       "                                                   weighted avg   NaN     NaN   \n",
       "\n",
       "                                                                 HIGH  \\\n",
       "Original                                           LOW            0.0   \n",
       "                                                   MEDIUM         1.0   \n",
       "                                                   HIGH          31.0   \n",
       "                                                   accuracy       NaN   \n",
       "                                                   macro avg      NaN   \n",
       "                                                   weighted avg   NaN   \n",
       "HIGH CORR TOP 4 PICKED 9,11,10,5 (4 TOTAL ITEMS)   LOW            0.0   \n",
       "                                                   MEDIUM         0.0   \n",
       "                                                   HIGH          29.0   \n",
       "                                                   accuracy       NaN   \n",
       "                                                   macro avg      NaN   \n",
       "                                                   weighted avg   NaN   \n",
       "HIGH CORR TOP 5 PICKED 9,11,10,5,8 (5 TOTAL ITEMS) LOW            0.0   \n",
       "                                                   MEDIUM         1.0   \n",
       "                                                   HIGH          31.0   \n",
       "                                                   accuracy       NaN   \n",
       "                                                   macro avg      NaN   \n",
       "                                                   weighted avg   NaN   \n",
       "HIGH CORR TOP 6 PICKED 9,11,10,5,8,7 (6 TOTAL I... LOW            0.0   \n",
       "                                                   MEDIUM         1.0   \n",
       "                                                   HIGH          31.0   \n",
       "                                                   accuracy       NaN   \n",
       "                                                   macro avg      NaN   \n",
       "                                                   weighted avg   NaN   \n",
       "DS PRACTICAL PICK 14,12,11,10,8,4 (6 TOTAL ITEMS)  LOW            0.0   \n",
       "                                                   MEDIUM         2.0   \n",
       "                                                   HIGH          30.0   \n",
       "                                                   accuracy       NaN   \n",
       "                                                   macro avg      NaN   \n",
       "                                                   weighted avg   NaN   \n",
       "HIGH CORR TOP 7 PICKED 9,11,10,5,8,7,6 (7 TOTAL... LOW            0.0   \n",
       "                                                   MEDIUM         1.0   \n",
       "                                                   HIGH          31.0   \n",
       "                                                   accuracy       NaN   \n",
       "                                                   macro avg      NaN   \n",
       "                                                   weighted avg   NaN   \n",
       "HIGH CORR TOP 8 PICKED 9,11,10,5,8,7,6,12 (8 TO... LOW            0.0   \n",
       "                                                   MEDIUM         1.0   \n",
       "                                                   HIGH          31.0   \n",
       "                                                   accuracy       NaN   \n",
       "                                                   macro avg      NaN   \n",
       "                                                   weighted avg   NaN   \n",
       "HIGH CORR TOP 9 PICKED 9,11,10,5,8,7,6,12,13 (9... LOW            0.0   \n",
       "                                                   MEDIUM         1.0   \n",
       "                                                   HIGH          31.0   \n",
       "                                                   accuracy       NaN   \n",
       "                                                   macro avg      NaN   \n",
       "                                                   weighted avg   NaN   \n",
       "HIGH CORR TOP 10 PICKED 9,11,10,5,8,7,6,12,13,4... LOW            0.0   \n",
       "                                                   MEDIUM         1.0   \n",
       "                                                   HIGH          31.0   \n",
       "                                                   accuracy       NaN   \n",
       "                                                   macro avg      NaN   \n",
       "                                                   weighted avg   NaN   \n",
       "\n",
       "                                                                 precision  \\\n",
       "Original                                           LOW            1.000000   \n",
       "                                                   MEDIUM         1.000000   \n",
       "                                                   HIGH           0.968750   \n",
       "                                                   accuracy       0.990654   \n",
       "                                                   macro avg      0.989583   \n",
       "                                                   weighted avg   0.990946   \n",
       "HIGH CORR TOP 4 PICKED 9,11,10,5 (4 TOTAL ITEMS)   LOW            0.863636   \n",
       "                                                   MEDIUM         0.911765   \n",
       "                                                   HIGH           1.000000   \n",
       "                                                   accuracy       0.915888   \n",
       "                                                   macro avg      0.925134   \n",
       "                                                   weighted avg   0.919786   \n",
       "HIGH CORR TOP 5 PICKED 9,11,10,5,8 (5 TOTAL ITEMS) LOW            0.975000   \n",
       "                                                   MEDIUM         1.000000   \n",
       "                                                   HIGH           0.968750   \n",
       "                                                   accuracy       0.981308   \n",
       "                                                   macro avg      0.981250   \n",
       "                                                   weighted avg   0.981834   \n",
       "HIGH CORR TOP 6 PICKED 9,11,10,5,8,7 (6 TOTAL I... LOW            1.000000   \n",
       "                                                   MEDIUM         1.000000   \n",
       "                                                   HIGH           0.968750   \n",
       "                                                   accuracy       0.990654   \n",
       "                                                   macro avg      0.989583   \n",
       "                                                   weighted avg   0.990946   \n",
       "DS PRACTICAL PICK 14,12,11,10,8,4 (6 TOTAL ITEMS)  LOW            0.951220   \n",
       "                                                   MEDIUM         0.970588   \n",
       "                                                   HIGH           0.937500   \n",
       "                                                   accuracy       0.953271   \n",
       "                                                   macro avg      0.953103   \n",
       "                                                   weighted avg   0.953942   \n",
       "HIGH CORR TOP 7 PICKED 9,11,10,5,8,7,6 (7 TOTAL... LOW            1.000000   \n",
       "                                                   MEDIUM         1.000000   \n",
       "                                                   HIGH           0.968750   \n",
       "                                                   accuracy       0.990654   \n",
       "                                                   macro avg      0.989583   \n",
       "                                                   weighted avg   0.990946   \n",
       "HIGH CORR TOP 8 PICKED 9,11,10,5,8,7,6,12 (8 TO... LOW            1.000000   \n",
       "                                                   MEDIUM         1.000000   \n",
       "                                                   HIGH           0.968750   \n",
       "                                                   accuracy       0.990654   \n",
       "                                                   macro avg      0.989583   \n",
       "                                                   weighted avg   0.990946   \n",
       "HIGH CORR TOP 9 PICKED 9,11,10,5,8,7,6,12,13 (9... LOW            1.000000   \n",
       "                                                   MEDIUM         0.947368   \n",
       "                                                   HIGH           0.968750   \n",
       "                                                   accuracy       0.971963   \n",
       "                                                   macro avg      0.972039   \n",
       "                                                   weighted avg   0.972747   \n",
       "HIGH CORR TOP 10 PICKED 9,11,10,5,8,7,6,12,13,4... LOW            1.000000   \n",
       "                                                   MEDIUM         0.972973   \n",
       "                                                   HIGH           0.968750   \n",
       "                                                   accuracy       0.981308   \n",
       "                                                   macro avg      0.980574   \n",
       "                                                   weighted avg   0.981600   \n",
       "\n",
       "                                                                   recall  \\\n",
       "Original                                           LOW           1.000000   \n",
       "                                                   MEDIUM        0.972973   \n",
       "                                                   HIGH          1.000000   \n",
       "                                                   accuracy      0.990654   \n",
       "                                                   macro avg     0.990991   \n",
       "                                                   weighted avg  0.990654   \n",
       "HIGH CORR TOP 4 PICKED 9,11,10,5 (4 TOTAL ITEMS)   LOW           0.974359   \n",
       "                                                   MEDIUM        0.837838   \n",
       "                                                   HIGH          0.935484   \n",
       "                                                   accuracy      0.915888   \n",
       "                                                   macro avg     0.915894   \n",
       "                                                   weighted avg  0.915888   \n",
       "HIGH CORR TOP 5 PICKED 9,11,10,5,8 (5 TOTAL ITEMS) LOW           1.000000   \n",
       "                                                   MEDIUM        0.945946   \n",
       "                                                   HIGH          1.000000   \n",
       "                                                   accuracy      0.981308   \n",
       "                                                   macro avg     0.981982   \n",
       "                                                   weighted avg  0.981308   \n",
       "HIGH CORR TOP 6 PICKED 9,11,10,5,8,7 (6 TOTAL I... LOW           1.000000   \n",
       "                                                   MEDIUM        0.972973   \n",
       "                                                   HIGH          1.000000   \n",
       "                                                   accuracy      0.990654   \n",
       "                                                   macro avg     0.990991   \n",
       "                                                   weighted avg  0.990654   \n",
       "DS PRACTICAL PICK 14,12,11,10,8,4 (6 TOTAL ITEMS)  LOW           1.000000   \n",
       "                                                   MEDIUM        0.891892   \n",
       "                                                   HIGH          0.967742   \n",
       "                                                   accuracy      0.953271   \n",
       "                                                   macro avg     0.953211   \n",
       "                                                   weighted avg  0.953271   \n",
       "HIGH CORR TOP 7 PICKED 9,11,10,5,8,7,6 (7 TOTAL... LOW           1.000000   \n",
       "                                                   MEDIUM        0.972973   \n",
       "                                                   HIGH          1.000000   \n",
       "                                                   accuracy      0.990654   \n",
       "                                                   macro avg     0.990991   \n",
       "                                                   weighted avg  0.990654   \n",
       "HIGH CORR TOP 8 PICKED 9,11,10,5,8,7,6,12 (8 TO... LOW           1.000000   \n",
       "                                                   MEDIUM        0.972973   \n",
       "                                                   HIGH          1.000000   \n",
       "                                                   accuracy      0.990654   \n",
       "                                                   macro avg     0.990991   \n",
       "                                                   weighted avg  0.990654   \n",
       "HIGH CORR TOP 9 PICKED 9,11,10,5,8,7,6,12,13 (9... LOW           0.948718   \n",
       "                                                   MEDIUM        0.972973   \n",
       "                                                   HIGH          1.000000   \n",
       "                                                   accuracy      0.971963   \n",
       "                                                   macro avg     0.973897   \n",
       "                                                   weighted avg  0.971963   \n",
       "HIGH CORR TOP 10 PICKED 9,11,10,5,8,7,6,12,13,4... LOW           0.974359   \n",
       "                                                   MEDIUM        0.972973   \n",
       "                                                   HIGH          1.000000   \n",
       "                                                   accuracy      0.981308   \n",
       "                                                   macro avg     0.982444   \n",
       "                                                   weighted avg  0.981308   \n",
       "\n",
       "                                                                 f1-score  \\\n",
       "Original                                           LOW           1.000000   \n",
       "                                                   MEDIUM        0.986301   \n",
       "                                                   HIGH          0.984127   \n",
       "                                                   accuracy      0.990654   \n",
       "                                                   macro avg     0.990143   \n",
       "                                                   weighted avg  0.990664   \n",
       "HIGH CORR TOP 4 PICKED 9,11,10,5 (4 TOTAL ITEMS)   LOW           0.915663   \n",
       "                                                   MEDIUM        0.873239   \n",
       "                                                   HIGH          0.966667   \n",
       "                                                   accuracy      0.915888   \n",
       "                                                   macro avg     0.918523   \n",
       "                                                   weighted avg  0.915770   \n",
       "HIGH CORR TOP 5 PICKED 9,11,10,5,8 (5 TOTAL ITEMS) LOW           0.987342   \n",
       "                                                   MEDIUM        0.972222   \n",
       "                                                   HIGH          0.984127   \n",
       "                                                   accuracy      0.981308   \n",
       "                                                   macro avg     0.981230   \n",
       "                                                   weighted avg  0.981182   \n",
       "HIGH CORR TOP 6 PICKED 9,11,10,5,8,7 (6 TOTAL I... LOW           1.000000   \n",
       "                                                   MEDIUM        0.986301   \n",
       "                                                   HIGH          0.984127   \n",
       "                                                   accuracy      0.990654   \n",
       "                                                   macro avg     0.990143   \n",
       "                                                   weighted avg  0.990664   \n",
       "DS PRACTICAL PICK 14,12,11,10,8,4 (6 TOTAL ITEMS)  LOW           0.975000   \n",
       "                                                   MEDIUM        0.929577   \n",
       "                                                   HIGH          0.952381   \n",
       "                                                   accuracy      0.953271   \n",
       "                                                   macro avg     0.952319   \n",
       "                                                   weighted avg  0.952740   \n",
       "HIGH CORR TOP 7 PICKED 9,11,10,5,8,7,6 (7 TOTAL... LOW           1.000000   \n",
       "                                                   MEDIUM        0.986301   \n",
       "                                                   HIGH          0.984127   \n",
       "                                                   accuracy      0.990654   \n",
       "                                                   macro avg     0.990143   \n",
       "                                                   weighted avg  0.990664   \n",
       "HIGH CORR TOP 8 PICKED 9,11,10,5,8,7,6,12 (8 TO... LOW           1.000000   \n",
       "                                                   MEDIUM        0.986301   \n",
       "                                                   HIGH          0.984127   \n",
       "                                                   accuracy      0.990654   \n",
       "                                                   macro avg     0.990143   \n",
       "                                                   weighted avg  0.990664   \n",
       "HIGH CORR TOP 9 PICKED 9,11,10,5,8,7,6,12,13 (9... LOW           0.973684   \n",
       "                                                   MEDIUM        0.960000   \n",
       "                                                   HIGH          0.984127   \n",
       "                                                   accuracy      0.971963   \n",
       "                                                   macro avg     0.972604   \n",
       "                                                   weighted avg  0.971978   \n",
       "HIGH CORR TOP 10 PICKED 9,11,10,5,8,7,6,12,13,4... LOW           0.987013   \n",
       "                                                   MEDIUM        0.972973   \n",
       "                                                   HIGH          0.984127   \n",
       "                                                   accuracy      0.981308   \n",
       "                                                   macro avg     0.981371   \n",
       "                                                   weighted avg  0.981322   \n",
       "\n",
       "                                                                    support  \n",
       "Original                                           LOW            39.000000  \n",
       "                                                   MEDIUM         37.000000  \n",
       "                                                   HIGH           31.000000  \n",
       "                                                   accuracy        0.990654  \n",
       "                                                   macro avg     107.000000  \n",
       "                                                   weighted avg  107.000000  \n",
       "HIGH CORR TOP 4 PICKED 9,11,10,5 (4 TOTAL ITEMS)   LOW            39.000000  \n",
       "                                                   MEDIUM         37.000000  \n",
       "                                                   HIGH           31.000000  \n",
       "                                                   accuracy        0.915888  \n",
       "                                                   macro avg     107.000000  \n",
       "                                                   weighted avg  107.000000  \n",
       "HIGH CORR TOP 5 PICKED 9,11,10,5,8 (5 TOTAL ITEMS) LOW            39.000000  \n",
       "                                                   MEDIUM         37.000000  \n",
       "                                                   HIGH           31.000000  \n",
       "                                                   accuracy        0.981308  \n",
       "                                                   macro avg     107.000000  \n",
       "                                                   weighted avg  107.000000  \n",
       "HIGH CORR TOP 6 PICKED 9,11,10,5,8,7 (6 TOTAL I... LOW            39.000000  \n",
       "                                                   MEDIUM         37.000000  \n",
       "                                                   HIGH           31.000000  \n",
       "                                                   accuracy        0.990654  \n",
       "                                                   macro avg     107.000000  \n",
       "                                                   weighted avg  107.000000  \n",
       "DS PRACTICAL PICK 14,12,11,10,8,4 (6 TOTAL ITEMS)  LOW            39.000000  \n",
       "                                                   MEDIUM         37.000000  \n",
       "                                                   HIGH           31.000000  \n",
       "                                                   accuracy        0.953271  \n",
       "                                                   macro avg     107.000000  \n",
       "                                                   weighted avg  107.000000  \n",
       "HIGH CORR TOP 7 PICKED 9,11,10,5,8,7,6 (7 TOTAL... LOW            39.000000  \n",
       "                                                   MEDIUM         37.000000  \n",
       "                                                   HIGH           31.000000  \n",
       "                                                   accuracy        0.990654  \n",
       "                                                   macro avg     107.000000  \n",
       "                                                   weighted avg  107.000000  \n",
       "HIGH CORR TOP 8 PICKED 9,11,10,5,8,7,6,12 (8 TO... LOW            39.000000  \n",
       "                                                   MEDIUM         37.000000  \n",
       "                                                   HIGH           31.000000  \n",
       "                                                   accuracy        0.990654  \n",
       "                                                   macro avg     107.000000  \n",
       "                                                   weighted avg  107.000000  \n",
       "HIGH CORR TOP 9 PICKED 9,11,10,5,8,7,6,12,13 (9... LOW            39.000000  \n",
       "                                                   MEDIUM         37.000000  \n",
       "                                                   HIGH           31.000000  \n",
       "                                                   accuracy        0.971963  \n",
       "                                                   macro avg     107.000000  \n",
       "                                                   weighted avg  107.000000  \n",
       "HIGH CORR TOP 10 PICKED 9,11,10,5,8,7,6,12,13,4... LOW            39.000000  \n",
       "                                                   MEDIUM         37.000000  \n",
       "                                                   HIGH           31.000000  \n",
       "                                                   accuracy        0.981308  \n",
       "                                                   macro avg     107.000000  \n",
       "                                                   weighted avg  107.000000  "
      ]
     },
     "execution_count": 32,
     "metadata": {},
     "output_type": "execute_result"
    }
   ],
   "source": [
    "ex1 = pd.concat([pd.DataFrame(confusion_matrix(y_test,y_predict,labels=['LOW','MEDIUM','HIGH']),index=['LOW','MEDIUM','HIGH'],columns=['LOW','MEDIUM','HIGH']),\n",
    "pd.DataFrame(classification_report(y_test,y_predict,labels=['LOW','MEDIUM','HIGH'],output_dict=True)).transpose()],axis=1)\n",
    "ex1.set_index([['Original','Original','Original','Original','Original','Original'],ex1.index],inplace=True)\n",
    "\n",
    "ex2 = pd.concat([pd.DataFrame(confusion_matrix(ya_test,ya_predict,labels=['LOW','MEDIUM','HIGH']),index=['LOW','MEDIUM','HIGH'],columns=['LOW','MEDIUM','HIGH']),\n",
    "pd.DataFrame(classification_report(ya_test,ya_predict,labels=['LOW','MEDIUM','HIGH'],output_dict=True)).transpose()],axis=1)\n",
    "ex2.set_index([['HIGH CORR TOP 5 PICKED 9,11,10,5,8 (5 TOTAL ITEMS)','HIGH CORR TOP 5 PICKED 9,11,10,5,8 (5 TOTAL ITEMS)','HIGH CORR TOP 5 PICKED 9,11,10,5,8 (5 TOTAL ITEMS)','HIGH CORR TOP 5 PICKED 9,11,10,5,8 (5 TOTAL ITEMS)','HIGH CORR TOP 5 PICKED 9,11,10,5,8 (5 TOTAL ITEMS)','HIGH CORR TOP 5 PICKED 9,11,10,5,8 (5 TOTAL ITEMS)'],ex2.index],inplace=True)\n",
    "\n",
    "ex3 = pd.concat([pd.DataFrame(confusion_matrix(yb_test,yb_predict,labels=['LOW','MEDIUM','HIGH']),index=['LOW','MEDIUM','HIGH'],columns=['LOW','MEDIUM','HIGH']),\n",
    "pd.DataFrame(classification_report(yb_test,yb_predict,labels=['LOW','MEDIUM','HIGH'],output_dict=True)).transpose()],axis=1)\n",
    "ex3.set_index([['HIGH CORR TOP 6 PICKED 9,11,10,5,8,7 (6 TOTAL ITEMS)','HIGH CORR TOP 6 PICKED 9,11,10,5,8,7 (6 TOTAL ITEMS)','HIGH CORR TOP 6 PICKED 9,11,10,5,8,7 (6 TOTAL ITEMS)','HIGH CORR TOP 6 PICKED 9,11,10,5,8,7 (6 TOTAL ITEMS)','HIGH CORR TOP 6 PICKED 9,11,10,5,8,7 (6 TOTAL ITEMS)','HIGH CORR TOP 6 PICKED 9,11,10,5,8,7 (6 TOTAL ITEMS)'],ex3.index],inplace=True)\n",
    "\n",
    "ex4 = pd.concat([pd.DataFrame(confusion_matrix(yc_test,yc_predict,labels=['LOW','MEDIUM','HIGH']),index=['LOW','MEDIUM','HIGH'],columns=['LOW','MEDIUM','HIGH']),\n",
    "pd.DataFrame(classification_report(yc_test,yc_predict,labels=['LOW','MEDIUM','HIGH'],output_dict=True)).transpose()],axis=1)\n",
    "ex4.set_index([['DS PRACTICAL PICK 14,12,11,10,8,4 (6 TOTAL ITEMS)','DS PRACTICAL PICK 14,12,11,10,8,4 (6 TOTAL ITEMS)','DS PRACTICAL PICK 14,12,11,10,8,4 (6 TOTAL ITEMS)','DS PRACTICAL PICK 14,12,11,10,8,4 (6 TOTAL ITEMS)','DS PRACTICAL PICK 14,12,11,10,8,4 (6 TOTAL ITEMS)','DS PRACTICAL PICK 14,12,11,10,8,4 (6 TOTAL ITEMS)'],ex4.index],inplace=True)\n",
    "\n",
    "ex5 = pd.concat([pd.DataFrame(confusion_matrix(yd_test,yd_predict,labels=['LOW','MEDIUM','HIGH']),index=['LOW','MEDIUM','HIGH'],columns=['LOW','MEDIUM','HIGH']),\n",
    "pd.DataFrame(classification_report(yd_test,yd_predict,labels=['LOW','MEDIUM','HIGH'],output_dict=True)).transpose()],axis=1)\n",
    "ex5.set_index([['HIGH CORR TOP 7 PICKED 9,11,10,5,8,7,6 (7 TOTAL ITEMS)','HIGH CORR TOP 7 PICKED 9,11,10,5,8,7,6 (7 TOTAL ITEMS)','HIGH CORR TOP 7 PICKED 9,11,10,5,8,7,6 (7 TOTAL ITEMS)','HIGH CORR TOP 7 PICKED 9,11,10,5,8,7,6 (7 TOTAL ITEMS)','HIGH CORR TOP 7 PICKED 9,11,10,5,8,7,6 (7 TOTAL ITEMS)','HIGH CORR TOP 7 PICKED 9,11,10,5,8,7,6 (7 TOTAL ITEMS)'],ex5.index],inplace=True)\n",
    "\n",
    "ex6 = pd.concat([pd.DataFrame(confusion_matrix(ye_test,ye_predict,labels=['LOW','MEDIUM','HIGH']),index=['LOW','MEDIUM','HIGH'],columns=['LOW','MEDIUM','HIGH']),\n",
    "pd.DataFrame(classification_report(ye_test,ye_predict,labels=['LOW','MEDIUM','HIGH'],output_dict=True)).transpose()],axis=1)\n",
    "ex6.set_index([[e_text,e_text,e_text,e_text,e_text,e_text],ex6.index],inplace=True)\n",
    "\n",
    "ex7 = pd.concat([pd.DataFrame(confusion_matrix(yf_test,yf_predict,labels=['LOW','MEDIUM','HIGH']),index=['LOW','MEDIUM','HIGH'],columns=['LOW','MEDIUM','HIGH']),\n",
    "pd.DataFrame(classification_report(yf_test,yf_predict,labels=['LOW','MEDIUM','HIGH'],output_dict=True)).transpose()],axis=1)\n",
    "ex7.set_index([[f_text,f_text,f_text,f_text,f_text,f_text],ex7.index],inplace=True)\n",
    "\n",
    "ex8 = pd.concat([pd.DataFrame(confusion_matrix(yg_test,yg_predict,labels=['LOW','MEDIUM','HIGH']),index=['LOW','MEDIUM','HIGH'],columns=['LOW','MEDIUM','HIGH']),\n",
    "pd.DataFrame(classification_report(yg_test,yg_predict,labels=['LOW','MEDIUM','HIGH'],output_dict=True)).transpose()],axis=1)\n",
    "ex8.set_index([[g_text,g_text,g_text,g_text,g_text,g_text],ex8.index],inplace=True)\n",
    "\n",
    "ex9 = pd.concat([pd.DataFrame(confusion_matrix(yh_test,yh_predict,labels=['LOW','MEDIUM','HIGH']),index=['LOW','MEDIUM','HIGH'],columns=['LOW','MEDIUM','HIGH']),\n",
    "pd.DataFrame(classification_report(yh_test,yh_predict,labels=['LOW','MEDIUM','HIGH'],output_dict=True)).transpose()],axis=1)\n",
    "ex9.set_index([[h_text,h_text,h_text,h_text,h_text,h_text],ex9.index],inplace=True)\n",
    "\n",
    "finalex = pd.concat([ex1,ex6,ex2,ex3,ex4,ex5,ex7,ex8,ex9])\n",
    "finalex"
   ]
  },
  {
   "cell_type": "code",
   "execution_count": 33,
   "id": "6783fc9b",
   "metadata": {},
   "outputs": [],
   "source": [
    "finalex.to_excel(r'C:\\Users\\krunk\\OneDrive\\Documents\\CPSC 597\\Project Data\\BBS Machine Learning Data Collection (Logistic Regression).xlsx',sheet_name='Logistic Regression')"
   ]
  }
 ],
 "metadata": {
  "kernelspec": {
   "display_name": "Python 3 (ipykernel)",
   "language": "python",
   "name": "python3"
  },
  "language_info": {
   "codemirror_mode": {
    "name": "ipython",
    "version": 3
   },
   "file_extension": ".py",
   "mimetype": "text/x-python",
   "name": "python",
   "nbconvert_exporter": "python",
   "pygments_lexer": "ipython3",
   "version": "3.9.12"
  }
 },
 "nbformat": 4,
 "nbformat_minor": 5
}
