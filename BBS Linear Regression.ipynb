{
 "cells": [
  {
   "cell_type": "code",
   "execution_count": 1,
   "id": "c25e0e51",
   "metadata": {},
   "outputs": [],
   "source": [
    "# STANDARDS\n",
    "import pandas as pd\n",
    "import numpy as np\n",
    "import matplotlib.pyplot as plt\n",
    "import seaborn as sns\n",
    "%matplotlib inline"
   ]
  },
  {
   "cell_type": "code",
   "execution_count": 2,
   "id": "6eb658b2",
   "metadata": {},
   "outputs": [
    {
     "data": {
      "text/html": [
       "        <script type=\"text/javascript\">\n",
       "        window.PlotlyConfig = {MathJaxConfig: 'local'};\n",
       "        if (window.MathJax && window.MathJax.Hub && window.MathJax.Hub.Config) {window.MathJax.Hub.Config({SVG: {font: \"STIX-Web\"}});}\n",
       "        if (typeof require !== 'undefined') {\n",
       "        require.undef(\"plotly\");\n",
       "        requirejs.config({\n",
       "            paths: {\n",
       "                'plotly': ['https://cdn.plot.ly/plotly-2.14.0.min']\n",
       "            }\n",
       "        });\n",
       "        require(['plotly'], function(Plotly) {\n",
       "            window._Plotly = Plotly;\n",
       "        });\n",
       "        }\n",
       "        </script>\n",
       "        "
      ]
     },
     "metadata": {},
     "output_type": "display_data"
    },
    {
     "data": {
      "text/html": [
       "        <script type=\"text/javascript\">\n",
       "        window.PlotlyConfig = {MathJaxConfig: 'local'};\n",
       "        if (window.MathJax && window.MathJax.Hub && window.MathJax.Hub.Config) {window.MathJax.Hub.Config({SVG: {font: \"STIX-Web\"}});}\n",
       "        if (typeof require !== 'undefined') {\n",
       "        require.undef(\"plotly\");\n",
       "        requirejs.config({\n",
       "            paths: {\n",
       "                'plotly': ['https://cdn.plot.ly/plotly-2.14.0.min']\n",
       "            }\n",
       "        });\n",
       "        require(['plotly'], function(Plotly) {\n",
       "            window._Plotly = Plotly;\n",
       "        });\n",
       "        }\n",
       "        </script>\n",
       "        "
      ]
     },
     "metadata": {},
     "output_type": "display_data"
    }
   ],
   "source": [
    "# CUFFLINKS & PLOTLY\n",
    "from plotly.offline import download_plotlyjs, init_notebook_mode, plot, iplot\n",
    "import cufflinks as cf\n",
    "init_notebook_mode(connected=True)\n",
    "cf.go_offline()"
   ]
  },
  {
   "cell_type": "code",
   "execution_count": 3,
   "id": "fbf6ac57",
   "metadata": {},
   "outputs": [],
   "source": [
    "df = pd.read_excel(r'C:\\Users\\krunk\\OneDrive\\Documents\\CPSC 589\\Dataset\\BBS Dataset.xlsx',sheet_name='ReData')"
   ]
  },
  {
   "cell_type": "code",
   "execution_count": 4,
   "id": "6c87e20d",
   "metadata": {
    "scrolled": false
   },
   "outputs": [
    {
     "data": {
      "text/html": [
       "<div>\n",
       "<style scoped>\n",
       "    .dataframe tbody tr th:only-of-type {\n",
       "        vertical-align: middle;\n",
       "    }\n",
       "\n",
       "    .dataframe tbody tr th {\n",
       "        vertical-align: top;\n",
       "    }\n",
       "\n",
       "    .dataframe thead th {\n",
       "        text-align: right;\n",
       "    }\n",
       "</style>\n",
       "<table border=\"1\" class=\"dataframe\">\n",
       "  <thead>\n",
       "    <tr style=\"text-align: right;\">\n",
       "      <th></th>\n",
       "      <th>Patient's Age</th>\n",
       "      <th>Item 1</th>\n",
       "      <th>Item 2</th>\n",
       "      <th>Item 3</th>\n",
       "      <th>Item 4</th>\n",
       "      <th>Item 5</th>\n",
       "      <th>Item 6</th>\n",
       "      <th>Item 7</th>\n",
       "      <th>Item 8</th>\n",
       "      <th>Item 9</th>\n",
       "      <th>Item 10</th>\n",
       "      <th>Item 11</th>\n",
       "      <th>Item 12</th>\n",
       "      <th>Item 13</th>\n",
       "      <th>Item 14</th>\n",
       "      <th>BBS Sum</th>\n",
       "      <th>Assessment of Risk</th>\n",
       "    </tr>\n",
       "  </thead>\n",
       "  <tbody>\n",
       "    <tr>\n",
       "      <th>0</th>\n",
       "      <td>97</td>\n",
       "      <td>1</td>\n",
       "      <td>0</td>\n",
       "      <td>1</td>\n",
       "      <td>1</td>\n",
       "      <td>1</td>\n",
       "      <td>0</td>\n",
       "      <td>0</td>\n",
       "      <td>1</td>\n",
       "      <td>1</td>\n",
       "      <td>0</td>\n",
       "      <td>0</td>\n",
       "      <td>0</td>\n",
       "      <td>1</td>\n",
       "      <td>1</td>\n",
       "      <td>8</td>\n",
       "      <td>HIGH</td>\n",
       "    </tr>\n",
       "    <tr>\n",
       "      <th>1</th>\n",
       "      <td>88</td>\n",
       "      <td>2</td>\n",
       "      <td>0</td>\n",
       "      <td>1</td>\n",
       "      <td>4</td>\n",
       "      <td>3</td>\n",
       "      <td>2</td>\n",
       "      <td>2</td>\n",
       "      <td>3</td>\n",
       "      <td>4</td>\n",
       "      <td>0</td>\n",
       "      <td>1</td>\n",
       "      <td>0</td>\n",
       "      <td>4</td>\n",
       "      <td>4</td>\n",
       "      <td>30</td>\n",
       "      <td>MEDIUM</td>\n",
       "    </tr>\n",
       "    <tr>\n",
       "      <th>2</th>\n",
       "      <td>73</td>\n",
       "      <td>3</td>\n",
       "      <td>4</td>\n",
       "      <td>3</td>\n",
       "      <td>2</td>\n",
       "      <td>2</td>\n",
       "      <td>0</td>\n",
       "      <td>2</td>\n",
       "      <td>3</td>\n",
       "      <td>1</td>\n",
       "      <td>0</td>\n",
       "      <td>1</td>\n",
       "      <td>2</td>\n",
       "      <td>4</td>\n",
       "      <td>3</td>\n",
       "      <td>30</td>\n",
       "      <td>MEDIUM</td>\n",
       "    </tr>\n",
       "    <tr>\n",
       "      <th>3</th>\n",
       "      <td>77</td>\n",
       "      <td>2</td>\n",
       "      <td>3</td>\n",
       "      <td>1</td>\n",
       "      <td>0</td>\n",
       "      <td>4</td>\n",
       "      <td>4</td>\n",
       "      <td>2</td>\n",
       "      <td>0</td>\n",
       "      <td>1</td>\n",
       "      <td>1</td>\n",
       "      <td>0</td>\n",
       "      <td>2</td>\n",
       "      <td>3</td>\n",
       "      <td>1</td>\n",
       "      <td>24</td>\n",
       "      <td>MEDIUM</td>\n",
       "    </tr>\n",
       "    <tr>\n",
       "      <th>4</th>\n",
       "      <td>65</td>\n",
       "      <td>3</td>\n",
       "      <td>4</td>\n",
       "      <td>1</td>\n",
       "      <td>4</td>\n",
       "      <td>4</td>\n",
       "      <td>2</td>\n",
       "      <td>4</td>\n",
       "      <td>4</td>\n",
       "      <td>2</td>\n",
       "      <td>1</td>\n",
       "      <td>2</td>\n",
       "      <td>3</td>\n",
       "      <td>3</td>\n",
       "      <td>4</td>\n",
       "      <td>41</td>\n",
       "      <td>LOW</td>\n",
       "    </tr>\n",
       "  </tbody>\n",
       "</table>\n",
       "</div>"
      ],
      "text/plain": [
       "   Patient's Age  Item 1  Item 2  Item 3  Item 4  Item 5  Item 6  Item 7  \\\n",
       "0             97       1       0       1       1       1       0       0   \n",
       "1             88       2       0       1       4       3       2       2   \n",
       "2             73       3       4       3       2       2       0       2   \n",
       "3             77       2       3       1       0       4       4       2   \n",
       "4             65       3       4       1       4       4       2       4   \n",
       "\n",
       "   Item 8  Item 9  Item 10  Item 11  Item 12  Item 13  Item 14  BBS Sum  \\\n",
       "0       1       1        0        0        0        1        1        8   \n",
       "1       3       4        0        1        0        4        4       30   \n",
       "2       3       1        0        1        2        4        3       30   \n",
       "3       0       1        1        0        2        3        1       24   \n",
       "4       4       2        1        2        3        3        4       41   \n",
       "\n",
       "  Assessment of Risk  \n",
       "0               HIGH  \n",
       "1             MEDIUM  \n",
       "2             MEDIUM  \n",
       "3             MEDIUM  \n",
       "4                LOW  "
      ]
     },
     "execution_count": 4,
     "metadata": {},
     "output_type": "execute_result"
    }
   ],
   "source": [
    "df.head()"
   ]
  },
  {
   "cell_type": "code",
   "execution_count": 5,
   "id": "6ad43153",
   "metadata": {},
   "outputs": [
    {
     "name": "stdout",
     "output_type": "stream",
     "text": [
      "<class 'pandas.core.frame.DataFrame'>\n",
      "RangeIndex: 354 entries, 0 to 353\n",
      "Data columns (total 17 columns):\n",
      " #   Column              Non-Null Count  Dtype \n",
      "---  ------              --------------  ----- \n",
      " 0   Patient's Age       354 non-null    int64 \n",
      " 1   Item 1              354 non-null    int64 \n",
      " 2   Item 2              354 non-null    int64 \n",
      " 3   Item 3              354 non-null    int64 \n",
      " 4   Item 4              354 non-null    int64 \n",
      " 5   Item 5              354 non-null    int64 \n",
      " 6   Item 6              354 non-null    int64 \n",
      " 7   Item 7              354 non-null    int64 \n",
      " 8   Item 8              354 non-null    int64 \n",
      " 9   Item 9              354 non-null    int64 \n",
      " 10  Item 10             354 non-null    int64 \n",
      " 11  Item 11             354 non-null    int64 \n",
      " 12  Item 12             354 non-null    int64 \n",
      " 13  Item 13             354 non-null    int64 \n",
      " 14  Item 14             354 non-null    int64 \n",
      " 15  BBS Sum             354 non-null    int64 \n",
      " 16  Assessment of Risk  354 non-null    object\n",
      "dtypes: int64(16), object(1)\n",
      "memory usage: 47.1+ KB\n"
     ]
    }
   ],
   "source": [
    "df.info()"
   ]
  },
  {
   "cell_type": "code",
   "execution_count": 6,
   "id": "139fbc18",
   "metadata": {},
   "outputs": [
    {
     "data": {
      "text/html": [
       "<div>\n",
       "<style scoped>\n",
       "    .dataframe tbody tr th:only-of-type {\n",
       "        vertical-align: middle;\n",
       "    }\n",
       "\n",
       "    .dataframe tbody tr th {\n",
       "        vertical-align: top;\n",
       "    }\n",
       "\n",
       "    .dataframe thead th {\n",
       "        text-align: right;\n",
       "    }\n",
       "</style>\n",
       "<table border=\"1\" class=\"dataframe\">\n",
       "  <thead>\n",
       "    <tr style=\"text-align: right;\">\n",
       "      <th></th>\n",
       "      <th>Patient's Age</th>\n",
       "      <th>Item 1</th>\n",
       "      <th>Item 2</th>\n",
       "      <th>Item 3</th>\n",
       "      <th>Item 4</th>\n",
       "      <th>Item 5</th>\n",
       "      <th>Item 6</th>\n",
       "      <th>Item 7</th>\n",
       "      <th>Item 8</th>\n",
       "      <th>Item 9</th>\n",
       "      <th>Item 10</th>\n",
       "      <th>Item 11</th>\n",
       "      <th>Item 12</th>\n",
       "      <th>Item 13</th>\n",
       "      <th>Item 14</th>\n",
       "      <th>BBS Sum</th>\n",
       "    </tr>\n",
       "  </thead>\n",
       "  <tbody>\n",
       "    <tr>\n",
       "      <th>count</th>\n",
       "      <td>354.000000</td>\n",
       "      <td>354.000000</td>\n",
       "      <td>354.000000</td>\n",
       "      <td>354.000000</td>\n",
       "      <td>354.000000</td>\n",
       "      <td>354.000000</td>\n",
       "      <td>354.000000</td>\n",
       "      <td>354.000000</td>\n",
       "      <td>354.000000</td>\n",
       "      <td>354.000000</td>\n",
       "      <td>354.000000</td>\n",
       "      <td>354.000000</td>\n",
       "      <td>354.000000</td>\n",
       "      <td>354.000000</td>\n",
       "      <td>354.000000</td>\n",
       "      <td>354.000000</td>\n",
       "    </tr>\n",
       "    <tr>\n",
       "      <th>mean</th>\n",
       "      <td>62.045198</td>\n",
       "      <td>3.050847</td>\n",
       "      <td>3.127119</td>\n",
       "      <td>3.141243</td>\n",
       "      <td>2.855932</td>\n",
       "      <td>2.669492</td>\n",
       "      <td>2.372881</td>\n",
       "      <td>2.107345</td>\n",
       "      <td>1.963277</td>\n",
       "      <td>2.042373</td>\n",
       "      <td>1.926554</td>\n",
       "      <td>1.751412</td>\n",
       "      <td>1.497175</td>\n",
       "      <td>1.435028</td>\n",
       "      <td>1.189266</td>\n",
       "      <td>31.141243</td>\n",
       "    </tr>\n",
       "    <tr>\n",
       "      <th>std</th>\n",
       "      <td>20.325905</td>\n",
       "      <td>0.901816</td>\n",
       "      <td>0.994716</td>\n",
       "      <td>1.041542</td>\n",
       "      <td>1.047934</td>\n",
       "      <td>1.144429</td>\n",
       "      <td>1.179114</td>\n",
       "      <td>1.170846</td>\n",
       "      <td>1.195509</td>\n",
       "      <td>1.346872</td>\n",
       "      <td>1.350784</td>\n",
       "      <td>1.306038</td>\n",
       "      <td>1.209613</td>\n",
       "      <td>1.188955</td>\n",
       "      <td>1.126954</td>\n",
       "      <td>13.966465</td>\n",
       "    </tr>\n",
       "    <tr>\n",
       "      <th>min</th>\n",
       "      <td>17.000000</td>\n",
       "      <td>0.000000</td>\n",
       "      <td>0.000000</td>\n",
       "      <td>0.000000</td>\n",
       "      <td>0.000000</td>\n",
       "      <td>0.000000</td>\n",
       "      <td>0.000000</td>\n",
       "      <td>0.000000</td>\n",
       "      <td>0.000000</td>\n",
       "      <td>0.000000</td>\n",
       "      <td>0.000000</td>\n",
       "      <td>0.000000</td>\n",
       "      <td>0.000000</td>\n",
       "      <td>0.000000</td>\n",
       "      <td>0.000000</td>\n",
       "      <td>0.000000</td>\n",
       "    </tr>\n",
       "    <tr>\n",
       "      <th>25%</th>\n",
       "      <td>45.250000</td>\n",
       "      <td>3.000000</td>\n",
       "      <td>3.000000</td>\n",
       "      <td>2.000000</td>\n",
       "      <td>2.000000</td>\n",
       "      <td>2.000000</td>\n",
       "      <td>2.000000</td>\n",
       "      <td>1.000000</td>\n",
       "      <td>1.000000</td>\n",
       "      <td>1.000000</td>\n",
       "      <td>1.000000</td>\n",
       "      <td>0.000000</td>\n",
       "      <td>0.000000</td>\n",
       "      <td>0.000000</td>\n",
       "      <td>0.000000</td>\n",
       "      <td>19.000000</td>\n",
       "    </tr>\n",
       "    <tr>\n",
       "      <th>50%</th>\n",
       "      <td>62.500000</td>\n",
       "      <td>3.000000</td>\n",
       "      <td>3.000000</td>\n",
       "      <td>4.000000</td>\n",
       "      <td>3.000000</td>\n",
       "      <td>3.000000</td>\n",
       "      <td>3.000000</td>\n",
       "      <td>2.000000</td>\n",
       "      <td>2.000000</td>\n",
       "      <td>2.000000</td>\n",
       "      <td>2.000000</td>\n",
       "      <td>2.000000</td>\n",
       "      <td>2.000000</td>\n",
       "      <td>2.000000</td>\n",
       "      <td>1.000000</td>\n",
       "      <td>33.000000</td>\n",
       "    </tr>\n",
       "    <tr>\n",
       "      <th>75%</th>\n",
       "      <td>76.000000</td>\n",
       "      <td>4.000000</td>\n",
       "      <td>4.000000</td>\n",
       "      <td>4.000000</td>\n",
       "      <td>4.000000</td>\n",
       "      <td>4.000000</td>\n",
       "      <td>3.000000</td>\n",
       "      <td>3.000000</td>\n",
       "      <td>3.000000</td>\n",
       "      <td>3.000000</td>\n",
       "      <td>3.000000</td>\n",
       "      <td>3.000000</td>\n",
       "      <td>2.000000</td>\n",
       "      <td>2.000000</td>\n",
       "      <td>2.000000</td>\n",
       "      <td>42.000000</td>\n",
       "    </tr>\n",
       "    <tr>\n",
       "      <th>max</th>\n",
       "      <td>102.000000</td>\n",
       "      <td>4.000000</td>\n",
       "      <td>4.000000</td>\n",
       "      <td>4.000000</td>\n",
       "      <td>4.000000</td>\n",
       "      <td>4.000000</td>\n",
       "      <td>4.000000</td>\n",
       "      <td>4.000000</td>\n",
       "      <td>4.000000</td>\n",
       "      <td>4.000000</td>\n",
       "      <td>4.000000</td>\n",
       "      <td>4.000000</td>\n",
       "      <td>4.000000</td>\n",
       "      <td>4.000000</td>\n",
       "      <td>4.000000</td>\n",
       "      <td>56.000000</td>\n",
       "    </tr>\n",
       "  </tbody>\n",
       "</table>\n",
       "</div>"
      ],
      "text/plain": [
       "       Patient's Age      Item 1      Item 2      Item 3      Item 4  \\\n",
       "count     354.000000  354.000000  354.000000  354.000000  354.000000   \n",
       "mean       62.045198    3.050847    3.127119    3.141243    2.855932   \n",
       "std        20.325905    0.901816    0.994716    1.041542    1.047934   \n",
       "min        17.000000    0.000000    0.000000    0.000000    0.000000   \n",
       "25%        45.250000    3.000000    3.000000    2.000000    2.000000   \n",
       "50%        62.500000    3.000000    3.000000    4.000000    3.000000   \n",
       "75%        76.000000    4.000000    4.000000    4.000000    4.000000   \n",
       "max       102.000000    4.000000    4.000000    4.000000    4.000000   \n",
       "\n",
       "           Item 5      Item 6      Item 7      Item 8      Item 9     Item 10  \\\n",
       "count  354.000000  354.000000  354.000000  354.000000  354.000000  354.000000   \n",
       "mean     2.669492    2.372881    2.107345    1.963277    2.042373    1.926554   \n",
       "std      1.144429    1.179114    1.170846    1.195509    1.346872    1.350784   \n",
       "min      0.000000    0.000000    0.000000    0.000000    0.000000    0.000000   \n",
       "25%      2.000000    2.000000    1.000000    1.000000    1.000000    1.000000   \n",
       "50%      3.000000    3.000000    2.000000    2.000000    2.000000    2.000000   \n",
       "75%      4.000000    3.000000    3.000000    3.000000    3.000000    3.000000   \n",
       "max      4.000000    4.000000    4.000000    4.000000    4.000000    4.000000   \n",
       "\n",
       "          Item 11     Item 12     Item 13     Item 14     BBS Sum  \n",
       "count  354.000000  354.000000  354.000000  354.000000  354.000000  \n",
       "mean     1.751412    1.497175    1.435028    1.189266   31.141243  \n",
       "std      1.306038    1.209613    1.188955    1.126954   13.966465  \n",
       "min      0.000000    0.000000    0.000000    0.000000    0.000000  \n",
       "25%      0.000000    0.000000    0.000000    0.000000   19.000000  \n",
       "50%      2.000000    2.000000    2.000000    1.000000   33.000000  \n",
       "75%      3.000000    2.000000    2.000000    2.000000   42.000000  \n",
       "max      4.000000    4.000000    4.000000    4.000000   56.000000  "
      ]
     },
     "execution_count": 6,
     "metadata": {},
     "output_type": "execute_result"
    }
   ],
   "source": [
    "df.describe()"
   ]
  },
  {
   "cell_type": "code",
   "execution_count": 7,
   "id": "0f5c31e6",
   "metadata": {},
   "outputs": [],
   "source": [
    "# TAKES A VERY LONG TIME TO PROCESS\n",
    "#sns.pairplot(df)"
   ]
  },
  {
   "cell_type": "code",
   "execution_count": 8,
   "id": "87d95b30",
   "metadata": {
    "scrolled": true
   },
   "outputs": [
    {
     "data": {
      "text/plain": [
       "<AxesSubplot:xlabel=\"Patient's Age\", ylabel='Assessment of Risk'>"
      ]
     },
     "execution_count": 8,
     "metadata": {},
     "output_type": "execute_result"
    },
    {
     "data": {
      "image/png": "[encoded data removed]",
      "text/plain": [
       "<Figure size 432x288 with 1 Axes>"
      ]
     },
     "metadata": {
      "needs_background": "light"
     },
     "output_type": "display_data"
    }
   ],
   "source": [
    "sns.histplot(data=df,x='Patient\\'s Age',y='Assessment of Risk',bins=50)"
   ]
  },
  {
   "cell_type": "code",
   "execution_count": 9,
   "id": "5d5d3156",
   "metadata": {},
   "outputs": [
    {
     "data": {
      "text/plain": [
       "0    False\n",
       "1    False\n",
       "2    False\n",
       "3    False\n",
       "4    False\n",
       "dtype: bool"
      ]
     },
     "execution_count": 9,
     "metadata": {},
     "output_type": "execute_result"
    }
   ],
   "source": [
    "bdf = df.drop(['BBS Sum','Assessment of Risk'],axis=1).duplicated()\n",
    "bdf.head()"
   ]
  },
  {
   "cell_type": "code",
   "execution_count": 10,
   "id": "053231e5",
   "metadata": {},
   "outputs": [
    {
     "data": {
      "text/plain": [
       "False    307\n",
       "True      47\n",
       "dtype: int64"
      ]
     },
     "execution_count": 10,
     "metadata": {},
     "output_type": "execute_result"
    }
   ],
   "source": [
    "bdf.value_counts()"
   ]
  },
  {
   "cell_type": "code",
   "execution_count": 11,
   "id": "2283c693",
   "metadata": {},
   "outputs": [
    {
     "data": {
      "text/plain": [
       "0    False\n",
       "1    False\n",
       "2    False\n",
       "3    False\n",
       "4    False\n",
       "dtype: bool"
      ]
     },
     "execution_count": 11,
     "metadata": {},
     "output_type": "execute_result"
    }
   ],
   "source": [
    "cdf = df.drop(['Patient\\'s Age','BBS Sum','Assessment of Risk'],axis=1).duplicated()\n",
    "cdf.head()"
   ]
  },
  {
   "cell_type": "code",
   "execution_count": 12,
   "id": "bf944321",
   "metadata": {},
   "outputs": [
    {
     "data": {
      "text/plain": [
       "False    282\n",
       "True      72\n",
       "dtype: int64"
      ]
     },
     "execution_count": 12,
     "metadata": {},
     "output_type": "execute_result"
    }
   ],
   "source": [
    "cdf.value_counts()"
   ]
  },
  {
   "cell_type": "code",
   "execution_count": 13,
   "id": "d1939804",
   "metadata": {},
   "outputs": [
    {
     "data": {
      "text/plain": [
       "<AxesSubplot:xlabel='BBS Sum', ylabel='Count'>"
      ]
     },
     "execution_count": 13,
     "metadata": {},
     "output_type": "execute_result"
    },
    {
     "data": {
      "image/png": "[encoded data removed]",
      "text/plain": [
       "<Figure size 720x576 with 1 Axes>"
      ]
     },
     "metadata": {
      "needs_background": "light"
     },
     "output_type": "display_data"
    }
   ],
   "source": [
    "plt.figure(figsize=(10,8))\n",
    "sns.histplot(df['BBS Sum'],bins=50,kde=True)"
   ]
  },
  {
   "cell_type": "code",
   "execution_count": 14,
   "id": "6b9449a4",
   "metadata": {
    "scrolled": false
   },
   "outputs": [
    {
     "data": {
      "application/vnd.plotly.v1+json": {
       "config": {
        "linkText": "Export to plot.ly",
        "plotlyServerURL": "https://plot.ly",
        "showLink": true
       },
       "data": [
        {
         "histfunc": "count",
         "histnorm": "",
         "marker": {
          "color": "rgba(55, 128, 191, 1.0)",
          "line": {
           "color": "#4D5663",
           "width": 1.3
          }
         },
         "name": "BBS Sum",
         "nbinsx": 50,
         "opacity": 0.8,
         "orientation": "v",
         "type": "histogram",
         "x": [
          8,
          30,
          30,
          24,
          41,
          43,
          31,
          32,
          31,
          29,
          47,
          46,
          29,
          41,
          20,
          38,
          35,
          30,
          49,
          22,
          17,
          14,
          27,
          49,
          47,
          33,
          46,
          45,
          34,
          29,
          36,
          52,
          21,
          44,
          14,
          33,
          39,
          16,
          21,
          29,
          44,
          50,
          25,
          20,
          42,
          29,
          33,
          17,
          45,
          22,
          16,
          43,
          35,
          26,
          19,
          9,
          28,
          46,
          51,
          51,
          36,
          28,
          22,
          49,
          38,
          35,
          27,
          43,
          25,
          28,
          54,
          38,
          38,
          28,
          17,
          42,
          47,
          51,
          51,
          46,
          24,
          26,
          54,
          48,
          42,
          30,
          25,
          30,
          46,
          33,
          47,
          31,
          32,
          33,
          52,
          42,
          21,
          56,
          32,
          23,
          36,
          39,
          46,
          30,
          39,
          39,
          43,
          40,
          37,
          30,
          30,
          51,
          34,
          28,
          45,
          41,
          34,
          33,
          40,
          36,
          42,
          33,
          38,
          34,
          39,
          46,
          28,
          39,
          39,
          43,
          40,
          36,
          29,
          30,
          51,
          32,
          28,
          45,
          40,
          34,
          33,
          40,
          36,
          42,
          32,
          38,
          35,
          40,
          46,
          28,
          39,
          40,
          43,
          40,
          36,
          30,
          31,
          51,
          32,
          28,
          46,
          40,
          34,
          33,
          39,
          37,
          42,
          32,
          40,
          35,
          39,
          46,
          29,
          39,
          39,
          42,
          40,
          36,
          29,
          31,
          51,
          33,
          28,
          46,
          40,
          34,
          33,
          40,
          36,
          42,
          32,
          38,
          41,
          28,
          13,
          35,
          17,
          28,
          53,
          14,
          18,
          50,
          22,
          49,
          33,
          27,
          25,
          9,
          36,
          33,
          36,
          47,
          25,
          38,
          42,
          48,
          35,
          48,
          28,
          47,
          29,
          29,
          39,
          36,
          14,
          26,
          19,
          6,
          17,
          13,
          0,
          17,
          15,
          15,
          14,
          15,
          14,
          20,
          12,
          14,
          19,
          12,
          20,
          13,
          13,
          13,
          12,
          0,
          16,
          12,
          15,
          13,
          16,
          9,
          14,
          6,
          16,
          8,
          11,
          12,
          5,
          51,
          19,
          14,
          9,
          12,
          20,
          13,
          6,
          16,
          10,
          8,
          4,
          13,
          15,
          9,
          2,
          3,
          19,
          16,
          17,
          12,
          17,
          12,
          15,
          16,
          19,
          10,
          4,
          15,
          17,
          19,
          5,
          4,
          20,
          17,
          10,
          16,
          9,
          2,
          15,
          16,
          12,
          5,
          3,
          13,
          11,
          20,
          6,
          4,
          51,
          44,
          43,
          47,
          41,
          49,
          42,
          47,
          48,
          41,
          41,
          43,
          42,
          56,
          44,
          43,
          55,
          42,
          46,
          56,
          44,
          49,
          45,
          50,
          47,
          47,
          56,
          49,
          42,
          44,
          49,
          40,
          43,
          50,
          49,
          51,
          42,
          51,
          47,
          47,
          20,
          20,
          46,
          50
         ]
        }
       ],
       "layout": {
        "barmode": "overlay",
        "legend": {
         "bgcolor": "#F5F6F9",
         "font": {
          "color": "#4D5663"
         }
        },
        "paper_bgcolor": "#F5F6F9",
        "plot_bgcolor": "#F5F6F9",
        "template": {
         "data": {
          "bar": [
           {
            "error_x": {
             "color": "#2a3f5f"
            },
            "error_y": {
             "color": "#2a3f5f"
            },
            "marker": {
             "line": {
              "color": "#E5ECF6",
              "width": 0.5
             },
             "pattern": {
              "fillmode": "overlay",
              "size": 10,
              "solidity": 0.2
             }
            },
            "type": "bar"
           }
          ],
          "barpolar": [
           {
            "marker": {
             "line": {
              "color": "#E5ECF6",
              "width": 0.5
             },
             "pattern": {
              "fillmode": "overlay",
              "size": 10,
              "solidity": 0.2
             }
            },
            "type": "barpolar"
           }
          ],
          "carpet": [
           {
            "aaxis": {
             "endlinecolor": "#2a3f5f",
             "gridcolor": "white",
             "linecolor": "white",
             "minorgridcolor": "white",
             "startlinecolor": "#2a3f5f"
            },
            "baxis": {
             "endlinecolor": "#2a3f5f",
             "gridcolor": "white",
             "linecolor": "white",
             "minorgridcolor": "white",
             "startlinecolor": "#2a3f5f"
            },
            "type": "carpet"
           }
          ],
          "choropleth": [
           {
            "colorbar": {
             "outlinewidth": 0,
             "ticks": ""
            },
            "type": "choropleth"
           }
          ],
          "contour": [
           {
            "colorbar": {
             "outlinewidth": 0,
             "ticks": ""
            },
            "colorscale": [
             [
              0,
              "#0d0887"
             ],
             [
              0.1111111111111111,
              "#46039f"
             ],
             [
              0.2222222222222222,
              "#7201a8"
             ],
             [
              0.3333333333333333,
              "#9c179e"
             ],
             [
              0.4444444444444444,
              "#bd3786"
             ],
             [
              0.5555555555555556,
              "#d8576b"
             ],
             [
              0.6666666666666666,
              "#ed7953"
             ],
             [
              0.7777777777777778,
              "#fb9f3a"
             ],
             [
              0.8888888888888888,
              "#fdca26"
             ],
             [
              1,
              "#f0f921"
             ]
            ],
            "type": "contour"
           }
          ],
          "contourcarpet": [
           {
            "colorbar": {
             "outlinewidth": 0,
             "ticks": ""
            },
            "type": "contourcarpet"
           }
          ],
          "heatmap": [
           {
            "colorbar": {
             "outlinewidth": 0,
             "ticks": ""
            },
            "colorscale": [
             [
              0,
              "#0d0887"
             ],
             [
              0.1111111111111111,
              "#46039f"
             ],
             [
              0.2222222222222222,
              "#7201a8"
             ],
             [
              0.3333333333333333,
              "#9c179e"
             ],
             [
              0.4444444444444444,
              "#bd3786"
             ],
             [
              0.5555555555555556,
              "#d8576b"
             ],
             [
              0.6666666666666666,
              "#ed7953"
             ],
             [
              0.7777777777777778,
              "#fb9f3a"
             ],
             [
              0.8888888888888888,
              "#fdca26"
             ],
             [
              1,
              "#f0f921"
             ]
            ],
            "type": "heatmap"
           }
          ],
          "heatmapgl": [
           {
            "colorbar": {
             "outlinewidth": 0,
             "ticks": ""
            },
            "colorscale": [
             [
              0,
              "#0d0887"
             ],
             [
              0.1111111111111111,
              "#46039f"
             ],
             [
              0.2222222222222222,
              "#7201a8"
             ],
             [
              0.3333333333333333,
              "#9c179e"
             ],
             [
              0.4444444444444444,
              "#bd3786"
             ],
             [
              0.5555555555555556,
              "#d8576b"
             ],
             [
              0.6666666666666666,
              "#ed7953"
             ],
             [
              0.7777777777777778,
              "#fb9f3a"
             ],
             [
              0.8888888888888888,
              "#fdca26"
             ],
             [
              1,
              "#f0f921"
             ]
            ],
            "type": "heatmapgl"
           }
          ],
          "histogram": [
           {
            "marker": {
             "pattern": {
              "fillmode": "overlay",
              "size": 10,
              "solidity": 0.2
             }
            },
            "type": "histogram"
           }
          ],
          "histogram2d": [
           {
            "colorbar": {
             "outlinewidth": 0,
             "ticks": ""
            },
            "colorscale": [
             [
              0,
              "#0d0887"
             ],
             [
              0.1111111111111111,
              "#46039f"
             ],
             [
              0.2222222222222222,
              "#7201a8"
             ],
             [
              0.3333333333333333,
              "#9c179e"
             ],
             [
              0.4444444444444444,
              "#bd3786"
             ],
             [
              0.5555555555555556,
              "#d8576b"
             ],
             [
              0.6666666666666666,
              "#ed7953"
             ],
             [
              0.7777777777777778,
              "#fb9f3a"
             ],
             [
              0.8888888888888888,
              "#fdca26"
             ],
             [
              1,
              "#f0f921"
             ]
            ],
            "type": "histogram2d"
           }
          ],
          "histogram2dcontour": [
           {
            "colorbar": {
             "outlinewidth": 0,
             "ticks": ""
            },
            "colorscale": [
             [
              0,
              "#0d0887"
             ],
             [
              0.1111111111111111,
              "#46039f"
             ],
             [
              0.2222222222222222,
              "#7201a8"
             ],
             [
              0.3333333333333333,
              "#9c179e"
             ],
             [
              0.4444444444444444,
              "#bd3786"
             ],
             [
              0.5555555555555556,
              "#d8576b"
             ],
             [
              0.6666666666666666,
              "#ed7953"
             ],
             [
              0.7777777777777778,
              "#fb9f3a"
             ],
             [
              0.8888888888888888,
              "#fdca26"
             ],
             [
              1,
              "#f0f921"
             ]
            ],
            "type": "histogram2dcontour"
           }
          ],
          "mesh3d": [
           {
            "colorbar": {
             "outlinewidth": 0,
             "ticks": ""
            },
            "type": "mesh3d"
           }
          ],
          "parcoords": [
           {
            "line": {
             "colorbar": {
              "outlinewidth": 0,
              "ticks": ""
             }
            },
            "type": "parcoords"
           }
          ],
          "pie": [
           {
            "automargin": true,
            "type": "pie"
           }
          ],
          "scatter": [
           {
            "fillpattern": {
             "fillmode": "overlay",
             "size": 10,
             "solidity": 0.2
            },
            "type": "scatter"
           }
          ],
          "scatter3d": [
           {
            "line": {
             "colorbar": {
              "outlinewidth": 0,
              "ticks": ""
             }
            },
            "marker": {
             "colorbar": {
              "outlinewidth": 0,
              "ticks": ""
             }
            },
            "type": "scatter3d"
           }
          ],
          "scattercarpet": [
           {
            "marker": {
             "colorbar": {
              "outlinewidth": 0,
              "ticks": ""
             }
            },
            "type": "scattercarpet"
           }
          ],
          "scattergeo": [
           {
            "marker": {
             "colorbar": {
              "outlinewidth": 0,
              "ticks": ""
             }
            },
            "type": "scattergeo"
           }
          ],
          "scattergl": [
           {
            "marker": {
             "colorbar": {
              "outlinewidth": 0,
              "ticks": ""
             }
            },
            "type": "scattergl"
           }
          ],
          "scattermapbox": [
           {
            "marker": {
             "colorbar": {
              "outlinewidth": 0,
              "ticks": ""
             }
            },
            "type": "scattermapbox"
           }
          ],
          "scatterpolar": [
           {
            "marker": {
             "colorbar": {
              "outlinewidth": 0,
              "ticks": ""
             }
            },
            "type": "scatterpolar"
           }
          ],
          "scatterpolargl": [
           {
            "marker": {
             "colorbar": {
              "outlinewidth": 0,
              "ticks": ""
             }
            },
            "type": "scatterpolargl"
           }
          ],
          "scatterternary": [
           {
            "marker": {
             "colorbar": {
              "outlinewidth": 0,
              "ticks": ""
             }
            },
            "type": "scatterternary"
           }
          ],
          "surface": [
           {
            "colorbar": {
             "outlinewidth": 0,
             "ticks": ""
            },
            "colorscale": [
             [
              0,
              "#0d0887"
             ],
             [
              0.1111111111111111,
              "#46039f"
             ],
             [
              0.2222222222222222,
              "#7201a8"
             ],
             [
              0.3333333333333333,
              "#9c179e"
             ],
             [
              0.4444444444444444,
              "#bd3786"
             ],
             [
              0.5555555555555556,
              "#d8576b"
             ],
             [
              0.6666666666666666,
              "#ed7953"
             ],
             [
              0.7777777777777778,
              "#fb9f3a"
             ],
             [
              0.8888888888888888,
              "#fdca26"
             ],
             [
              1,
              "#f0f921"
             ]
            ],
            "type": "surface"
           }
          ],
          "table": [
           {
            "cells": {
             "fill": {
              "color": "#EBF0F8"
             },
             "line": {
              "color": "white"
             }
            },
            "header": {
             "fill": {
              "color": "#C8D4E3"
             },
             "line": {
              "color": "white"
             }
            },
            "type": "table"
           }
          ]
         },
         "layout": {
          "annotationdefaults": {
           "arrowcolor": "#2a3f5f",
           "arrowhead": 0,
           "arrowwidth": 1
          },
          "autotypenumbers": "strict",
          "coloraxis": {
           "colorbar": {
            "outlinewidth": 0,
            "ticks": ""
           }
          },
          "colorscale": {
           "diverging": [
            [
             0,
             "#8e0152"
            ],
            [
             0.1,
             "#c51b7d"
            ],
            [
             0.2,
             "#de77ae"
            ],
            [
             0.3,
             "#f1b6da"
            ],
            [
             0.4,
             "#fde0ef"
            ],
            [
             0.5,
             "#f7f7f7"
            ],
            [
             0.6,
             "#e6f5d0"
            ],
            [
             0.7,
             "#b8e186"
            ],
            [
             0.8,
             "#7fbc41"
            ],
            [
             0.9,
             "#4d9221"
            ],
            [
             1,
             "#276419"
            ]
           ],
           "sequential": [
            [
             0,
             "#0d0887"
            ],
            [
             0.1111111111111111,
             "#46039f"
            ],
            [
             0.2222222222222222,
             "#7201a8"
            ],
            [
             0.3333333333333333,
             "#9c179e"
            ],
            [
             0.4444444444444444,
             "#bd3786"
            ],
            [
             0.5555555555555556,
             "#d8576b"
            ],
            [
             0.6666666666666666,
             "#ed7953"
            ],
            [
             0.7777777777777778,
             "#fb9f3a"
            ],
            [
             0.8888888888888888,
             "#fdca26"
            ],
            [
             1,
             "#f0f921"
            ]
           ],
           "sequentialminus": [
            [
             0,
             "#0d0887"
            ],
            [
             0.1111111111111111,
             "#46039f"
            ],
            [
             0.2222222222222222,
             "#7201a8"
            ],
            [
             0.3333333333333333,
             "#9c179e"
            ],
            [
             0.4444444444444444,
             "#bd3786"
            ],
            [
             0.5555555555555556,
             "#d8576b"
            ],
            [
             0.6666666666666666,
             "#ed7953"
            ],
            [
             0.7777777777777778,
             "#fb9f3a"
            ],
            [
             0.8888888888888888,
             "#fdca26"
            ],
            [
             1,
             "#f0f921"
            ]
           ]
          },
          "colorway": [
           "#636efa",
           "#EF553B",
           "#00cc96",
           "#ab63fa",
           "#FFA15A",
           "#19d3f3",
           "#FF6692",
           "#B6E880",
           "#FF97FF",
           "#FECB52"
          ],
          "font": {
           "color": "#2a3f5f"
          },
          "geo": {
           "bgcolor": "white",
           "lakecolor": "white",
           "landcolor": "#E5ECF6",
           "showlakes": true,
           "showland": true,
           "subunitcolor": "white"
          },
          "hoverlabel": {
           "align": "left"
          },
          "hovermode": "closest",
          "mapbox": {
           "style": "light"
          },
          "paper_bgcolor": "white",
          "plot_bgcolor": "#E5ECF6",
          "polar": {
           "angularaxis": {
            "gridcolor": "white",
            "linecolor": "white",
            "ticks": ""
           },
           "bgcolor": "#E5ECF6",
           "radialaxis": {
            "gridcolor": "white",
            "linecolor": "white",
            "ticks": ""
           }
          },
          "scene": {
           "xaxis": {
            "backgroundcolor": "#E5ECF6",
            "gridcolor": "white",
            "gridwidth": 2,
            "linecolor": "white",
            "showbackground": true,
            "ticks": "",
            "zerolinecolor": "white"
           },
           "yaxis": {
            "backgroundcolor": "#E5ECF6",
            "gridcolor": "white",
            "gridwidth": 2,
            "linecolor": "white",
            "showbackground": true,
            "ticks": "",
            "zerolinecolor": "white"
           },
           "zaxis": {
            "backgroundcolor": "#E5ECF6",
            "gridcolor": "white",
            "gridwidth": 2,
            "linecolor": "white",
            "showbackground": true,
            "ticks": "",
            "zerolinecolor": "white"
           }
          },
          "shapedefaults": {
           "line": {
            "color": "#2a3f5f"
           }
          },
          "ternary": {
           "aaxis": {
            "gridcolor": "white",
            "linecolor": "white",
            "ticks": ""
           },
           "baxis": {
            "gridcolor": "white",
            "linecolor": "white",
            "ticks": ""
           },
           "bgcolor": "#E5ECF6",
           "caxis": {
            "gridcolor": "white",
            "linecolor": "white",
            "ticks": ""
           }
          },
          "title": {
           "x": 0.05
          },
          "xaxis": {
           "automargin": true,
           "gridcolor": "white",
           "linecolor": "white",
           "ticks": "",
           "title": {
            "standoff": 15
           },
           "zerolinecolor": "white",
           "zerolinewidth": 2
          },
          "yaxis": {
           "automargin": true,
           "gridcolor": "white",
           "linecolor": "white",
           "ticks": "",
           "title": {
            "standoff": 15
           },
           "zerolinecolor": "white",
           "zerolinewidth": 2
          }
         }
        },
        "title": {
         "font": {
          "color": "#4D5663"
         }
        },
        "xaxis": {
         "gridcolor": "#E1E5ED",
         "showgrid": true,
         "tickfont": {
          "color": "#4D5663"
         },
         "title": {
          "font": {
           "color": "#4D5663"
          },
          "text": "BBS Scores"
         },
         "zerolinecolor": "#E1E5ED"
        },
        "yaxis": {
         "gridcolor": "#E1E5ED",
         "showgrid": true,
         "tickfont": {
          "color": "#4D5663"
         },
         "title": {
          "font": {
           "color": "#4D5663"
          },
          "text": "Count"
         },
         "zerolinecolor": "#E1E5ED"
        }
       }
      },
      "text/html": [
       "<div>                            <div id=\"5ba887e7-3c19-4166-bde7-e5b16e4f68cd\" class=\"plotly-graph-div\" style=\"height:525px; width:100%;\"></div>            <script type=\"text/javascript\">                require([\"plotly\"], function(Plotly) {                    window.PLOTLYENV=window.PLOTLYENV || {};\n",
       "                    window.PLOTLYENV.BASE_URL='https://plot.ly';                                    if (document.getElementById(\"5ba887e7-3c19-4166-bde7-e5b16e4f68cd\")) {                    Plotly.newPlot(                        \"5ba887e7-3c19-4166-bde7-e5b16e4f68cd\",                        [{\"histfunc\":\"count\",\"histnorm\":\"\",\"marker\":{\"color\":\"rgba(55, 128, 191, 1.0)\",\"line\":{\"color\":\"#4D5663\",\"width\":1.3}},\"name\":\"BBS Sum\",\"nbinsx\":50,\"opacity\":0.8,\"orientation\":\"v\",\"x\":[8,30,30,24,41,43,31,32,31,29,47,46,29,41,20,38,35,30,49,22,17,14,27,49,47,33,46,45,34,29,36,52,21,44,14,33,39,16,21,29,44,50,25,20,42,29,33,17,45,22,16,43,35,26,19,9,28,46,51,51,36,28,22,49,38,35,27,43,25,28,54,38,38,28,17,42,47,51,51,46,24,26,54,48,42,30,25,30,46,33,47,31,32,33,52,42,21,56,32,23,36,39,46,30,39,39,43,40,37,30,30,51,34,28,45,41,34,33,40,36,42,33,38,34,39,46,28,39,39,43,40,36,29,30,51,32,28,45,40,34,33,40,36,42,32,38,35,40,46,28,39,40,43,40,36,30,31,51,32,28,46,40,34,33,39,37,42,32,40,35,39,46,29,39,39,42,40,36,29,31,51,33,28,46,40,34,33,40,36,42,32,38,41,28,13,35,17,28,53,14,18,50,22,49,33,27,25,9,36,33,36,47,25,38,42,48,35,48,28,47,29,29,39,36,14,26,19,6,17,13,0,17,15,15,14,15,14,20,12,14,19,12,20,13,13,13,12,0,16,12,15,13,16,9,14,6,16,8,11,12,5,51,19,14,9,12,20,13,6,16,10,8,4,13,15,9,2,3,19,16,17,12,17,12,15,16,19,10,4,15,17,19,5,4,20,17,10,16,9,2,15,16,12,5,3,13,11,20,6,4,51,44,43,47,41,49,42,47,48,41,41,43,42,56,44,43,55,42,46,56,44,49,45,50,47,47,56,49,42,44,49,40,43,50,49,51,42,51,47,47,20,20,46,50],\"type\":\"histogram\"}],                        {\"barmode\":\"overlay\",\"legend\":{\"bgcolor\":\"#F5F6F9\",\"font\":{\"color\":\"#4D5663\"}},\"paper_bgcolor\":\"#F5F6F9\",\"plot_bgcolor\":\"#F5F6F9\",\"template\":{\"data\":{\"barpolar\":[{\"marker\":{\"line\":{\"color\":\"#E5ECF6\",\"width\":0.5},\"pattern\":{\"fillmode\":\"overlay\",\"size\":10,\"solidity\":0.2}},\"type\":\"barpolar\"}],\"bar\":[{\"error_x\":{\"color\":\"#2a3f5f\"},\"error_y\":{\"color\":\"#2a3f5f\"},\"marker\":{\"line\":{\"color\":\"#E5ECF6\",\"width\":0.5},\"pattern\":{\"fillmode\":\"overlay\",\"size\":10,\"solidity\":0.2}},\"type\":\"bar\"}],\"carpet\":[{\"aaxis\":{\"endlinecolor\":\"#2a3f5f\",\"gridcolor\":\"white\",\"linecolor\":\"white\",\"minorgridcolor\":\"white\",\"startlinecolor\":\"#2a3f5f\"},\"baxis\":{\"endlinecolor\":\"#2a3f5f\",\"gridcolor\":\"white\",\"linecolor\":\"white\",\"minorgridcolor\":\"white\",\"startlinecolor\":\"#2a3f5f\"},\"type\":\"carpet\"}],\"choropleth\":[{\"colorbar\":{\"outlinewidth\":0,\"ticks\":\"\"},\"type\":\"choropleth\"}],\"contourcarpet\":[{\"colorbar\":{\"outlinewidth\":0,\"ticks\":\"\"},\"type\":\"contourcarpet\"}],\"contour\":[{\"colorbar\":{\"outlinewidth\":0,\"ticks\":\"\"},\"colorscale\":[[0.0,\"#0d0887\"],[0.1111111111111111,\"#46039f\"],[0.2222222222222222,\"#7201a8\"],[0.3333333333333333,\"#9c179e\"],[0.4444444444444444,\"#bd3786\"],[0.5555555555555556,\"#d8576b\"],[0.6666666666666666,\"#ed7953\"],[0.7777777777777778,\"#fb9f3a\"],[0.8888888888888888,\"#fdca26\"],[1.0,\"#f0f921\"]],\"type\":\"contour\"}],\"heatmapgl\":[{\"colorbar\":{\"outlinewidth\":0,\"ticks\":\"\"},\"colorscale\":[[0.0,\"#0d0887\"],[0.1111111111111111,\"#46039f\"],[0.2222222222222222,\"#7201a8\"],[0.3333333333333333,\"#9c179e\"],[0.4444444444444444,\"#bd3786\"],[0.5555555555555556,\"#d8576b\"],[0.6666666666666666,\"#ed7953\"],[0.7777777777777778,\"#fb9f3a\"],[0.8888888888888888,\"#fdca26\"],[1.0,\"#f0f921\"]],\"type\":\"heatmapgl\"}],\"heatmap\":[{\"colorbar\":{\"outlinewidth\":0,\"ticks\":\"\"},\"colorscale\":[[0.0,\"#0d0887\"],[0.1111111111111111,\"#46039f\"],[0.2222222222222222,\"#7201a8\"],[0.3333333333333333,\"#9c179e\"],[0.4444444444444444,\"#bd3786\"],[0.5555555555555556,\"#d8576b\"],[0.6666666666666666,\"#ed7953\"],[0.7777777777777778,\"#fb9f3a\"],[0.8888888888888888,\"#fdca26\"],[1.0,\"#f0f921\"]],\"type\":\"heatmap\"}],\"histogram2dcontour\":[{\"colorbar\":{\"outlinewidth\":0,\"ticks\":\"\"},\"colorscale\":[[0.0,\"#0d0887\"],[0.1111111111111111,\"#46039f\"],[0.2222222222222222,\"#7201a8\"],[0.3333333333333333,\"#9c179e\"],[0.4444444444444444,\"#bd3786\"],[0.5555555555555556,\"#d8576b\"],[0.6666666666666666,\"#ed7953\"],[0.7777777777777778,\"#fb9f3a\"],[0.8888888888888888,\"#fdca26\"],[1.0,\"#f0f921\"]],\"type\":\"histogram2dcontour\"}],\"histogram2d\":[{\"colorbar\":{\"outlinewidth\":0,\"ticks\":\"\"},\"colorscale\":[[0.0,\"#0d0887\"],[0.1111111111111111,\"#46039f\"],[0.2222222222222222,\"#7201a8\"],[0.3333333333333333,\"#9c179e\"],[0.4444444444444444,\"#bd3786\"],[0.5555555555555556,\"#d8576b\"],[0.6666666666666666,\"#ed7953\"],[0.7777777777777778,\"#fb9f3a\"],[0.8888888888888888,\"#fdca26\"],[1.0,\"#f0f921\"]],\"type\":\"histogram2d\"}],\"histogram\":[{\"marker\":{\"pattern\":{\"fillmode\":\"overlay\",\"size\":10,\"solidity\":0.2}},\"type\":\"histogram\"}],\"mesh3d\":[{\"colorbar\":{\"outlinewidth\":0,\"ticks\":\"\"},\"type\":\"mesh3d\"}],\"parcoords\":[{\"line\":{\"colorbar\":{\"outlinewidth\":0,\"ticks\":\"\"}},\"type\":\"parcoords\"}],\"pie\":[{\"automargin\":true,\"type\":\"pie\"}],\"scatter3d\":[{\"line\":{\"colorbar\":{\"outlinewidth\":0,\"ticks\":\"\"}},\"marker\":{\"colorbar\":{\"outlinewidth\":0,\"ticks\":\"\"}},\"type\":\"scatter3d\"}],\"scattercarpet\":[{\"marker\":{\"colorbar\":{\"outlinewidth\":0,\"ticks\":\"\"}},\"type\":\"scattercarpet\"}],\"scattergeo\":[{\"marker\":{\"colorbar\":{\"outlinewidth\":0,\"ticks\":\"\"}},\"type\":\"scattergeo\"}],\"scattergl\":[{\"marker\":{\"colorbar\":{\"outlinewidth\":0,\"ticks\":\"\"}},\"type\":\"scattergl\"}],\"scattermapbox\":[{\"marker\":{\"colorbar\":{\"outlinewidth\":0,\"ticks\":\"\"}},\"type\":\"scattermapbox\"}],\"scatterpolargl\":[{\"marker\":{\"colorbar\":{\"outlinewidth\":0,\"ticks\":\"\"}},\"type\":\"scatterpolargl\"}],\"scatterpolar\":[{\"marker\":{\"colorbar\":{\"outlinewidth\":0,\"ticks\":\"\"}},\"type\":\"scatterpolar\"}],\"scatter\":[{\"fillpattern\":{\"fillmode\":\"overlay\",\"size\":10,\"solidity\":0.2},\"type\":\"scatter\"}],\"scatterternary\":[{\"marker\":{\"colorbar\":{\"outlinewidth\":0,\"ticks\":\"\"}},\"type\":\"scatterternary\"}],\"surface\":[{\"colorbar\":{\"outlinewidth\":0,\"ticks\":\"\"},\"colorscale\":[[0.0,\"#0d0887\"],[0.1111111111111111,\"#46039f\"],[0.2222222222222222,\"#7201a8\"],[0.3333333333333333,\"#9c179e\"],[0.4444444444444444,\"#bd3786\"],[0.5555555555555556,\"#d8576b\"],[0.6666666666666666,\"#ed7953\"],[0.7777777777777778,\"#fb9f3a\"],[0.8888888888888888,\"#fdca26\"],[1.0,\"#f0f921\"]],\"type\":\"surface\"}],\"table\":[{\"cells\":{\"fill\":{\"color\":\"#EBF0F8\"},\"line\":{\"color\":\"white\"}},\"header\":{\"fill\":{\"color\":\"#C8D4E3\"},\"line\":{\"color\":\"white\"}},\"type\":\"table\"}]},\"layout\":{\"annotationdefaults\":{\"arrowcolor\":\"#2a3f5f\",\"arrowhead\":0,\"arrowwidth\":1},\"autotypenumbers\":\"strict\",\"coloraxis\":{\"colorbar\":{\"outlinewidth\":0,\"ticks\":\"\"}},\"colorscale\":{\"diverging\":[[0,\"#8e0152\"],[0.1,\"#c51b7d\"],[0.2,\"#de77ae\"],[0.3,\"#f1b6da\"],[0.4,\"#fde0ef\"],[0.5,\"#f7f7f7\"],[0.6,\"#e6f5d0\"],[0.7,\"#b8e186\"],[0.8,\"#7fbc41\"],[0.9,\"#4d9221\"],[1,\"#276419\"]],\"sequential\":[[0.0,\"#0d0887\"],[0.1111111111111111,\"#46039f\"],[0.2222222222222222,\"#7201a8\"],[0.3333333333333333,\"#9c179e\"],[0.4444444444444444,\"#bd3786\"],[0.5555555555555556,\"#d8576b\"],[0.6666666666666666,\"#ed7953\"],[0.7777777777777778,\"#fb9f3a\"],[0.8888888888888888,\"#fdca26\"],[1.0,\"#f0f921\"]],\"sequentialminus\":[[0.0,\"#0d0887\"],[0.1111111111111111,\"#46039f\"],[0.2222222222222222,\"#7201a8\"],[0.3333333333333333,\"#9c179e\"],[0.4444444444444444,\"#bd3786\"],[0.5555555555555556,\"#d8576b\"],[0.6666666666666666,\"#ed7953\"],[0.7777777777777778,\"#fb9f3a\"],[0.8888888888888888,\"#fdca26\"],[1.0,\"#f0f921\"]]},\"colorway\":[\"#636efa\",\"#EF553B\",\"#00cc96\",\"#ab63fa\",\"#FFA15A\",\"#19d3f3\",\"#FF6692\",\"#B6E880\",\"#FF97FF\",\"#FECB52\"],\"font\":{\"color\":\"#2a3f5f\"},\"geo\":{\"bgcolor\":\"white\",\"lakecolor\":\"white\",\"landcolor\":\"#E5ECF6\",\"showlakes\":true,\"showland\":true,\"subunitcolor\":\"white\"},\"hoverlabel\":{\"align\":\"left\"},\"hovermode\":\"closest\",\"mapbox\":{\"style\":\"light\"},\"paper_bgcolor\":\"white\",\"plot_bgcolor\":\"#E5ECF6\",\"polar\":{\"angularaxis\":{\"gridcolor\":\"white\",\"linecolor\":\"white\",\"ticks\":\"\"},\"bgcolor\":\"#E5ECF6\",\"radialaxis\":{\"gridcolor\":\"white\",\"linecolor\":\"white\",\"ticks\":\"\"}},\"scene\":{\"xaxis\":{\"backgroundcolor\":\"#E5ECF6\",\"gridcolor\":\"white\",\"gridwidth\":2,\"linecolor\":\"white\",\"showbackground\":true,\"ticks\":\"\",\"zerolinecolor\":\"white\"},\"yaxis\":{\"backgroundcolor\":\"#E5ECF6\",\"gridcolor\":\"white\",\"gridwidth\":2,\"linecolor\":\"white\",\"showbackground\":true,\"ticks\":\"\",\"zerolinecolor\":\"white\"},\"zaxis\":{\"backgroundcolor\":\"#E5ECF6\",\"gridcolor\":\"white\",\"gridwidth\":2,\"linecolor\":\"white\",\"showbackground\":true,\"ticks\":\"\",\"zerolinecolor\":\"white\"}},\"shapedefaults\":{\"line\":{\"color\":\"#2a3f5f\"}},\"ternary\":{\"aaxis\":{\"gridcolor\":\"white\",\"linecolor\":\"white\",\"ticks\":\"\"},\"baxis\":{\"gridcolor\":\"white\",\"linecolor\":\"white\",\"ticks\":\"\"},\"bgcolor\":\"#E5ECF6\",\"caxis\":{\"gridcolor\":\"white\",\"linecolor\":\"white\",\"ticks\":\"\"}},\"title\":{\"x\":0.05},\"xaxis\":{\"automargin\":true,\"gridcolor\":\"white\",\"linecolor\":\"white\",\"ticks\":\"\",\"title\":{\"standoff\":15},\"zerolinecolor\":\"white\",\"zerolinewidth\":2},\"yaxis\":{\"automargin\":true,\"gridcolor\":\"white\",\"linecolor\":\"white\",\"ticks\":\"\",\"title\":{\"standoff\":15},\"zerolinecolor\":\"white\",\"zerolinewidth\":2}}},\"title\":{\"font\":{\"color\":\"#4D5663\"}},\"xaxis\":{\"gridcolor\":\"#E1E5ED\",\"showgrid\":true,\"tickfont\":{\"color\":\"#4D5663\"},\"title\":{\"font\":{\"color\":\"#4D5663\"},\"text\":\"BBS Scores\"},\"zerolinecolor\":\"#E1E5ED\"},\"yaxis\":{\"gridcolor\":\"#E1E5ED\",\"showgrid\":true,\"tickfont\":{\"color\":\"#4D5663\"},\"title\":{\"font\":{\"color\":\"#4D5663\"},\"text\":\"Count\"},\"zerolinecolor\":\"#E1E5ED\"}},                        {\"showLink\": true, \"linkText\": \"Export to plot.ly\", \"plotlyServerURL\": \"https://plot.ly\", \"responsive\": true}                    ).then(function(){\n",
       "                            \n",
       "var gd = document.getElementById('5ba887e7-3c19-4166-bde7-e5b16e4f68cd');\n",
       "var x = new MutationObserver(function (mutations, observer) {{\n",
       "        var display = window.getComputedStyle(gd).display;\n",
       "        if (!display || display === 'none') {{\n",
       "            console.log([gd, 'removed!']);\n",
       "            Plotly.purge(gd);\n",
       "            observer.disconnect();\n",
       "        }}\n",
       "}});\n",
       "\n",
       "// Listen for the removal of the full notebook cells\n",
       "var notebookContainer = gd.closest('#notebook-container');\n",
       "if (notebookContainer) {{\n",
       "    x.observe(notebookContainer, {childList: true});\n",
       "}}\n",
       "\n",
       "// Listen for the clearing of the current output cell\n",
       "var outputEl = gd.closest('.output');\n",
       "if (outputEl) {{\n",
       "    x.observe(outputEl, {childList: true});\n",
       "}}\n",
       "\n",
       "                        })                };                });            </script>        </div>"
      ]
     },
     "metadata": {},
     "output_type": "display_data"
    }
   ],
   "source": [
    "df['BBS Sum'].iplot(kind='hist',bins=50,color='blue',xTitle='BBS Scores',yTitle='Count')"
   ]
  },
  {
   "cell_type": "code",
   "execution_count": 15,
   "id": "aabdca05",
   "metadata": {
    "scrolled": false
   },
   "outputs": [
    {
     "data": {
      "text/html": [
       "<div>\n",
       "<style scoped>\n",
       "    .dataframe tbody tr th:only-of-type {\n",
       "        vertical-align: middle;\n",
       "    }\n",
       "\n",
       "    .dataframe tbody tr th {\n",
       "        vertical-align: top;\n",
       "    }\n",
       "\n",
       "    .dataframe thead th {\n",
       "        text-align: right;\n",
       "    }\n",
       "</style>\n",
       "<table border=\"1\" class=\"dataframe\">\n",
       "  <thead>\n",
       "    <tr style=\"text-align: right;\">\n",
       "      <th></th>\n",
       "      <th>Patient's Age</th>\n",
       "      <th>Item 1</th>\n",
       "      <th>Item 2</th>\n",
       "      <th>Item 3</th>\n",
       "      <th>Item 4</th>\n",
       "      <th>Item 5</th>\n",
       "      <th>Item 6</th>\n",
       "      <th>Item 7</th>\n",
       "      <th>Item 8</th>\n",
       "      <th>Item 9</th>\n",
       "      <th>Item 10</th>\n",
       "      <th>Item 11</th>\n",
       "      <th>Item 12</th>\n",
       "      <th>Item 13</th>\n",
       "      <th>Item 14</th>\n",
       "      <th>BBS Sum</th>\n",
       "    </tr>\n",
       "  </thead>\n",
       "  <tbody>\n",
       "    <tr>\n",
       "      <th>Patient's Age</th>\n",
       "      <td>1.000000</td>\n",
       "      <td>-0.419254</td>\n",
       "      <td>-0.409133</td>\n",
       "      <td>-0.429575</td>\n",
       "      <td>-0.419831</td>\n",
       "      <td>-0.414027</td>\n",
       "      <td>-0.350579</td>\n",
       "      <td>-0.311720</td>\n",
       "      <td>-0.324722</td>\n",
       "      <td>-0.389873</td>\n",
       "      <td>-0.411252</td>\n",
       "      <td>-0.389720</td>\n",
       "      <td>-0.331714</td>\n",
       "      <td>-0.337713</td>\n",
       "      <td>-0.326001</td>\n",
       "      <td>-0.434799</td>\n",
       "    </tr>\n",
       "    <tr>\n",
       "      <th>Item 1</th>\n",
       "      <td>-0.419254</td>\n",
       "      <td>1.000000</td>\n",
       "      <td>0.842269</td>\n",
       "      <td>0.731251</td>\n",
       "      <td>0.718205</td>\n",
       "      <td>0.675094</td>\n",
       "      <td>0.600192</td>\n",
       "      <td>0.595790</td>\n",
       "      <td>0.561410</td>\n",
       "      <td>0.490333</td>\n",
       "      <td>0.482133</td>\n",
       "      <td>0.477372</td>\n",
       "      <td>0.457192</td>\n",
       "      <td>0.404683</td>\n",
       "      <td>0.361230</td>\n",
       "      <td>0.679575</td>\n",
       "    </tr>\n",
       "    <tr>\n",
       "      <th>Item 2</th>\n",
       "      <td>-0.409133</td>\n",
       "      <td>0.842269</td>\n",
       "      <td>1.000000</td>\n",
       "      <td>0.849400</td>\n",
       "      <td>0.732358</td>\n",
       "      <td>0.736279</td>\n",
       "      <td>0.667153</td>\n",
       "      <td>0.647418</td>\n",
       "      <td>0.609008</td>\n",
       "      <td>0.617620</td>\n",
       "      <td>0.609952</td>\n",
       "      <td>0.608786</td>\n",
       "      <td>0.571240</td>\n",
       "      <td>0.516005</td>\n",
       "      <td>0.466204</td>\n",
       "      <td>0.774175</td>\n",
       "    </tr>\n",
       "    <tr>\n",
       "      <th>Item 3</th>\n",
       "      <td>-0.429575</td>\n",
       "      <td>0.731251</td>\n",
       "      <td>0.849400</td>\n",
       "      <td>1.000000</td>\n",
       "      <td>0.815503</td>\n",
       "      <td>0.776027</td>\n",
       "      <td>0.711287</td>\n",
       "      <td>0.668170</td>\n",
       "      <td>0.622998</td>\n",
       "      <td>0.694434</td>\n",
       "      <td>0.708110</td>\n",
       "      <td>0.679801</td>\n",
       "      <td>0.600680</td>\n",
       "      <td>0.561035</td>\n",
       "      <td>0.488817</td>\n",
       "      <td>0.815377</td>\n",
       "    </tr>\n",
       "    <tr>\n",
       "      <th>Item 4</th>\n",
       "      <td>-0.419831</td>\n",
       "      <td>0.718205</td>\n",
       "      <td>0.732358</td>\n",
       "      <td>0.815503</td>\n",
       "      <td>1.000000</td>\n",
       "      <td>0.815273</td>\n",
       "      <td>0.697001</td>\n",
       "      <td>0.705288</td>\n",
       "      <td>0.703520</td>\n",
       "      <td>0.716851</td>\n",
       "      <td>0.686944</td>\n",
       "      <td>0.679572</td>\n",
       "      <td>0.619844</td>\n",
       "      <td>0.593850</td>\n",
       "      <td>0.541284</td>\n",
       "      <td>0.827294</td>\n",
       "    </tr>\n",
       "    <tr>\n",
       "      <th>Item 5</th>\n",
       "      <td>-0.414027</td>\n",
       "      <td>0.675094</td>\n",
       "      <td>0.736279</td>\n",
       "      <td>0.776027</td>\n",
       "      <td>0.815273</td>\n",
       "      <td>1.000000</td>\n",
       "      <td>0.841048</td>\n",
       "      <td>0.821474</td>\n",
       "      <td>0.784120</td>\n",
       "      <td>0.795711</td>\n",
       "      <td>0.785067</td>\n",
       "      <td>0.773127</td>\n",
       "      <td>0.718632</td>\n",
       "      <td>0.701407</td>\n",
       "      <td>0.663658</td>\n",
       "      <td>0.905410</td>\n",
       "    </tr>\n",
       "    <tr>\n",
       "      <th>Item 6</th>\n",
       "      <td>-0.350579</td>\n",
       "      <td>0.600192</td>\n",
       "      <td>0.667153</td>\n",
       "      <td>0.711287</td>\n",
       "      <td>0.697001</td>\n",
       "      <td>0.841048</td>\n",
       "      <td>1.000000</td>\n",
       "      <td>0.855321</td>\n",
       "      <td>0.807565</td>\n",
       "      <td>0.789160</td>\n",
       "      <td>0.776715</td>\n",
       "      <td>0.775951</td>\n",
       "      <td>0.727689</td>\n",
       "      <td>0.696289</td>\n",
       "      <td>0.648128</td>\n",
       "      <td>0.885284</td>\n",
       "    </tr>\n",
       "    <tr>\n",
       "      <th>Item 7</th>\n",
       "      <td>-0.311720</td>\n",
       "      <td>0.595790</td>\n",
       "      <td>0.647418</td>\n",
       "      <td>0.668170</td>\n",
       "      <td>0.705288</td>\n",
       "      <td>0.821474</td>\n",
       "      <td>0.855321</td>\n",
       "      <td>1.000000</td>\n",
       "      <td>0.887235</td>\n",
       "      <td>0.798295</td>\n",
       "      <td>0.782372</td>\n",
       "      <td>0.801128</td>\n",
       "      <td>0.784303</td>\n",
       "      <td>0.727442</td>\n",
       "      <td>0.662991</td>\n",
       "      <td>0.898167</td>\n",
       "    </tr>\n",
       "    <tr>\n",
       "      <th>Item 8</th>\n",
       "      <td>-0.324722</td>\n",
       "      <td>0.561410</td>\n",
       "      <td>0.609008</td>\n",
       "      <td>0.622998</td>\n",
       "      <td>0.703520</td>\n",
       "      <td>0.784120</td>\n",
       "      <td>0.807565</td>\n",
       "      <td>0.887235</td>\n",
       "      <td>1.000000</td>\n",
       "      <td>0.822574</td>\n",
       "      <td>0.787728</td>\n",
       "      <td>0.828729</td>\n",
       "      <td>0.800163</td>\n",
       "      <td>0.766618</td>\n",
       "      <td>0.732689</td>\n",
       "      <td>0.898674</td>\n",
       "    </tr>\n",
       "    <tr>\n",
       "      <th>Item 9</th>\n",
       "      <td>-0.389873</td>\n",
       "      <td>0.490333</td>\n",
       "      <td>0.617620</td>\n",
       "      <td>0.694434</td>\n",
       "      <td>0.716851</td>\n",
       "      <td>0.795711</td>\n",
       "      <td>0.789160</td>\n",
       "      <td>0.798295</td>\n",
       "      <td>0.822574</td>\n",
       "      <td>1.000000</td>\n",
       "      <td>0.878356</td>\n",
       "      <td>0.877251</td>\n",
       "      <td>0.832095</td>\n",
       "      <td>0.811052</td>\n",
       "      <td>0.789766</td>\n",
       "      <td>0.919218</td>\n",
       "    </tr>\n",
       "    <tr>\n",
       "      <th>Item 10</th>\n",
       "      <td>-0.411252</td>\n",
       "      <td>0.482133</td>\n",
       "      <td>0.609952</td>\n",
       "      <td>0.708110</td>\n",
       "      <td>0.686944</td>\n",
       "      <td>0.785067</td>\n",
       "      <td>0.776715</td>\n",
       "      <td>0.782372</td>\n",
       "      <td>0.787728</td>\n",
       "      <td>0.878356</td>\n",
       "      <td>1.000000</td>\n",
       "      <td>0.898488</td>\n",
       "      <td>0.835552</td>\n",
       "      <td>0.794303</td>\n",
       "      <td>0.729342</td>\n",
       "      <td>0.906764</td>\n",
       "    </tr>\n",
       "    <tr>\n",
       "      <th>Item 11</th>\n",
       "      <td>-0.389720</td>\n",
       "      <td>0.477372</td>\n",
       "      <td>0.608786</td>\n",
       "      <td>0.679801</td>\n",
       "      <td>0.679572</td>\n",
       "      <td>0.773127</td>\n",
       "      <td>0.775951</td>\n",
       "      <td>0.801128</td>\n",
       "      <td>0.828729</td>\n",
       "      <td>0.877251</td>\n",
       "      <td>0.898488</td>\n",
       "      <td>1.000000</td>\n",
       "      <td>0.883590</td>\n",
       "      <td>0.837884</td>\n",
       "      <td>0.773066</td>\n",
       "      <td>0.918846</td>\n",
       "    </tr>\n",
       "    <tr>\n",
       "      <th>Item 12</th>\n",
       "      <td>-0.331714</td>\n",
       "      <td>0.457192</td>\n",
       "      <td>0.571240</td>\n",
       "      <td>0.600680</td>\n",
       "      <td>0.619844</td>\n",
       "      <td>0.718632</td>\n",
       "      <td>0.727689</td>\n",
       "      <td>0.784303</td>\n",
       "      <td>0.800163</td>\n",
       "      <td>0.832095</td>\n",
       "      <td>0.835552</td>\n",
       "      <td>0.883590</td>\n",
       "      <td>1.000000</td>\n",
       "      <td>0.836035</td>\n",
       "      <td>0.803590</td>\n",
       "      <td>0.883384</td>\n",
       "    </tr>\n",
       "    <tr>\n",
       "      <th>Item 13</th>\n",
       "      <td>-0.337713</td>\n",
       "      <td>0.404683</td>\n",
       "      <td>0.516005</td>\n",
       "      <td>0.561035</td>\n",
       "      <td>0.593850</td>\n",
       "      <td>0.701407</td>\n",
       "      <td>0.696289</td>\n",
       "      <td>0.727442</td>\n",
       "      <td>0.766618</td>\n",
       "      <td>0.811052</td>\n",
       "      <td>0.794303</td>\n",
       "      <td>0.837884</td>\n",
       "      <td>0.836035</td>\n",
       "      <td>1.000000</td>\n",
       "      <td>0.830584</td>\n",
       "      <td>0.850472</td>\n",
       "    </tr>\n",
       "    <tr>\n",
       "      <th>Item 14</th>\n",
       "      <td>-0.326001</td>\n",
       "      <td>0.361230</td>\n",
       "      <td>0.466204</td>\n",
       "      <td>0.488817</td>\n",
       "      <td>0.541284</td>\n",
       "      <td>0.663658</td>\n",
       "      <td>0.648128</td>\n",
       "      <td>0.662991</td>\n",
       "      <td>0.732689</td>\n",
       "      <td>0.789766</td>\n",
       "      <td>0.729342</td>\n",
       "      <td>0.773066</td>\n",
       "      <td>0.803590</td>\n",
       "      <td>0.830584</td>\n",
       "      <td>1.000000</td>\n",
       "      <td>0.801563</td>\n",
       "    </tr>\n",
       "    <tr>\n",
       "      <th>BBS Sum</th>\n",
       "      <td>-0.434799</td>\n",
       "      <td>0.679575</td>\n",
       "      <td>0.774175</td>\n",
       "      <td>0.815377</td>\n",
       "      <td>0.827294</td>\n",
       "      <td>0.905410</td>\n",
       "      <td>0.885284</td>\n",
       "      <td>0.898167</td>\n",
       "      <td>0.898674</td>\n",
       "      <td>0.919218</td>\n",
       "      <td>0.906764</td>\n",
       "      <td>0.918846</td>\n",
       "      <td>0.883384</td>\n",
       "      <td>0.850472</td>\n",
       "      <td>0.801563</td>\n",
       "      <td>1.000000</td>\n",
       "    </tr>\n",
       "  </tbody>\n",
       "</table>\n",
       "</div>"
      ],
      "text/plain": [
       "               Patient's Age    Item 1    Item 2    Item 3    Item 4  \\\n",
       "Patient's Age       1.000000 -0.419254 -0.409133 -0.429575 -0.419831   \n",
       "Item 1             -0.419254  1.000000  0.842269  0.731251  0.718205   \n",
       "Item 2             -0.409133  0.842269  1.000000  0.849400  0.732358   \n",
       "Item 3             -0.429575  0.731251  0.849400  1.000000  0.815503   \n",
       "Item 4             -0.419831  0.718205  0.732358  0.815503  1.000000   \n",
       "Item 5             -0.414027  0.675094  0.736279  0.776027  0.815273   \n",
       "Item 6             -0.350579  0.600192  0.667153  0.711287  0.697001   \n",
       "Item 7             -0.311720  0.595790  0.647418  0.668170  0.705288   \n",
       "Item 8             -0.324722  0.561410  0.609008  0.622998  0.703520   \n",
       "Item 9             -0.389873  0.490333  0.617620  0.694434  0.716851   \n",
       "Item 10            -0.411252  0.482133  0.609952  0.708110  0.686944   \n",
       "Item 11            -0.389720  0.477372  0.608786  0.679801  0.679572   \n",
       "Item 12            -0.331714  0.457192  0.571240  0.600680  0.619844   \n",
       "Item 13            -0.337713  0.404683  0.516005  0.561035  0.593850   \n",
       "Item 14            -0.326001  0.361230  0.466204  0.488817  0.541284   \n",
       "BBS Sum            -0.434799  0.679575  0.774175  0.815377  0.827294   \n",
       "\n",
       "                 Item 5    Item 6    Item 7    Item 8    Item 9   Item 10  \\\n",
       "Patient's Age -0.414027 -0.350579 -0.311720 -0.324722 -0.389873 -0.411252   \n",
       "Item 1         0.675094  0.600192  0.595790  0.561410  0.490333  0.482133   \n",
       "Item 2         0.736279  0.667153  0.647418  0.609008  0.617620  0.609952   \n",
       "Item 3         0.776027  0.711287  0.668170  0.622998  0.694434  0.708110   \n",
       "Item 4         0.815273  0.697001  0.705288  0.703520  0.716851  0.686944   \n",
       "Item 5         1.000000  0.841048  0.821474  0.784120  0.795711  0.785067   \n",
       "Item 6         0.841048  1.000000  0.855321  0.807565  0.789160  0.776715   \n",
       "Item 7         0.821474  0.855321  1.000000  0.887235  0.798295  0.782372   \n",
       "Item 8         0.784120  0.807565  0.887235  1.000000  0.822574  0.787728   \n",
       "Item 9         0.795711  0.789160  0.798295  0.822574  1.000000  0.878356   \n",
       "Item 10        0.785067  0.776715  0.782372  0.787728  0.878356  1.000000   \n",
       "Item 11        0.773127  0.775951  0.801128  0.828729  0.877251  0.898488   \n",
       "Item 12        0.718632  0.727689  0.784303  0.800163  0.832095  0.835552   \n",
       "Item 13        0.701407  0.696289  0.727442  0.766618  0.811052  0.794303   \n",
       "Item 14        0.663658  0.648128  0.662991  0.732689  0.789766  0.729342   \n",
       "BBS Sum        0.905410  0.885284  0.898167  0.898674  0.919218  0.906764   \n",
       "\n",
       "                Item 11   Item 12   Item 13   Item 14   BBS Sum  \n",
       "Patient's Age -0.389720 -0.331714 -0.337713 -0.326001 -0.434799  \n",
       "Item 1         0.477372  0.457192  0.404683  0.361230  0.679575  \n",
       "Item 2         0.608786  0.571240  0.516005  0.466204  0.774175  \n",
       "Item 3         0.679801  0.600680  0.561035  0.488817  0.815377  \n",
       "Item 4         0.679572  0.619844  0.593850  0.541284  0.827294  \n",
       "Item 5         0.773127  0.718632  0.701407  0.663658  0.905410  \n",
       "Item 6         0.775951  0.727689  0.696289  0.648128  0.885284  \n",
       "Item 7         0.801128  0.784303  0.727442  0.662991  0.898167  \n",
       "Item 8         0.828729  0.800163  0.766618  0.732689  0.898674  \n",
       "Item 9         0.877251  0.832095  0.811052  0.789766  0.919218  \n",
       "Item 10        0.898488  0.835552  0.794303  0.729342  0.906764  \n",
       "Item 11        1.000000  0.883590  0.837884  0.773066  0.918846  \n",
       "Item 12        0.883590  1.000000  0.836035  0.803590  0.883384  \n",
       "Item 13        0.837884  0.836035  1.000000  0.830584  0.850472  \n",
       "Item 14        0.773066  0.803590  0.830584  1.000000  0.801563  \n",
       "BBS Sum        0.918846  0.883384  0.850472  0.801563  1.000000  "
      ]
     },
     "execution_count": 15,
     "metadata": {},
     "output_type": "execute_result"
    }
   ],
   "source": [
    "corr_table = df.corr()\n",
    "corr_table"
   ]
  },
  {
   "cell_type": "code",
   "execution_count": 16,
   "id": "21c94b39",
   "metadata": {},
   "outputs": [],
   "source": [
    "corr_table.to_excel(r'C:\\Users\\krunk\\OneDrive\\Documents\\CPSC 597\\Project Data\\BBS Machine Learning Data Detailed Correlation Table.xlsx',sheet_name='Correlation Table')"
   ]
  },
  {
   "cell_type": "code",
   "execution_count": 17,
   "id": "88f6c260",
   "metadata": {
    "scrolled": false
   },
   "outputs": [
    {
     "data": {
      "text/plain": [
       "<AxesSubplot:>"
      ]
     },
     "execution_count": 17,
     "metadata": {},
     "output_type": "execute_result"
    },
    {
     "data": {
      "image/png": "[encoded data removed]",
      "text/plain": [
       "<Figure size 720x576 with 2 Axes>"
      ]
     },
     "metadata": {
      "needs_background": "light"
     },
     "output_type": "display_data"
    }
   ],
   "source": [
    "plt.figure(figsize=(10,8))\n",
    "sns.heatmap(df.corr(),cmap='rocket_r')"
   ]
  },
  {
   "cell_type": "code",
   "execution_count": 18,
   "id": "42f0dc35",
   "metadata": {},
   "outputs": [],
   "source": [
    "rs = 3717"
   ]
  },
  {
   "cell_type": "code",
   "execution_count": 19,
   "id": "a7d5f9d1",
   "metadata": {},
   "outputs": [],
   "source": [
    "# ALL ITEMS INCLUDED"
   ]
  },
  {
   "cell_type": "code",
   "execution_count": 20,
   "id": "a38d1ef8",
   "metadata": {},
   "outputs": [],
   "source": [
    "#X_o=df[['Patient\\'s Age','Item 1','Item 2','Item 3','Item 4','Item 5','Item 6','Item 7','Item 8','Item 9','Item 10','Item 11','Item 12','Item 13','Item 14']]\n",
    "X_o=df[['Item 1','Item 2','Item 3','Item 4','Item 5','Item 6','Item 7','Item 8','Item 9','Item 10','Item 11','Item 12','Item 13','Item 14']]\n",
    "y_o=df['BBS Sum']"
   ]
  },
  {
   "cell_type": "code",
   "execution_count": 21,
   "id": "7040aedf",
   "metadata": {},
   "outputs": [],
   "source": [
    "from sklearn.model_selection import train_test_split"
   ]
  },
  {
   "cell_type": "code",
   "execution_count": 22,
   "id": "c02559e3",
   "metadata": {},
   "outputs": [],
   "source": [
    "X_train, X_test, y_train, y_test = train_test_split(X_o, y_o, test_size=0.3, random_state=rs)"
   ]
  },
  {
   "cell_type": "code",
   "execution_count": 23,
   "id": "4874ea43",
   "metadata": {},
   "outputs": [],
   "source": [
    "from sklearn.linear_model import LinearRegression"
   ]
  },
  {
   "cell_type": "code",
   "execution_count": 24,
   "id": "edc97e5e",
   "metadata": {},
   "outputs": [],
   "source": [
    "lm = LinearRegression()"
   ]
  },
  {
   "cell_type": "code",
   "execution_count": 25,
   "id": "3a653b43",
   "metadata": {},
   "outputs": [
    {
     "data": {
      "text/plain": [
       "LinearRegression()"
      ]
     },
     "execution_count": 25,
     "metadata": {},
     "output_type": "execute_result"
    }
   ],
   "source": [
    "lm.fit(X_train,y_train)"
   ]
  },
  {
   "cell_type": "code",
   "execution_count": 26,
   "id": "a9ccbca8",
   "metadata": {},
   "outputs": [
    {
     "name": "stdout",
     "output_type": "stream",
     "text": [
      "3.907985046680551e-14\n"
     ]
    }
   ],
   "source": [
    "print(lm.intercept_)"
   ]
  },
  {
   "cell_type": "code",
   "execution_count": 27,
   "id": "f3361570",
   "metadata": {},
   "outputs": [
    {
     "data": {
      "text/html": [
       "<div>\n",
       "<style scoped>\n",
       "    .dataframe tbody tr th:only-of-type {\n",
       "        vertical-align: middle;\n",
       "    }\n",
       "\n",
       "    .dataframe tbody tr th {\n",
       "        vertical-align: top;\n",
       "    }\n",
       "\n",
       "    .dataframe thead th {\n",
       "        text-align: right;\n",
       "    }\n",
       "</style>\n",
       "<table border=\"1\" class=\"dataframe\">\n",
       "  <thead>\n",
       "    <tr style=\"text-align: right;\">\n",
       "      <th></th>\n",
       "      <th>Coefficient</th>\n",
       "    </tr>\n",
       "  </thead>\n",
       "  <tbody>\n",
       "    <tr>\n",
       "      <th>Item 1</th>\n",
       "      <td>1.0</td>\n",
       "    </tr>\n",
       "    <tr>\n",
       "      <th>Item 2</th>\n",
       "      <td>1.0</td>\n",
       "    </tr>\n",
       "    <tr>\n",
       "      <th>Item 3</th>\n",
       "      <td>1.0</td>\n",
       "    </tr>\n",
       "    <tr>\n",
       "      <th>Item 4</th>\n",
       "      <td>1.0</td>\n",
       "    </tr>\n",
       "    <tr>\n",
       "      <th>Item 5</th>\n",
       "      <td>1.0</td>\n",
       "    </tr>\n",
       "    <tr>\n",
       "      <th>Item 6</th>\n",
       "      <td>1.0</td>\n",
       "    </tr>\n",
       "    <tr>\n",
       "      <th>Item 7</th>\n",
       "      <td>1.0</td>\n",
       "    </tr>\n",
       "    <tr>\n",
       "      <th>Item 8</th>\n",
       "      <td>1.0</td>\n",
       "    </tr>\n",
       "    <tr>\n",
       "      <th>Item 9</th>\n",
       "      <td>1.0</td>\n",
       "    </tr>\n",
       "    <tr>\n",
       "      <th>Item 10</th>\n",
       "      <td>1.0</td>\n",
       "    </tr>\n",
       "    <tr>\n",
       "      <th>Item 11</th>\n",
       "      <td>1.0</td>\n",
       "    </tr>\n",
       "    <tr>\n",
       "      <th>Item 12</th>\n",
       "      <td>1.0</td>\n",
       "    </tr>\n",
       "    <tr>\n",
       "      <th>Item 13</th>\n",
       "      <td>1.0</td>\n",
       "    </tr>\n",
       "    <tr>\n",
       "      <th>Item 14</th>\n",
       "      <td>1.0</td>\n",
       "    </tr>\n",
       "  </tbody>\n",
       "</table>\n",
       "</div>"
      ],
      "text/plain": [
       "         Coefficient\n",
       "Item 1           1.0\n",
       "Item 2           1.0\n",
       "Item 3           1.0\n",
       "Item 4           1.0\n",
       "Item 5           1.0\n",
       "Item 6           1.0\n",
       "Item 7           1.0\n",
       "Item 8           1.0\n",
       "Item 9           1.0\n",
       "Item 10          1.0\n",
       "Item 11          1.0\n",
       "Item 12          1.0\n",
       "Item 13          1.0\n",
       "Item 14          1.0"
      ]
     },
     "execution_count": 27,
     "metadata": {},
     "output_type": "execute_result"
    }
   ],
   "source": [
    "coeff_df = pd.DataFrame(lm.coef_,X_o.columns,columns=['Coefficient'])\n",
    "coeff_df"
   ]
  },
  {
   "cell_type": "code",
   "execution_count": 28,
   "id": "5841b784",
   "metadata": {},
   "outputs": [],
   "source": [
    "y_predict = lm.predict(X_test)"
   ]
  },
  {
   "cell_type": "code",
   "execution_count": 29,
   "id": "db57fc7f",
   "metadata": {
    "scrolled": false
   },
   "outputs": [
    {
     "data": {
      "text/plain": [
       "<AxesSubplot:xlabel='BBS Sum'>"
      ]
     },
     "execution_count": 29,
     "metadata": {},
     "output_type": "execute_result"
    },
    {
     "data": {
      "image/png": "[encoded data removed]",
      "text/plain": [
       "<Figure size 432x288 with 1 Axes>"
      ]
     },
     "metadata": {
      "needs_background": "light"
     },
     "output_type": "display_data"
    }
   ],
   "source": [
    "sns.regplot(x=y_test,y=y_predict)"
   ]
  },
  {
   "cell_type": "code",
   "execution_count": 30,
   "id": "79fba5d5",
   "metadata": {},
   "outputs": [
    {
     "data": {
      "text/html": [
       "<div>\n",
       "<style scoped>\n",
       "    .dataframe tbody tr th:only-of-type {\n",
       "        vertical-align: middle;\n",
       "    }\n",
       "\n",
       "    .dataframe tbody tr th {\n",
       "        vertical-align: top;\n",
       "    }\n",
       "\n",
       "    .dataframe thead th {\n",
       "        text-align: right;\n",
       "    }\n",
       "</style>\n",
       "<table border=\"1\" class=\"dataframe\">\n",
       "  <thead>\n",
       "    <tr style=\"text-align: right;\">\n",
       "      <th></th>\n",
       "      <th>y_test</th>\n",
       "      <th>y_predict</th>\n",
       "    </tr>\n",
       "  </thead>\n",
       "  <tbody>\n",
       "    <tr>\n",
       "      <th>44</th>\n",
       "      <td>42</td>\n",
       "      <td>42.0</td>\n",
       "    </tr>\n",
       "    <tr>\n",
       "      <th>162</th>\n",
       "      <td>34</td>\n",
       "      <td>34.0</td>\n",
       "    </tr>\n",
       "    <tr>\n",
       "      <th>181</th>\n",
       "      <td>33</td>\n",
       "      <td>33.0</td>\n",
       "    </tr>\n",
       "    <tr>\n",
       "      <th>76</th>\n",
       "      <td>47</td>\n",
       "      <td>47.0</td>\n",
       "    </tr>\n",
       "    <tr>\n",
       "      <th>194</th>\n",
       "      <td>13</td>\n",
       "      <td>13.0</td>\n",
       "    </tr>\n",
       "    <tr>\n",
       "      <th>...</th>\n",
       "      <td>...</td>\n",
       "      <td>...</td>\n",
       "    </tr>\n",
       "    <tr>\n",
       "      <th>215</th>\n",
       "      <td>48</td>\n",
       "      <td>48.0</td>\n",
       "    </tr>\n",
       "    <tr>\n",
       "      <th>60</th>\n",
       "      <td>36</td>\n",
       "      <td>36.0</td>\n",
       "    </tr>\n",
       "    <tr>\n",
       "      <th>67</th>\n",
       "      <td>43</td>\n",
       "      <td>43.0</td>\n",
       "    </tr>\n",
       "    <tr>\n",
       "      <th>34</th>\n",
       "      <td>14</td>\n",
       "      <td>14.0</td>\n",
       "    </tr>\n",
       "    <tr>\n",
       "      <th>281</th>\n",
       "      <td>12</td>\n",
       "      <td>12.0</td>\n",
       "    </tr>\n",
       "  </tbody>\n",
       "</table>\n",
       "<p>107 rows × 2 columns</p>\n",
       "</div>"
      ],
      "text/plain": [
       "     y_test  y_predict\n",
       "44       42       42.0\n",
       "162      34       34.0\n",
       "181      33       33.0\n",
       "76       47       47.0\n",
       "194      13       13.0\n",
       "..      ...        ...\n",
       "215      48       48.0\n",
       "60       36       36.0\n",
       "67       43       43.0\n",
       "34       14       14.0\n",
       "281      12       12.0\n",
       "\n",
       "[107 rows x 2 columns]"
      ]
     },
     "execution_count": 30,
     "metadata": {},
     "output_type": "execute_result"
    }
   ],
   "source": [
    "_dft = pd.DataFrame()\n",
    "_dft['y_test'] = y_test\n",
    "_dfp = pd.DataFrame(y_predict,index=y_test.index,columns=['y_predict'])\n",
    "_dftp = pd.concat([_dft,_dfp],axis=1)\n",
    "_dftp.to_excel(r'C:\\Users\\krunk\\OneDrive\\Documents\\CPSC 597\\Project Data\\Linear Regression OG Check.xlsx',sheet_name='Linear Regression')\n",
    "_dftp"
   ]
  },
  {
   "cell_type": "code",
   "execution_count": 31,
   "id": "458c10aa",
   "metadata": {},
   "outputs": [
    {
     "data": {
      "text/plain": [
       "<AxesSubplot:xlabel='BBS Sum'>"
      ]
     },
     "execution_count": 31,
     "metadata": {},
     "output_type": "execute_result"
    },
    {
     "data": {
      "image/png": "[encoded data removed]",
      "text/plain": [
       "<Figure size 432x288 with 1 Axes>"
      ]
     },
     "metadata": {
      "needs_background": "light"
     },
     "output_type": "display_data"
    }
   ],
   "source": [
    "sns.residplot(x=y_test,y=y_predict)"
   ]
  },
  {
   "cell_type": "code",
   "execution_count": 32,
   "id": "b4d0c8d5",
   "metadata": {
    "scrolled": false
   },
   "outputs": [
    {
     "data": {
      "text/plain": [
       "<AxesSubplot:xlabel='BBS Sum', ylabel='Count'>"
      ]
     },
     "execution_count": 32,
     "metadata": {},
     "output_type": "execute_result"
    },
    {
     "data": {
      "image/png": "[encoded data removed]",
      "text/plain": [
       "<Figure size 432x288 with 1 Axes>"
      ]
     },
     "metadata": {
      "needs_background": "light"
     },
     "output_type": "display_data"
    }
   ],
   "source": [
    "sns.histplot((y_test-y_predict),bins=50,kde=True)"
   ]
  },
  {
   "cell_type": "code",
   "execution_count": 33,
   "id": "62a51cb3",
   "metadata": {},
   "outputs": [],
   "source": [
    "from sklearn import metrics"
   ]
  },
  {
   "cell_type": "code",
   "execution_count": 34,
   "id": "990cb990",
   "metadata": {
    "scrolled": false
   },
   "outputs": [
    {
     "name": "stdout",
     "output_type": "stream",
     "text": [
      "MAE: 0.037383177570104564\n",
      "MSE: 0.1495327102803749\n",
      "RMSE: 0.3866945956182668\n"
     ]
    }
   ],
   "source": [
    "print('MAE:', metrics.mean_absolute_error(y_test, y_predict))\n",
    "print('MSE:', metrics.mean_squared_error(y_test, y_predict))\n",
    "print('RMSE:', np.sqrt(metrics.mean_squared_error(y_test, y_predict)))"
   ]
  },
  {
   "cell_type": "code",
   "execution_count": 35,
   "id": "067312cc",
   "metadata": {
    "scrolled": true
   },
   "outputs": [
    {
     "name": "stdout",
     "output_type": "stream",
     "text": [
      "Mean Residue: 0.03738317757009318\n"
     ]
    }
   ],
   "source": [
    "print('Mean Residue:', (y_test-y_predict).mean())"
   ]
  },
  {
   "cell_type": "code",
   "execution_count": 36,
   "id": "01b7ef03",
   "metadata": {},
   "outputs": [
    {
     "name": "stdout",
     "output_type": "stream",
     "text": [
      "R2 Score: 0.9993548985133275\n"
     ]
    }
   ],
   "source": [
    "print('R2 Score:', metrics.r2_score(y_test, y_predict))"
   ]
  },
  {
   "cell_type": "code",
   "execution_count": 37,
   "id": "650c752d",
   "metadata": {
    "scrolled": true
   },
   "outputs": [
    {
     "name": "stdout",
     "output_type": "stream",
     "text": [
      "Explained Variance Score: 0.9993609274991841\n"
     ]
    }
   ],
   "source": [
    "print('Explained Variance Score:', metrics.explained_variance_score(y_test, y_predict))"
   ]
  },
  {
   "cell_type": "code",
   "execution_count": 38,
   "id": "56c996e5",
   "metadata": {},
   "outputs": [],
   "source": [
    "# HIGH CORR TOP 4 PICKED 9,11,10,5 (4 TOTAL ITEMS)"
   ]
  },
  {
   "cell_type": "code",
   "execution_count": 39,
   "id": "ec554ba4",
   "metadata": {},
   "outputs": [],
   "source": [
    "X_e=df[['Item 5','Item 9','Item 10','Item 11']]\n",
    "y_e=df['BBS Sum']"
   ]
  },
  {
   "cell_type": "code",
   "execution_count": 40,
   "id": "62e88420",
   "metadata": {},
   "outputs": [
    {
     "data": {
      "text/plain": [
       "5.2353452155458875"
      ]
     },
     "execution_count": 40,
     "metadata": {},
     "output_type": "execute_result"
    }
   ],
   "source": [
    "Xe_train, Xe_test, ye_train, ye_test = train_test_split(X_e, y_e, test_size=0.3, random_state=rs)\n",
    "lme = LinearRegression()\n",
    "lme.fit(Xe_train,ye_train)\n",
    "lme.intercept_"
   ]
  },
  {
   "cell_type": "code",
   "execution_count": 41,
   "id": "ab40f5fe",
   "metadata": {},
   "outputs": [
    {
     "data": {
      "text/html": [
       "<div>\n",
       "<style scoped>\n",
       "    .dataframe tbody tr th:only-of-type {\n",
       "        vertical-align: middle;\n",
       "    }\n",
       "\n",
       "    .dataframe tbody tr th {\n",
       "        vertical-align: top;\n",
       "    }\n",
       "\n",
       "    .dataframe thead th {\n",
       "        text-align: right;\n",
       "    }\n",
       "</style>\n",
       "<table border=\"1\" class=\"dataframe\">\n",
       "  <thead>\n",
       "    <tr style=\"text-align: right;\">\n",
       "      <th></th>\n",
       "      <th>Coefficient</th>\n",
       "    </tr>\n",
       "  </thead>\n",
       "  <tbody>\n",
       "    <tr>\n",
       "      <th>Item 5</th>\n",
       "      <td>4.972407</td>\n",
       "    </tr>\n",
       "    <tr>\n",
       "      <th>Item 9</th>\n",
       "      <td>2.301381</td>\n",
       "    </tr>\n",
       "    <tr>\n",
       "      <th>Item 10</th>\n",
       "      <td>1.329274</td>\n",
       "    </tr>\n",
       "    <tr>\n",
       "      <th>Item 11</th>\n",
       "      <td>3.023606</td>\n",
       "    </tr>\n",
       "  </tbody>\n",
       "</table>\n",
       "</div>"
      ],
      "text/plain": [
       "         Coefficient\n",
       "Item 5      4.972407\n",
       "Item 9      2.301381\n",
       "Item 10     1.329274\n",
       "Item 11     3.023606"
      ]
     },
     "execution_count": 41,
     "metadata": {},
     "output_type": "execute_result"
    }
   ],
   "source": [
    "coeff_dfe = pd.DataFrame(lme.coef_,X_e.columns,columns=['Coefficient'])\n",
    "coeff_dfe"
   ]
  },
  {
   "cell_type": "code",
   "execution_count": 42,
   "id": "f9df2c85",
   "metadata": {},
   "outputs": [],
   "source": [
    "ye_predict = lme.predict(Xe_test)"
   ]
  },
  {
   "cell_type": "code",
   "execution_count": 43,
   "id": "e17adf9b",
   "metadata": {},
   "outputs": [
    {
     "data": {
      "text/plain": [
       "<AxesSubplot:xlabel='BBS Sum'>"
      ]
     },
     "execution_count": 43,
     "metadata": {},
     "output_type": "execute_result"
    },
    {
     "data": {
      "image/png": "[encoded data removed]",
      "text/plain": [
       "<Figure size 432x288 with 1 Axes>"
      ]
     },
     "metadata": {
      "needs_background": "light"
     },
     "output_type": "display_data"
    }
   ],
   "source": [
    "sns.regplot(x=ye_test,y=ye_predict)"
   ]
  },
  {
   "cell_type": "code",
   "execution_count": 44,
   "id": "9227dc20",
   "metadata": {},
   "outputs": [
    {
     "data": {
      "text/plain": [
       "<AxesSubplot:xlabel='BBS Sum'>"
      ]
     },
     "execution_count": 44,
     "metadata": {},
     "output_type": "execute_result"
    },
    {
     "data": {
      "image/png": "[encoded data removed]",
      "text/plain": [
       "<Figure size 432x288 with 1 Axes>"
      ]
     },
     "metadata": {
      "needs_background": "light"
     },
     "output_type": "display_data"
    }
   ],
   "source": [
    "sns.residplot(x=ye_test,y=ye_predict)"
   ]
  },
  {
   "cell_type": "code",
   "execution_count": 45,
   "id": "12e9cafa",
   "metadata": {},
   "outputs": [
    {
     "data": {
      "text/plain": [
       "<AxesSubplot:xlabel='BBS Sum', ylabel='Count'>"
      ]
     },
     "execution_count": 45,
     "metadata": {},
     "output_type": "execute_result"
    },
    {
     "data": {
      "image/png": "[encoded data removed]",
      "text/plain": [
       "<Figure size 432x288 with 1 Axes>"
      ]
     },
     "metadata": {
      "needs_background": "light"
     },
     "output_type": "display_data"
    }
   ],
   "source": [
    "sns.histplot((ye_test-ye_predict),bins=50,kde=True)"
   ]
  },
  {
   "cell_type": "code",
   "execution_count": 46,
   "id": "65f221ba",
   "metadata": {},
   "outputs": [
    {
     "name": "stdout",
     "output_type": "stream",
     "text": [
      "MAE: 2.6253857226520765\n",
      "MSE: 10.282710456307953\n",
      "RMSE: 3.2066665645663806\n",
      "Mean Residue: 0.24920743104752371\n",
      "R2 Score: 0.9556391923215327\n",
      "Explained Variance Score: 0.9559071176762439\n"
     ]
    }
   ],
   "source": [
    "print('MAE:', metrics.mean_absolute_error(ye_test, ye_predict))\n",
    "print('MSE:', metrics.mean_squared_error(ye_test, ye_predict))\n",
    "print('RMSE:', np.sqrt(metrics.mean_squared_error(ye_test, ye_predict)))\n",
    "print('Mean Residue:', (ye_test-ye_predict).mean())\n",
    "print('R2 Score:', metrics.r2_score(ye_test, ye_predict))\n",
    "print('Explained Variance Score:', metrics.explained_variance_score(ye_test, ye_predict))"
   ]
  },
  {
   "cell_type": "code",
   "execution_count": 47,
   "id": "98ad6962",
   "metadata": {},
   "outputs": [],
   "source": [
    "# HIGH CORR TOP 5 PICKED 9,11,10,5,8 (5 TOTAL ITEMS)"
   ]
  },
  {
   "cell_type": "code",
   "execution_count": 48,
   "id": "eaf5f62f",
   "metadata": {},
   "outputs": [],
   "source": [
    "X_a=df[['Item 5','Item 8','Item 9','Item 10','Item 11']]\n",
    "y_a=df['BBS Sum']"
   ]
  },
  {
   "cell_type": "code",
   "execution_count": 49,
   "id": "25c5c154",
   "metadata": {},
   "outputs": [],
   "source": [
    "Xa_train, Xa_test, ya_train, ya_test = train_test_split(X_a, y_a, test_size=0.3, random_state=rs)"
   ]
  },
  {
   "cell_type": "code",
   "execution_count": 50,
   "id": "4cc042a9",
   "metadata": {},
   "outputs": [],
   "source": [
    "lma = LinearRegression()"
   ]
  },
  {
   "cell_type": "code",
   "execution_count": 51,
   "id": "d6ad8913",
   "metadata": {},
   "outputs": [
    {
     "data": {
      "text/plain": [
       "LinearRegression()"
      ]
     },
     "execution_count": 51,
     "metadata": {},
     "output_type": "execute_result"
    }
   ],
   "source": [
    "lma.fit(Xa_train,ya_train)"
   ]
  },
  {
   "cell_type": "code",
   "execution_count": 52,
   "id": "da91c68c",
   "metadata": {},
   "outputs": [
    {
     "data": {
      "text/plain": [
       "4.836891374320885"
      ]
     },
     "execution_count": 52,
     "metadata": {},
     "output_type": "execute_result"
    }
   ],
   "source": [
    "lma.intercept_"
   ]
  },
  {
   "cell_type": "code",
   "execution_count": 53,
   "id": "d347dd63",
   "metadata": {},
   "outputs": [
    {
     "data": {
      "text/html": [
       "<div>\n",
       "<style scoped>\n",
       "    .dataframe tbody tr th:only-of-type {\n",
       "        vertical-align: middle;\n",
       "    }\n",
       "\n",
       "    .dataframe tbody tr th {\n",
       "        vertical-align: top;\n",
       "    }\n",
       "\n",
       "    .dataframe thead th {\n",
       "        text-align: right;\n",
       "    }\n",
       "</style>\n",
       "<table border=\"1\" class=\"dataframe\">\n",
       "  <thead>\n",
       "    <tr style=\"text-align: right;\">\n",
       "      <th></th>\n",
       "      <th>Coefficient</th>\n",
       "    </tr>\n",
       "  </thead>\n",
       "  <tbody>\n",
       "    <tr>\n",
       "      <th>Item 5</th>\n",
       "      <td>4.276388</td>\n",
       "    </tr>\n",
       "    <tr>\n",
       "      <th>Item 8</th>\n",
       "      <td>2.486270</td>\n",
       "    </tr>\n",
       "    <tr>\n",
       "      <th>Item 9</th>\n",
       "      <td>1.668244</td>\n",
       "    </tr>\n",
       "    <tr>\n",
       "      <th>Item 10</th>\n",
       "      <td>1.430721</td>\n",
       "    </tr>\n",
       "    <tr>\n",
       "      <th>Item 11</th>\n",
       "      <td>2.115550</td>\n",
       "    </tr>\n",
       "  </tbody>\n",
       "</table>\n",
       "</div>"
      ],
      "text/plain": [
       "         Coefficient\n",
       "Item 5      4.276388\n",
       "Item 8      2.486270\n",
       "Item 9      1.668244\n",
       "Item 10     1.430721\n",
       "Item 11     2.115550"
      ]
     },
     "execution_count": 53,
     "metadata": {},
     "output_type": "execute_result"
    }
   ],
   "source": [
    "coeff_dfa = pd.DataFrame(lma.coef_,X_a.columns,columns=['Coefficient'])\n",
    "coeff_dfa"
   ]
  },
  {
   "cell_type": "code",
   "execution_count": 54,
   "id": "0c932340",
   "metadata": {},
   "outputs": [],
   "source": [
    "ya_predict = lma.predict(Xa_test)"
   ]
  },
  {
   "cell_type": "code",
   "execution_count": 55,
   "id": "3e46596a",
   "metadata": {
    "scrolled": true
   },
   "outputs": [
    {
     "data": {
      "text/plain": [
       "<AxesSubplot:xlabel='BBS Sum'>"
      ]
     },
     "execution_count": 55,
     "metadata": {},
     "output_type": "execute_result"
    },
    {
     "data": {
      "image/png": "[encoded data removed]",
      "text/plain": [
       "<Figure size 432x288 with 1 Axes>"
      ]
     },
     "metadata": {
      "needs_background": "light"
     },
     "output_type": "display_data"
    }
   ],
   "source": [
    "sns.regplot(x=ya_test,y=ya_predict)"
   ]
  },
  {
   "cell_type": "code",
   "execution_count": 56,
   "id": "1dd26d21",
   "metadata": {},
   "outputs": [
    {
     "data": {
      "text/plain": [
       "<AxesSubplot:xlabel='BBS Sum'>"
      ]
     },
     "execution_count": 56,
     "metadata": {},
     "output_type": "execute_result"
    },
    {
     "data": {
      "image/png": "[encoded data removed]",
      "text/plain": [
       "<Figure size 432x288 with 1 Axes>"
      ]
     },
     "metadata": {
      "needs_background": "light"
     },
     "output_type": "display_data"
    }
   ],
   "source": [
    "sns.residplot(x=ya_test,y=ya_predict)"
   ]
  },
  {
   "cell_type": "code",
   "execution_count": 57,
   "id": "158a9c04",
   "metadata": {
    "scrolled": false
   },
   "outputs": [
    {
     "data": {
      "text/plain": [
       "<AxesSubplot:xlabel='BBS Sum', ylabel='Count'>"
      ]
     },
     "execution_count": 57,
     "metadata": {},
     "output_type": "execute_result"
    },
    {
     "data": {
      "image/png": "[encoded data removed]",
      "text/plain": [
       "<Figure size 432x288 with 1 Axes>"
      ]
     },
     "metadata": {
      "needs_background": "light"
     },
     "output_type": "display_data"
    }
   ],
   "source": [
    "sns.histplot((ya_test-ya_predict),bins=50,kde=True)"
   ]
  },
  {
   "cell_type": "code",
   "execution_count": 58,
   "id": "c536130e",
   "metadata": {
    "scrolled": true
   },
   "outputs": [
    {
     "name": "stdout",
     "output_type": "stream",
     "text": [
      "MAE: 2.083067818841968\n",
      "MSE: 7.715423635155571\n",
      "RMSE: 2.777665140933221\n"
     ]
    }
   ],
   "source": [
    "print('MAE:', metrics.mean_absolute_error(ya_test, ya_predict))\n",
    "print('MSE:', metrics.mean_squared_error(ya_test, ya_predict))\n",
    "print('RMSE:', np.sqrt(metrics.mean_squared_error(ya_test, ya_predict)))"
   ]
  },
  {
   "cell_type": "code",
   "execution_count": 59,
   "id": "e91d4c2b",
   "metadata": {
    "scrolled": true
   },
   "outputs": [
    {
     "name": "stdout",
     "output_type": "stream",
     "text": [
      "Mean Residue: 0.4585323215753524\n"
     ]
    }
   ],
   "source": [
    "print('Mean Residue:', (ya_test-ya_predict).mean())"
   ]
  },
  {
   "cell_type": "code",
   "execution_count": 60,
   "id": "90f00083",
   "metadata": {},
   "outputs": [
    {
     "name": "stdout",
     "output_type": "stream",
     "text": [
      "R2 Score: 0.9667147659664893\n"
     ]
    }
   ],
   "source": [
    "print('R2 Score:', metrics.r2_score(ya_test, ya_predict))"
   ]
  },
  {
   "cell_type": "code",
   "execution_count": 61,
   "id": "c6ce84d6",
   "metadata": {},
   "outputs": [
    {
     "name": "stdout",
     "output_type": "stream",
     "text": [
      "Explained Variance Score: 0.9676218170492576\n"
     ]
    }
   ],
   "source": [
    "print('Explained Variance Score:', metrics.explained_variance_score(ya_test, ya_predict))"
   ]
  },
  {
   "cell_type": "code",
   "execution_count": 62,
   "id": "c3f60710",
   "metadata": {},
   "outputs": [],
   "source": [
    "# HIGH CORR TOP 6 PICKED 9,11,10,5,8,7 (6 TOTAL ITEMS)"
   ]
  },
  {
   "cell_type": "code",
   "execution_count": 63,
   "id": "dea22af2",
   "metadata": {},
   "outputs": [
    {
     "data": {
      "text/plain": [
       "LinearRegression()"
      ]
     },
     "execution_count": 63,
     "metadata": {},
     "output_type": "execute_result"
    }
   ],
   "source": [
    "X_b=df[['Item 5','Item 7','Item 8','Item 9','Item 10','Item 11']]\n",
    "y_b=df['BBS Sum']\n",
    "Xb_train, Xb_test, yb_train, yb_test = train_test_split(X_b, y_b, test_size=0.3, random_state=rs)\n",
    "lmb = LinearRegression()\n",
    "lmb.fit(Xb_train,yb_train)"
   ]
  },
  {
   "cell_type": "code",
   "execution_count": 64,
   "id": "28aaf75b",
   "metadata": {},
   "outputs": [
    {
     "data": {
      "text/plain": [
       "4.744975858852978"
      ]
     },
     "execution_count": 64,
     "metadata": {},
     "output_type": "execute_result"
    }
   ],
   "source": [
    "lmb.intercept_"
   ]
  },
  {
   "cell_type": "code",
   "execution_count": 65,
   "id": "69f77dc8",
   "metadata": {},
   "outputs": [
    {
     "data": {
      "text/html": [
       "<div>\n",
       "<style scoped>\n",
       "    .dataframe tbody tr th:only-of-type {\n",
       "        vertical-align: middle;\n",
       "    }\n",
       "\n",
       "    .dataframe tbody tr th {\n",
       "        vertical-align: top;\n",
       "    }\n",
       "\n",
       "    .dataframe thead th {\n",
       "        text-align: right;\n",
       "    }\n",
       "</style>\n",
       "<table border=\"1\" class=\"dataframe\">\n",
       "  <thead>\n",
       "    <tr style=\"text-align: right;\">\n",
       "      <th></th>\n",
       "      <th>Coefficient</th>\n",
       "    </tr>\n",
       "  </thead>\n",
       "  <tbody>\n",
       "    <tr>\n",
       "      <th>Item 5</th>\n",
       "      <td>3.827748</td>\n",
       "    </tr>\n",
       "    <tr>\n",
       "      <th>Item 7</th>\n",
       "      <td>1.392476</td>\n",
       "    </tr>\n",
       "    <tr>\n",
       "      <th>Item 8</th>\n",
       "      <td>1.750163</td>\n",
       "    </tr>\n",
       "    <tr>\n",
       "      <th>Item 9</th>\n",
       "      <td>1.736071</td>\n",
       "    </tr>\n",
       "    <tr>\n",
       "      <th>Item 10</th>\n",
       "      <td>1.306447</td>\n",
       "    </tr>\n",
       "    <tr>\n",
       "      <th>Item 11</th>\n",
       "      <td>2.052511</td>\n",
       "    </tr>\n",
       "  </tbody>\n",
       "</table>\n",
       "</div>"
      ],
      "text/plain": [
       "         Coefficient\n",
       "Item 5      3.827748\n",
       "Item 7      1.392476\n",
       "Item 8      1.750163\n",
       "Item 9      1.736071\n",
       "Item 10     1.306447\n",
       "Item 11     2.052511"
      ]
     },
     "execution_count": 65,
     "metadata": {},
     "output_type": "execute_result"
    }
   ],
   "source": [
    "coeff_dfb = pd.DataFrame(lmb.coef_,X_b.columns,columns=['Coefficient'])\n",
    "coeff_dfb"
   ]
  },
  {
   "cell_type": "code",
   "execution_count": 66,
   "id": "480f5387",
   "metadata": {},
   "outputs": [],
   "source": [
    "yb_predict = lmb.predict(Xb_test)"
   ]
  },
  {
   "cell_type": "code",
   "execution_count": 67,
   "id": "188a90b0",
   "metadata": {
    "scrolled": true
   },
   "outputs": [
    {
     "data": {
      "text/plain": [
       "<AxesSubplot:xlabel='BBS Sum'>"
      ]
     },
     "execution_count": 67,
     "metadata": {},
     "output_type": "execute_result"
    },
    {
     "data": {
      "image/png": "[encoded data removed]",
      "text/plain": [
       "<Figure size 432x288 with 1 Axes>"
      ]
     },
     "metadata": {
      "needs_background": "light"
     },
     "output_type": "display_data"
    }
   ],
   "source": [
    "sns.regplot(x=yb_test,y=yb_predict)"
   ]
  },
  {
   "cell_type": "code",
   "execution_count": 68,
   "id": "c2800ec3",
   "metadata": {},
   "outputs": [
    {
     "data": {
      "text/plain": [
       "<AxesSubplot:xlabel='BBS Sum'>"
      ]
     },
     "execution_count": 68,
     "metadata": {},
     "output_type": "execute_result"
    },
    {
     "data": {
      "image/png": "[encoded data removed]",
      "text/plain": [
       "<Figure size 432x288 with 1 Axes>"
      ]
     },
     "metadata": {
      "needs_background": "light"
     },
     "output_type": "display_data"
    }
   ],
   "source": [
    "sns.residplot(x=yb_test,y=yb_predict)"
   ]
  },
  {
   "cell_type": "code",
   "execution_count": 69,
   "id": "241dc591",
   "metadata": {},
   "outputs": [
    {
     "data": {
      "text/plain": [
       "<AxesSubplot:xlabel='BBS Sum', ylabel='Count'>"
      ]
     },
     "execution_count": 69,
     "metadata": {},
     "output_type": "execute_result"
    },
    {
     "data": {
      "image/png": "[encoded data removed]",
      "text/plain": [
       "<Figure size 432x288 with 1 Axes>"
      ]
     },
     "metadata": {
      "needs_background": "light"
     },
     "output_type": "display_data"
    }
   ],
   "source": [
    "sns.histplot((yb_test-yb_predict),bins=50,kde=True)"
   ]
  },
  {
   "cell_type": "code",
   "execution_count": 70,
   "id": "3e006e90",
   "metadata": {
    "scrolled": false
   },
   "outputs": [
    {
     "name": "stdout",
     "output_type": "stream",
     "text": [
      "MAE: 1.9611817113023877\n",
      "MSE: 6.809797933123747\n",
      "RMSE: 2.609558953755164\n"
     ]
    }
   ],
   "source": [
    "print('MAE:', metrics.mean_absolute_error(yb_test, yb_predict))\n",
    "print('MSE:', metrics.mean_squared_error(yb_test, yb_predict))\n",
    "print('RMSE:', np.sqrt(metrics.mean_squared_error(yb_test, yb_predict)))"
   ]
  },
  {
   "cell_type": "code",
   "execution_count": 71,
   "id": "75534f25",
   "metadata": {},
   "outputs": [
    {
     "name": "stdout",
     "output_type": "stream",
     "text": [
      "Mean Residue: 0.4969449811398538\n"
     ]
    }
   ],
   "source": [
    "print('Mean Residue:', (yb_test-yb_predict).mean())"
   ]
  },
  {
   "cell_type": "code",
   "execution_count": 72,
   "id": "8cca2c58",
   "metadata": {},
   "outputs": [
    {
     "name": "stdout",
     "output_type": "stream",
     "text": [
      "R2 Score: 0.9706217404716273\n"
     ]
    }
   ],
   "source": [
    "print('R2 Score:', metrics.r2_score(yb_test, yb_predict))"
   ]
  },
  {
   "cell_type": "code",
   "execution_count": 73,
   "id": "014243eb",
   "metadata": {},
   "outputs": [
    {
     "name": "stdout",
     "output_type": "stream",
     "text": [
      "Explained Variance Score: 0.9716871300775776\n"
     ]
    }
   ],
   "source": [
    "print('Explained Variance Score:', metrics.explained_variance_score(yb_test, yb_predict))"
   ]
  },
  {
   "cell_type": "code",
   "execution_count": 74,
   "id": "fcc10ce7",
   "metadata": {},
   "outputs": [],
   "source": [
    "# DS PRACTICAL PICK 14,12,11,10,8,4 (6 TOTAL ITEMS)"
   ]
  },
  {
   "cell_type": "code",
   "execution_count": 75,
   "id": "9a0f6836",
   "metadata": {},
   "outputs": [
    {
     "data": {
      "text/plain": [
       "LinearRegression()"
      ]
     },
     "execution_count": 75,
     "metadata": {},
     "output_type": "execute_result"
    }
   ],
   "source": [
    "X_c=df[['Item 4','Item 8','Item 10','Item 11','Item 12','Item 14']]\n",
    "y_c=df['BBS Sum']\n",
    "Xc_train, Xc_test, yc_train, yc_test = train_test_split(X_c, y_c, test_size=0.3, random_state=rs)\n",
    "lmc = LinearRegression()\n",
    "lmc.fit(Xc_train,yc_train)"
   ]
  },
  {
   "cell_type": "code",
   "execution_count": 76,
   "id": "53aec3c7",
   "metadata": {},
   "outputs": [
    {
     "data": {
      "text/plain": [
       "4.156644330470339"
      ]
     },
     "execution_count": 76,
     "metadata": {},
     "output_type": "execute_result"
    }
   ],
   "source": [
    "lmc.intercept_"
   ]
  },
  {
   "cell_type": "code",
   "execution_count": 77,
   "id": "68075515",
   "metadata": {},
   "outputs": [
    {
     "data": {
      "text/html": [
       "<div>\n",
       "<style scoped>\n",
       "    .dataframe tbody tr th:only-of-type {\n",
       "        vertical-align: middle;\n",
       "    }\n",
       "\n",
       "    .dataframe tbody tr th {\n",
       "        vertical-align: top;\n",
       "    }\n",
       "\n",
       "    .dataframe thead th {\n",
       "        text-align: right;\n",
       "    }\n",
       "</style>\n",
       "<table border=\"1\" class=\"dataframe\">\n",
       "  <thead>\n",
       "    <tr style=\"text-align: right;\">\n",
       "      <th></th>\n",
       "      <th>Coefficient</th>\n",
       "    </tr>\n",
       "  </thead>\n",
       "  <tbody>\n",
       "    <tr>\n",
       "      <th>Item 4</th>\n",
       "      <td>3.924921</td>\n",
       "    </tr>\n",
       "    <tr>\n",
       "      <th>Item 8</th>\n",
       "      <td>2.490495</td>\n",
       "    </tr>\n",
       "    <tr>\n",
       "      <th>Item 10</th>\n",
       "      <td>2.254375</td>\n",
       "    </tr>\n",
       "    <tr>\n",
       "      <th>Item 11</th>\n",
       "      <td>2.010393</td>\n",
       "    </tr>\n",
       "    <tr>\n",
       "      <th>Item 12</th>\n",
       "      <td>0.874232</td>\n",
       "    </tr>\n",
       "    <tr>\n",
       "      <th>Item 14</th>\n",
       "      <td>1.431089</td>\n",
       "    </tr>\n",
       "  </tbody>\n",
       "</table>\n",
       "</div>"
      ],
      "text/plain": [
       "         Coefficient\n",
       "Item 4      3.924921\n",
       "Item 8      2.490495\n",
       "Item 10     2.254375\n",
       "Item 11     2.010393\n",
       "Item 12     0.874232\n",
       "Item 14     1.431089"
      ]
     },
     "execution_count": 77,
     "metadata": {},
     "output_type": "execute_result"
    }
   ],
   "source": [
    "coeff_dfc = pd.DataFrame(lmc.coef_,X_c.columns,columns=['Coefficient'])\n",
    "coeff_dfc"
   ]
  },
  {
   "cell_type": "code",
   "execution_count": 78,
   "id": "9d32aa21",
   "metadata": {},
   "outputs": [],
   "source": [
    "yc_predict = lmc.predict(Xc_test)"
   ]
  },
  {
   "cell_type": "code",
   "execution_count": 79,
   "id": "18dc5750",
   "metadata": {},
   "outputs": [
    {
     "data": {
      "text/plain": [
       "<AxesSubplot:xlabel='BBS Sum'>"
      ]
     },
     "execution_count": 79,
     "metadata": {},
     "output_type": "execute_result"
    },
    {
     "data": {
      "image/png": "[encoded data removed]",
      "text/plain": [
       "<Figure size 432x288 with 1 Axes>"
      ]
     },
     "metadata": {
      "needs_background": "light"
     },
     "output_type": "display_data"
    }
   ],
   "source": [
    "sns.regplot(x=yc_test,y=yc_predict)"
   ]
  },
  {
   "cell_type": "code",
   "execution_count": 80,
   "id": "cc04fcee",
   "metadata": {},
   "outputs": [
    {
     "data": {
      "text/plain": [
       "<AxesSubplot:xlabel='BBS Sum'>"
      ]
     },
     "execution_count": 80,
     "metadata": {},
     "output_type": "execute_result"
    },
    {
     "data": {
      "image/png": "[encoded data removed]",
      "text/plain": [
       "<Figure size 432x288 with 1 Axes>"
      ]
     },
     "metadata": {
      "needs_background": "light"
     },
     "output_type": "display_data"
    }
   ],
   "source": [
    "sns.residplot(x=yc_test,y=yc_predict)"
   ]
  },
  {
   "cell_type": "code",
   "execution_count": 81,
   "id": "4af055bc",
   "metadata": {
    "scrolled": true
   },
   "outputs": [
    {
     "data": {
      "text/plain": [
       "<AxesSubplot:xlabel='BBS Sum', ylabel='Count'>"
      ]
     },
     "execution_count": 81,
     "metadata": {},
     "output_type": "execute_result"
    },
    {
     "data": {
      "image/png": "[encoded data removed]",
      "text/plain": [
       "<Figure size 432x288 with 1 Axes>"
      ]
     },
     "metadata": {
      "needs_background": "light"
     },
     "output_type": "display_data"
    }
   ],
   "source": [
    "sns.histplot((yc_test-yc_predict),bins=50,kde=True)"
   ]
  },
  {
   "cell_type": "code",
   "execution_count": 82,
   "id": "fc22be4f",
   "metadata": {},
   "outputs": [
    {
     "name": "stdout",
     "output_type": "stream",
     "text": [
      "MAE: 2.070396449093884\n",
      "MSE: 8.600846863023177\n",
      "RMSE: 2.9327200451156563\n",
      "Mean Residue: 0.035514452968313265\n",
      "R2 Score: 0.9628949472822642\n",
      "Explained Variance Score: 0.9629003885750732\n"
     ]
    }
   ],
   "source": [
    "print('MAE:', metrics.mean_absolute_error(yc_test, yc_predict))\n",
    "print('MSE:', metrics.mean_squared_error(yc_test, yc_predict))\n",
    "print('RMSE:', np.sqrt(metrics.mean_squared_error(yc_test, yc_predict)))\n",
    "print('Mean Residue:', (yc_test-yc_predict).mean())\n",
    "print('R2 Score:', metrics.r2_score(yc_test, yc_predict))\n",
    "print('Explained Variance Score:', metrics.explained_variance_score(yc_test, yc_predict))"
   ]
  },
  {
   "cell_type": "code",
   "execution_count": 83,
   "id": "acee10b2",
   "metadata": {},
   "outputs": [],
   "source": [
    "# HIGH CORR TOP 7 PICKED 9,11,10,5,8,7,6 (7 TOTAL ITEMS)"
   ]
  },
  {
   "cell_type": "code",
   "execution_count": 84,
   "id": "2d14422e",
   "metadata": {},
   "outputs": [
    {
     "data": {
      "text/plain": [
       "LinearRegression()"
      ]
     },
     "execution_count": 84,
     "metadata": {},
     "output_type": "execute_result"
    }
   ],
   "source": [
    "X_d=df[['Item 5','Item 6','Item 7','Item 8','Item 9','Item 10','Item 11']]\n",
    "y_d=df['BBS Sum']\n",
    "Xd_train, Xd_test, yd_train, yd_test = train_test_split(X_d, y_d, test_size=0.3, random_state=rs)\n",
    "lmd = LinearRegression()\n",
    "lmd.fit(Xd_train,yd_train)"
   ]
  },
  {
   "cell_type": "code",
   "execution_count": 85,
   "id": "e20c8efb",
   "metadata": {},
   "outputs": [
    {
     "data": {
      "text/plain": [
       "4.407902608125813"
      ]
     },
     "execution_count": 85,
     "metadata": {},
     "output_type": "execute_result"
    }
   ],
   "source": [
    "lmd.intercept_"
   ]
  },
  {
   "cell_type": "code",
   "execution_count": 86,
   "id": "2cce0d14",
   "metadata": {},
   "outputs": [
    {
     "data": {
      "text/html": [
       "<div>\n",
       "<style scoped>\n",
       "    .dataframe tbody tr th:only-of-type {\n",
       "        vertical-align: middle;\n",
       "    }\n",
       "\n",
       "    .dataframe tbody tr th {\n",
       "        vertical-align: top;\n",
       "    }\n",
       "\n",
       "    .dataframe thead th {\n",
       "        text-align: right;\n",
       "    }\n",
       "</style>\n",
       "<table border=\"1\" class=\"dataframe\">\n",
       "  <thead>\n",
       "    <tr style=\"text-align: right;\">\n",
       "      <th></th>\n",
       "      <th>Coefficient</th>\n",
       "    </tr>\n",
       "  </thead>\n",
       "  <tbody>\n",
       "    <tr>\n",
       "      <th>Item 5</th>\n",
       "      <td>3.364596</td>\n",
       "    </tr>\n",
       "    <tr>\n",
       "      <th>Item 6</th>\n",
       "      <td>1.252838</td>\n",
       "    </tr>\n",
       "    <tr>\n",
       "      <th>Item 7</th>\n",
       "      <td>0.998616</td>\n",
       "    </tr>\n",
       "    <tr>\n",
       "      <th>Item 8</th>\n",
       "      <td>1.652084</td>\n",
       "    </tr>\n",
       "    <tr>\n",
       "      <th>Item 9</th>\n",
       "      <td>1.661599</td>\n",
       "    </tr>\n",
       "    <tr>\n",
       "      <th>Item 10</th>\n",
       "      <td>1.214728</td>\n",
       "    </tr>\n",
       "    <tr>\n",
       "      <th>Item 11</th>\n",
       "      <td>2.023784</td>\n",
       "    </tr>\n",
       "  </tbody>\n",
       "</table>\n",
       "</div>"
      ],
      "text/plain": [
       "         Coefficient\n",
       "Item 5      3.364596\n",
       "Item 6      1.252838\n",
       "Item 7      0.998616\n",
       "Item 8      1.652084\n",
       "Item 9      1.661599\n",
       "Item 10     1.214728\n",
       "Item 11     2.023784"
      ]
     },
     "execution_count": 86,
     "metadata": {},
     "output_type": "execute_result"
    }
   ],
   "source": [
    "coeff_dfd = pd.DataFrame(lmd.coef_,X_d.columns,columns=['Coefficient'])\n",
    "coeff_dfd"
   ]
  },
  {
   "cell_type": "code",
   "execution_count": 87,
   "id": "3b56a819",
   "metadata": {},
   "outputs": [],
   "source": [
    "yd_predict = lmd.predict(Xd_test)"
   ]
  },
  {
   "cell_type": "code",
   "execution_count": 88,
   "id": "794b03ab",
   "metadata": {},
   "outputs": [
    {
     "data": {
      "text/plain": [
       "<AxesSubplot:xlabel='BBS Sum'>"
      ]
     },
     "execution_count": 88,
     "metadata": {},
     "output_type": "execute_result"
    },
    {
     "data": {
      "image/png": "[encoded data removed]",
      "text/plain": [
       "<Figure size 432x288 with 1 Axes>"
      ]
     },
     "metadata": {
      "needs_background": "light"
     },
     "output_type": "display_data"
    }
   ],
   "source": [
    "sns.regplot(x=yd_test,y=yd_predict)"
   ]
  },
  {
   "cell_type": "code",
   "execution_count": 89,
   "id": "3aa84c7b",
   "metadata": {},
   "outputs": [
    {
     "data": {
      "text/plain": [
       "<AxesSubplot:xlabel='BBS Sum'>"
      ]
     },
     "execution_count": 89,
     "metadata": {},
     "output_type": "execute_result"
    },
    {
     "data": {
      "image/png": "[encoded data removed]",
      "text/plain": [
       "<Figure size 432x288 with 1 Axes>"
      ]
     },
     "metadata": {
      "needs_background": "light"
     },
     "output_type": "display_data"
    }
   ],
   "source": [
    "sns.residplot(x=yd_test,y=yd_predict)"
   ]
  },
  {
   "cell_type": "code",
   "execution_count": 90,
   "id": "6cd85b39",
   "metadata": {},
   "outputs": [
    {
     "data": {
      "text/plain": [
       "<AxesSubplot:xlabel='BBS Sum', ylabel='Count'>"
      ]
     },
     "execution_count": 90,
     "metadata": {},
     "output_type": "execute_result"
    },
    {
     "data": {
      "image/png": "[encoded data removed]",
      "text/plain": [
       "<Figure size 432x288 with 1 Axes>"
      ]
     },
     "metadata": {
      "needs_background": "light"
     },
     "output_type": "display_data"
    }
   ],
   "source": [
    "sns.histplot((yd_test-yd_predict),bins=50,kde=True)"
   ]
  },
  {
   "cell_type": "code",
   "execution_count": 91,
   "id": "354b9ece",
   "metadata": {
    "scrolled": false
   },
   "outputs": [
    {
     "name": "stdout",
     "output_type": "stream",
     "text": [
      "MAE: 1.9352766819383709\n",
      "MSE: 6.6555474544557685\n",
      "RMSE: 2.579834772704595\n",
      "Mean Residue: 0.5045166558373632\n",
      "R2 Score: 0.9712871949592915\n",
      "Explained Variance Score: 0.972385297394151\n"
     ]
    }
   ],
   "source": [
    "print('MAE:', metrics.mean_absolute_error(yd_test, yd_predict))\n",
    "print('MSE:', metrics.mean_squared_error(yd_test, yd_predict))\n",
    "print('RMSE:', np.sqrt(metrics.mean_squared_error(yd_test, yd_predict)))\n",
    "print('Mean Residue:', (yd_test-yd_predict).mean())\n",
    "print('R2 Score:', metrics.r2_score(yd_test, yd_predict))\n",
    "print('Explained Variance Score:', metrics.explained_variance_score(yd_test, yd_predict))"
   ]
  },
  {
   "cell_type": "code",
   "execution_count": 92,
   "id": "07f1c3cc",
   "metadata": {},
   "outputs": [],
   "source": [
    "# HIGH CORR TOP 8 PICKED 9,11,10,5,8,7,6,12 (8 TOTAL ITEMS)"
   ]
  },
  {
   "cell_type": "code",
   "execution_count": 93,
   "id": "669a60e7",
   "metadata": {},
   "outputs": [
    {
     "data": {
      "text/plain": [
       "LinearRegression()"
      ]
     },
     "execution_count": 93,
     "metadata": {},
     "output_type": "execute_result"
    }
   ],
   "source": [
    "X_f=df[['Item 5','Item 6','Item 7','Item 8','Item 9','Item 10','Item 11','Item 12']]\n",
    "y_f=df['BBS Sum']\n",
    "Xf_train, Xf_test, yf_train, yf_test = train_test_split(X_f, y_f, test_size=0.3, random_state=rs)\n",
    "lmf = LinearRegression()\n",
    "lmf.fit(Xf_train,yf_train)"
   ]
  },
  {
   "cell_type": "code",
   "execution_count": 94,
   "id": "54cc3f0f",
   "metadata": {},
   "outputs": [
    {
     "data": {
      "text/plain": [
       "4.393388822049072"
      ]
     },
     "execution_count": 94,
     "metadata": {},
     "output_type": "execute_result"
    }
   ],
   "source": [
    "lmf.intercept_"
   ]
  },
  {
   "cell_type": "code",
   "execution_count": 95,
   "id": "7d8cf31e",
   "metadata": {},
   "outputs": [
    {
     "data": {
      "text/html": [
       "<div>\n",
       "<style scoped>\n",
       "    .dataframe tbody tr th:only-of-type {\n",
       "        vertical-align: middle;\n",
       "    }\n",
       "\n",
       "    .dataframe tbody tr th {\n",
       "        vertical-align: top;\n",
       "    }\n",
       "\n",
       "    .dataframe thead th {\n",
       "        text-align: right;\n",
       "    }\n",
       "</style>\n",
       "<table border=\"1\" class=\"dataframe\">\n",
       "  <thead>\n",
       "    <tr style=\"text-align: right;\">\n",
       "      <th></th>\n",
       "      <th>Coefficient</th>\n",
       "    </tr>\n",
       "  </thead>\n",
       "  <tbody>\n",
       "    <tr>\n",
       "      <th>Item 5</th>\n",
       "      <td>3.506141</td>\n",
       "    </tr>\n",
       "    <tr>\n",
       "      <th>Item 6</th>\n",
       "      <td>1.375100</td>\n",
       "    </tr>\n",
       "    <tr>\n",
       "      <th>Item 7</th>\n",
       "      <td>0.869210</td>\n",
       "    </tr>\n",
       "    <tr>\n",
       "      <th>Item 8</th>\n",
       "      <td>1.352027</td>\n",
       "    </tr>\n",
       "    <tr>\n",
       "      <th>Item 9</th>\n",
       "      <td>1.489495</td>\n",
       "    </tr>\n",
       "    <tr>\n",
       "      <th>Item 10</th>\n",
       "      <td>1.025113</td>\n",
       "    </tr>\n",
       "    <tr>\n",
       "      <th>Item 11</th>\n",
       "      <td>1.083518</td>\n",
       "    </tr>\n",
       "    <tr>\n",
       "      <th>Item 12</th>\n",
       "      <td>1.734570</td>\n",
       "    </tr>\n",
       "  </tbody>\n",
       "</table>\n",
       "</div>"
      ],
      "text/plain": [
       "         Coefficient\n",
       "Item 5      3.506141\n",
       "Item 6      1.375100\n",
       "Item 7      0.869210\n",
       "Item 8      1.352027\n",
       "Item 9      1.489495\n",
       "Item 10     1.025113\n",
       "Item 11     1.083518\n",
       "Item 12     1.734570"
      ]
     },
     "execution_count": 95,
     "metadata": {},
     "output_type": "execute_result"
    }
   ],
   "source": [
    "coeff_dff = pd.DataFrame(lmf.coef_,X_f.columns,columns=['Coefficient'])\n",
    "coeff_dff"
   ]
  },
  {
   "cell_type": "code",
   "execution_count": 96,
   "id": "d519061f",
   "metadata": {},
   "outputs": [],
   "source": [
    "yf_predict = lmf.predict(Xf_test)"
   ]
  },
  {
   "cell_type": "code",
   "execution_count": 97,
   "id": "d4be0615",
   "metadata": {},
   "outputs": [
    {
     "data": {
      "text/plain": [
       "<AxesSubplot:xlabel='BBS Sum'>"
      ]
     },
     "execution_count": 97,
     "metadata": {},
     "output_type": "execute_result"
    },
    {
     "data": {
      "image/png": "[encoded data removed]",
      "text/plain": [
       "<Figure size 432x288 with 1 Axes>"
      ]
     },
     "metadata": {
      "needs_background": "light"
     },
     "output_type": "display_data"
    }
   ],
   "source": [
    "sns.regplot(x=yf_test,y=yf_predict)"
   ]
  },
  {
   "cell_type": "code",
   "execution_count": 98,
   "id": "047532b5",
   "metadata": {},
   "outputs": [
    {
     "data": {
      "text/plain": [
       "<AxesSubplot:xlabel='BBS Sum'>"
      ]
     },
     "execution_count": 98,
     "metadata": {},
     "output_type": "execute_result"
    },
    {
     "data": {
      "image/png": "[encoded data removed]",
      "text/plain": [
       "<Figure size 432x288 with 1 Axes>"
      ]
     },
     "metadata": {
      "needs_background": "light"
     },
     "output_type": "display_data"
    }
   ],
   "source": [
    "sns.residplot(x=yf_test,y=yf_predict)"
   ]
  },
  {
   "cell_type": "code",
   "execution_count": 99,
   "id": "06c42d99",
   "metadata": {},
   "outputs": [
    {
     "data": {
      "text/plain": [
       "<AxesSubplot:xlabel='BBS Sum', ylabel='Count'>"
      ]
     },
     "execution_count": 99,
     "metadata": {},
     "output_type": "execute_result"
    },
    {
     "data": {
      "image/png": "[encoded data removed]",
      "text/plain": [
       "<Figure size 432x288 with 1 Axes>"
      ]
     },
     "metadata": {
      "needs_background": "light"
     },
     "output_type": "display_data"
    }
   ],
   "source": [
    "sns.histplot((yf_test-yf_predict),bins=50,kde=True)"
   ]
  },
  {
   "cell_type": "code",
   "execution_count": 100,
   "id": "6283f095",
   "metadata": {
    "scrolled": true
   },
   "outputs": [
    {
     "name": "stdout",
     "output_type": "stream",
     "text": [
      "MAE: 1.7930370026176206\n",
      "MSE: 6.057506706237205\n",
      "RMSE: 2.4612002572397893\n",
      "Mean Residue: 0.4217666439898317\n",
      "R2 Score: 0.9738672122347304\n",
      "Explained Variance Score: 0.9746346378617626\n"
     ]
    }
   ],
   "source": [
    "print('MAE:', metrics.mean_absolute_error(yf_test, yf_predict))\n",
    "print('MSE:', metrics.mean_squared_error(yf_test, yf_predict))\n",
    "print('RMSE:', np.sqrt(metrics.mean_squared_error(yf_test, yf_predict)))\n",
    "print('Mean Residue:', (yf_test-yf_predict).mean())\n",
    "print('R2 Score:', metrics.r2_score(yf_test, yf_predict))\n",
    "print('Explained Variance Score:', metrics.explained_variance_score(yf_test, yf_predict))"
   ]
  },
  {
   "cell_type": "code",
   "execution_count": 101,
   "id": "3d6bf5a5",
   "metadata": {},
   "outputs": [],
   "source": [
    "# HIGH CORR TOP 9 PICKED 9,11,10,5,8,7,6,12,13 (9 TOTAL ITEMS)"
   ]
  },
  {
   "cell_type": "code",
   "execution_count": 102,
   "id": "1a27d622",
   "metadata": {},
   "outputs": [
    {
     "data": {
      "text/plain": [
       "LinearRegression()"
      ]
     },
     "execution_count": 102,
     "metadata": {},
     "output_type": "execute_result"
    }
   ],
   "source": [
    "X_g=df[['Item 5','Item 6','Item 7','Item 8','Item 9','Item 10','Item 11','Item 12','Item 13']]\n",
    "y_g=df['BBS Sum']\n",
    "Xg_train, Xg_test, yg_train, yg_test = train_test_split(X_g, y_g, test_size=0.3, random_state=rs)\n",
    "lmg = LinearRegression()\n",
    "lmg.fit(Xg_train,yg_train)"
   ]
  },
  {
   "cell_type": "code",
   "execution_count": 103,
   "id": "ebc8b0c1",
   "metadata": {},
   "outputs": [
    {
     "data": {
      "text/plain": [
       "4.422132755528448"
      ]
     },
     "execution_count": 103,
     "metadata": {},
     "output_type": "execute_result"
    }
   ],
   "source": [
    "lmg.intercept_"
   ]
  },
  {
   "cell_type": "code",
   "execution_count": 104,
   "id": "54e60315",
   "metadata": {},
   "outputs": [
    {
     "data": {
      "text/html": [
       "<div>\n",
       "<style scoped>\n",
       "    .dataframe tbody tr th:only-of-type {\n",
       "        vertical-align: middle;\n",
       "    }\n",
       "\n",
       "    .dataframe tbody tr th {\n",
       "        vertical-align: top;\n",
       "    }\n",
       "\n",
       "    .dataframe thead th {\n",
       "        text-align: right;\n",
       "    }\n",
       "</style>\n",
       "<table border=\"1\" class=\"dataframe\">\n",
       "  <thead>\n",
       "    <tr style=\"text-align: right;\">\n",
       "      <th></th>\n",
       "      <th>Coefficient</th>\n",
       "    </tr>\n",
       "  </thead>\n",
       "  <tbody>\n",
       "    <tr>\n",
       "      <th>Item 5</th>\n",
       "      <td>3.441696</td>\n",
       "    </tr>\n",
       "    <tr>\n",
       "      <th>Item 6</th>\n",
       "      <td>1.493308</td>\n",
       "    </tr>\n",
       "    <tr>\n",
       "      <th>Item 7</th>\n",
       "      <td>0.970559</td>\n",
       "    </tr>\n",
       "    <tr>\n",
       "      <th>Item 8</th>\n",
       "      <td>1.152645</td>\n",
       "    </tr>\n",
       "    <tr>\n",
       "      <th>Item 9</th>\n",
       "      <td>1.312979</td>\n",
       "    </tr>\n",
       "    <tr>\n",
       "      <th>Item 10</th>\n",
       "      <td>0.974353</td>\n",
       "    </tr>\n",
       "    <tr>\n",
       "      <th>Item 11</th>\n",
       "      <td>0.795982</td>\n",
       "    </tr>\n",
       "    <tr>\n",
       "      <th>Item 12</th>\n",
       "      <td>1.403859</td>\n",
       "    </tr>\n",
       "    <tr>\n",
       "      <th>Item 13</th>\n",
       "      <td>1.061696</td>\n",
       "    </tr>\n",
       "  </tbody>\n",
       "</table>\n",
       "</div>"
      ],
      "text/plain": [
       "         Coefficient\n",
       "Item 5      3.441696\n",
       "Item 6      1.493308\n",
       "Item 7      0.970559\n",
       "Item 8      1.152645\n",
       "Item 9      1.312979\n",
       "Item 10     0.974353\n",
       "Item 11     0.795982\n",
       "Item 12     1.403859\n",
       "Item 13     1.061696"
      ]
     },
     "execution_count": 104,
     "metadata": {},
     "output_type": "execute_result"
    }
   ],
   "source": [
    "coeff_dfg = pd.DataFrame(lmg.coef_,X_g.columns,columns=['Coefficient'])\n",
    "coeff_dfg"
   ]
  },
  {
   "cell_type": "code",
   "execution_count": 105,
   "id": "a0ed24cc",
   "metadata": {},
   "outputs": [],
   "source": [
    "yg_predict = lmg.predict(Xg_test)"
   ]
  },
  {
   "cell_type": "code",
   "execution_count": 106,
   "id": "a8af993b",
   "metadata": {},
   "outputs": [
    {
     "data": {
      "text/plain": [
       "<AxesSubplot:xlabel='BBS Sum'>"
      ]
     },
     "execution_count": 106,
     "metadata": {},
     "output_type": "execute_result"
    },
    {
     "data": {
      "image/png": "[encoded data removed]",
      "text/plain": [
       "<Figure size 432x288 with 1 Axes>"
      ]
     },
     "metadata": {
      "needs_background": "light"
     },
     "output_type": "display_data"
    }
   ],
   "source": [
    "sns.regplot(x=yg_test,y=yg_predict)"
   ]
  },
  {
   "cell_type": "code",
   "execution_count": 107,
   "id": "121ae607",
   "metadata": {},
   "outputs": [
    {
     "data": {
      "text/plain": [
       "<AxesSubplot:xlabel='BBS Sum'>"
      ]
     },
     "execution_count": 107,
     "metadata": {},
     "output_type": "execute_result"
    },
    {
     "data": {
      "image/png": "[encoded data removed]",
      "text/plain": [
       "<Figure size 432x288 with 1 Axes>"
      ]
     },
     "metadata": {
      "needs_background": "light"
     },
     "output_type": "display_data"
    }
   ],
   "source": [
    "sns.residplot(x=yg_test,y=yg_predict)"
   ]
  },
  {
   "cell_type": "code",
   "execution_count": 108,
   "id": "be15f635",
   "metadata": {},
   "outputs": [
    {
     "data": {
      "text/plain": [
       "<AxesSubplot:xlabel='BBS Sum', ylabel='Count'>"
      ]
     },
     "execution_count": 108,
     "metadata": {},
     "output_type": "execute_result"
    },
    {
     "data": {
      "image/png": "[encoded data removed]",
      "text/plain": [
       "<Figure size 432x288 with 1 Axes>"
      ]
     },
     "metadata": {
      "needs_background": "light"
     },
     "output_type": "display_data"
    }
   ],
   "source": [
    "sns.histplot((yg_test-yg_predict),bins=50,kde=True)"
   ]
  },
  {
   "cell_type": "code",
   "execution_count": 109,
   "id": "1bb9f93a",
   "metadata": {},
   "outputs": [
    {
     "name": "stdout",
     "output_type": "stream",
     "text": [
      "MAE: 1.7544766989288825\n",
      "MSE: 6.07490861027957\n",
      "RMSE: 2.4647329693659654\n",
      "Mean Residue: 0.3361695158111508\n",
      "R2 Score: 0.9737921383987275\n",
      "Explained Variance Score: 0.9742796764252507\n"
     ]
    }
   ],
   "source": [
    "print('MAE:', metrics.mean_absolute_error(yg_test, yg_predict))\n",
    "print('MSE:', metrics.mean_squared_error(yg_test, yg_predict))\n",
    "print('RMSE:', np.sqrt(metrics.mean_squared_error(yg_test, yg_predict)))\n",
    "print('Mean Residue:', (yg_test-yg_predict).mean())\n",
    "print('R2 Score:', metrics.r2_score(yg_test, yg_predict))\n",
    "print('Explained Variance Score:', metrics.explained_variance_score(yg_test, yg_predict))"
   ]
  },
  {
   "cell_type": "code",
   "execution_count": 110,
   "id": "15b8c4d6",
   "metadata": {},
   "outputs": [],
   "source": [
    "# HIGH CORR TOP 10 PICKED 9,11,10,5,8,7,6,12,13,4 (10 TOTAL ITEMS)"
   ]
  },
  {
   "cell_type": "code",
   "execution_count": 111,
   "id": "7de0ea9f",
   "metadata": {},
   "outputs": [
    {
     "data": {
      "text/plain": [
       "LinearRegression()"
      ]
     },
     "execution_count": 111,
     "metadata": {},
     "output_type": "execute_result"
    }
   ],
   "source": [
    "X_h=df[['Item 4','Item 5','Item 6','Item 7','Item 8','Item 9','Item 10','Item 11','Item 12','Item 13']]\n",
    "y_h=df['BBS Sum']\n",
    "Xh_train, Xh_test, yh_train, yh_test = train_test_split(X_h, y_h, test_size=0.3, random_state=rs)\n",
    "lmh = LinearRegression()\n",
    "lmh.fit(Xh_train,yh_train)"
   ]
  },
  {
   "cell_type": "code",
   "execution_count": 112,
   "id": "85345834",
   "metadata": {
    "scrolled": true
   },
   "outputs": [
    {
     "data": {
      "text/plain": [
       "2.7600890143715198"
      ]
     },
     "execution_count": 112,
     "metadata": {},
     "output_type": "execute_result"
    }
   ],
   "source": [
    "lmh.intercept_"
   ]
  },
  {
   "cell_type": "code",
   "execution_count": 113,
   "id": "63b95f32",
   "metadata": {},
   "outputs": [
    {
     "data": {
      "text/html": [
       "<div>\n",
       "<style scoped>\n",
       "    .dataframe tbody tr th:only-of-type {\n",
       "        vertical-align: middle;\n",
       "    }\n",
       "\n",
       "    .dataframe tbody tr th {\n",
       "        vertical-align: top;\n",
       "    }\n",
       "\n",
       "    .dataframe thead th {\n",
       "        text-align: right;\n",
       "    }\n",
       "</style>\n",
       "<table border=\"1\" class=\"dataframe\">\n",
       "  <thead>\n",
       "    <tr style=\"text-align: right;\">\n",
       "      <th></th>\n",
       "      <th>Coefficient</th>\n",
       "    </tr>\n",
       "  </thead>\n",
       "  <tbody>\n",
       "    <tr>\n",
       "      <th>Item 4</th>\n",
       "      <td>2.074250</td>\n",
       "    </tr>\n",
       "    <tr>\n",
       "      <th>Item 5</th>\n",
       "      <td>2.061244</td>\n",
       "    </tr>\n",
       "    <tr>\n",
       "      <th>Item 6</th>\n",
       "      <td>1.489245</td>\n",
       "    </tr>\n",
       "    <tr>\n",
       "      <th>Item 7</th>\n",
       "      <td>0.993686</td>\n",
       "    </tr>\n",
       "    <tr>\n",
       "      <th>Item 8</th>\n",
       "      <td>0.961458</td>\n",
       "    </tr>\n",
       "    <tr>\n",
       "      <th>Item 9</th>\n",
       "      <td>1.003116</td>\n",
       "    </tr>\n",
       "    <tr>\n",
       "      <th>Item 10</th>\n",
       "      <td>1.018304</td>\n",
       "    </tr>\n",
       "    <tr>\n",
       "      <th>Item 11</th>\n",
       "      <td>0.965949</td>\n",
       "    </tr>\n",
       "    <tr>\n",
       "      <th>Item 12</th>\n",
       "      <td>1.376305</td>\n",
       "    </tr>\n",
       "    <tr>\n",
       "      <th>Item 13</th>\n",
       "      <td>1.103407</td>\n",
       "    </tr>\n",
       "  </tbody>\n",
       "</table>\n",
       "</div>"
      ],
      "text/plain": [
       "         Coefficient\n",
       "Item 4      2.074250\n",
       "Item 5      2.061244\n",
       "Item 6      1.489245\n",
       "Item 7      0.993686\n",
       "Item 8      0.961458\n",
       "Item 9      1.003116\n",
       "Item 10     1.018304\n",
       "Item 11     0.965949\n",
       "Item 12     1.376305\n",
       "Item 13     1.103407"
      ]
     },
     "execution_count": 113,
     "metadata": {},
     "output_type": "execute_result"
    }
   ],
   "source": [
    "coeff_dfh = pd.DataFrame(lmh.coef_,X_h.columns,columns=['Coefficient'])\n",
    "coeff_dfh"
   ]
  },
  {
   "cell_type": "code",
   "execution_count": 114,
   "id": "5ecc6813",
   "metadata": {},
   "outputs": [],
   "source": [
    "yh_predict = lmh.predict(Xh_test)"
   ]
  },
  {
   "cell_type": "code",
   "execution_count": 115,
   "id": "4fb3d7b4",
   "metadata": {},
   "outputs": [
    {
     "data": {
      "text/plain": [
       "<AxesSubplot:xlabel='BBS Sum'>"
      ]
     },
     "execution_count": 115,
     "metadata": {},
     "output_type": "execute_result"
    },
    {
     "data": {
      "image/png": "[encoded data removed]",
      "text/plain": [
       "<Figure size 432x288 with 1 Axes>"
      ]
     },
     "metadata": {
      "needs_background": "light"
     },
     "output_type": "display_data"
    }
   ],
   "source": [
    "sns.regplot(x=yh_test,y=yh_predict)"
   ]
  },
  {
   "cell_type": "code",
   "execution_count": 116,
   "id": "9242c858",
   "metadata": {},
   "outputs": [
    {
     "data": {
      "text/plain": [
       "<AxesSubplot:xlabel='BBS Sum'>"
      ]
     },
     "execution_count": 116,
     "metadata": {},
     "output_type": "execute_result"
    },
    {
     "data": {
      "image/png": "[encoded data removed]",
      "text/plain": [
       "<Figure size 432x288 with 1 Axes>"
      ]
     },
     "metadata": {
      "needs_background": "light"
     },
     "output_type": "display_data"
    }
   ],
   "source": [
    "sns.residplot(x=yh_test,y=yh_predict)"
   ]
  },
  {
   "cell_type": "code",
   "execution_count": 117,
   "id": "3eb36079",
   "metadata": {},
   "outputs": [
    {
     "data": {
      "text/plain": [
       "<AxesSubplot:xlabel='BBS Sum', ylabel='Count'>"
      ]
     },
     "execution_count": 117,
     "metadata": {},
     "output_type": "execute_result"
    },
    {
     "data": {
      "image/png": "[encoded data removed]",
      "text/plain": [
       "<Figure size 432x288 with 1 Axes>"
      ]
     },
     "metadata": {
      "needs_background": "light"
     },
     "output_type": "display_data"
    }
   ],
   "source": [
    "sns.histplot((yh_test-yh_predict),bins=50,kde=True)"
   ]
  },
  {
   "cell_type": "code",
   "execution_count": 118,
   "id": "6ebe6457",
   "metadata": {},
   "outputs": [
    {
     "name": "stdout",
     "output_type": "stream",
     "text": [
      "MAE: 1.4001111187779034\n",
      "MSE: 3.014029099278452\n",
      "RMSE: 1.7360959360814285\n",
      "Mean Residue: 0.30766381512001334\n",
      "R2 Score: 0.9869971282592739\n",
      "Explained Variance Score: 0.9874054896554753\n"
     ]
    }
   ],
   "source": [
    "print('MAE:', metrics.mean_absolute_error(yh_test, yh_predict))\n",
    "print('MSE:', metrics.mean_squared_error(yh_test, yh_predict))\n",
    "print('RMSE:', np.sqrt(metrics.mean_squared_error(yh_test, yh_predict)))\n",
    "print('Mean Residue:', (yh_test-yh_predict).mean())\n",
    "print('R2 Score:', metrics.r2_score(yh_test, yh_predict))\n",
    "print('Explained Variance Score:', metrics.explained_variance_score(yh_test, yh_predict))"
   ]
  },
  {
   "cell_type": "code",
   "execution_count": 119,
   "id": "1b82c7a5",
   "metadata": {},
   "outputs": [
    {
     "data": {
      "text/html": [
       "<div>\n",
       "<style scoped>\n",
       "    .dataframe tbody tr th:only-of-type {\n",
       "        vertical-align: middle;\n",
       "    }\n",
       "\n",
       "    .dataframe tbody tr th {\n",
       "        vertical-align: top;\n",
       "    }\n",
       "\n",
       "    .dataframe thead th {\n",
       "        text-align: right;\n",
       "    }\n",
       "</style>\n",
       "<table border=\"1\" class=\"dataframe\">\n",
       "  <thead>\n",
       "    <tr style=\"text-align: right;\">\n",
       "      <th></th>\n",
       "      <th></th>\n",
       "      <th>Value</th>\n",
       "    </tr>\n",
       "  </thead>\n",
       "  <tbody>\n",
       "    <tr>\n",
       "      <th rowspan=\"6\" valign=\"top\">Original</th>\n",
       "      <th>MAE</th>\n",
       "      <td>0.037383</td>\n",
       "    </tr>\n",
       "    <tr>\n",
       "      <th>MSE</th>\n",
       "      <td>0.149533</td>\n",
       "    </tr>\n",
       "    <tr>\n",
       "      <th>RMSE</th>\n",
       "      <td>0.386695</td>\n",
       "    </tr>\n",
       "    <tr>\n",
       "      <th>Mean Residue</th>\n",
       "      <td>0.037383</td>\n",
       "    </tr>\n",
       "    <tr>\n",
       "      <th>R2 Score</th>\n",
       "      <td>0.999355</td>\n",
       "    </tr>\n",
       "    <tr>\n",
       "      <th>Explained Variance Score</th>\n",
       "      <td>0.999361</td>\n",
       "    </tr>\n",
       "    <tr>\n",
       "      <th rowspan=\"6\" valign=\"top\">HIGH CORR TOP 4 PICKED 9,11,10,5 (4 TOTAL ITEMS)</th>\n",
       "      <th>MAE</th>\n",
       "      <td>2.625386</td>\n",
       "    </tr>\n",
       "    <tr>\n",
       "      <th>MSE</th>\n",
       "      <td>10.282710</td>\n",
       "    </tr>\n",
       "    <tr>\n",
       "      <th>RMSE</th>\n",
       "      <td>3.206667</td>\n",
       "    </tr>\n",
       "    <tr>\n",
       "      <th>Mean Residue</th>\n",
       "      <td>0.249207</td>\n",
       "    </tr>\n",
       "    <tr>\n",
       "      <th>R2 Score</th>\n",
       "      <td>0.955639</td>\n",
       "    </tr>\n",
       "    <tr>\n",
       "      <th>Explained Variance Score</th>\n",
       "      <td>0.955907</td>\n",
       "    </tr>\n",
       "    <tr>\n",
       "      <th rowspan=\"6\" valign=\"top\">HIGH CORR TOP 5 PICKED 9,11,10,5,8 (5 TOTAL ITEMS)</th>\n",
       "      <th>MAE</th>\n",
       "      <td>2.083068</td>\n",
       "    </tr>\n",
       "    <tr>\n",
       "      <th>MSE</th>\n",
       "      <td>7.715424</td>\n",
       "    </tr>\n",
       "    <tr>\n",
       "      <th>RMSE</th>\n",
       "      <td>2.777665</td>\n",
       "    </tr>\n",
       "    <tr>\n",
       "      <th>Mean Residue</th>\n",
       "      <td>0.458532</td>\n",
       "    </tr>\n",
       "    <tr>\n",
       "      <th>R2 Score</th>\n",
       "      <td>0.966715</td>\n",
       "    </tr>\n",
       "    <tr>\n",
       "      <th>Explained Variance Score</th>\n",
       "      <td>0.967622</td>\n",
       "    </tr>\n",
       "    <tr>\n",
       "      <th rowspan=\"6\" valign=\"top\">HIGH CORR TOP 6 PICKED 9,11,10,5,8,7 (6 TOTAL ITEMS)</th>\n",
       "      <th>MAE</th>\n",
       "      <td>1.961182</td>\n",
       "    </tr>\n",
       "    <tr>\n",
       "      <th>MSE</th>\n",
       "      <td>6.809798</td>\n",
       "    </tr>\n",
       "    <tr>\n",
       "      <th>RMSE</th>\n",
       "      <td>2.609559</td>\n",
       "    </tr>\n",
       "    <tr>\n",
       "      <th>Mean Residue</th>\n",
       "      <td>0.496945</td>\n",
       "    </tr>\n",
       "    <tr>\n",
       "      <th>R2 Score</th>\n",
       "      <td>0.970622</td>\n",
       "    </tr>\n",
       "    <tr>\n",
       "      <th>Explained Variance Score</th>\n",
       "      <td>0.971687</td>\n",
       "    </tr>\n",
       "    <tr>\n",
       "      <th rowspan=\"6\" valign=\"top\">DS PRACTICAL PICK 14,12,11,10,8,4 (6 TOTAL ITEMS)</th>\n",
       "      <th>MAE</th>\n",
       "      <td>2.070396</td>\n",
       "    </tr>\n",
       "    <tr>\n",
       "      <th>MSE</th>\n",
       "      <td>8.600847</td>\n",
       "    </tr>\n",
       "    <tr>\n",
       "      <th>RMSE</th>\n",
       "      <td>2.932720</td>\n",
       "    </tr>\n",
       "    <tr>\n",
       "      <th>Mean Residue</th>\n",
       "      <td>0.035514</td>\n",
       "    </tr>\n",
       "    <tr>\n",
       "      <th>R2 Score</th>\n",
       "      <td>0.962895</td>\n",
       "    </tr>\n",
       "    <tr>\n",
       "      <th>Explained Variance Score</th>\n",
       "      <td>0.962900</td>\n",
       "    </tr>\n",
       "    <tr>\n",
       "      <th rowspan=\"6\" valign=\"top\">HIGH CORR TOP 7 PICKED 9,11,10,5,8,7,6 (7 TOTAL ITEMS)</th>\n",
       "      <th>MAE</th>\n",
       "      <td>1.935277</td>\n",
       "    </tr>\n",
       "    <tr>\n",
       "      <th>MSE</th>\n",
       "      <td>6.655547</td>\n",
       "    </tr>\n",
       "    <tr>\n",
       "      <th>RMSE</th>\n",
       "      <td>2.579835</td>\n",
       "    </tr>\n",
       "    <tr>\n",
       "      <th>Mean Residue</th>\n",
       "      <td>0.504517</td>\n",
       "    </tr>\n",
       "    <tr>\n",
       "      <th>R2 Score</th>\n",
       "      <td>0.971287</td>\n",
       "    </tr>\n",
       "    <tr>\n",
       "      <th>Explained Variance Score</th>\n",
       "      <td>0.972385</td>\n",
       "    </tr>\n",
       "    <tr>\n",
       "      <th rowspan=\"6\" valign=\"top\">HIGH CORR TOP 8 PICKED 9,11,10,5,8,7,6,12 (8 TOTAL ITEMS)</th>\n",
       "      <th>MAE</th>\n",
       "      <td>1.793037</td>\n",
       "    </tr>\n",
       "    <tr>\n",
       "      <th>MSE</th>\n",
       "      <td>6.057507</td>\n",
       "    </tr>\n",
       "    <tr>\n",
       "      <th>RMSE</th>\n",
       "      <td>2.461200</td>\n",
       "    </tr>\n",
       "    <tr>\n",
       "      <th>Mean Residue</th>\n",
       "      <td>0.421767</td>\n",
       "    </tr>\n",
       "    <tr>\n",
       "      <th>R2 Score</th>\n",
       "      <td>0.973867</td>\n",
       "    </tr>\n",
       "    <tr>\n",
       "      <th>Explained Variance Score</th>\n",
       "      <td>0.974635</td>\n",
       "    </tr>\n",
       "    <tr>\n",
       "      <th rowspan=\"6\" valign=\"top\">HIGH CORR TOP 9 PICKED 9,11,10,5,8,7,6,12,13 (9 TOTAL ITEMS)</th>\n",
       "      <th>MAE</th>\n",
       "      <td>1.754477</td>\n",
       "    </tr>\n",
       "    <tr>\n",
       "      <th>MSE</th>\n",
       "      <td>6.074909</td>\n",
       "    </tr>\n",
       "    <tr>\n",
       "      <th>RMSE</th>\n",
       "      <td>2.464733</td>\n",
       "    </tr>\n",
       "    <tr>\n",
       "      <th>Mean Residue</th>\n",
       "      <td>0.336170</td>\n",
       "    </tr>\n",
       "    <tr>\n",
       "      <th>R2 Score</th>\n",
       "      <td>0.973792</td>\n",
       "    </tr>\n",
       "    <tr>\n",
       "      <th>Explained Variance Score</th>\n",
       "      <td>0.974280</td>\n",
       "    </tr>\n",
       "    <tr>\n",
       "      <th rowspan=\"6\" valign=\"top\">HIGH CORR TOP 10 PICKED 9,11,10,5,8,7,6,12,13,4 (10 TOTAL ITEMS)</th>\n",
       "      <th>MAE</th>\n",
       "      <td>1.754477</td>\n",
       "    </tr>\n",
       "    <tr>\n",
       "      <th>MSE</th>\n",
       "      <td>3.014029</td>\n",
       "    </tr>\n",
       "    <tr>\n",
       "      <th>RMSE</th>\n",
       "      <td>1.736096</td>\n",
       "    </tr>\n",
       "    <tr>\n",
       "      <th>Mean Residue</th>\n",
       "      <td>0.307664</td>\n",
       "    </tr>\n",
       "    <tr>\n",
       "      <th>R2 Score</th>\n",
       "      <td>0.986997</td>\n",
       "    </tr>\n",
       "    <tr>\n",
       "      <th>Explained Variance Score</th>\n",
       "      <td>0.987405</td>\n",
       "    </tr>\n",
       "  </tbody>\n",
       "</table>\n",
       "</div>"
      ],
      "text/plain": [
       "                                                                                 Value\n",
       "Original                                           MAE                        0.037383\n",
       "                                                   MSE                        0.149533\n",
       "                                                   RMSE                       0.386695\n",
       "                                                   Mean Residue               0.037383\n",
       "                                                   R2 Score                   0.999355\n",
       "                                                   Explained Variance Score   0.999361\n",
       "HIGH CORR TOP 4 PICKED 9,11,10,5 (4 TOTAL ITEMS)   MAE                        2.625386\n",
       "                                                   MSE                       10.282710\n",
       "                                                   RMSE                       3.206667\n",
       "                                                   Mean Residue               0.249207\n",
       "                                                   R2 Score                   0.955639\n",
       "                                                   Explained Variance Score   0.955907\n",
       "HIGH CORR TOP 5 PICKED 9,11,10,5,8 (5 TOTAL ITEMS) MAE                        2.083068\n",
       "                                                   MSE                        7.715424\n",
       "                                                   RMSE                       2.777665\n",
       "                                                   Mean Residue               0.458532\n",
       "                                                   R2 Score                   0.966715\n",
       "                                                   Explained Variance Score   0.967622\n",
       "HIGH CORR TOP 6 PICKED 9,11,10,5,8,7 (6 TOTAL I... MAE                        1.961182\n",
       "                                                   MSE                        6.809798\n",
       "                                                   RMSE                       2.609559\n",
       "                                                   Mean Residue               0.496945\n",
       "                                                   R2 Score                   0.970622\n",
       "                                                   Explained Variance Score   0.971687\n",
       "DS PRACTICAL PICK 14,12,11,10,8,4 (6 TOTAL ITEMS)  MAE                        2.070396\n",
       "                                                   MSE                        8.600847\n",
       "                                                   RMSE                       2.932720\n",
       "                                                   Mean Residue               0.035514\n",
       "                                                   R2 Score                   0.962895\n",
       "                                                   Explained Variance Score   0.962900\n",
       "HIGH CORR TOP 7 PICKED 9,11,10,5,8,7,6 (7 TOTAL... MAE                        1.935277\n",
       "                                                   MSE                        6.655547\n",
       "                                                   RMSE                       2.579835\n",
       "                                                   Mean Residue               0.504517\n",
       "                                                   R2 Score                   0.971287\n",
       "                                                   Explained Variance Score   0.972385\n",
       "HIGH CORR TOP 8 PICKED 9,11,10,5,8,7,6,12 (8 TO... MAE                        1.793037\n",
       "                                                   MSE                        6.057507\n",
       "                                                   RMSE                       2.461200\n",
       "                                                   Mean Residue               0.421767\n",
       "                                                   R2 Score                   0.973867\n",
       "                                                   Explained Variance Score   0.974635\n",
       "HIGH CORR TOP 9 PICKED 9,11,10,5,8,7,6,12,13 (9... MAE                        1.754477\n",
       "                                                   MSE                        6.074909\n",
       "                                                   RMSE                       2.464733\n",
       "                                                   Mean Residue               0.336170\n",
       "                                                   R2 Score                   0.973792\n",
       "                                                   Explained Variance Score   0.974280\n",
       "HIGH CORR TOP 10 PICKED 9,11,10,5,8,7,6,12,13,4... MAE                        1.754477\n",
       "                                                   MSE                        3.014029\n",
       "                                                   RMSE                       1.736096\n",
       "                                                   Mean Residue               0.307664\n",
       "                                                   R2 Score                   0.986997\n",
       "                                                   Explained Variance Score   0.987405"
      ]
     },
     "execution_count": 119,
     "metadata": {},
     "output_type": "execute_result"
    }
   ],
   "source": [
    "outside = ['Original','Original','Original','Original','Original','Original']\n",
    "inside = ['MAE','MSE','RMSE','Mean Residue','R2 Score','Explained Variance Score']\n",
    "hier_index = list(zip(outside,inside))\n",
    "hier_index = pd.MultiIndex.from_tuples(hier_index)\n",
    "ex1 = pd.DataFrame([metrics.mean_absolute_error(y_test, y_predict),\n",
    "                  metrics.mean_squared_error(y_test, y_predict),\n",
    "                  np.sqrt(metrics.mean_squared_error(y_test, y_predict)),\n",
    "                  (y_test-y_predict).mean(),\n",
    "                  metrics.r2_score(y_test, y_predict),\n",
    "                  metrics.explained_variance_score(y_test, y_predict)],\n",
    "                  hier_index,columns=['Value'])\n",
    "\n",
    "outside = ['HIGH CORR TOP 5 PICKED 9,11,10,5,8 (5 TOTAL ITEMS)','HIGH CORR TOP 5 PICKED 9,11,10,5,8 (5 TOTAL ITEMS)','HIGH CORR TOP 5 PICKED 9,11,10,5,8 (5 TOTAL ITEMS)','HIGH CORR TOP 5 PICKED 9,11,10,5,8 (5 TOTAL ITEMS)','HIGH CORR TOP 5 PICKED 9,11,10,5,8 (5 TOTAL ITEMS)','HIGH CORR TOP 5 PICKED 9,11,10,5,8 (5 TOTAL ITEMS)']\n",
    "hier_index = list(zip(outside,inside))\n",
    "hier_index = pd.MultiIndex.from_tuples(hier_index)\n",
    "ex2 = pd.DataFrame([metrics.mean_absolute_error(ya_test, ya_predict),\n",
    "                  metrics.mean_squared_error(ya_test, ya_predict),\n",
    "                  np.sqrt(metrics.mean_squared_error(ya_test, ya_predict)),\n",
    "                  (ya_test-ya_predict).mean(),\n",
    "                  metrics.r2_score(ya_test, ya_predict),\n",
    "                  metrics.explained_variance_score(ya_test, ya_predict)],\n",
    "                  hier_index,columns=['Value'])\n",
    "\n",
    "outside = ['HIGH CORR TOP 6 PICKED 9,11,10,5,8,7 (6 TOTAL ITEMS)','HIGH CORR TOP 6 PICKED 9,11,10,5,8,7 (6 TOTAL ITEMS)','HIGH CORR TOP 6 PICKED 9,11,10,5,8,7 (6 TOTAL ITEMS)','HIGH CORR TOP 6 PICKED 9,11,10,5,8,7 (6 TOTAL ITEMS)','HIGH CORR TOP 6 PICKED 9,11,10,5,8,7 (6 TOTAL ITEMS)','HIGH CORR TOP 6 PICKED 9,11,10,5,8,7 (6 TOTAL ITEMS)']\n",
    "hier_index = list(zip(outside,inside))\n",
    "hier_index = pd.MultiIndex.from_tuples(hier_index)\n",
    "ex3 = pd.DataFrame([metrics.mean_absolute_error(yb_test, yb_predict),\n",
    "                  metrics.mean_squared_error(yb_test, yb_predict),\n",
    "                  np.sqrt(metrics.mean_squared_error(yb_test, yb_predict)),\n",
    "                  (yb_test-yb_predict).mean(),\n",
    "                  metrics.r2_score(yb_test, yb_predict),\n",
    "                  metrics.explained_variance_score(yb_test, yb_predict)],\n",
    "                  hier_index,columns=['Value'])\n",
    "\n",
    "outside = ['DS PRACTICAL PICK 14,12,11,10,8,4 (6 TOTAL ITEMS)','DS PRACTICAL PICK 14,12,11,10,8,4 (6 TOTAL ITEMS)','DS PRACTICAL PICK 14,12,11,10,8,4 (6 TOTAL ITEMS)','DS PRACTICAL PICK 14,12,11,10,8,4 (6 TOTAL ITEMS)','DS PRACTICAL PICK 14,12,11,10,8,4 (6 TOTAL ITEMS)','DS PRACTICAL PICK 14,12,11,10,8,4 (6 TOTAL ITEMS)']\n",
    "hier_index = list(zip(outside,inside))\n",
    "hier_index = pd.MultiIndex.from_tuples(hier_index)\n",
    "ex4 = pd.DataFrame([metrics.mean_absolute_error(yc_test, yc_predict),\n",
    "                  metrics.mean_squared_error(yc_test, yc_predict),\n",
    "                  np.sqrt(metrics.mean_squared_error(yc_test, yc_predict)),\n",
    "                  (yc_test-yc_predict).mean(),\n",
    "                  metrics.r2_score(yc_test, yc_predict),\n",
    "                  metrics.explained_variance_score(yc_test, yc_predict)],\n",
    "                  hier_index,columns=['Value'])\n",
    "\n",
    "outside = ['HIGH CORR TOP 7 PICKED 9,11,10,5,8,7,6 (7 TOTAL ITEMS)','HIGH CORR TOP 7 PICKED 9,11,10,5,8,7,6 (7 TOTAL ITEMS)','HIGH CORR TOP 7 PICKED 9,11,10,5,8,7,6 (7 TOTAL ITEMS)','HIGH CORR TOP 7 PICKED 9,11,10,5,8,7,6 (7 TOTAL ITEMS)','HIGH CORR TOP 7 PICKED 9,11,10,5,8,7,6 (7 TOTAL ITEMS)','HIGH CORR TOP 7 PICKED 9,11,10,5,8,7,6 (7 TOTAL ITEMS)']\n",
    "hier_index = list(zip(outside,inside))\n",
    "hier_index = pd.MultiIndex.from_tuples(hier_index)\n",
    "ex5 = pd.DataFrame([metrics.mean_absolute_error(yd_test, yd_predict),\n",
    "                  metrics.mean_squared_error(yd_test, yd_predict),\n",
    "                  np.sqrt(metrics.mean_squared_error(yd_test, yd_predict)),\n",
    "                  (yd_test-yd_predict).mean(),\n",
    "                  metrics.r2_score(yd_test, yd_predict),\n",
    "                  metrics.explained_variance_score(yd_test, yd_predict)],\n",
    "                  hier_index,columns=['Value'])\n",
    "e_text = 'HIGH CORR TOP 4 PICKED 9,11,10,5 (4 TOTAL ITEMS)'\n",
    "outside = [e_text,e_text,e_text,e_text,e_text,e_text]\n",
    "hier_index = list(zip(outside,inside))\n",
    "hier_index = pd.MultiIndex.from_tuples(hier_index)\n",
    "ex6 = pd.DataFrame([metrics.mean_absolute_error(ye_test, ye_predict),\n",
    "                  metrics.mean_squared_error(ye_test, ye_predict),\n",
    "                  np.sqrt(metrics.mean_squared_error(ye_test, ye_predict)),\n",
    "                  (ye_test-ye_predict).mean(),\n",
    "                  metrics.r2_score(ye_test, ye_predict),\n",
    "                  metrics.explained_variance_score(ye_test, ye_predict)],\n",
    "                  hier_index,columns=['Value'])\n",
    "f_text = 'HIGH CORR TOP 8 PICKED 9,11,10,5,8,7,6,12 (8 TOTAL ITEMS)'\n",
    "outside = [f_text,f_text,f_text,f_text,f_text,f_text]\n",
    "hier_index = list(zip(outside,inside))\n",
    "hier_index = pd.MultiIndex.from_tuples(hier_index)\n",
    "ex7 = pd.DataFrame([metrics.mean_absolute_error(yf_test, yf_predict),\n",
    "                  metrics.mean_squared_error(yf_test, yf_predict),\n",
    "                  np.sqrt(metrics.mean_squared_error(yf_test, yf_predict)),\n",
    "                  (yf_test-yf_predict).mean(),\n",
    "                  metrics.r2_score(yf_test, yf_predict),\n",
    "                  metrics.explained_variance_score(yf_test, yf_predict)],\n",
    "                  hier_index,columns=['Value'])\n",
    "g_text = 'HIGH CORR TOP 9 PICKED 9,11,10,5,8,7,6,12,13 (9 TOTAL ITEMS)'\n",
    "outside = [g_text,g_text,g_text,g_text,g_text,g_text]\n",
    "hier_index = list(zip(outside,inside))\n",
    "hier_index = pd.MultiIndex.from_tuples(hier_index)\n",
    "ex8 = pd.DataFrame([metrics.mean_absolute_error(yg_test, yg_predict),\n",
    "                  metrics.mean_squared_error(yg_test, yg_predict),\n",
    "                  np.sqrt(metrics.mean_squared_error(yg_test, yg_predict)),\n",
    "                  (yg_test-yg_predict).mean(),\n",
    "                  metrics.r2_score(yg_test, yg_predict),\n",
    "                  metrics.explained_variance_score(yg_test, yg_predict)],\n",
    "                  hier_index,columns=['Value'])\n",
    "h_text = 'HIGH CORR TOP 10 PICKED 9,11,10,5,8,7,6,12,13,4 (10 TOTAL ITEMS)'\n",
    "outside = [h_text,h_text,h_text,h_text,h_text,h_text]\n",
    "hier_index = list(zip(outside,inside))\n",
    "hier_index = pd.MultiIndex.from_tuples(hier_index)\n",
    "ex9 = pd.DataFrame([metrics.mean_absolute_error(yh_test, yg_predict),\n",
    "                  metrics.mean_squared_error(yh_test, yh_predict),\n",
    "                  np.sqrt(metrics.mean_squared_error(yh_test, yh_predict)),\n",
    "                  (yh_test-yh_predict).mean(),\n",
    "                  metrics.r2_score(yh_test, yh_predict),\n",
    "                  metrics.explained_variance_score(yh_test, yh_predict)],\n",
    "                  hier_index,columns=['Value'])\n",
    "\n",
    "finalex = pd.concat([ex1,ex6,ex2,ex3,ex4,ex5,ex7,ex8,ex9])\n",
    "finalex\n",
    "#finalex.to_excel(r'C:\\Users\\krunk\\OneDrive\\Documents\\CPSC 597\\Project Data\\BBS Machine Learning Data Collection (Linear Regression).xlsx',sheet_name='Linear Regression (TEST FORMAT)')"
   ]
  },
  {
   "cell_type": "code",
   "execution_count": 120,
   "id": "e0d1a9a0",
   "metadata": {},
   "outputs": [
    {
     "data": {
      "text/html": [
       "<div>\n",
       "<style scoped>\n",
       "    .dataframe tbody tr th:only-of-type {\n",
       "        vertical-align: middle;\n",
       "    }\n",
       "\n",
       "    .dataframe tbody tr th {\n",
       "        vertical-align: top;\n",
       "    }\n",
       "\n",
       "    .dataframe thead th {\n",
       "        text-align: right;\n",
       "    }\n",
       "</style>\n",
       "<table border=\"1\" class=\"dataframe\">\n",
       "  <thead>\n",
       "    <tr style=\"text-align: right;\">\n",
       "      <th></th>\n",
       "      <th>MAE</th>\n",
       "      <th>MSE</th>\n",
       "      <th>RMSE</th>\n",
       "      <th>Mean Residual</th>\n",
       "      <th>R2 Score</th>\n",
       "      <th>Explained Variance Score</th>\n",
       "    </tr>\n",
       "  </thead>\n",
       "  <tbody>\n",
       "    <tr>\n",
       "      <th>Original</th>\n",
       "      <td>0.037383</td>\n",
       "      <td>0.149533</td>\n",
       "      <td>0.386695</td>\n",
       "      <td>0.037383</td>\n",
       "      <td>0.999355</td>\n",
       "      <td>0.999361</td>\n",
       "    </tr>\n",
       "    <tr>\n",
       "      <th>HIGH CORR TOP 4 PICKED 9,11,10,5 (4 TOTAL ITEMS)</th>\n",
       "      <td>2.625386</td>\n",
       "      <td>10.282710</td>\n",
       "      <td>3.206667</td>\n",
       "      <td>0.249207</td>\n",
       "      <td>0.955639</td>\n",
       "      <td>0.955907</td>\n",
       "    </tr>\n",
       "    <tr>\n",
       "      <th>HIGH CORR TOP 5 PICKED 9,11,10,5,8 (5 TOTAL ITEMS)</th>\n",
       "      <td>2.083068</td>\n",
       "      <td>7.715424</td>\n",
       "      <td>2.777665</td>\n",
       "      <td>0.458532</td>\n",
       "      <td>0.966715</td>\n",
       "      <td>0.967622</td>\n",
       "    </tr>\n",
       "    <tr>\n",
       "      <th>HIGH CORR TOP 6 PICKED 9,11,10,5,8,7 (6 TOTAL ITEMS)</th>\n",
       "      <td>1.961182</td>\n",
       "      <td>6.809798</td>\n",
       "      <td>2.609559</td>\n",
       "      <td>0.496945</td>\n",
       "      <td>0.970622</td>\n",
       "      <td>0.971687</td>\n",
       "    </tr>\n",
       "    <tr>\n",
       "      <th>DS PRACTICAL PICK 14,12,11,10,8,4 (6 TOTAL ITEMS)</th>\n",
       "      <td>2.070396</td>\n",
       "      <td>8.600847</td>\n",
       "      <td>2.932720</td>\n",
       "      <td>0.035514</td>\n",
       "      <td>0.962895</td>\n",
       "      <td>0.962900</td>\n",
       "    </tr>\n",
       "    <tr>\n",
       "      <th>HIGH CORR TOP 7 PICKED 9,11,10,5,8,7,6 (7 TOTAL ITEMS)</th>\n",
       "      <td>1.935277</td>\n",
       "      <td>6.655547</td>\n",
       "      <td>2.579835</td>\n",
       "      <td>0.504517</td>\n",
       "      <td>0.971287</td>\n",
       "      <td>0.972385</td>\n",
       "    </tr>\n",
       "    <tr>\n",
       "      <th>HIGH CORR TOP 8 PICKED 9,11,10,5,8,7,6,12 (8 TOTAL ITEMS)</th>\n",
       "      <td>1.793037</td>\n",
       "      <td>6.057507</td>\n",
       "      <td>2.461200</td>\n",
       "      <td>0.421767</td>\n",
       "      <td>0.973867</td>\n",
       "      <td>0.974635</td>\n",
       "    </tr>\n",
       "    <tr>\n",
       "      <th>HIGH CORR TOP 9 PICKED 9,11,10,5,8,7,6,12,13 (9 TOTAL ITEMS)</th>\n",
       "      <td>1.754477</td>\n",
       "      <td>6.074909</td>\n",
       "      <td>2.464733</td>\n",
       "      <td>0.336170</td>\n",
       "      <td>0.973792</td>\n",
       "      <td>0.974280</td>\n",
       "    </tr>\n",
       "    <tr>\n",
       "      <th>HIGH CORR TOP 10 PICKED 9,11,10,5,8,7,6,12,13,4 (10 TOTAL ITEMS)</th>\n",
       "      <td>1.400111</td>\n",
       "      <td>3.014029</td>\n",
       "      <td>1.736096</td>\n",
       "      <td>0.307664</td>\n",
       "      <td>0.986997</td>\n",
       "      <td>0.987405</td>\n",
       "    </tr>\n",
       "  </tbody>\n",
       "</table>\n",
       "</div>"
      ],
      "text/plain": [
       "                                                         MAE        MSE  \\\n",
       "Original                                            0.037383   0.149533   \n",
       "HIGH CORR TOP 4 PICKED 9,11,10,5 (4 TOTAL ITEMS)    2.625386  10.282710   \n",
       "HIGH CORR TOP 5 PICKED 9,11,10,5,8 (5 TOTAL ITEMS)  2.083068   7.715424   \n",
       "HIGH CORR TOP 6 PICKED 9,11,10,5,8,7 (6 TOTAL I...  1.961182   6.809798   \n",
       "DS PRACTICAL PICK 14,12,11,10,8,4 (6 TOTAL ITEMS)   2.070396   8.600847   \n",
       "HIGH CORR TOP 7 PICKED 9,11,10,5,8,7,6 (7 TOTAL...  1.935277   6.655547   \n",
       "HIGH CORR TOP 8 PICKED 9,11,10,5,8,7,6,12 (8 TO...  1.793037   6.057507   \n",
       "HIGH CORR TOP 9 PICKED 9,11,10,5,8,7,6,12,13 (9...  1.754477   6.074909   \n",
       "HIGH CORR TOP 10 PICKED 9,11,10,5,8,7,6,12,13,4...  1.400111   3.014029   \n",
       "\n",
       "                                                        RMSE  Mean Residual  \\\n",
       "Original                                            0.386695       0.037383   \n",
       "HIGH CORR TOP 4 PICKED 9,11,10,5 (4 TOTAL ITEMS)    3.206667       0.249207   \n",
       "HIGH CORR TOP 5 PICKED 9,11,10,5,8 (5 TOTAL ITEMS)  2.777665       0.458532   \n",
       "HIGH CORR TOP 6 PICKED 9,11,10,5,8,7 (6 TOTAL I...  2.609559       0.496945   \n",
       "DS PRACTICAL PICK 14,12,11,10,8,4 (6 TOTAL ITEMS)   2.932720       0.035514   \n",
       "HIGH CORR TOP 7 PICKED 9,11,10,5,8,7,6 (7 TOTAL...  2.579835       0.504517   \n",
       "HIGH CORR TOP 8 PICKED 9,11,10,5,8,7,6,12 (8 TO...  2.461200       0.421767   \n",
       "HIGH CORR TOP 9 PICKED 9,11,10,5,8,7,6,12,13 (9...  2.464733       0.336170   \n",
       "HIGH CORR TOP 10 PICKED 9,11,10,5,8,7,6,12,13,4...  1.736096       0.307664   \n",
       "\n",
       "                                                    R2 Score  \\\n",
       "Original                                            0.999355   \n",
       "HIGH CORR TOP 4 PICKED 9,11,10,5 (4 TOTAL ITEMS)    0.955639   \n",
       "HIGH CORR TOP 5 PICKED 9,11,10,5,8 (5 TOTAL ITEMS)  0.966715   \n",
       "HIGH CORR TOP 6 PICKED 9,11,10,5,8,7 (6 TOTAL I...  0.970622   \n",
       "DS PRACTICAL PICK 14,12,11,10,8,4 (6 TOTAL ITEMS)   0.962895   \n",
       "HIGH CORR TOP 7 PICKED 9,11,10,5,8,7,6 (7 TOTAL...  0.971287   \n",
       "HIGH CORR TOP 8 PICKED 9,11,10,5,8,7,6,12 (8 TO...  0.973867   \n",
       "HIGH CORR TOP 9 PICKED 9,11,10,5,8,7,6,12,13 (9...  0.973792   \n",
       "HIGH CORR TOP 10 PICKED 9,11,10,5,8,7,6,12,13,4...  0.986997   \n",
       "\n",
       "                                                    Explained Variance Score  \n",
       "Original                                                            0.999361  \n",
       "HIGH CORR TOP 4 PICKED 9,11,10,5 (4 TOTAL ITEMS)                    0.955907  \n",
       "HIGH CORR TOP 5 PICKED 9,11,10,5,8 (5 TOTAL ITEMS)                  0.967622  \n",
       "HIGH CORR TOP 6 PICKED 9,11,10,5,8,7 (6 TOTAL I...                  0.971687  \n",
       "DS PRACTICAL PICK 14,12,11,10,8,4 (6 TOTAL ITEMS)                   0.962900  \n",
       "HIGH CORR TOP 7 PICKED 9,11,10,5,8,7,6 (7 TOTAL...                  0.972385  \n",
       "HIGH CORR TOP 8 PICKED 9,11,10,5,8,7,6,12 (8 TO...                  0.974635  \n",
       "HIGH CORR TOP 9 PICKED 9,11,10,5,8,7,6,12,13 (9...                  0.974280  \n",
       "HIGH CORR TOP 10 PICKED 9,11,10,5,8,7,6,12,13,4...                  0.987405  "
      ]
     },
     "execution_count": 120,
     "metadata": {},
     "output_type": "execute_result"
    }
   ],
   "source": [
    "ex1 = pd.DataFrame([[metrics.mean_absolute_error(y_test, y_predict),\n",
    "                  metrics.mean_squared_error(y_test, y_predict),\n",
    "                  np.sqrt(metrics.mean_squared_error(y_test, y_predict)),\n",
    "                  (y_test-y_predict).mean(),\n",
    "                  metrics.r2_score(y_test, y_predict),\n",
    "                  metrics.explained_variance_score(y_test, y_predict)]],\n",
    "                  index=['Original'],\n",
    "                  columns=['MAE','MSE','RMSE','Mean Residual','R2 Score','Explained Variance Score'])\n",
    "ex2 = pd.DataFrame([[metrics.mean_absolute_error(ya_test, ya_predict),\n",
    "                  metrics.mean_squared_error(ya_test, ya_predict),\n",
    "                  np.sqrt(metrics.mean_squared_error(ya_test, ya_predict)),\n",
    "                  (ya_test-ya_predict).mean(),\n",
    "                  metrics.r2_score(ya_test, ya_predict),\n",
    "                  metrics.explained_variance_score(ya_test, ya_predict)]],\n",
    "                  index=['HIGH CORR TOP 5 PICKED 9,11,10,5,8 (5 TOTAL ITEMS)'],\n",
    "                  columns=['MAE','MSE','RMSE','Mean Residual','R2 Score','Explained Variance Score'])\n",
    "ex3 = pd.DataFrame([[metrics.mean_absolute_error(yb_test, yb_predict),\n",
    "                  metrics.mean_squared_error(yb_test, yb_predict),\n",
    "                  np.sqrt(metrics.mean_squared_error(yb_test, yb_predict)),\n",
    "                  (yb_test-yb_predict).mean(),\n",
    "                  metrics.r2_score(yb_test, yb_predict),\n",
    "                  metrics.explained_variance_score(yb_test, yb_predict)]],\n",
    "                  index=['HIGH CORR TOP 6 PICKED 9,11,10,5,8,7 (6 TOTAL ITEMS)'],\n",
    "                  columns=['MAE','MSE','RMSE','Mean Residual','R2 Score','Explained Variance Score'])\n",
    "ex4 = pd.DataFrame([[metrics.mean_absolute_error(yc_test, yc_predict),\n",
    "                  metrics.mean_squared_error(yc_test, yc_predict),\n",
    "                  np.sqrt(metrics.mean_squared_error(yc_test, yc_predict)),\n",
    "                  (yc_test-yc_predict).mean(),\n",
    "                  metrics.r2_score(yc_test, yc_predict),\n",
    "                  metrics.explained_variance_score(yc_test, yc_predict)]],\n",
    "                  index=['DS PRACTICAL PICK 14,12,11,10,8,4 (6 TOTAL ITEMS)'],\n",
    "                  columns=['MAE','MSE','RMSE','Mean Residual','R2 Score','Explained Variance Score'])\n",
    "ex5 = pd.DataFrame([[metrics.mean_absolute_error(yd_test, yd_predict),\n",
    "                  metrics.mean_squared_error(yd_test, yd_predict),\n",
    "                  np.sqrt(metrics.mean_squared_error(yd_test, yd_predict)),\n",
    "                  (yd_test-yd_predict).mean(),\n",
    "                  metrics.r2_score(yd_test, yd_predict),\n",
    "                  metrics.explained_variance_score(yd_test, yd_predict)]],\n",
    "                  index=['HIGH CORR TOP 7 PICKED 9,11,10,5,8,7,6 (7 TOTAL ITEMS)'],\n",
    "                  columns=['MAE','MSE','RMSE','Mean Residual','R2 Score','Explained Variance Score'])\n",
    "ex6 = pd.DataFrame([[metrics.mean_absolute_error(ye_test, ye_predict),\n",
    "                  metrics.mean_squared_error(ye_test, ye_predict),\n",
    "                  np.sqrt(metrics.mean_squared_error(ye_test, ye_predict)),\n",
    "                  (ye_test-ye_predict).mean(),\n",
    "                  metrics.r2_score(ye_test, ye_predict),\n",
    "                  metrics.explained_variance_score(ye_test, ye_predict)]],\n",
    "                  index=[e_text],\n",
    "                  columns=['MAE','MSE','RMSE','Mean Residual','R2 Score','Explained Variance Score'])\n",
    "ex7 = pd.DataFrame([[metrics.mean_absolute_error(yf_test, yf_predict),\n",
    "                  metrics.mean_squared_error(yf_test, yf_predict),\n",
    "                  np.sqrt(metrics.mean_squared_error(yf_test, yf_predict)),\n",
    "                  (yf_test-yf_predict).mean(),\n",
    "                  metrics.r2_score(yf_test, yf_predict),\n",
    "                  metrics.explained_variance_score(yf_test, yf_predict)]],\n",
    "                  index=[f_text],\n",
    "                  columns=['MAE','MSE','RMSE','Mean Residual','R2 Score','Explained Variance Score'])\n",
    "ex8 = pd.DataFrame([[metrics.mean_absolute_error(yg_test, yg_predict),\n",
    "                  metrics.mean_squared_error(yg_test, yg_predict),\n",
    "                  np.sqrt(metrics.mean_squared_error(yg_test, yg_predict)),\n",
    "                  (yg_test-yg_predict).mean(),\n",
    "                  metrics.r2_score(yg_test, yg_predict),\n",
    "                  metrics.explained_variance_score(yg_test, yg_predict)]],\n",
    "                  index=[g_text],\n",
    "                  columns=['MAE','MSE','RMSE','Mean Residual','R2 Score','Explained Variance Score'])\n",
    "ex9 = pd.DataFrame([[metrics.mean_absolute_error(yh_test, yh_predict),\n",
    "                  metrics.mean_squared_error(yh_test, yh_predict),\n",
    "                  np.sqrt(metrics.mean_squared_error(yh_test, yh_predict)),\n",
    "                  (yh_test-yh_predict).mean(),\n",
    "                  metrics.r2_score(yh_test, yh_predict),\n",
    "                  metrics.explained_variance_score(yh_test, yh_predict)]],\n",
    "                  index=[h_text],\n",
    "                  columns=['MAE','MSE','RMSE','Mean Residual','R2 Score','Explained Variance Score'])\n",
    "\n",
    "finalex = pd.concat([ex1,ex6,ex2,ex3,ex4,ex5,ex7,ex8,ex9])\n",
    "finalex"
   ]
  },
  {
   "cell_type": "code",
   "execution_count": 121,
   "id": "608add1e",
   "metadata": {},
   "outputs": [],
   "source": [
    "finalex.to_excel(r'C:\\Users\\krunk\\OneDrive\\Documents\\CPSC 597\\Project Data\\BBS Machine Learning Data Collection (Linear Regression).xlsx',sheet_name='Linear Regression')"
   ]
  }
 ],
 "metadata": {
  "kernelspec": {
   "display_name": "Python 3 (ipykernel)",
   "language": "python",
   "name": "python3"
  },
  "language_info": {
   "codemirror_mode": {
    "name": "ipython",
    "version": 3
   },
   "file_extension": ".py",
   "mimetype": "text/x-python",
   "name": "python",
   "nbconvert_exporter": "python",
   "pygments_lexer": "ipython3",
   "version": "3.9.12"
  }
 },
 "nbformat": 4,
 "nbformat_minor": 5
}
